{
 "cells": [
  {
   "cell_type": "markdown",
   "metadata": {},
   "source": [
    "# Reading networks from netzschleuder\n",
    "\n",
    "[Run notebook in Google Colab](https://colab.research.google.com/github/pathpy/pathpy/blob/master/doc/tutorial/netzschleuder.ipynb)  \n",
    "[Download notebook](https://github.com/pathpy/pathpy/raw/master/doc/tutorial/netzschleuder.ipynb)\n",
    "\n",
    "The [netzschleuder](https://networks.skewed.de) repository is an online repository of more thn 100,000 networks maintained by [Tiago Peixoto](https://skewed.de/tiago). With `pathpy` you can directly read any network from the netzschleuder repository to analyze and visualize it."
   ]
  },
  {
   "cell_type": "code",
   "execution_count": null,
   "metadata": {
    "execution": {
     "iopub.execute_input": "2021-08-28T23:03:00.748390Z",
     "iopub.status.busy": "2021-08-28T23:03:00.747731Z",
     "iopub.status.idle": "2021-08-28T23:03:08.459749Z",
     "shell.execute_reply": "2021-08-28T23:03:08.460428Z"
    },
    "tags": [
     "hide"
    ]
   },
   "outputs": [],
   "source": [
    "pip install git+git://github.com/pathpy/pathpy.git"
   ]
  },
  {
   "cell_type": "code",
   "execution_count": null,
   "metadata": {
    "execution": {
     "iopub.execute_input": "2021-08-28T23:03:08.464699Z",
     "iopub.status.busy": "2021-08-28T23:03:08.464093Z",
     "iopub.status.idle": "2021-08-28T23:03:09.049974Z",
     "shell.execute_reply": "2021-08-28T23:03:09.050407Z"
    }
   },
   "outputs": [],
   "source": [
    "import pathpy as pp\n",
    "\n",
    "from pprint import pprint"
   ]
  },
  {
   "cell_type": "markdown",
   "metadata": {},
   "source": [
    "We can use the `list_netzschleuder_records` function to retrieve a list of all network data sets in the `netzschleuder` repository:"
   ]
  },
  {
   "cell_type": "code",
   "execution_count": null,
   "metadata": {
    "execution": {
     "iopub.execute_input": "2021-08-28T23:03:09.053180Z",
     "iopub.status.busy": "2021-08-28T23:03:09.052771Z",
     "iopub.status.idle": "2021-08-28T23:03:09.188744Z",
     "shell.execute_reply": "2021-08-28T23:03:09.189470Z"
    }
   },
   "outputs": [],
   "source": [
    "datasets = pp.io.graphtool.list_netzschleuder_records()\n",
    "pprint(datasets[:20])"
   ]
  },
  {
   "cell_type": "markdown",
   "metadata": {},
   "source": [
    "The use of additional query parameters (e.g. looking for data with specific tags or returning full records with all attributes) is supported by keyword arguments. For instance, to return all social networks in the `netzschleuder` repository, you can write:"
   ]
  },
  {
   "cell_type": "code",
   "execution_count": null,
   "metadata": {
    "execution": {
     "iopub.execute_input": "2021-08-28T23:03:09.201431Z",
     "iopub.status.busy": "2021-08-28T23:03:09.192797Z",
     "iopub.status.idle": "2021-08-28T23:03:09.361013Z",
     "shell.execute_reply": "2021-08-28T23:03:09.361690Z"
    }
   },
   "outputs": [],
   "source": [
    "datasets = pp.io.graphtool.list_netzschleuder_records(tags='Social')\n",
    "pprint(datasets[50:70])"
   ]
  },
  {
   "cell_type": "markdown",
   "metadata": {},
   "source": [
    "To retrieve detailed metadata from a specific record, we can use the following function:"
   ]
  },
  {
   "cell_type": "code",
   "execution_count": null,
   "metadata": {
    "execution": {
     "iopub.execute_input": "2021-08-28T23:03:09.373964Z",
     "iopub.status.busy": "2021-08-28T23:03:09.364753Z",
     "iopub.status.idle": "2021-08-28T23:03:09.500993Z",
     "shell.execute_reply": "2021-08-28T23:03:09.501616Z"
    }
   },
   "outputs": [],
   "source": [
    "datasets = pp.io.graphtool.read_netzschleuder_record('karate')\n",
    "pprint(datasets)"
   ]
  },
  {
   "cell_type": "markdown",
   "metadata": {},
   "source": [
    "As we can see above, each data set (e.g. `karate`) in the netzschleuder database can have multiple networks (e.g. multiple measurements like `77` and `78` above). To read a specific network into a `pathpy` object, we have to specify both the name of the data set as well as the name of the network as follows:"
   ]
  },
  {
   "cell_type": "code",
   "execution_count": null,
   "metadata": {
    "execution": {
     "iopub.execute_input": "2021-08-28T23:03:09.505303Z",
     "iopub.status.busy": "2021-08-28T23:03:09.504712Z",
     "iopub.status.idle": "2021-08-28T23:03:09.753149Z",
     "shell.execute_reply": "2021-08-28T23:03:09.753827Z"
    }
   },
   "outputs": [],
   "source": [
    "n = pp.io.graphtool.read_netzschleuder_network('karate', '77')\n",
    "print(n)"
   ]
  },
  {
   "cell_type": "code",
   "execution_count": null,
   "metadata": {
    "execution": {
     "iopub.execute_input": "2021-08-28T23:03:09.758327Z",
     "iopub.status.busy": "2021-08-28T23:03:09.757751Z",
     "iopub.status.idle": "2021-08-28T23:03:09.764150Z",
     "shell.execute_reply": "2021-08-28T23:03:09.764763Z"
    }
   },
   "outputs": [],
   "source": [
    "pp.plot(n)"
   ]
  },
  {
   "cell_type": "markdown",
   "metadata": {},
   "source": [
    "To retrieve a list of temporal networks in the netzschleuder database, we can write: "
   ]
  },
  {
   "cell_type": "code",
   "execution_count": null,
   "metadata": {
    "execution": {
     "iopub.execute_input": "2021-08-28T23:03:09.775683Z",
     "iopub.status.busy": "2021-08-28T23:03:09.775112Z",
     "iopub.status.idle": "2021-08-28T23:03:09.901832Z",
     "shell.execute_reply": "2021-08-28T23:03:09.902662Z"
    }
   },
   "outputs": [],
   "source": [
    "pp.io.graphtool.list_netzschleuder_records(tag='Temporal')"
   ]
  },
  {
   "cell_type": "markdown",
   "metadata": {},
   "source": [
    "To retrieve the full information on a specific record, we can again write:"
   ]
  },
  {
   "cell_type": "code",
   "execution_count": null,
   "metadata": {
    "execution": {
     "iopub.execute_input": "2021-08-28T23:03:09.914974Z",
     "iopub.status.busy": "2021-08-28T23:03:09.914350Z",
     "iopub.status.idle": "2021-08-28T23:03:10.026866Z",
     "shell.execute_reply": "2021-08-28T23:03:10.027549Z"
    }
   },
   "outputs": [],
   "source": [
    "pp.io.graphtool.read_netzschleuder_record('sp_hypertext')"
   ]
  },
  {
   "cell_type": "markdown",
   "metadata": {},
   "source": [
    "If there is only a single network in the data set (which then has the same name as the data set name), we can omit the network name. If we read a network where the edge_properties include a `time` attribute, a temporal network will be returned automatically."
   ]
  },
  {
   "cell_type": "code",
   "execution_count": null,
   "metadata": {
    "execution": {
     "iopub.execute_input": "2021-08-28T23:03:10.039816Z",
     "iopub.status.busy": "2021-08-28T23:03:10.039177Z",
     "iopub.status.idle": "2021-08-28T23:03:14.087322Z",
     "shell.execute_reply": "2021-08-28T23:03:14.087758Z"
    }
   },
   "outputs": [],
   "source": [
    "tn = pp.io.graphtool.read_netzschleuder_network('sp_hypertext', 'contacts')\n",
    "print(tn)"
   ]
  },
  {
   "cell_type": "markdown",
   "metadata": {},
   "source": [
    "If we do not want to retrieve a temporal network, we can use the `ignore_temporal` argument:"
   ]
  },
  {
   "cell_type": "code",
   "execution_count": null,
   "metadata": {
    "execution": {
     "iopub.execute_input": "2021-08-28T23:03:14.097405Z",
     "iopub.status.busy": "2021-08-28T23:03:14.096864Z",
     "iopub.status.idle": "2021-08-28T23:03:14.809490Z",
     "shell.execute_reply": "2021-08-28T23:03:14.809918Z"
    }
   },
   "outputs": [],
   "source": [
    "n = pp.io.graphtool.read_netzschleuder_network('sp_hypertext', 'contacts', ignore_temporal=True)\n",
    "print(n)"
   ]
  },
  {
   "cell_type": "markdown",
   "metadata": {
    "execution": {
     "iopub.execute_input": "2021-04-27T17:08:54.469048Z",
     "iopub.status.busy": "2021-04-27T17:08:54.468557Z",
     "iopub.status.idle": "2021-04-27T17:08:54.473037Z",
     "shell.execute_reply": "2021-04-27T17:08:54.473585Z"
    }
   },
   "source": [
    "We may instead want to keep all information on the edges, either by returning a multi-edge network in which multiple edges between the same nodes are allowed, or by projecting the multiple observations to a numerical `weight` attribute of edges, where an edge weigt of `n` indicates that this specific edge has been observed `n` times. We can control this behavior using the additional parameter `mutliedges`:"
   ]
  },
  {
   "cell_type": "code",
   "execution_count": null,
   "metadata": {
    "execution": {
     "iopub.execute_input": "2021-08-28T23:03:14.818505Z",
     "iopub.status.busy": "2021-08-28T23:03:14.818060Z",
     "iopub.status.idle": "2021-08-28T23:03:20.071661Z",
     "shell.execute_reply": "2021-08-28T23:03:20.072192Z"
    }
   },
   "outputs": [],
   "source": [
    "n = pp.io.graphtool.read_netzschleuder_network('sp_hypertext', 'contacts', ignore_temporal=True, multiedges=True)\n",
    "print(n)"
   ]
  }
 ],
 "metadata": {
  "interpreter": {
   "hash": "82db51cffef479cc4d0f53089378e5a2925f9e7adca31d741132ceba61ecca6f"
  },
  "kernelspec": {
   "display_name": "Python 3",
   "language": "python",
   "name": "python3"
  },
  "language_info": {
   "codemirror_mode": {
    "name": "ipython",
    "version": 3
   },
   "file_extension": ".py",
   "mimetype": "text/x-python",
   "name": "python",
   "nbconvert_exporter": "python",
   "pygments_lexer": "ipython3",
   "version": "3.8.5"
  },
  "metadata": {
   "interpreter": {
    "hash": "82db51cffef479cc4d0f53089378e5a2925f9e7adca31d741132ceba61ecca6f"
   }
  }
 },
 "nbformat": 4,
 "nbformat_minor": 4
}
