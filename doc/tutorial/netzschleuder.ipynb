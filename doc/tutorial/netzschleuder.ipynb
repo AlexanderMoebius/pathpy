{
 "cells": [
  {
   "cell_type": "markdown",
   "metadata": {},
   "source": [
    "# Reading networks from netzschleuder\n",
    "\n",
    "[Open notebook in Google Colab](https://colab.research.google.com/github/pathpy/pathpy/blob/master/doc/tutorial/netzschleuder.ipynb)\n",
    "\n",
    "The [netzschleuder](https://networks.skewed.de) repository is an online repository of more thn 100,000 networks maintained by Tiago Peixoto. Using `pathpy`, you can directly retrieve networks from the netzschleuder repository."
   ]
  },
  {
   "cell_type": "code",
   "execution_count": null,
   "metadata": {
    "execution": {
     "iopub.execute_input": "2021-04-27T17:08:46.489590Z",
     "iopub.status.busy": "2021-04-27T17:08:46.488922Z",
     "iopub.status.idle": "2021-04-27T17:08:51.959553Z",
     "shell.execute_reply": "2021-04-27T17:08:51.960246Z"
    },
    "tags": [
     "hide"
    ]
   },
   "outputs": [],
   "source": [
    "pip install git+git://github.com/pathpy/pathpy.git"
   ]
  },
  {
   "cell_type": "code",
   "execution_count": null,
   "metadata": {
    "execution": {
     "iopub.execute_input": "2021-04-27T17:08:51.964357Z",
     "iopub.status.busy": "2021-04-27T17:08:51.963761Z",
     "iopub.status.idle": "2021-04-27T17:08:52.470004Z",
     "shell.execute_reply": "2021-04-27T17:08:52.470442Z"
    }
   },
   "outputs": [],
   "source": [
    "import pathpy as pp\n",
    "\n",
    "from pprint import pprint"
   ]
  },
  {
   "cell_type": "markdown",
   "metadata": {},
   "source": [
    "We can use the `list_netzschleuder_records` function to retrieve a list of all network data sets in the `netzschleuder` repository:"
   ]
  },
  {
   "cell_type": "code",
   "execution_count": null,
   "metadata": {
    "execution": {
     "iopub.execute_input": "2021-04-27T17:08:52.473215Z",
     "iopub.status.busy": "2021-04-27T17:08:52.472786Z",
     "iopub.status.idle": "2021-04-27T17:08:52.642044Z",
     "shell.execute_reply": "2021-04-27T17:08:52.642736Z"
    }
   },
   "outputs": [],
   "source": [
    "datasets = pp.io.graphtool.list_netzschleuder_records()\n",
    "pprint(datasets[:20])"
   ]
  },
  {
   "cell_type": "markdown",
   "metadata": {},
   "source": [
    "The use of additional query parameters (e.g. looking for data with specific tags or returning full records with all attributes) is supported by keyword arguments. For instance, to return all social networks in the `netzschleuder` repository, you can write:"
   ]
  },
  {
   "cell_type": "code",
   "execution_count": null,
   "metadata": {
    "execution": {
     "iopub.execute_input": "2021-04-27T17:08:52.655509Z",
     "iopub.status.busy": "2021-04-27T17:08:52.654921Z",
     "iopub.status.idle": "2021-04-27T17:08:52.741943Z",
     "shell.execute_reply": "2021-04-27T17:08:52.741189Z"
    }
   },
   "outputs": [],
   "source": [
    "datasets = pp.io.graphtool.list_netzschleuder_records(tags='Social')\n",
    "pprint(datasets[50:70])"
   ]
  },
  {
   "cell_type": "markdown",
   "metadata": {},
   "source": [
    "To retrieve detailed metadata from a specific record, we can use the following function:"
   ]
  },
  {
   "cell_type": "code",
   "execution_count": null,
   "metadata": {
    "execution": {
     "iopub.execute_input": "2021-04-27T17:08:52.753611Z",
     "iopub.status.busy": "2021-04-27T17:08:52.745057Z",
     "iopub.status.idle": "2021-04-27T17:08:52.848884Z",
     "shell.execute_reply": "2021-04-27T17:08:52.848233Z"
    }
   },
   "outputs": [],
   "source": [
    "datasets = pp.io.graphtool.read_netzschleuder_record('karate')\n",
    "pprint(datasets)"
   ]
  },
  {
   "cell_type": "markdown",
   "metadata": {},
   "source": [
    "## Reading static networks\n",
    "\n",
    "As we can see above, each data set (e.g. `karate`) in the netzschleuder database can have multiple networks (e.g. multiple measurements like `77` and `78` above). To read a specific network into a `pathpy` object, we have to specify both the name of the data set as well as the name of the network as follows:"
   ]
  },
  {
   "cell_type": "code",
   "execution_count": null,
   "metadata": {
    "execution": {
     "iopub.execute_input": "2021-04-27T17:08:52.852361Z",
     "iopub.status.busy": "2021-04-27T17:08:52.851743Z",
     "iopub.status.idle": "2021-04-27T17:08:53.053941Z",
     "shell.execute_reply": "2021-04-27T17:08:53.054541Z"
    }
   },
   "outputs": [],
   "source": [
    "n = pp.io.graphtool.read_netzschleuder_network('karate', '77')\n",
    "print(n)"
   ]
  },
  {
   "cell_type": "code",
   "execution_count": null,
   "metadata": {
    "execution": {
     "iopub.execute_input": "2021-04-27T17:08:53.058737Z",
     "iopub.status.busy": "2021-04-27T17:08:53.057940Z",
     "iopub.status.idle": "2021-04-27T17:08:53.063188Z",
     "shell.execute_reply": "2021-04-27T17:08:53.063745Z"
    }
   },
   "outputs": [],
   "source": [
    "pp.plot(n)"
   ]
  },
  {
   "cell_type": "markdown",
   "metadata": {},
   "source": [
    "To retrieve a list of temporal networks in the netzschleuder database, we can write: "
   ]
  },
  {
   "cell_type": "code",
   "execution_count": null,
   "metadata": {
    "execution": {
     "iopub.execute_input": "2021-04-27T17:08:53.073501Z",
     "iopub.status.busy": "2021-04-27T17:08:53.072993Z",
     "iopub.status.idle": "2021-04-27T17:08:53.164974Z",
     "shell.execute_reply": "2021-04-27T17:08:53.165659Z"
    }
   },
   "outputs": [],
   "source": [
    "pp.io.graphtool.list_netzschleuder_records(tag='Temporal')[200:250]"
   ]
  },
  {
   "cell_type": "markdown",
   "metadata": {},
   "source": [
    "To retrieve the full information on a specific record, we can again write:"
   ]
  },
  {
   "cell_type": "code",
   "execution_count": null,
   "metadata": {
    "execution": {
     "iopub.execute_input": "2021-04-27T17:08:53.176420Z",
     "iopub.status.busy": "2021-04-27T17:08:53.175861Z",
     "iopub.status.idle": "2021-04-27T17:08:53.272637Z",
     "shell.execute_reply": "2021-04-27T17:08:53.273244Z"
    }
   },
   "outputs": [],
   "source": [
    "pp.io.graphtool.read_netzschleuder_record('sp_hypertext')"
   ]
  },
  {
   "cell_type": "markdown",
   "metadata": {},
   "source": [
    "## Reading temporal networks\n",
    "\n",
    "If there is only a single network in the data set (which then has the same name as the data set name), we can omit the network name. If we read a network where the edge_properties include a `time` attribute, a temporal network will be returned automatically."
   ]
  },
  {
   "cell_type": "code",
   "execution_count": null,
   "metadata": {
    "execution": {
     "iopub.execute_input": "2021-04-27T17:08:53.285015Z",
     "iopub.status.busy": "2021-04-27T17:08:53.284471Z",
     "iopub.status.idle": "2021-04-27T17:08:53.947732Z",
     "shell.execute_reply": "2021-04-27T17:08:53.948367Z"
    }
   },
   "outputs": [],
   "source": [
    "tn = pp.io.graphtool.read_netzschleuder_network('sp_hypertext', 'contacts')\n",
    "print(tn)"
   ]
  },
  {
   "cell_type": "code",
   "execution_count": null,
   "metadata": {
    "execution": {
     "iopub.execute_input": "2021-04-27T17:08:54.027322Z",
     "iopub.status.busy": "2021-04-27T17:08:53.994138Z",
     "iopub.status.idle": "2021-04-27T17:08:54.052375Z",
     "shell.execute_reply": "2021-04-27T17:08:54.052830Z"
    }
   },
   "outputs": [],
   "source": [
    "pp.plot(tn)"
   ]
  },
  {
   "cell_type": "markdown",
   "metadata": {},
   "source": [
    "## Reading temporal data as static networks \n",
    "\n",
    "If we do not want to retrieve a temporal network, we can use the `ignore_temporal` argument:"
   ]
  },
  {
   "cell_type": "code",
   "execution_count": null,
   "metadata": {
    "execution": {
     "iopub.execute_input": "2021-04-27T17:08:54.062053Z",
     "iopub.status.busy": "2021-04-27T17:08:54.061386Z",
     "iopub.status.idle": "2021-04-27T17:08:54.464870Z",
     "shell.execute_reply": "2021-04-27T17:08:54.465389Z"
    }
   },
   "outputs": [],
   "source": [
    "tn = pp.io.graphtool.read_netzschleuder_network('sp_hypertext', 'contacts', ignore_temporal=True)\n",
    "print(tn)"
   ]
  },
  {
   "cell_type": "code",
   "execution_count": null,
   "metadata": {
    "execution": {
     "iopub.execute_input": "2021-04-27T17:08:54.469048Z",
     "iopub.status.busy": "2021-04-27T17:08:54.468557Z",
     "iopub.status.idle": "2021-04-27T17:08:54.473037Z",
     "shell.execute_reply": "2021-04-27T17:08:54.473585Z"
    }
   },
   "outputs": [],
   "source": [
    "pp.plot(n)"
   ]
  },
  {
   "cell_type": "code",
   "execution_count": null,
   "metadata": {},
   "outputs": [],
   "source": []
  }
 ],
 "metadata": {
  "celltoolbar": "Tags",
  "kernelspec": {
   "display_name": "Python 3.7.4 64-bit",
   "language": "python",
   "name": "python37464bit955f4811db0441eba2efbde262696f05"
  },
  "language_info": {
   "codemirror_mode": {
    "name": "ipython",
    "version": 3
   },
   "file_extension": ".py",
   "mimetype": "text/x-python",
   "name": "python",
   "nbconvert_exporter": "python",
   "pygments_lexer": "ipython3",
   "version": "3.8.5"
  },
  "metadata": {
   "interpreter": {
    "hash": "82db51cffef479cc4d0f53089378e5a2925f9e7adca31d741132ceba61ecca6f"
   }
  }
 },
 "nbformat": 4,
 "nbformat_minor": 2
}
