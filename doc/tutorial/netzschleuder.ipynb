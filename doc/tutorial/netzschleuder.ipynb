{
 "cells": [
  {
   "cell_type": "markdown",
   "metadata": {},
   "source": [
    "# Reading networks from netzschleuder\n",
    "\n",
    "[Run notebook in Google Colab](https://colab.research.google.com/github/pathpy/pathpy/blob/master/doc/tutorial/netzschleuder.ipynb)\n",
    "\n",
    "The [netzschleuder](https://networks.skewed.de) repository is an online repository of more thn 100,000 networks maintained by [Tiago Peixoto](https://skewed.de/tiago). With `pathpy` you can directly read any network from the netzschleuder repository to analyze and visualize it."
   ]
  },
  {
   "cell_type": "code",
   "execution_count": null,
   "metadata": {
    "execution": {
     "iopub.execute_input": "2021-04-28T11:46:37.868399Z",
     "iopub.status.busy": "2021-04-28T11:46:37.867739Z",
     "iopub.status.idle": "2021-04-28T11:46:43.391485Z",
     "shell.execute_reply": "2021-04-28T11:46:43.391978Z"
    },
    "tags": [
     "hide"
    ]
   },
   "outputs": [],
   "source": [
    "pip install git+git://github.com/pathpy/pathpy.git"
   ]
  },
  {
   "cell_type": "code",
   "execution_count": null,
   "metadata": {
    "execution": {
     "iopub.execute_input": "2021-04-28T11:46:43.396294Z",
     "iopub.status.busy": "2021-04-28T11:46:43.395713Z",
     "iopub.status.idle": "2021-04-28T11:46:43.911584Z",
     "shell.execute_reply": "2021-04-28T11:46:43.912024Z"
    }
   },
   "outputs": [],
   "source": [
    "import pathpy as pp\n",
    "\n",
    "from pprint import pprint"
   ]
  },
  {
   "cell_type": "markdown",
   "metadata": {},
   "source": [
    "Since the `netzschleuder` repository uses the graphtool binary format to store network data, support to retrieve networks from the repository is included in `pathpy`'s `io.graphtool` submodule.\n",
    "\n",
    "Each `netzschleuder` data set can contain one or more networks. If there is more than one network in a data set, we have to additionally specify the name of the network that we wish to retrieve. In a first step, we can use the function `list_netzschleuder_records` to retrieve a list of all data sets. In the following, we only print the first 20 records:"
   ]
  },
  {
   "cell_type": "code",
   "execution_count": null,
   "metadata": {
    "execution": {
     "iopub.execute_input": "2021-04-28T11:46:43.914712Z",
     "iopub.status.busy": "2021-04-28T11:46:43.914302Z",
     "iopub.status.idle": "2021-04-28T11:46:44.060441Z",
     "shell.execute_reply": "2021-04-28T11:46:44.059914Z"
    }
   },
   "outputs": [],
   "source": [
    "datasets = pp.io.graphtool.list_netzschleuder_records()\n",
    "pprint(datasets[:20])"
   ]
  },
  {
   "cell_type": "markdown",
   "metadata": {},
   "source": [
    "We can use keyword arguments to set additional query parameters (e.g. looking for data with specific tags or returning full records with all attributes). The supported query parameters can be found in the [API description](https://networks.skewed.de/api). To return all social networks in the `netzschleuder` repository, we call (here we only return the records 50 through 70):"
   ]
  },
  {
   "cell_type": "code",
   "execution_count": null,
   "metadata": {
    "execution": {
     "iopub.execute_input": "2021-04-28T11:46:44.072381Z",
     "iopub.status.busy": "2021-04-28T11:46:44.063458Z",
     "iopub.status.idle": "2021-04-28T11:46:44.177161Z",
     "shell.execute_reply": "2021-04-28T11:46:44.177854Z"
    }
   },
   "outputs": [],
   "source": [
    "datasets = pp.io.graphtool.list_netzschleuder_records(tags='Social')\n",
    "pprint(datasets[50:70])"
   ]
  },
  {
   "cell_type": "markdown",
   "metadata": {},
   "source": [
    "To retrieve detailed metadata on a specific data set, we can use the following function:"
   ]
  },
  {
   "cell_type": "code",
   "execution_count": null,
   "metadata": {
    "execution": {
     "iopub.execute_input": "2021-04-28T11:46:44.189726Z",
     "iopub.status.busy": "2021-04-28T11:46:44.180942Z",
     "iopub.status.idle": "2021-04-28T11:46:44.279247Z",
     "shell.execute_reply": "2021-04-28T11:46:44.279849Z"
    }
   },
   "outputs": [],
   "source": [
    "datasets = pp.io.graphtool.read_netzschleuder_record('karate')\n",
    "pprint(datasets)"
   ]
  },
  {
   "cell_type": "markdown",
   "metadata": {},
   "source": [
    "Those metadata contain citation information (including a BibTeX record), the original URL from which the data was retrieved, a textual description of the data, as well as a list of networks contained in the data set. In the example above, the `karate` data set contains two networks named `77` and `78`, referring to different versions of the data. For each network, the metadata contain a number of network-level metrics."
   ]
  },
  {
   "cell_type": "markdown",
   "metadata": {},
   "source": [
    "## Reading static networks\n",
    "\n",
    "Let us now read the network into an instance of `pathpy.Network`. For this, we can use the function `read_netzschleuder_network`. To read a specific network, we must specify both the name of the data set as well as the name of the network (in case there is more than one). The function will automatically determine the type of network to return, i.e. static or temporal, directed or undirected, single or multi-edge."
   ]
  },
  {
   "cell_type": "code",
   "execution_count": null,
   "metadata": {
    "execution": {
     "iopub.execute_input": "2021-04-28T11:46:44.283015Z",
     "iopub.status.busy": "2021-04-28T11:46:44.282468Z",
     "iopub.status.idle": "2021-04-28T11:46:44.501214Z",
     "shell.execute_reply": "2021-04-28T11:46:44.501634Z"
    }
   },
   "outputs": [],
   "source": [
    "n = pp.io.graphtool.read_netzschleuder_network('karate', '77')\n",
    "print(n)"
   ]
  },
  {
   "cell_type": "code",
   "execution_count": null,
   "metadata": {
    "execution": {
     "iopub.execute_input": "2021-04-28T11:46:44.506372Z",
     "iopub.status.busy": "2021-04-28T11:46:44.505429Z",
     "iopub.status.idle": "2021-04-28T11:46:44.511947Z",
     "shell.execute_reply": "2021-04-28T11:46:44.512520Z"
    }
   },
   "outputs": [],
   "source": [
    "pp.plot(n)"
   ]
  },
  {
   "cell_type": "markdown",
   "metadata": {},
   "source": [
    "## Reading temporal networks\n",
    "\n",
    "`karate` is an example for a static network, where edges do not have associated timestamps. However. the `netzschleuder` repository contains a number of temporal networks where edges are observed at specific times. To retrieve a list of temporal networks in the netzschleuder database, we can again use the function `list_netschleuder_records` setting the query parameter `tag=Temporal`. We only output records 200 through 250:"
   ]
  },
  {
   "cell_type": "code",
   "execution_count": null,
   "metadata": {
    "execution": {
     "iopub.execute_input": "2021-04-28T11:46:44.522775Z",
     "iopub.status.busy": "2021-04-28T11:46:44.522233Z",
     "iopub.status.idle": "2021-04-28T11:46:44.623837Z",
     "shell.execute_reply": "2021-04-28T11:46:44.624512Z"
    }
   },
   "outputs": [],
   "source": [
    "pp.io.graphtool.list_netzschleuder_records(tag='Temporal')[200:250]"
   ]
  },
  {
   "cell_type": "markdown",
   "metadata": {},
   "source": [
    "To retrieve the full information on a specific record, we again call the `read_netzschleuder_record` with the associated data set name:"
   ]
  },
  {
   "cell_type": "code",
   "execution_count": null,
   "metadata": {
    "execution": {
     "iopub.execute_input": "2021-04-28T11:46:44.636025Z",
     "iopub.status.busy": "2021-04-28T11:46:44.635502Z",
     "iopub.status.idle": "2021-04-28T11:46:44.725806Z",
     "shell.execute_reply": "2021-04-28T11:46:44.726406Z"
    }
   },
   "outputs": [],
   "source": [
    "pp.io.graphtool.read_netzschleuder_record('sp_hospital')"
   ]
  },
  {
   "cell_type": "markdown",
   "metadata": {},
   "source": [
    "If there is only a single network in the data set, we can omit the network name (which then assumes the same value as the data set). In the network above, each edge has a `time` attribute. `pathpy` will thus return an instance of `TemporalNetwork`:"
   ]
  },
  {
   "cell_type": "code",
   "execution_count": null,
   "metadata": {
    "execution": {
     "iopub.execute_input": "2021-04-28T11:46:44.738118Z",
     "iopub.status.busy": "2021-04-28T11:46:44.737537Z",
     "iopub.status.idle": "2021-04-28T11:46:45.677722Z",
     "shell.execute_reply": "2021-04-28T11:46:45.678367Z"
    }
   },
   "outputs": [],
   "source": [
    "tn = pp.io.graphtool.read_netzschleuder_network('sp_hospital')\n",
    "print(tn)"
   ]
  },
  {
   "cell_type": "markdown",
   "metadata": {},
   "source": [
    "To generate dynamic visualisation of this temporal network, we can simpy call:"
   ]
  },
  {
   "cell_type": "code",
   "execution_count": null,
   "metadata": {
    "execution": {
     "iopub.execute_input": "2021-04-28T11:46:45.767381Z",
     "iopub.status.busy": "2021-04-28T11:46:45.724443Z",
     "iopub.status.idle": "2021-04-28T11:46:46.532495Z",
     "shell.execute_reply": "2021-04-28T11:46:46.532930Z"
    }
   },
   "outputs": [],
   "source": [
    "pp.plot(tn)"
   ]
  },
  {
   "cell_type": "markdown",
   "metadata": {},
   "source": [
    "## Reading temporal data as static networks \n",
    "\n",
    "Sometimes, we have network data sets where edges include time stamps, but we may want to ignore the timestamps, treating them as multiple observations of the same edge instead. To return a static projection of such a network, we can set `ignore_temporal=True`. By default, an unweighted single-edge network will be generated, i.e. additional observations of the same edge at different time stamps are simply discarded. To highlight that we ignore part of the data, `pathpy` issues a warning:"
   ]
  },
  {
   "cell_type": "code",
   "execution_count": null,
   "metadata": {
    "execution": {
     "iopub.execute_input": "2021-04-28T11:46:46.543130Z",
     "iopub.status.busy": "2021-04-28T11:46:46.542618Z",
     "iopub.status.idle": "2021-04-28T11:46:46.901904Z",
     "shell.execute_reply": "2021-04-28T11:46:46.902405Z"
    }
   },
   "outputs": [],
   "source": [
    "n = pp.io.graphtool.read_netzschleuder_network('sp_hypertext', 'contacts', ignore_temporal=True)\n",
    "print(n)"
   ]
  },
  {
   "cell_type": "markdown",
   "metadata": {
    "execution": {
     "iopub.execute_input": "2021-04-27T17:08:54.469048Z",
     "iopub.status.busy": "2021-04-27T17:08:54.468557Z",
     "iopub.status.idle": "2021-04-27T17:08:54.473037Z",
     "shell.execute_reply": "2021-04-27T17:08:54.473585Z"
    }
   },
   "source": [
    "We may instead want to keep all information on the edges, either by returning a multi-edge network in which multiple edges between the same nodes are allowed, or by projecting the multiple observations to a numerical `weight` attribute of edges, where an edge weigt of `n` indicates that this specific edge has been observed `n` times. We can control this behavior using the additional parameter `mutliedges`:"
   ]
  },
  {
   "cell_type": "code",
   "execution_count": null,
   "metadata": {
    "execution": {
     "iopub.execute_input": "2021-04-28T11:46:46.912369Z",
     "iopub.status.busy": "2021-04-28T11:46:46.911869Z",
     "iopub.status.idle": "2021-04-28T11:46:47.476037Z",
     "shell.execute_reply": "2021-04-28T11:46:47.476495Z"
    }
   },
   "outputs": [],
   "source": [
    "n = pp.io.graphtool.read_netzschleuder_network('sp_hypertext', 'contacts', \n",
    "                                               ignore_temporal=True, multiedges=True)\n",
    "print(n)"
   ]
  },
  {
   "cell_type": "markdown",
   "metadata": {},
   "source": [
    "We can easily turn this into a **weighted** network, where each edge is included only once while an additional `weight` attribute counts the occurrences of that edge:"
   ]
  },
  {
   "cell_type": "code",
   "execution_count": null,
   "metadata": {
    "execution": {
     "iopub.execute_input": "2021-04-28T11:46:47.564969Z",
     "iopub.status.busy": "2021-04-28T11:46:47.520911Z",
     "iopub.status.idle": "2021-04-28T11:46:47.820973Z",
     "shell.execute_reply": "2021-04-28T11:46:47.821424Z"
    }
   },
   "outputs": [],
   "source": [
    "weighted_net = pp.Network.to_weighted_network(n)\n",
    "print(weighted_net)"
   ]
  }
 ],
 "metadata": {
  "celltoolbar": "Tags",
  "kernelspec": {
   "display_name": "Python 3",
   "language": "python",
   "name": "python3"
  },
  "language_info": {
   "codemirror_mode": {
    "name": "ipython",
    "version": 3
   },
   "file_extension": ".py",
   "mimetype": "text/x-python",
   "name": "python",
   "nbconvert_exporter": "python",
   "pygments_lexer": "ipython3",
   "version": "3.8.5"
  },
  "metadata": {
   "interpreter": {
    "hash": "82db51cffef479cc4d0f53089378e5a2925f9e7adca31d741132ceba61ecca6f"
   }
  }
 },
 "nbformat": 4,
 "nbformat_minor": 4
}
