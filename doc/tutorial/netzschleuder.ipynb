{
 "cells": [
  {
   "cell_type": "markdown",
   "metadata": {},
   "source": [
    "# Reading networks from netzschleuder\n",
    "\n",
    "[Run notebook in Google Colab](https://colab.research.google.com/github/pathpy/pathpy/blob/master/doc/tutorial/netzschleuder.ipynb)  \n",
    "[Download notebook](https://github.com/pathpy/pathpy/raw/master/doc/tutorial/netzschleuder.ipynb)\n",
    "\n",
    "The [netzschleuder](https://networks.skewed.de) repository is an online repository of more thn 100,000 networks maintained by [Tiago Peixoto](https://skewed.de/tiago). With `pathpy` you can directly read any network from the netzschleuder repository to analyze and visualize it."
   ]
  },
  {
   "cell_type": "code",
   "execution_count": null,
   "metadata": {
    "execution": {
     "iopub.execute_input": "2021-05-04T11:35:10.125518Z",
     "iopub.status.busy": "2021-05-04T11:35:10.124872Z",
     "iopub.status.idle": "2021-05-04T11:35:17.005800Z",
     "shell.execute_reply": "2021-05-04T11:35:17.006301Z"
    },
    "tags": [
     "hide"
    ]
   },
   "outputs": [],
   "source": [
    "pip install git+git://github.com/pathpy/pathpy.git"
   ]
  },
  {
   "cell_type": "code",
   "execution_count": null,
   "metadata": {
    "execution": {
     "iopub.execute_input": "2021-05-04T11:35:17.010526Z",
     "iopub.status.busy": "2021-05-04T11:35:17.009904Z",
     "iopub.status.idle": "2021-05-04T11:35:17.577811Z",
     "shell.execute_reply": "2021-05-04T11:35:17.578304Z"
    }
   },
   "outputs": [],
   "source": [
    "import pathpy as pp\n",
    "\n",
    "from pprint import pprint"
   ]
  },
  {
   "cell_type": "markdown",
   "metadata": {},
   "source": [
    "We can use the `list_netzschleuder_records` function to retrieve a list of all network data sets in the `netzschleuder` repository:"
   ]
  },
  {
   "cell_type": "code",
   "execution_count": null,
   "metadata": {
    "execution": {
     "iopub.execute_input": "2021-05-04T11:35:17.580958Z",
     "iopub.status.busy": "2021-05-04T11:35:17.580546Z",
     "iopub.status.idle": "2021-05-04T11:35:17.685086Z",
     "shell.execute_reply": "2021-05-04T11:35:17.685752Z"
    }
   },
   "outputs": [],
   "source": [
    "datasets = pp.io.graphtool.list_netzschleuder_records()\n",
    "pprint(datasets[:20])"
   ]
  },
  {
   "cell_type": "markdown",
   "metadata": {},
   "source": [
    "The use of additional query parameters (e.g. looking for data with specific tags or returning full records with all attributes) is supported by keyword arguments. For instance, to return all social networks in the `netzschleuder` repository, you can write:"
   ]
  },
  {
   "cell_type": "code",
   "execution_count": null,
   "metadata": {
    "execution": {
     "iopub.execute_input": "2021-05-04T11:35:17.698697Z",
     "iopub.status.busy": "2021-05-04T11:35:17.689195Z",
     "iopub.status.idle": "2021-05-04T11:35:17.784113Z",
     "shell.execute_reply": "2021-05-04T11:35:17.784884Z"
    }
   },
   "outputs": [],
   "source": [
    "datasets = pp.io.graphtool.list_netzschleuder_records(tags='Social')\n",
    "pprint(datasets[50:70])"
   ]
  },
  {
   "cell_type": "markdown",
   "metadata": {},
   "source": [
    "To retrieve detailed metadata from a specific record, we can use the following function:"
   ]
  },
  {
   "cell_type": "code",
   "execution_count": null,
   "metadata": {
    "execution": {
     "iopub.execute_input": "2021-05-04T11:35:17.797310Z",
     "iopub.status.busy": "2021-05-04T11:35:17.788337Z",
     "iopub.status.idle": "2021-05-04T11:35:17.882834Z",
     "shell.execute_reply": "2021-05-04T11:35:17.883503Z"
    }
   },
   "outputs": [],
   "source": [
    "datasets = pp.io.graphtool.read_netzschleuder_record('karate')\n",
    "pprint(datasets)"
   ]
  },
  {
   "cell_type": "markdown",
   "metadata": {},
   "source": [
    "As we can see above, each data set (e.g. `karate`) in the netzschleuder database can have multiple networks (e.g. multiple measurements like `77` and `78` above). To read a specific network into a `pathpy` object, we have to specify both the name of the data set as well as the name of the network as follows:"
   ]
  },
  {
   "cell_type": "code",
   "execution_count": null,
   "metadata": {
    "execution": {
     "iopub.execute_input": "2021-05-04T11:35:17.887233Z",
     "iopub.status.busy": "2021-05-04T11:35:17.886573Z",
     "iopub.status.idle": "2021-05-04T11:35:18.074660Z",
     "shell.execute_reply": "2021-05-04T11:35:18.075087Z"
    }
   },
   "outputs": [],
   "source": [
    "n = pp.io.graphtool.read_netzschleuder_network('karate', '77')\n",
    "print(n)"
   ]
  },
  {
   "cell_type": "code",
   "execution_count": null,
   "metadata": {
    "execution": {
     "iopub.execute_input": "2021-05-04T11:35:18.079588Z",
     "iopub.status.busy": "2021-05-04T11:35:18.078826Z",
     "iopub.status.idle": "2021-05-04T11:35:18.084904Z",
     "shell.execute_reply": "2021-05-04T11:35:18.085771Z"
    }
   },
   "outputs": [],
   "source": [
    "pp.plot(n)"
   ]
  },
  {
   "cell_type": "markdown",
   "metadata": {},
   "source": [
    "To retrieve a list of temporal networks in the netzschleuder database, we can write: "
   ]
  },
  {
   "cell_type": "code",
   "execution_count": null,
   "metadata": {
    "execution": {
     "iopub.execute_input": "2021-05-04T11:35:18.103302Z",
     "iopub.status.busy": "2021-05-04T11:35:18.102464Z",
     "iopub.status.idle": "2021-05-04T11:35:18.193323Z",
     "shell.execute_reply": "2021-05-04T11:35:18.194027Z"
    }
   },
   "outputs": [],
   "source": [
    "pp.io.graphtool.list_netzschleuder_records(tag='Temporal')"
   ]
  },
  {
   "cell_type": "markdown",
   "metadata": {},
   "source": []
  },
  {
   "cell_type": "markdown",
   "metadata": {},
   "source": [
    "To retrieve the full information on a specific record, we can again write:"
   ]
  },
  {
   "cell_type": "code",
   "execution_count": null,
   "metadata": {
    "execution": {
     "iopub.execute_input": "2021-05-04T11:35:18.207152Z",
     "iopub.status.busy": "2021-05-04T11:35:18.206422Z",
     "iopub.status.idle": "2021-05-04T11:35:18.291901Z",
     "shell.execute_reply": "2021-05-04T11:35:18.292452Z"
    }
   },
   "outputs": [],
   "source": [
    "pp.io.graphtool.read_netzschleuder_record('reality_mining')"
   ]
  },
  {
   "cell_type": "markdown",
   "metadata": {},
   "source": [
    "If there is only a single network in the data set (which then has the same name as the data set name), we can omit the network name. If we read a network where the edge_properties include a `time` attribute, a temporal network will be returned automatically."
   ]
  },
  {
   "cell_type": "code",
   "execution_count": null,
   "metadata": {
    "execution": {
     "iopub.execute_input": "2021-05-04T11:35:18.303177Z",
     "iopub.status.busy": "2021-05-04T11:35:18.302660Z",
     "iopub.status.idle": "2021-05-04T11:35:19.368986Z",
     "shell.execute_reply": "2021-05-04T11:35:19.369619Z"
    }
   },
   "outputs": [],
   "source": [
    "tn = pp.io.graphtool.read_netzschleuder_network('reality_mining')\n",
    "print(tn)"
   ]
  },
  {
   "cell_type": "code",
   "execution_count": null,
   "metadata": {
    "execution": {
     "iopub.execute_input": "2021-05-04T11:35:19.451950Z",
     "iopub.status.busy": "2021-05-04T11:35:19.412387Z",
     "iopub.status.idle": "2021-05-04T11:35:20.520113Z",
     "shell.execute_reply": "2021-05-04T11:35:20.520561Z"
    }
   },
   "outputs": [],
   "source": [
    "pp.plot(tn)"
   ]
  },
  {
   "cell_type": "markdown",
   "metadata": {},
   "source": [
    "If we do not want to retrieve a temporal network, we can use the `ignore_temporal` argument:"
   ]
  },
  {
   "cell_type": "code",
   "execution_count": null,
   "metadata": {
    "execution": {
     "iopub.execute_input": "2021-05-04T11:35:20.531052Z",
     "iopub.status.busy": "2021-05-04T11:35:20.530482Z",
     "iopub.status.idle": "2021-05-04T11:35:21.211825Z",
     "shell.execute_reply": "2021-05-04T11:35:21.212512Z"
    }
   },
   "outputs": [],
   "source": [
    "n = pp.io.graphtool.read_netzschleuder_network('sp_hypertext', 'contacts', ignore_temporal=True)\n",
    "print(n)"
   ]
  },
  {
   "cell_type": "markdown",
   "metadata": {
    "execution": {
     "iopub.execute_input": "2021-04-27T17:08:54.469048Z",
     "iopub.status.busy": "2021-04-27T17:08:54.468557Z",
     "iopub.status.idle": "2021-04-27T17:08:54.473037Z",
     "shell.execute_reply": "2021-04-27T17:08:54.473585Z"
    }
   },
   "source": [
    "We may instead want to keep all information on the edges, either by returning a multi-edge network in which multiple edges between the same nodes are allowed, or by projecting the multiple observations to a numerical `weight` attribute of edges, where an edge weigt of `n` indicates that this specific edge has been observed `n` times. We can control this behavior using the additional parameter `mutliedges`:"
   ]
  },
  {
   "cell_type": "code",
   "execution_count": null,
   "metadata": {
    "execution": {
     "iopub.execute_input": "2021-05-04T11:35:21.225702Z",
     "iopub.status.busy": "2021-05-04T11:35:21.225189Z",
     "iopub.status.idle": "2021-05-04T11:35:21.873809Z",
     "shell.execute_reply": "2021-05-04T11:35:21.874337Z"
    }
   },
   "outputs": [],
   "source": [
    "n = pp.io.graphtool.read_netzschleuder_network('reality_mining', ignore_temporal=True)\n",
    "print(n)"
   ]
  },
  {
   "cell_type": "code",
   "execution_count": null,
   "metadata": {
    "execution": {
     "iopub.execute_input": "2021-05-04T11:35:21.957250Z",
     "iopub.status.busy": "2021-05-04T11:35:21.916760Z",
     "iopub.status.idle": "2021-05-04T11:35:22.286320Z",
     "shell.execute_reply": "2021-05-04T11:35:22.286761Z"
    }
   },
   "outputs": [],
   "source": [
    "weighted_net = pp.Network.to_weighted_network(n)\n",
    "print(weighted_net)"
   ]
  }
 ],
 "metadata": {
  "kernelspec": {
   "display_name": "Python 3",
   "language": "python",
   "name": "python3"
  },
  "language_info": {
   "codemirror_mode": {
    "name": "ipython",
    "version": 3
   },
   "file_extension": ".py",
   "mimetype": "text/x-python",
   "name": "python",
   "nbconvert_exporter": "python",
   "pygments_lexer": "ipython3",
   "version": "3.8.5"
  },
  "metadata": {
   "interpreter": {
    "hash": "82db51cffef479cc4d0f53089378e5a2925f9e7adca31d741132ceba61ecca6f"
   }
  }
 },
 "nbformat": 4,
 "nbformat_minor": 2
}