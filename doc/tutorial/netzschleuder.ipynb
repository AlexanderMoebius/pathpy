{
 "cells": [
  {
   "cell_type": "markdown",
   "metadata": {},
   "source": [
    "# Reading networks from netzschleuder\n",
    "\n",
    "The [netzschleuder](https://networks.skewed.de) repository is an online repository of more thn 100,000 networks maintained by Tiago Peixoto. Using `pathpy`, you can directly retrieve networks from the netzschleuder repository."
   ]
  },
  {
   "cell_type": "code",
   "execution_count": null,
   "metadata": {
    "execution": {
     "iopub.execute_input": "2021-04-27T15:41:30.546882Z",
     "iopub.status.busy": "2021-04-27T15:41:30.546198Z",
     "iopub.status.idle": "2021-04-27T15:41:31.072771Z",
     "shell.execute_reply": "2021-04-27T15:41:31.073203Z"
    }
   },
   "outputs": [],
   "source": [
    "import pathpy as pp\n",
    "\n",
    "from pprint import pprint"
   ]
  },
  {
   "cell_type": "markdown",
   "metadata": {},
   "source": [
    "We can use the `list_netzschleuder_records` function to retrieve a list of all network data sets in the `netzschleuder` repository:"
   ]
  },
  {
   "cell_type": "code",
   "execution_count": null,
   "metadata": {
    "execution": {
     "iopub.execute_input": "2021-04-27T15:41:31.076259Z",
     "iopub.status.busy": "2021-04-27T15:41:31.075832Z",
     "iopub.status.idle": "2021-04-27T15:41:31.206314Z",
     "shell.execute_reply": "2021-04-27T15:41:31.205858Z"
    }
   },
   "outputs": [],
   "source": [
    "datasets = pp.io.graphtool.list_netzschleuder_records()\n",
    "pprint(datasets[:20])"
   ]
  },
  {
   "cell_type": "markdown",
   "metadata": {},
   "source": [
    "The use of additional query parameters (e.g. looking for data with specific tags or returning full records with all attributes) is supported by keyword arguments. For instance, to return all social networks in the `netzschleuder` repository, you can write:"
   ]
  },
  {
   "cell_type": "code",
   "execution_count": null,
   "metadata": {
    "execution": {
     "iopub.execute_input": "2021-04-27T15:41:31.218197Z",
     "iopub.status.busy": "2021-04-27T15:41:31.209371Z",
     "iopub.status.idle": "2021-04-27T15:41:31.307986Z",
     "shell.execute_reply": "2021-04-27T15:41:31.308644Z"
    }
   },
   "outputs": [],
   "source": [
    "datasets = pp.io.graphtool.list_netzschleuder_records(tags='Social')\n",
    "pprint(datasets[50:70])"
   ]
  },
  {
   "cell_type": "markdown",
   "metadata": {},
   "source": [
    "To retrieve detailed metadata from a specific record, we can use the following function:"
   ]
  },
  {
   "cell_type": "code",
   "execution_count": null,
   "metadata": {
    "execution": {
     "iopub.execute_input": "2021-04-27T15:41:31.320257Z",
     "iopub.status.busy": "2021-04-27T15:41:31.311761Z",
     "iopub.status.idle": "2021-04-27T15:41:31.416160Z",
     "shell.execute_reply": "2021-04-27T15:41:31.416872Z"
    }
   },
   "outputs": [],
   "source": [
    "datasets = pp.io.graphtool.read_netzschleuder_record('karate')\n",
    "pprint(datasets)"
   ]
  },
  {
   "cell_type": "markdown",
   "metadata": {},
   "source": [
    "## Reading static networks\n",
    "\n",
    "As we can see above, each data set (e.g. `karate`) in the netzschleuder database can have multiple networks (e.g. multiple measurements like `77` and `78` above). To read a specific network into a `pathpy` object, we have to specify both the name of the data set as well as the name of the network as follows:"
   ]
  },
  {
   "cell_type": "code",
   "execution_count": null,
   "metadata": {
    "execution": {
     "iopub.execute_input": "2021-04-27T15:41:31.420416Z",
     "iopub.status.busy": "2021-04-27T15:41:31.419793Z",
     "iopub.status.idle": "2021-04-27T15:41:31.620378Z",
     "shell.execute_reply": "2021-04-27T15:41:31.620962Z"
    }
   },
   "outputs": [],
   "source": [
    "n = pp.io.graphtool.read_netzschleuder_network('karate', '77')\n",
    "print(n)"
   ]
  },
  {
   "cell_type": "code",
   "execution_count": null,
   "metadata": {
    "execution": {
     "iopub.execute_input": "2021-04-27T15:41:31.625488Z",
     "iopub.status.busy": "2021-04-27T15:41:31.624930Z",
     "iopub.status.idle": "2021-04-27T15:41:31.631380Z",
     "shell.execute_reply": "2021-04-27T15:41:31.631959Z"
    }
   },
   "outputs": [],
   "source": [
    "pp.plot(n)"
   ]
  },
  {
   "cell_type": "markdown",
   "metadata": {},
   "source": [
    "To retrieve a list of temporal networks in the netzschleuder database, we can write: "
   ]
  },
  {
   "cell_type": "code",
   "execution_count": null,
   "metadata": {
    "execution": {
     "iopub.execute_input": "2021-04-27T15:41:31.642371Z",
     "iopub.status.busy": "2021-04-27T15:41:31.641884Z",
     "iopub.status.idle": "2021-04-27T15:41:31.730768Z",
     "shell.execute_reply": "2021-04-27T15:41:31.730176Z"
    }
   },
   "outputs": [],
   "source": [
    "pp.io.graphtool.list_netzschleuder_records(tag='Temporal')[200:250]"
   ]
  },
  {
   "cell_type": "markdown",
   "metadata": {},
   "source": [
    "To retrieve the full information on a specific record, we can again write:"
   ]
  },
  {
   "cell_type": "code",
   "execution_count": null,
   "metadata": {
    "execution": {
     "iopub.execute_input": "2021-04-27T15:41:31.742569Z",
     "iopub.status.busy": "2021-04-27T15:41:31.742035Z",
     "iopub.status.idle": "2021-04-27T15:41:31.838186Z",
     "shell.execute_reply": "2021-04-27T15:41:31.838776Z"
    }
   },
   "outputs": [],
   "source": [
    "pp.io.graphtool.read_netzschleuder_record('sp_hypertext')"
   ]
  },
  {
   "cell_type": "markdown",
   "metadata": {},
   "source": [
    "## Reading temporal networks\n",
    "\n",
    "If there is only a single network in the data set (which then has the same name as the data set name), we can omit the network name. If we read a network where the edge_properties include a `time` attribute, a temporal network will be returned automatically."
   ]
  },
  {
   "cell_type": "code",
   "execution_count": null,
   "metadata": {
    "execution": {
     "iopub.execute_input": "2021-04-27T15:41:31.850207Z",
     "iopub.status.busy": "2021-04-27T15:41:31.849705Z",
     "iopub.status.idle": "2021-04-27T15:41:32.572224Z",
     "shell.execute_reply": "2021-04-27T15:41:32.572638Z"
    }
   },
   "outputs": [],
   "source": [
    "tn = pp.io.graphtool.read_netzschleuder_network('sp_hypertext', 'contacts')\n",
    "print(tn)"
   ]
  },
  {
   "cell_type": "code",
   "execution_count": null,
   "metadata": {
    "execution": {
     "iopub.execute_input": "2021-04-27T15:41:32.670540Z",
     "iopub.status.busy": "2021-04-27T15:41:32.626123Z",
     "iopub.status.idle": "2021-04-27T15:41:32.694765Z",
     "shell.execute_reply": "2021-04-27T15:41:32.695203Z"
    }
   },
   "outputs": [],
   "source": [
    "pp.plot(tn)"
   ]
  },
  {
   "cell_type": "markdown",
   "metadata": {},
   "source": [
    "## Reading temporal data as static networks \n",
    "\n",
    "If we do not want to retrieve a temporal network, we can use the `ignore_temporal` argument:"
   ]
  },
  {
   "cell_type": "code",
   "execution_count": null,
   "metadata": {
    "execution": {
     "iopub.execute_input": "2021-04-27T15:41:32.703935Z",
     "iopub.status.busy": "2021-04-27T15:41:32.703491Z",
     "iopub.status.idle": "2021-04-27T15:41:33.108340Z",
     "shell.execute_reply": "2021-04-27T15:41:33.108846Z"
    }
   },
   "outputs": [],
   "source": [
    "tn = pp.io.graphtool.read_netzschleuder_network('sp_hypertext', 'contacts', ignore_temporal=True)\n",
    "print(tn)"
   ]
  },
  {
   "cell_type": "code",
   "execution_count": null,
   "metadata": {
    "execution": {
     "iopub.execute_input": "2021-04-27T15:41:33.112378Z",
     "iopub.status.busy": "2021-04-27T15:41:33.111904Z",
     "iopub.status.idle": "2021-04-27T15:41:33.116280Z",
     "shell.execute_reply": "2021-04-27T15:41:33.116773Z"
    }
   },
   "outputs": [],
   "source": [
    "pp.plot(n)"
   ]
  },
  {
   "cell_type": "code",
   "execution_count": null,
   "metadata": {},
   "outputs": [],
   "source": []
  }
 ],
 "metadata": {
  "kernelspec": {
   "display_name": "Python 3.7.4 64-bit",
   "language": "python",
   "name": "python37464bit955f4811db0441eba2efbde262696f05"
  },
  "language_info": {
   "codemirror_mode": {
    "name": "ipython",
    "version": 3
   },
   "file_extension": ".py",
   "mimetype": "text/x-python",
   "name": "python",
   "nbconvert_exporter": "python",
   "pygments_lexer": "ipython3",
   "version": "3.8.5"
  },
  "metadata": {
   "interpreter": {
    "hash": "82db51cffef479cc4d0f53089378e5a2925f9e7adca31d741132ceba61ecca6f"
   }
  }
 },
 "nbformat": 4,
 "nbformat_minor": 2
}
