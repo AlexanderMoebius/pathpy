{
 "cells": [
  {
   "cell_type": "markdown",
   "metadata": {},
   "source": [
    "# Reading networks from netzschleuder\n",
    "\n",
    "[Run notebook in Google Colab](https://colab.research.google.com/github/pathpy/pathpy/blob/master/doc/tutorial/netzschleuder.ipynb)  \n",
    "[Download notebook](https://github.com/pathpy/pathpy/raw/master/doc/tutorial/netzschleuder.ipynb)\n",
    "\n",
    "The [netzschleuder](https://networks.skewed.de) repository is an online repository of more thn 100,000 networks maintained by [Tiago Peixoto](https://skewed.de/tiago). With `pathpy` you can directly read any network from the netzschleuder repository to analyze and visualize it."
   ]
  },
  {
   "cell_type": "code",
   "execution_count": null,
   "metadata": {
    "execution": {
     "iopub.execute_input": "2021-05-04T11:35:10.125518Z",
     "iopub.status.busy": "2021-05-04T11:35:10.124872Z",
     "iopub.status.idle": "2021-05-04T11:35:17.005800Z",
     "shell.execute_reply": "2021-05-04T11:35:17.006301Z"
    },
    "tags": [
     "hide"
    ]
   },
   "outputs": [],
   "source": [
    "pip install git+git://github.com/pathpy/pathpy.git"
   ]
  },
  {
   "cell_type": "code",
   "execution_count": null,
   "metadata": {
    "execution": {
     "iopub.execute_input": "2021-05-04T11:35:17.010526Z",
     "iopub.status.busy": "2021-05-04T11:35:17.009904Z",
     "iopub.status.idle": "2021-05-04T11:35:17.577811Z",
     "shell.execute_reply": "2021-05-04T11:35:17.578304Z"
    }
   },
   "outputs": [],
   "source": [
    "import pathpy as pp\n",
    "\n",
    "from pprint import pprint"
   ]
  },
  {
   "cell_type": "markdown",
   "metadata": {},
   "source": [
    "Since the `netzschleuder` repository uses the graphtool binary format to store network data, support to retrieve networks from the repository is included in `pathpy`'s `io.graphtool` submodule.\n",
    "\n",
    "Each `netzschleuder` data set can contain one or more networks. If there is more than one network in a data set, we have to additionally specify the name of the network that we wish to retrieve. In a first step, we can use the function `list_netzschleuder_records` to retrieve a list of all data sets. In the following, we only print the first 20 records:"
   ]
  },
  {
   "cell_type": "code",
   "execution_count": null,
   "metadata": {
    "execution": {
     "iopub.execute_input": "2021-05-04T11:35:17.580958Z",
     "iopub.status.busy": "2021-05-04T11:35:17.580546Z",
     "iopub.status.idle": "2021-05-04T11:35:17.685086Z",
     "shell.execute_reply": "2021-05-04T11:35:17.685752Z"
    }
   },
   "outputs": [],
   "source": [
    "datasets = pp.io.graphtool.list_netzschleuder_records()\n",
    "pprint(datasets[:20])"
   ]
  },
  {
   "cell_type": "markdown",
   "metadata": {},
   "source": [
    "We can use keyword arguments to set additional query parameters (e.g. looking for data with specific tags or returning full records with all attributes). The supported query parameters can be found in the [API description](https://networks.skewed.de/api). To return all social networks in the `netzschleuder` repository, we call (here we only return the records 50 through 70):"
   ]
  },
  {
   "cell_type": "code",
   "execution_count": null,
   "metadata": {
    "execution": {
     "iopub.execute_input": "2021-05-04T11:35:17.698697Z",
     "iopub.status.busy": "2021-05-04T11:35:17.689195Z",
     "iopub.status.idle": "2021-05-04T11:35:17.784113Z",
     "shell.execute_reply": "2021-05-04T11:35:17.784884Z"
    }
   },
   "outputs": [],
   "source": [
    "datasets = pp.io.graphtool.list_netzschleuder_records(tags='Social')\n",
    "pprint(datasets[50:70])"
   ]
  },
  {
   "cell_type": "markdown",
   "metadata": {},
   "source": [
    "To retrieve detailed metadata on a specific data set, we can use the following function:"
   ]
  },
  {
   "cell_type": "code",
   "execution_count": null,
   "metadata": {
    "execution": {
     "iopub.execute_input": "2021-05-04T11:35:17.797310Z",
     "iopub.status.busy": "2021-05-04T11:35:17.788337Z",
     "iopub.status.idle": "2021-05-04T11:35:17.882834Z",
     "shell.execute_reply": "2021-05-04T11:35:17.883503Z"
    }
   },
   "outputs": [],
   "source": [
    "datasets = pp.io.graphtool.read_netzschleuder_record('karate')\n",
    "pprint(datasets)"
   ]
  },
  {
   "cell_type": "markdown",
   "metadata": {},
   "source": [
    "Those metadata contain citation information (including a BibTeX record), the original URL from which the data was retrieved, a textual description of the data, as well as a list of networks contained in the data set. In the example above, the `karate` data set contains two networks named `77` and `78`, referring to different versions of the data. For each network, the metadata contain a number of network-level metrics."
   ]
  },
  {
   "cell_type": "markdown",
   "metadata": {},
   "source": [
    "## Reading static networks\n",
    "\n",
    "Let us now read the network into an instance of `pathpy.Network`. For this, we can use the function `read_netzschleuder_network`. To read a specific network, we must specify both the name of the data set as well as the name of the network (in case there is more than one). The function will automatically determine the type of network to return, i.e. static or temporal, directed or undirected, single or multi-edge."
   ]
  },
  {
   "cell_type": "code",
   "execution_count": null,
   "metadata": {
    "execution": {
     "iopub.execute_input": "2021-05-04T11:35:17.887233Z",
     "iopub.status.busy": "2021-05-04T11:35:17.886573Z",
     "iopub.status.idle": "2021-05-04T11:35:18.074660Z",
     "shell.execute_reply": "2021-05-04T11:35:18.075087Z"
    }
   },
   "outputs": [],
   "source": [
    "n = pp.io.graphtool.read_netzschleuder_network('karate', '77')\n",
    "print(n)"
   ]
  },
  {
   "cell_type": "code",
   "execution_count": null,
   "metadata": {
    "execution": {
     "iopub.execute_input": "2021-05-04T11:35:18.079588Z",
     "iopub.status.busy": "2021-05-04T11:35:18.078826Z",
     "iopub.status.idle": "2021-05-04T11:35:18.084904Z",
     "shell.execute_reply": "2021-05-04T11:35:18.085771Z"
    }
   },
   "outputs": [],
   "source": [
    "pp.plot(n)"
   ]
  },
  {
   "cell_type": "markdown",
   "metadata": {},
   "source": [
    "## Reading temporal networks\n",
    "\n",
    "`karate` is an example for a static network, where edges do not have associated timestamps. However. the `netzschleuder` repository contains a number of temporal networks where edges are observed at specific times. To retrieve a list of temporal networks in the netzschleuder database, we can again use the function `list_netschleuder_records` setting the query parameter `tag=Temporal`. We only output records 200 through 250:"
   ]
  },
  {
   "cell_type": "code",
   "execution_count": null,
   "metadata": {
    "execution": {
     "iopub.execute_input": "2021-05-04T11:35:18.103302Z",
     "iopub.status.busy": "2021-05-04T11:35:18.102464Z",
     "iopub.status.idle": "2021-05-04T11:35:18.193323Z",
     "shell.execute_reply": "2021-05-04T11:35:18.194027Z"
    }
   },
   "outputs": [],
   "source": [
    "pp.io.graphtool.list_netzschleuder_records(tag='Temporal')[200:250]"
   ]
  },
  {
   "cell_type": "markdown",
   "metadata": {},
   "source": [
    "To retrieve the full information on a specific record, we again call the `read_netzschleuder_record` with the associated data set name:"
   ]
  },
  {
   "cell_type": "code",
   "execution_count": null,
   "metadata": {
    "execution": {
     "iopub.execute_input": "2021-05-04T11:35:18.207152Z",
     "iopub.status.busy": "2021-05-04T11:35:18.206422Z",
     "iopub.status.idle": "2021-05-04T11:35:18.291901Z",
     "shell.execute_reply": "2021-05-04T11:35:18.292452Z"
    }
   },
   "outputs": [],
   "source": [
    "pp.io.graphtool.read_netzschleuder_record('sp_hospital')"
   ]
  },
  {
   "cell_type": "markdown",
   "metadata": {},
   "source": [
    "If there is only a single network in the data set, we can omit the network name (which then assumes the same value as the data set). In the network above, each edge has a `time` attribute. `pathpy` will thus return an instance of `TemporalNetwork`:"
   ]
  },
  {
   "cell_type": "code",
   "execution_count": null,
   "metadata": {
    "execution": {
     "iopub.execute_input": "2021-05-04T11:35:18.303177Z",
     "iopub.status.busy": "2021-05-04T11:35:18.302660Z",
     "iopub.status.idle": "2021-05-04T11:35:19.368986Z",
     "shell.execute_reply": "2021-05-04T11:35:19.369619Z"
    }
   },
   "outputs": [],
   "source": [
    "tn = pp.io.graphtool.read_netzschleuder_network('sp_hospital')\n",
    "print(tn)"
   ]
  },
  {
   "cell_type": "markdown",
   "metadata": {},
   "source": [
    "To generate dynamic visualisation of this temporal network, we can simpy call:"
   ]
  },
  {
   "cell_type": "code",
   "execution_count": null,
   "metadata": {
    "execution": {
     "iopub.execute_input": "2021-05-04T11:35:19.451950Z",
     "iopub.status.busy": "2021-05-04T11:35:19.412387Z",
     "iopub.status.idle": "2021-05-04T11:35:20.520113Z",
     "shell.execute_reply": "2021-05-04T11:35:20.520561Z"
    }
   },
   "outputs": [],
   "source": [
    "pp.plot(tn)"
   ]
  },
  {
   "cell_type": "markdown",
   "metadata": {},
   "source": [
    "## Reading temporal data as static networks \n",
    "\n",
    "Sometimes, we have network data sets where edges include time stamps, but we may want to ignore the timestamps, treating them as multiple observations of the same edge instead. To return a static projection of such a network, we can set `ignore_temporal=True`. By default, an unweighted single-edge network will be generated, i.e. additional observations of the same edge at different time stamps are simply discarded. To highlight that we ignore part of the data, `pathpy` issues a warning:"
   ]
  },
  {
   "cell_type": "code",
   "execution_count": null,
   "metadata": {
    "execution": {
     "iopub.execute_input": "2021-05-04T11:35:20.531052Z",
     "iopub.status.busy": "2021-05-04T11:35:20.530482Z",
     "iopub.status.idle": "2021-05-04T11:35:21.211825Z",
     "shell.execute_reply": "2021-05-04T11:35:21.212512Z"
    }
   },
   "outputs": [],
   "source": [
    "n = pp.io.graphtool.read_netzschleuder_network('sp_hypertext', 'contacts', ignore_temporal=True)\n",
    "print(n)"
   ]
  },
  {
   "cell_type": "markdown",
   "metadata": {
    "execution": {
     "iopub.execute_input": "2021-04-27T17:08:54.469048Z",
     "iopub.status.busy": "2021-04-27T17:08:54.468557Z",
     "iopub.status.idle": "2021-04-27T17:08:54.473037Z",
     "shell.execute_reply": "2021-04-27T17:08:54.473585Z"
    }
   },
   "source": [
    "We may instead want to keep all information on the edges, either by returning a multi-edge network in which multiple edges between the same nodes are allowed, or by projecting the multiple observations to a numerical `weight` attribute of edges, where an edge weigt of `n` indicates that this specific edge has been observed `n` times. We can control this behavior using the additional parameter `mutliedges`:"
   ]
  },
  {
   "cell_type": "code",
   "execution_count": null,
   "metadata": {
    "execution": {
     "iopub.execute_input": "2021-05-04T11:35:21.225702Z",
     "iopub.status.busy": "2021-05-04T11:35:21.225189Z",
     "iopub.status.idle": "2021-05-04T11:35:21.873809Z",
     "shell.execute_reply": "2021-05-04T11:35:21.874337Z"
    }
   },
   "outputs": [],
   "source": [
    "n = pp.io.graphtool.read_netzschleuder_network('sp_hypertext', 'contacts', \n",
    "                                               ignore_temporal=True, multiedges=True)\n",
    "print(n)"
   ]
  },
  {
   "cell_type": "markdown",
   "metadata": {},
   "source": [
    "We can easily turn this into a **weighted** network, where each edge is included only once while an additional `weight` attribute counts the occurrences of that edge:"
   ]
  },
  {
   "cell_type": "code",
   "execution_count": null,
   "metadata": {
    "execution": {
     "iopub.execute_input": "2021-05-04T11:35:21.957250Z",
     "iopub.status.busy": "2021-05-04T11:35:21.916760Z",
     "iopub.status.idle": "2021-05-04T11:35:22.286320Z",
     "shell.execute_reply": "2021-05-04T11:35:22.286761Z"
    }
   },
   "outputs": [],
   "source": [
    "weighted_net = pp.Network.to_weighted_network(n)\n",
    "print(weighted_net)"
   ]
  }
 ],
 "metadata": {
  "celltoolbar": "Tags",
  "kernelspec": {
   "display_name": "Python 3",
   "language": "python",
   "name": "python3"
  },
  "language_info": {
   "codemirror_mode": {
    "name": "ipython",
    "version": 3
   },
   "file_extension": ".py",
   "mimetype": "text/x-python",
   "name": "python",
   "nbconvert_exporter": "python",
   "pygments_lexer": "ipython3",
   "version": "3.8.5"
  },
  "metadata": {
   "interpreter": {
    "hash": "82db51cffef479cc4d0f53089378e5a2925f9e7adca31d741132ceba61ecca6f"
   }
  }
 },
 "nbformat": 4,
 "nbformat_minor": 4
}
