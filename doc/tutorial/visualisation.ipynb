{
 "cells": [
  {
   "cell_type": "markdown",
   "metadata": {
    "slideshow": {
     "slide_type": "slide"
    }
   },
   "source": [
    "# Visualising static networks\n",
    "\n",
    "[Run notebook in Google Colab](https://colab.research.google.com/github/pathpy/pathpy/blob/master/doc/tutorial/visualisation.ipynb)  \n",
    "[Download notebook](https://github.com/pathpy/pathpy/raw/master/doc/tutorial/visualisation.ipynb)\n",
    "\n",
    "A key feature of `pathpy` is its support for custiumizable interactive visualisations that can be embedded in jupyter notebooks or stored as stand-alone files. In the following, we show this functionality in some toy examples, before moving to the impot of empirical networks in the next unit. We first import `pathpy` as usual. "
   ]
  },
  {
   "cell_type": "code",
   "execution_count": null,
   "metadata": {
    "execution": {
     "iopub.execute_input": "2021-04-30T00:16:48.574114Z",
     "iopub.status.busy": "2021-04-30T00:16:48.573590Z",
     "iopub.status.idle": "2021-04-30T00:16:54.950821Z",
     "shell.execute_reply": "2021-04-30T00:16:54.951444Z"
    },
    "tags": [
     "hide"
    ]
   },
   "outputs": [],
   "source": [
    "pip install git+git://github.com/pathpy/pathpy.git"
   ]
  },
  {
   "cell_type": "code",
   "execution_count": null,
   "metadata": {
    "execution": {
     "iopub.execute_input": "2021-04-30T00:16:54.955036Z",
     "iopub.status.busy": "2021-04-30T00:16:54.954541Z",
     "iopub.status.idle": "2021-04-30T00:16:55.647093Z",
     "shell.execute_reply": "2021-04-30T00:16:55.647564Z"
    }
   },
   "outputs": [],
   "source": [
    "import pathpy as pp"
   ]
  },
  {
   "cell_type": "markdown",
   "metadata": {
    "slideshow": {
     "slide_type": "slide"
    }
   },
   "source": [
    "## Interactive network visualisation in `jupyter`\n",
    "\n",
    "We first create a simple toy example by adding two edges between three nodes."
   ]
  },
  {
   "cell_type": "code",
   "execution_count": null,
   "metadata": {
    "execution": {
     "iopub.execute_input": "2021-04-30T00:16:55.651218Z",
     "iopub.status.busy": "2021-04-30T00:16:55.650648Z",
     "iopub.status.idle": "2021-04-30T00:16:55.652665Z",
     "shell.execute_reply": "2021-04-30T00:16:55.653172Z"
    }
   },
   "outputs": [],
   "source": [
    "n = pp.Network(directed=False)\n",
    "n.add_edges(('a', 'b'), ('b', 'c'))\n",
    "print(n)"
   ]
  },
  {
   "cell_type": "markdown",
   "metadata": {},
   "source": [
    "Calling the `print` function on a network instance will generate a string representation that can be printed on the console. The simplest way to graphically visualise the network in a jupyter notebook is to simply type the variable name of the network:"
   ]
  },
  {
   "cell_type": "code",
   "execution_count": null,
   "metadata": {
    "execution": {
     "iopub.execute_input": "2021-04-30T00:16:55.656180Z",
     "iopub.status.busy": "2021-04-30T00:16:55.655702Z",
     "iopub.status.idle": "2021-04-30T00:16:55.660423Z",
     "shell.execute_reply": "2021-04-30T00:16:55.660860Z"
    }
   },
   "outputs": [],
   "source": [
    "n.plot()"
   ]
  },
  {
   "cell_type": "markdown",
   "metadata": {},
   "source": [
    "This will create an interactive HTML visualisation of the network, where we can zoom, pan, and drag nodes (press Shift while panning, clicking, or using the mouse wheel). The same visualisation is generated if we explicitly call the function `plot` on the network instance. Try to zoom and pan the network (by holding the shift key and using the mouse/mouse wheel). Try what happens if you drag a node and release the mouse button. Try to search for a node with a specific uid or name:"
   ]
  },
  {
   "cell_type": "code",
   "execution_count": null,
   "metadata": {
    "execution": {
     "iopub.execute_input": "2021-04-30T00:16:55.663569Z",
     "iopub.status.busy": "2021-04-30T00:16:55.662987Z",
     "iopub.status.idle": "2021-04-30T00:16:55.667183Z",
     "shell.execute_reply": "2021-04-30T00:16:55.667816Z"
    }
   },
   "outputs": [],
   "source": [
    "n.plot()"
   ]
  },
  {
   "cell_type": "markdown",
   "metadata": {},
   "source": [
    "Using the two top-left buttons in the visualisatin you can export the current view of the network as a SVG vector graphics or a PNG pixel graphics file. By default a default style is applied to the network but pathpy allows to fully style the network based on (i) node and edge attributes that are automatically considered in the visualisation, or (ii) a custom style dictionary that can be passed to the plot function. If we want to change the color of nodes we can simply assign a `color` attribute to the nodes:"
   ]
  },
  {
   "cell_type": "code",
   "execution_count": null,
   "metadata": {
    "execution": {
     "iopub.execute_input": "2021-04-30T00:16:55.671192Z",
     "iopub.status.busy": "2021-04-30T00:16:55.670746Z",
     "iopub.status.idle": "2021-04-30T00:16:55.674150Z",
     "shell.execute_reply": "2021-04-30T00:16:55.674601Z"
    }
   },
   "outputs": [],
   "source": [
    "n.nodes['a']['color'] = 'red'\n",
    "n.nodes['b']['color'] = 'green'\n",
    "n.nodes['c']['color'] = 'blue'\n",
    "n.plot()"
   ]
  },
  {
   "cell_type": "markdown",
   "metadata": {},
   "source": [
    "We can additionally change the size of the nodes as follows:"
   ]
  },
  {
   "cell_type": "code",
   "execution_count": null,
   "metadata": {
    "execution": {
     "iopub.execute_input": "2021-04-30T00:16:55.677992Z",
     "iopub.status.busy": "2021-04-30T00:16:55.677511Z",
     "iopub.status.idle": "2021-04-30T00:16:55.681079Z",
     "shell.execute_reply": "2021-04-30T00:16:55.681535Z"
    }
   },
   "outputs": [],
   "source": [
    "n.nodes['a']['size'] = 20\n",
    "n.nodes['b']['size'] = 10\n",
    "n.nodes['c']['size'] = 20\n",
    "n.plot()"
   ]
  },
  {
   "cell_type": "markdown",
   "metadata": {},
   "source": [
    "An alternative method to style the network is by means of a key-value arguments with node and edge properties that are passed to the plot function. We can either assign the same property to all nodes, or we can assign different properties to different nodes based on a dictionary that maps the node uids to the respective properties:"
   ]
  },
  {
   "cell_type": "code",
   "execution_count": null,
   "metadata": {
    "execution": {
     "iopub.execute_input": "2021-04-30T00:16:55.684554Z",
     "iopub.status.busy": "2021-04-30T00:16:55.684055Z",
     "iopub.status.idle": "2021-04-30T00:16:55.687429Z",
     "shell.execute_reply": "2021-04-30T00:16:55.687922Z"
    }
   },
   "outputs": [],
   "source": [
    "n.plot(node_color='red', node_size=10)"
   ]
  },
  {
   "cell_type": "code",
   "execution_count": null,
   "metadata": {
    "execution": {
     "iopub.execute_input": "2021-04-30T00:16:55.691228Z",
     "iopub.status.busy": "2021-04-30T00:16:55.690552Z",
     "iopub.status.idle": "2021-04-30T00:16:55.694474Z",
     "shell.execute_reply": "2021-04-30T00:16:55.694915Z"
    }
   },
   "outputs": [],
   "source": [
    "n.plot(node_color={'a': 'green', 'b': 'blue', 'c': 'red'}, node_size={'a': 20, 'b': 10, 'c': 20})"
   ]
  },
  {
   "cell_type": "markdown",
   "metadata": {},
   "source": [
    "A convenient way to manage plot styles is to store style properties in a dictionary, whose entries are then passed to the plot function using the kwargs operator **. A major advantage of this approach is that we can store the plot style and then apply the same style to multiple networks or to visualisations in multiple formats."
   ]
  },
  {
   "cell_type": "code",
   "execution_count": null,
   "metadata": {
    "execution": {
     "iopub.execute_input": "2021-04-30T00:16:55.697799Z",
     "iopub.status.busy": "2021-04-30T00:16:55.697296Z",
     "iopub.status.idle": "2021-04-30T00:16:55.700632Z",
     "shell.execute_reply": "2021-04-30T00:16:55.701055Z"
    }
   },
   "outputs": [],
   "source": [
    "plot_style = {\n",
    "    'node_color': {'a': 'orange', 'b': 'blue', 'c': 'red'}, \n",
    "    'node_size': {'a': 30, 'b': 10, 'c': 20}\n",
    "}\n",
    "n.plot(**plot_style)"
   ]
  },
  {
   "cell_type": "markdown",
   "metadata": {},
   "source": [
    "## Network Layouts\n",
    "\n",
    "An important question in the drawing of networks is where nodes are placed. The positioning of nodes determines whether it is easy to spot patterns in the topology of the network. As a general rule, good network visualisations should have a small number of crossing edges and nodes should be placed away from each other such that we can easily distinguish them. If we make no other effort, pathpy will automatically use a simple, interactive force-directed layout algorithm. It is based on the idea that nodes connected by an edge are moved towards each other by an attractive force, while an additional repulsive force between all node pairs makes sure that nodes are not drawn on top pf each other. The simulation of those forces, and the computation of a steady-state of the resulting many-particle system is what determines the node positions in the default pathpy visualisation. Also, this is the basis upon which nodes move if you disturb the visualisation by dragging around nodes.\n",
    "\n",
    "While the default layout algorithm makes it simple to visualise networks, it has the disadvantage that the layout is actually calculated in JavaScript. This means that the positions of nodes are actually not stored in python, which makes it impossible to influence (or store) node positions from python. To solve this issue, `pathpy` provides a `layout` module that can be used to precompute node positions based on different layout algorithms. Moreover, it allows to manually optimise the parameters of those algorithms to generate a nice visualisation.\n",
    "\n",
    "The styling of node positions via a layout style follows the same idea like the styling of plots via a plot style. We can store the parameters in a dictionary and pass them to the `layout` function using the ** operator. To compute ode positions based on a certain number of iterations of the Fruchterman-Reingold algorithm with a specific force value we can write:"
   ]
  },
  {
   "cell_type": "code",
   "execution_count": null,
   "metadata": {
    "execution": {
     "iopub.execute_input": "2021-04-30T00:16:55.704421Z",
     "iopub.status.busy": "2021-04-30T00:16:55.703957Z",
     "iopub.status.idle": "2021-04-30T00:16:55.737061Z",
     "shell.execute_reply": "2021-04-30T00:16:55.737488Z"
    }
   },
   "outputs": [],
   "source": [
    "layout_style = {}\n",
    "layout_style['layout'] = 'Fruchterman-Reingold'\n",
    "layout_style['force'] = 0.2\n",
    "layout_style['iterations'] = 500\n",
    "layout = pp.layout(n, **layout_style)\n",
    "print(layout)"
   ]
  },
  {
   "cell_type": "markdown",
   "metadata": {},
   "source": [
    "This computes a dictionary of node positions, where the node uids are the keys and two-dimensional coordinates are the values. We can now pass this specific layout to the plot function of the network. This will disable the interactive layout in JavaScript, fixing the node positions to the precalculated layout:"
   ]
  },
  {
   "cell_type": "code",
   "execution_count": null,
   "metadata": {
    "execution": {
     "iopub.execute_input": "2021-04-30T00:16:55.740352Z",
     "iopub.status.busy": "2021-04-30T00:16:55.739890Z",
     "iopub.status.idle": "2021-04-30T00:16:55.743138Z",
     "shell.execute_reply": "2021-04-30T00:16:55.743556Z"
    }
   },
   "outputs": [],
   "source": [
    "pp.plot(n, **plot_style, layout=layout)"
   ]
  },
  {
   "cell_type": "markdown",
   "metadata": {},
   "source": [
    "## Plotting spatially embedded networks\n",
    "\n",
    "Layout algorithms are important to visualise networks where nodes are not naturally embedded in a space. However, for a number of complex networks we can naturally assign coordinates to nodes. Examples include infrastructure networks like road, train, or flight networks where we have information on geographic coordinates of road junctions, train stations, or airports. We do not need a layout algorithm to calculate node positions, we can use node coordinates instead, which we can assign to the node attributes:"
   ]
  },
  {
   "cell_type": "code",
   "execution_count": null,
   "metadata": {
    "execution": {
     "iopub.execute_input": "2021-04-30T00:16:55.747042Z",
     "iopub.status.busy": "2021-04-30T00:16:55.746631Z",
     "iopub.status.idle": "2021-04-30T00:16:55.749562Z",
     "shell.execute_reply": "2021-04-30T00:16:55.749991Z"
    }
   },
   "outputs": [],
   "source": [
    "n.nodes['a']['coordinates'] = [0,0]\n",
    "n.nodes['b']['coordinates'] = [0,1]\n",
    "n.nodes['c']['coordinates'] = [1,0]\n",
    "n.plot(**plot_style)"
   ]
  },
  {
   "cell_type": "markdown",
   "metadata": {},
   "source": [
    "Like for other node attributes, specifying a layout for the network will override the node properties, i.e. in this case the node coordinates will be ignored:"
   ]
  },
  {
   "cell_type": "code",
   "execution_count": null,
   "metadata": {
    "execution": {
     "iopub.execute_input": "2021-04-30T00:16:55.752475Z",
     "iopub.status.busy": "2021-04-30T00:16:55.752060Z",
     "iopub.status.idle": "2021-04-30T00:16:55.755263Z",
     "shell.execute_reply": "2021-04-30T00:16:55.755964Z"
    }
   },
   "outputs": [],
   "source": [
    "n.plot(**plot_style, layout=layout)"
   ]
  },
  {
   "cell_type": "markdown",
   "metadata": {},
   "source": [
    "## Plotting networks to PDF\n",
    "\n",
    "While it is convenient to interactively plot networks in a jupyter network, we often want to generate stand-alone visualisations that we can either share or embed in scientific publications. Apart from the possibility to directly export PNG and SVG visualisations from the interactive HTML widget, the plot function can be used to generate a stand-alone HTML visualisation of the network that can be opened in any browser and shared on the Web."
   ]
  },
  {
   "cell_type": "code",
   "execution_count": null,
   "metadata": {
    "execution": {
     "iopub.execute_input": "2021-04-30T00:16:55.758432Z",
     "iopub.status.busy": "2021-04-30T00:16:55.758029Z",
     "iopub.status.idle": "2021-04-30T00:16:55.761395Z",
     "shell.execute_reply": "2021-04-30T00:16:55.761829Z"
    }
   },
   "outputs": [],
   "source": [
    "n.plot(**plot_style, filename='network.html')"
   ]
  },
  {
   "cell_type": "markdown",
   "metadata": {},
   "source": [
    "If you want a vector graphics figure that can be embedded in a scientific paper, you can use the plot function to export network visualisations as PDF:"
   ]
  },
  {
   "cell_type": "code",
   "execution_count": null,
   "metadata": {
    "execution": {
     "iopub.execute_input": "2021-04-30T00:16:55.764710Z",
     "iopub.status.busy": "2021-04-30T00:16:55.764305Z",
     "iopub.status.idle": "2021-04-30T00:16:57.457324Z",
     "shell.execute_reply": "2021-04-30T00:16:57.457870Z"
    }
   },
   "outputs": [],
   "source": [
    "n.plot(**plot_style, layout=layout, filename='network.pdf')"
   ]
  },
  {
   "cell_type": "markdown",
   "metadata": {},
   "source": [
    "An interesting feature of pathpy is that it builds on the package `tikz-network`, a powerful framework to draw graphs in LaTeX. If we want to generate a visualisation in which we retain the full power to style the network in LaTeX, we can export the network as a tex file that can be build with a LaTeX compiler:"
   ]
  },
  {
   "cell_type": "code",
   "execution_count": null,
   "metadata": {
    "execution": {
     "iopub.execute_input": "2021-04-30T00:16:57.461843Z",
     "iopub.status.busy": "2021-04-30T00:16:57.461368Z",
     "iopub.status.idle": "2021-04-30T00:16:57.463105Z",
     "shell.execute_reply": "2021-04-30T00:16:57.463593Z"
    }
   },
   "outputs": [],
   "source": [
    "n.plot(**plot_style, layout=layout, filename='network.tex')"
   ]
  }
 ],
 "metadata": {
  "celltoolbar": "Tags",
  "kernelspec": {
   "display_name": "Python 3",
   "language": "python",
   "name": "python3"
  },
  "language_info": {
   "codemirror_mode": {
    "name": "ipython",
    "version": 3
   },
   "file_extension": ".py",
   "mimetype": "text/x-python",
   "name": "python",
   "nbconvert_exporter": "python",
   "pygments_lexer": "ipython3",
   "version": "3.8.5"
  }
 },
 "nbformat": 4,
 "nbformat_minor": 1
}
