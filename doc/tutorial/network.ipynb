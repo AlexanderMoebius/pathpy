{
 "cells": [
  {
   "cell_type": "markdown",
   "metadata": {
    "slideshow": {
     "slide_type": "slide"
    }
   },
   "source": [
    "# Basic `pathpy` concepts\n",
    "\n",
    "[Run notebook in Google Colab](https://colab.research.google.com/github/pathpy/pathpy/blob/master/doc/tutorial/network.ipynb)\n",
    "\n",
    "`pathpy` has a user-friendly API that makes it easy to handle directed and undirected networks, networks with single and multiple edges, multi-layer networks or temporal networks. It also provides interactive HTML visualisations that can be directly displayed inside `jupyter` notebooks, which makes it particularly suitable for educational settings.\n",
    "\n",
    "To get started with `pathpy` we first import `pathpy` and assign the local alias `pp`:"
   ]
  },
  {
   "cell_type": "code",
   "execution_count": null,
   "metadata": {
    "execution": {
     "iopub.execute_input": "2021-04-28T08:37:08.646100Z",
     "iopub.status.busy": "2021-04-28T08:37:08.644541Z",
     "iopub.status.idle": "2021-04-28T08:37:16.669811Z",
     "shell.execute_reply": "2021-04-28T08:37:16.669029Z"
    },
    "tags": [
     "hide"
    ]
   },
   "outputs": [],
   "source": [
    "pip install git+git://github.com/pathpy/pathpy.git"
   ]
  },
  {
   "cell_type": "code",
   "execution_count": null,
   "metadata": {
    "execution": {
     "iopub.execute_input": "2021-04-28T08:37:16.674124Z",
     "iopub.status.busy": "2021-04-28T08:37:16.673351Z",
     "iopub.status.idle": "2021-04-28T08:37:17.107494Z",
     "shell.execute_reply": "2021-04-28T08:37:17.108206Z"
    }
   },
   "outputs": [],
   "source": [
    "import pathpy as pp\n",
    "import numpy as np"
   ]
  },
  {
   "cell_type": "markdown",
   "metadata": {},
   "source": [
    "If the `import` statement completes without error message, the installation was successful and we can now use `pathpy` to generate, analyse, and visualise networks. \n",
    "\n",
    "## Creating networks\n",
    "\n",
    "For this purpose `pathpy` provides the `Network` class. Calling the constructor will return an instance that represents an empty network with no nodes and no links. By default, networks in `pathpy` are directed. If you want to create an undirected network you can pass the parameter `directed=False` in the constructor. \n",
    "\n",
    "Printing the `Network` object will give a short string summary which tells whether the network is directed or undirected, as well as the number of unique nodes and links."
   ]
  },
  {
   "cell_type": "code",
   "execution_count": null,
   "metadata": {
    "execution": {
     "iopub.execute_input": "2021-04-28T08:37:17.112434Z",
     "iopub.status.busy": "2021-04-28T08:37:17.111685Z",
     "iopub.status.idle": "2021-04-28T08:37:17.114166Z",
     "shell.execute_reply": "2021-04-28T08:37:17.114791Z"
    }
   },
   "outputs": [],
   "source": [
    "n1 = pp.Network()\n",
    "print(n1)"
   ]
  },
  {
   "cell_type": "markdown",
   "metadata": {},
   "source": [
    "A network is directed by default, but we can create an undirected network by passing the parameter `directed=False`."
   ]
  },
  {
   "cell_type": "code",
   "execution_count": null,
   "metadata": {
    "execution": {
     "iopub.execute_input": "2021-04-28T08:37:17.118785Z",
     "iopub.status.busy": "2021-04-28T08:37:17.118028Z",
     "iopub.status.idle": "2021-04-28T08:37:17.120501Z",
     "shell.execute_reply": "2021-04-28T08:37:17.121186Z"
    }
   },
   "outputs": [],
   "source": [
    "n2 = pp.Network(directed=False)\n",
    "print(n2)"
   ]
  },
  {
   "cell_type": "markdown",
   "metadata": {},
   "source": [
    "The examples above show that each network has a unique identifier. By default, this unique ID is derived from the hash value of the underlying python object, which allows you to quickly check whether two variables actually refer to the same network object. If you prefer to manage your own UIDs that are eadsier to remember, you can assign custom IDs by explicitly passing a uid property:"
   ]
  },
  {
   "cell_type": "code",
   "execution_count": null,
   "metadata": {
    "execution": {
     "iopub.execute_input": "2021-04-28T08:37:17.125422Z",
     "iopub.status.busy": "2021-04-28T08:37:17.124670Z",
     "iopub.status.idle": "2021-04-28T08:37:17.127127Z",
     "shell.execute_reply": "2021-04-28T08:37:17.127755Z"
    }
   },
   "outputs": [],
   "source": [
    "n = pp.Network(directed=False, uid='MyUndirectedNetwork')\n",
    "print(n)"
   ]
  },
  {
   "cell_type": "markdown",
   "metadata": {},
   "source": [
    "The simplest way to add nodes and edges is to call the functions `add_node` and `add_edge`. In both cases, we can simply pass unique string identifiers of nodes, which will then be used as UIDs of the underlying node objects. To create an undirected network with three nodes and two edges, we can write: "
   ]
  },
  {
   "cell_type": "code",
   "execution_count": null,
   "metadata": {
    "execution": {
     "iopub.execute_input": "2021-04-28T08:37:17.132982Z",
     "iopub.status.busy": "2021-04-28T08:37:17.132196Z",
     "iopub.status.idle": "2021-04-28T08:37:17.134711Z",
     "shell.execute_reply": "2021-04-28T08:37:17.135419Z"
    }
   },
   "outputs": [],
   "source": [
    "n = pp.Network(directed=False, multiedges=True, uid='ExampleNetwork')\n",
    "n.add_node('a')\n",
    "n.add_node('b')\n",
    "n.add_node('c')\n",
    "n.add_edge('a', 'b')\n",
    "n.add_edge('b', 'c')\n",
    "print(n)"
   ]
  },
  {
   "cell_type": "markdown",
   "metadata": {},
   "source": [
    "Unless we want to explicitly add isolated nodes with no incident edges, we can omit the explicit call of the `add_node` function. If we add edges any node that does not exist already will be created and added automatically. If we want to check explicitly whether a node exists before creating and edge, we can test this with the `in` operator on the set of node UIDS available via `Network.nodes.uids`:"
   ]
  },
  {
   "cell_type": "code",
   "execution_count": null,
   "metadata": {
    "execution": {
     "iopub.execute_input": "2021-04-28T08:37:17.138880Z",
     "iopub.status.busy": "2021-04-28T08:37:17.138397Z",
     "iopub.status.idle": "2021-04-28T08:37:17.141186Z",
     "shell.execute_reply": "2021-04-28T08:37:17.140778Z"
    }
   },
   "outputs": [],
   "source": [
    "print('d' in n.nodes.uids)"
   ]
  },
  {
   "cell_type": "markdown",
   "metadata": {},
   "source": [
    "The following code will automatically add a new node `d`, along with a new edge from `d` to `a`."
   ]
  },
  {
   "cell_type": "code",
   "execution_count": null,
   "metadata": {
    "execution": {
     "iopub.execute_input": "2021-04-28T08:37:17.144526Z",
     "iopub.status.busy": "2021-04-28T08:37:17.144031Z",
     "iopub.status.idle": "2021-04-28T08:37:17.146497Z",
     "shell.execute_reply": "2021-04-28T08:37:17.146879Z"
    }
   },
   "outputs": [],
   "source": [
    "n.add_edge('c', 'd')\n",
    "n.add_edge('d', 'a')\n",
    "print(n)"
   ]
  },
  {
   "cell_type": "code",
   "execution_count": null,
   "metadata": {
    "execution": {
     "iopub.execute_input": "2021-04-28T08:37:17.149805Z",
     "iopub.status.busy": "2021-04-28T08:37:17.149322Z",
     "iopub.status.idle": "2021-04-28T08:37:17.152092Z",
     "shell.execute_reply": "2021-04-28T08:37:17.151638Z"
    }
   },
   "outputs": [],
   "source": [
    "print('d' in n.nodes.uids)"
   ]
  },
  {
   "cell_type": "markdown",
   "metadata": {},
   "source": [
    "To count the number of nodes and edges in a network we can use the `number_of_nodes` and `number_of_edges` functions, or we could can compute `len` of `Network.nodes` and `Network.edges`:"
   ]
  },
  {
   "cell_type": "code",
   "execution_count": null,
   "metadata": {
    "execution": {
     "iopub.execute_input": "2021-04-28T08:37:17.155545Z",
     "iopub.status.busy": "2021-04-28T08:37:17.155041Z",
     "iopub.status.idle": "2021-04-28T08:37:17.157972Z",
     "shell.execute_reply": "2021-04-28T08:37:17.157527Z"
    }
   },
   "outputs": [],
   "source": [
    "print('Network has {0} nodes and {1} edges'.format(n.number_of_nodes(), n.number_of_edges()))\n",
    "print('Number of nodes: {0}'.format(len(n.nodes)))\n",
    "print('Number of edges: {0}'.format(len(n.edges)))"
   ]
  },
  {
   "cell_type": "markdown",
   "metadata": {},
   "source": [
    "### Node and Edge objects\n",
    "\n",
    "In the simple example above, we generated nodes and edges by calling the `add_node` and `add_edge` function of the network instance. Internally, nodes and edges are represented as objects of type `Node` and `Edge` that can be referenced by one or more instances of type `Network`. Just like a `Network`, each instance of a `Node` and `Edge` has a UID. In the example above, `pathpy` has automatically created `Node` and `Edge` instances and has assigned the UIDs `a`, `b`, `c`, and `d` to those nodes. We can access those node objects via the node container `Network.nodes`. We can iterate through this dictionary to print a summary of all node objects referenced with a network object:"
   ]
  },
  {
   "cell_type": "code",
   "execution_count": null,
   "metadata": {
    "execution": {
     "iopub.execute_input": "2021-04-28T08:37:17.160942Z",
     "iopub.status.busy": "2021-04-28T08:37:17.160455Z",
     "iopub.status.idle": "2021-04-28T08:37:17.163610Z",
     "shell.execute_reply": "2021-04-28T08:37:17.163211Z"
    }
   },
   "outputs": [],
   "source": [
    "for v in n.nodes:\n",
    "    print(v)"
   ]
  },
  {
   "cell_type": "markdown",
   "metadata": {},
   "source": [
    "We can also use the uid of a node to access a specific node object in a network by using the uid as an index to the `nodes` container:"
   ]
  },
  {
   "cell_type": "code",
   "execution_count": null,
   "metadata": {
    "execution": {
     "iopub.execute_input": "2021-04-28T08:37:17.166551Z",
     "iopub.status.busy": "2021-04-28T08:37:17.166066Z",
     "iopub.status.idle": "2021-04-28T08:37:17.168886Z",
     "shell.execute_reply": "2021-04-28T08:37:17.168475Z"
    }
   },
   "outputs": [],
   "source": [
    "print(n.nodes['a'])"
   ]
  },
  {
   "cell_type": "markdown",
   "metadata": {},
   "source": [
    "Importantly, the same node object can be added to multiple networks (which comes in handy if, for instance, we want to store that the same set of nodes is connected via different network topologies). Above, we have created a second (so far empty) undirected network. We can now add the node object with uid `a` to this network as follows:"
   ]
  },
  {
   "cell_type": "code",
   "execution_count": null,
   "metadata": {
    "execution": {
     "iopub.execute_input": "2021-04-28T08:37:17.171973Z",
     "iopub.status.busy": "2021-04-28T08:37:17.171500Z",
     "iopub.status.idle": "2021-04-28T08:37:17.174229Z",
     "shell.execute_reply": "2021-04-28T08:37:17.173769Z"
    }
   },
   "outputs": [],
   "source": [
    "n2.add_node(n.nodes['a'])\n",
    "print(n2)"
   ]
  },
  {
   "cell_type": "markdown",
   "metadata": {},
   "source": [
    "While a node object can be added to multiple network objects, each network can contain only a single node with a given uid, so uncommenting the following line should raise an exception:"
   ]
  },
  {
   "cell_type": "code",
   "execution_count": null,
   "metadata": {
    "execution": {
     "iopub.execute_input": "2021-04-28T08:37:17.177027Z",
     "iopub.status.busy": "2021-04-28T08:37:17.176544Z",
     "iopub.status.idle": "2021-04-28T08:37:17.178784Z",
     "shell.execute_reply": "2021-04-28T08:37:17.178332Z"
    }
   },
   "outputs": [],
   "source": [
    "# n.add_node('a')"
   ]
  },
  {
   "cell_type": "markdown",
   "metadata": {},
   "source": [
    "Similar to `nodes`, the `edges` container of the network contains all edges of a network and each edge is actually stored as an `Edge` object. Let us iterate through the edges container of network `n` to better understand this:"
   ]
  },
  {
   "cell_type": "code",
   "execution_count": null,
   "metadata": {
    "execution": {
     "iopub.execute_input": "2021-04-28T08:37:17.181870Z",
     "iopub.status.busy": "2021-04-28T08:37:17.181365Z",
     "iopub.status.idle": "2021-04-28T08:37:17.184846Z",
     "shell.execute_reply": "2021-04-28T08:37:17.184390Z"
    }
   },
   "outputs": [],
   "source": [
    "for e in n.edges:\n",
    "    print('---')\n",
    "    print(e)"
   ]
  },
  {
   "cell_type": "markdown",
   "metadata": {},
   "source": [
    "We see that the edge container contains one `Edge` object instance for each edge that we added before. Each `Edge` has again a unique identifier, which has been automatically created in our example above. Just like for `Node` or `Network` objects, we can manually create an edge object with a custom UID that connects the two nodes `a` and `b` as follows:"
   ]
  },
  {
   "cell_type": "code",
   "execution_count": null,
   "metadata": {
    "execution": {
     "iopub.execute_input": "2021-04-28T08:37:17.188072Z",
     "iopub.status.busy": "2021-04-28T08:37:17.187585Z",
     "iopub.status.idle": "2021-04-28T08:37:17.190642Z",
     "shell.execute_reply": "2021-04-28T08:37:17.190193Z"
    }
   },
   "outputs": [],
   "source": [
    "edge = pp.Edge(v=n.nodes['a'], w=n.nodes['b'], uid='MyEdge')\n",
    "print(edge)"
   ]
  },
  {
   "cell_type": "markdown",
   "metadata": {},
   "source": [
    "This `Edge` object has a different UID than the existing edge betwee node `a` and `b`, which is why we can add it to network `n` even though this network already contains an edge (with a different UID) between nodes `a` and `b`:"
   ]
  },
  {
   "cell_type": "code",
   "execution_count": null,
   "metadata": {
    "execution": {
     "iopub.execute_input": "2021-04-28T08:37:17.193707Z",
     "iopub.status.busy": "2021-04-28T08:37:17.193222Z",
     "iopub.status.idle": "2021-04-28T08:37:17.195696Z",
     "shell.execute_reply": "2021-04-28T08:37:17.196067Z"
    }
   },
   "outputs": [],
   "source": [
    "n.add_edge(edge)\n",
    "print(n)"
   ]
  },
  {
   "cell_type": "markdown",
   "metadata": {},
   "source": [
    "The summary of the network confirms that the network now contains five edges (between four pairs of nodes). This native support for multi-edge networks is an important feature of `pathpy`. It also means that every pair of nodes can be connected by more than one edge. We can access those edges via the `Network.edges` container in multiple ways. First, we can simply iterate through the edge objects as shown before. Second, we can directly access an `Edge` with a given UID as follows:"
   ]
  },
  {
   "cell_type": "code",
   "execution_count": null,
   "metadata": {
    "execution": {
     "iopub.execute_input": "2021-04-28T08:37:17.199012Z",
     "iopub.status.busy": "2021-04-28T08:37:17.198528Z",
     "iopub.status.idle": "2021-04-28T08:37:17.201347Z",
     "shell.execute_reply": "2021-04-28T08:37:17.200892Z"
    }
   },
   "outputs": [],
   "source": [
    "print(n.edges['MyEdge'])"
   ]
  },
  {
   "cell_type": "markdown",
   "metadata": {},
   "source": [
    "Finally, we often want to access those edges that connect a specific pair of nodes. We can thus alternatively pass a pair of node uids as index to `Network.edges`. Since multiple edges between the same pair of nodes are possible, this generally returns a list of Edge objects, which - in the case of the node pair `a` and `b` - contains two different edge objects with different UIDs."
   ]
  },
  {
   "cell_type": "code",
   "execution_count": null,
   "metadata": {
    "execution": {
     "iopub.execute_input": "2021-04-28T08:37:17.204319Z",
     "iopub.status.busy": "2021-04-28T08:37:17.203829Z",
     "iopub.status.idle": "2021-04-28T08:37:17.206679Z",
     "shell.execute_reply": "2021-04-28T08:37:17.206275Z"
    }
   },
   "outputs": [],
   "source": [
    "print(n.edges['b', 'a'])"
   ]
  },
  {
   "cell_type": "markdown",
   "metadata": {},
   "source": [
    "We can access the degrees of nodes, i.e. the number of other nodes to which a node is connected, via the `degrees()` function of the Network. The degrees() function gives the undirected degree (i.e. irrespective of the directionality of an edge), while the `indegrees()` and `outdegrees()` functions give the degrees in a directed network (i.e. to how many other nodes the edges of a node point of from how many other nodes edges point to the given node).\n",
    "\n",
    "All of those functions return a dictionary that can be indexed via the unique node ids. In the case of a multi-edge network, the degree counts multiple edges to the same neighbor, which is why the degree of node `a` in the network above is 3:"
   ]
  },
  {
   "cell_type": "code",
   "execution_count": null,
   "metadata": {
    "execution": {
     "iopub.execute_input": "2021-04-28T08:37:17.210011Z",
     "iopub.status.busy": "2021-04-28T08:37:17.209482Z",
     "iopub.status.idle": "2021-04-28T08:37:17.212520Z",
     "shell.execute_reply": "2021-04-28T08:37:17.212065Z"
    }
   },
   "outputs": [],
   "source": [
    "n.degrees()['a']"
   ]
  },
  {
   "cell_type": "markdown",
   "metadata": {},
   "source": [
    "We can also remove nodes or edges. A network can contain isolated nodes (i.e. nodes with no incident edges), while it can (obviously) only contain edges between nodes that exist in the network. \n",
    "\n",
    "To ensure this constraint, a call to `remove_node` will also remove all edges that are incident to the removed node, i.e. if we remove node `a` the `Edge` object with uid `MyEdge` will be removed from the network (along with two additional edges (a,b) and (a,d)):"
   ]
  },
  {
   "cell_type": "code",
   "execution_count": null,
   "metadata": {
    "execution": {
     "iopub.execute_input": "2021-04-28T08:37:17.215811Z",
     "iopub.status.busy": "2021-04-28T08:37:17.215315Z",
     "iopub.status.idle": "2021-04-28T08:37:17.218227Z",
     "shell.execute_reply": "2021-04-28T08:37:17.217828Z"
    }
   },
   "outputs": [],
   "source": [
    "n.remove_node('a')\n",
    "print('MyEdge' in n.edges.uids)\n",
    "print(n)"
   ]
  },
  {
   "cell_type": "markdown",
   "metadata": {},
   "source": [
    "A call to `remove_edge` on the other hand does not remove the nodes incident to the removed edge, thus possibly leaving isolated nodes. If we remove the edge from `b` to `c` this will leave an isolated node `b`, which is still in the network:"
   ]
  },
  {
   "cell_type": "code",
   "execution_count": null,
   "metadata": {
    "execution": {
     "iopub.execute_input": "2021-04-28T08:37:17.221648Z",
     "iopub.status.busy": "2021-04-28T08:37:17.221152Z",
     "iopub.status.idle": "2021-04-28T08:37:17.224119Z",
     "shell.execute_reply": "2021-04-28T08:37:17.223724Z"
    }
   },
   "outputs": [],
   "source": [
    "n.remove_edge('b', 'c')\n",
    "print('b' in n.nodes.uids)\n",
    "print(n.nodes['b'])\n",
    "print(n)"
   ]
  },
  {
   "cell_type": "markdown",
   "metadata": {},
   "source": [
    "Note that we can either remove a specific edge between a pair of nodes or all edges between a pair of nodes. To better understand this, let us create three different edges between two nodes 'x' and 'y' and add them to a network. To simplify the construction of networks, we can use the functions `add_nodes` and `add_edges` which add multiple nodes and edges at a time:"
   ]
  },
  {
   "cell_type": "code",
   "execution_count": null,
   "metadata": {
    "execution": {
     "iopub.execute_input": "2021-04-28T08:37:17.228666Z",
     "iopub.status.busy": "2021-04-28T08:37:17.228172Z",
     "iopub.status.idle": "2021-04-28T08:37:17.231258Z",
     "shell.execute_reply": "2021-04-28T08:37:17.230815Z"
    }
   },
   "outputs": [],
   "source": [
    "n3 = pp.Network(multiedges=True)\n",
    "n3.add_nodes('x', 'y')\n",
    "e1 = pp.Edge(n3.nodes['x'], n3.nodes['y'], uid='edge1')\n",
    "e2 = pp.Edge(n3.nodes['x'], n3.nodes['y'], uid='edge2')\n",
    "e3 = pp.Edge(n3.nodes['x'], n3.nodes['y'], uid='edge3')\n",
    "n3.add_edges(e1, e2, e3)\n",
    "print(n3)"
   ]
  },
  {
   "cell_type": "markdown",
   "metadata": {},
   "source": [
    "If we only remove the single edge with uid `edge2` between `x` and `y`, we can call:"
   ]
  },
  {
   "cell_type": "code",
   "execution_count": null,
   "metadata": {
    "execution": {
     "iopub.execute_input": "2021-04-28T08:37:17.234317Z",
     "iopub.status.busy": "2021-04-28T08:37:17.233832Z",
     "iopub.status.idle": "2021-04-28T08:37:17.236663Z",
     "shell.execute_reply": "2021-04-28T08:37:17.236211Z"
    }
   },
   "outputs": [],
   "source": [
    "n3.remove_edge('edge2')\n",
    "print(n3.edges['x', 'y'])"
   ]
  },
  {
   "cell_type": "markdown",
   "metadata": {},
   "source": [
    "At the same time, we can remove all edges between `x` and `y` by calling:"
   ]
  },
  {
   "cell_type": "code",
   "execution_count": null,
   "metadata": {
    "execution": {
     "iopub.execute_input": "2021-04-28T08:37:17.239889Z",
     "iopub.status.busy": "2021-04-28T08:37:17.239408Z",
     "iopub.status.idle": "2021-04-28T08:37:17.242208Z",
     "shell.execute_reply": "2021-04-28T08:37:17.241760Z"
    }
   },
   "outputs": [],
   "source": [
    "n3.remove_edge('x', 'y')\n",
    "print(n3.edges['x', 'y'])"
   ]
  },
  {
   "cell_type": "markdown",
   "metadata": {},
   "source": [
    "## Networks, Nodes and Edges with attributes\n",
    "\n",
    "You may wonder why `pathpy` stores nodes and edges as objects rather than as simple strings or numbers. The reason is that we often want to use networks to model relational data that contains additional information on nodes, edges, or networks. To support this, all `pathpy` objects can store arbitrary key-value data in the form of attributes. Let's explore this in a toy example for a social network:"
   ]
  },
  {
   "cell_type": "code",
   "execution_count": null,
   "metadata": {
    "execution": {
     "iopub.execute_input": "2021-04-28T08:37:17.246125Z",
     "iopub.status.busy": "2021-04-28T08:37:17.245638Z",
     "iopub.status.idle": "2021-04-28T08:37:17.248643Z",
     "shell.execute_reply": "2021-04-28T08:37:17.248199Z"
    }
   },
   "outputs": [],
   "source": [
    "trolls = pp.Network(uid='Trolls')\n",
    "trolls.add_node('t')\n",
    "trolls.add_node('b')\n",
    "trolls.add_node('w')\n",
    "trolls.add_edge('t', 'b', uid='t-b')\n",
    "trolls.add_edge('t', 'w', uid='t-w')\n",
    "print(trolls)"
   ]
  },
  {
   "cell_type": "markdown",
   "metadata": {},
   "source": []
  },
  {
   "cell_type": "code",
   "execution_count": null,
   "metadata": {
    "execution": {
     "iopub.execute_input": "2021-04-28T08:37:17.252314Z",
     "iopub.status.busy": "2021-04-28T08:37:17.251865Z",
     "iopub.status.idle": "2021-04-28T08:37:17.254155Z",
     "shell.execute_reply": "2021-04-28T08:37:17.253698Z"
    }
   },
   "outputs": [],
   "source": [
    "trolls.nodes['t']['name'] = 'Tom'\n",
    "trolls.nodes['t']['age'] = 156\n",
    "\n",
    "trolls.nodes['b']['name'] = 'Bert'\n",
    "trolls.nodes['b']['age'] = 96\n",
    "\n",
    "trolls.nodes['w']['name'] = 'William'\n",
    "trolls.nodes['w']['age'] = 323"
   ]
  },
  {
   "cell_type": "markdown",
   "metadata": {},
   "source": [
    "Just like nodes, `Edge` objects can store arbitrary attributes that we can read and write via the `edges` dictionary in the `Network` class. We can store attributes as follows:"
   ]
  },
  {
   "cell_type": "code",
   "execution_count": null,
   "metadata": {
    "execution": {
     "iopub.execute_input": "2021-04-28T08:37:17.257519Z",
     "iopub.status.busy": "2021-04-28T08:37:17.257070Z",
     "iopub.status.idle": "2021-04-28T08:37:17.258979Z",
     "shell.execute_reply": "2021-04-28T08:37:17.259355Z"
    }
   },
   "outputs": [],
   "source": [
    "trolls.edges['t-b']['strength'] = 2.0\n",
    "trolls.edges['t-b']['type'] = 'like'\n",
    "\n",
    "trolls.edges['t-w']['strength'] = 5.0\n",
    "trolls.edges['t-w']['type'] = 'dislike'"
   ]
  },
  {
   "cell_type": "code",
   "execution_count": null,
   "metadata": {
    "execution": {
     "iopub.execute_input": "2021-04-28T08:37:17.262350Z",
     "iopub.status.busy": "2021-04-28T08:37:17.261850Z",
     "iopub.status.idle": "2021-04-28T08:37:17.264719Z",
     "shell.execute_reply": "2021-04-28T08:37:17.264272Z"
    }
   },
   "outputs": [],
   "source": [
    "print(trolls.edges['t-b'].attributes)\n",
    "print(trolls.edges['t-w'].attributes)"
   ]
  },
  {
   "cell_type": "markdown",
   "metadata": {},
   "source": [
    "Numerical properties of edges are often used to store the strength or weight of interactions in a system. Such numerical property can also be considered in the degree calculation. Above, we have a directed network, so we can use the `indegrees()` and `outdegrees()` function to access the directed degrees of nodes. In our example, Tom has an outdegree of two since there are two directed edges to Bert and William:"
   ]
  },
  {
   "cell_type": "code",
   "execution_count": null,
   "metadata": {
    "execution": {
     "iopub.execute_input": "2021-04-28T08:37:17.268054Z",
     "iopub.status.busy": "2021-04-28T08:37:17.267514Z",
     "iopub.status.idle": "2021-04-28T08:37:17.270695Z",
     "shell.execute_reply": "2021-04-28T08:37:17.270241Z"
    }
   },
   "outputs": [],
   "source": [
    "trolls.outdegrees()['t']"
   ]
  },
  {
   "cell_type": "code",
   "execution_count": null,
   "metadata": {
    "execution": {
     "iopub.execute_input": "2021-04-28T08:37:17.273955Z",
     "iopub.status.busy": "2021-04-28T08:37:17.273401Z",
     "iopub.status.idle": "2021-04-28T08:37:17.276394Z",
     "shell.execute_reply": "2021-04-28T08:37:17.275946Z"
    }
   },
   "outputs": [],
   "source": [
    "trolls.outdegrees()['b']"
   ]
  },
  {
   "cell_type": "markdown",
   "metadata": {},
   "source": [
    "To additionally consider numerical attributes in the degree calculation, we can use the weight parameter of the degrees(), indegrees() or outdegrees() functions. To calculate the total strength of all outgoing edges from Tom we can write:"
   ]
  },
  {
   "cell_type": "code",
   "execution_count": null,
   "metadata": {
    "execution": {
     "iopub.execute_input": "2021-04-28T08:37:17.279795Z",
     "iopub.status.busy": "2021-04-28T08:37:17.279251Z",
     "iopub.status.idle": "2021-04-28T08:37:17.281997Z",
     "shell.execute_reply": "2021-04-28T08:37:17.282382Z"
    }
   },
   "outputs": [],
   "source": [
    "trolls.outdegrees(weight='strength')['t']"
   ]
  },
  {
   "cell_type": "markdown",
   "metadata": {},
   "source": [
    "Finally, apart from node and edge attributes we can also store attributes at the network-level:"
   ]
  },
  {
   "cell_type": "code",
   "execution_count": null,
   "metadata": {
    "execution": {
     "iopub.execute_input": "2021-04-28T08:37:17.285342Z",
     "iopub.status.busy": "2021-04-28T08:37:17.284860Z",
     "iopub.status.idle": "2021-04-28T08:37:17.287728Z",
     "shell.execute_reply": "2021-04-28T08:37:17.287325Z"
    }
   },
   "outputs": [],
   "source": [
    "trolls['chapter'] = 'Roast Mutton'\n",
    "print(trolls.attributes)"
   ]
  },
  {
   "cell_type": "markdown",
   "metadata": {},
   "source": [
    "Apart from using the attribute dictionary, we can directly assign attributes when we create nodes, edges, or networks. For this, we simply pass key/value parameters to the constuctor of the corresponding objects or to the `add_node` and `add_edge` functions. An equivalent way to create the network above would thus be:"
   ]
  },
  {
   "cell_type": "code",
   "execution_count": null,
   "metadata": {
    "execution": {
     "iopub.execute_input": "2021-04-28T08:37:17.293562Z",
     "iopub.status.busy": "2021-04-28T08:37:17.293062Z",
     "iopub.status.idle": "2021-04-28T08:37:17.297000Z",
     "shell.execute_reply": "2021-04-28T08:37:17.296600Z"
    }
   },
   "outputs": [],
   "source": [
    "trolls = pp.Network(multiedges=True,name='Trolls', chapter='Roast Mutton')\n",
    "tom = pp.Node(uid='t', name='Tom', age=156)\n",
    "bert = pp.Node(uid='b', name='Bert', age=96)\n",
    "william = pp.Node(uid='w', name='William', age=323)\n",
    "e1 = pp.Edge(tom, bert, type='like', strength=2.0)\n",
    "e2 = pp.Edge(tom, william, type='dislike', strength=5.0)\n",
    "trolls.add_edge(e1)\n",
    "trolls.add_edge(e2)\n",
    "print('---\\nNetwork attributes')\n",
    "print(trolls.attributes)\n",
    "print('---\\nNode attributes')\n",
    "for v in trolls.nodes:\n",
    "    print(v, v.attributes)\n",
    "print('---\\nEdge attributes')\n",
    "for e in trolls.edges:\n",
    "    print(e, e.attributes)"
   ]
  },
  {
   "cell_type": "markdown",
   "metadata": {},
   "source": [
    "## Adjacency matrices\n",
    "\n",
    "As we will see in more detail next week, adjacency matrices are an important mathematical representation of networks. The topology of a matrix is represented in terms of a matrix A, where an entry A[i,j]=1 indicates that an edge exists from the i-th to the j-th node of the network. The absendce of edges is encoded by zero entries. The size of an adjacency matrix representation of a network with n nodes is generally $n^2$, which is not suitable for networks with thousands or millions of nodes. `pathpy` nevertheless supports efficient adjacency matrix calculation for *sparse* networks, i.e. networks where the majority of node pairs are not connected by an edge. Instead of a fully populated matrix, a call to `Network.adjacency_matrix()` returns a *sparse matrix object*, i.e. an efficient representation of the indices and values of non-zero entries:"
   ]
  },
  {
   "cell_type": "code",
   "execution_count": null,
   "metadata": {
    "execution": {
     "iopub.execute_input": "2021-04-28T08:37:17.300646Z",
     "iopub.status.busy": "2021-04-28T08:37:17.300154Z",
     "iopub.status.idle": "2021-04-28T08:37:17.303045Z",
     "shell.execute_reply": "2021-04-28T08:37:17.302642Z"
    }
   },
   "outputs": [],
   "source": [
    "print(trolls.adjacency_matrix())"
   ]
  },
  {
   "cell_type": "markdown",
   "metadata": {},
   "source": [
    "We use the `csr_matrix` of the sparse linear algebra module in scipy, which means we can directly apply matrix algebra operations to sparse adjacency matrices. If we instead want a dense matrix that includes zero entries, we can write:"
   ]
  },
  {
   "cell_type": "code",
   "execution_count": null,
   "metadata": {
    "execution": {
     "iopub.execute_input": "2021-04-28T08:37:17.306686Z",
     "iopub.status.busy": "2021-04-28T08:37:17.306192Z",
     "iopub.status.idle": "2021-04-28T08:37:17.309043Z",
     "shell.execute_reply": "2021-04-28T08:37:17.308587Z"
    }
   },
   "outputs": [],
   "source": [
    "print(trolls.adjacency_matrix().todense())"
   ]
  },
  {
   "cell_type": "markdown",
   "metadata": {},
   "source": [
    "The adjacency matrix entries above shows that two edges from Tom to Bert and from Tom to William exist. Moreover, the fact that the matrix is assymetric tells us that this is a directed network. By default, a binary matrix representation is returned where entries store the presence or absence of edges as 0 or 1 entries. If we want to use numerical attributes of edges instead, we can again pass the name of a numerical attribute that should be used as edge `weight`:"
   ]
  },
  {
   "cell_type": "code",
   "execution_count": null,
   "metadata": {
    "execution": {
     "iopub.execute_input": "2021-04-28T08:37:17.312650Z",
     "iopub.status.busy": "2021-04-28T08:37:17.312157Z",
     "iopub.status.idle": "2021-04-28T08:37:17.315017Z",
     "shell.execute_reply": "2021-04-28T08:37:17.314563Z"
    }
   },
   "outputs": [],
   "source": [
    "print(trolls.adjacency_matrix(weight='strength').todense())"
   ]
  },
  {
   "cell_type": "markdown",
   "metadata": {},
   "source": [
    "How does `pathpy` populate adjaecency matrices if the network contains multiple edges between the same pair of nodes? Let's try this by creating another edge between Tom and Bert, and let's further add a strength attribute:"
   ]
  },
  {
   "cell_type": "code",
   "execution_count": null,
   "metadata": {
    "execution": {
     "iopub.execute_input": "2021-04-28T08:37:17.318384Z",
     "iopub.status.busy": "2021-04-28T08:37:17.317874Z",
     "iopub.status.idle": "2021-04-28T08:37:17.320760Z",
     "shell.execute_reply": "2021-04-28T08:37:17.320315Z"
    }
   },
   "outputs": [],
   "source": [
    "e3 = pp.Edge(tom, bert, type='sibling', strength=42.0)\n",
    "trolls.add_edge(e3)\n",
    "print(trolls)"
   ]
  },
  {
   "cell_type": "markdown",
   "metadata": {},
   "source": [
    "If we now generate an adjacency matrix, the entries contain the *number of different edge objects* between pairs of nodes:"
   ]
  },
  {
   "cell_type": "code",
   "execution_count": null,
   "metadata": {
    "execution": {
     "iopub.execute_input": "2021-04-28T08:37:17.324848Z",
     "iopub.status.busy": "2021-04-28T08:37:17.324289Z",
     "iopub.status.idle": "2021-04-28T08:37:17.327318Z",
     "shell.execute_reply": "2021-04-28T08:37:17.326861Z"
    }
   },
   "outputs": [],
   "source": [
    "trolls.adjacency_matrix().todense()"
   ]
  },
  {
   "cell_type": "markdown",
   "metadata": {},
   "source": [
    "If we use a numerical attribute to calculate the matrix entries in such a network, the attributes of all edges between the same pair of nodes is automatically summed:"
   ]
  },
  {
   "cell_type": "code",
   "execution_count": null,
   "metadata": {
    "execution": {
     "iopub.execute_input": "2021-04-28T08:37:17.331285Z",
     "iopub.status.busy": "2021-04-28T08:37:17.330732Z",
     "iopub.status.idle": "2021-04-28T08:37:17.333968Z",
     "shell.execute_reply": "2021-04-28T08:37:17.333512Z"
    }
   },
   "outputs": [],
   "source": [
    "trolls.adjacency_matrix(weight='strength').todense()"
   ]
  }
 ],
 "metadata": {
  "celltoolbar": "Tags",
  "kernelspec": {
   "display_name": "Python 3",
   "language": "python",
   "name": "python3"
  },
  "language_info": {
   "codemirror_mode": {
    "name": "ipython",
    "version": 3
   },
   "file_extension": ".py",
   "mimetype": "text/x-python",
   "name": "python",
   "nbconvert_exporter": "python",
   "pygments_lexer": "ipython3",
   "version": "3.9.3"
  }
 },
 "nbformat": 4,
 "nbformat_minor": 4
}
