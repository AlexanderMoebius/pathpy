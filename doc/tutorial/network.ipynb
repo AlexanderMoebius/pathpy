{
 "cells": [
  {
   "cell_type": "raw",
   "metadata": {},
   "source": [
    ".. _network_tutorial:\n",
    "\n",
    ".. currentmodule:: pathpy"
   ]
  },
  {
   "cell_type": "raw",
   "metadata": {},
   "source": [
    "Some standard network functions\n",
    "===============================\n",
    ".. raw:: html\n",
    "\n",
    "   <div class=col-md-9>"
   ]
  },
  {
   "cell_type": "raw",
   "metadata": {},
   "source": [
    "Lorem ipsum dolor sit amet, consetetur sadipscing elitr, sed diam nonumy eirmod tempor invidunt ut labore et dolore magna aliquyam erat, sed diam voluptua. At vero eos et accusam et justo duo dolores et ea rebum. Stet clita kasd gubergren, no sea takimata sanctus est Lorem ipsum dolor sit amet. Lorem ipsum dolor sit amet, consetetur sadipscing elitr, sed diam nonumy eirmod tempor invidunt ut labore et dolore magna aliquyam erat, sed diam voluptua. At vero eos et accusam et justo duo dolores et ea rebum. Stet clita kasd gubergren, no sea takimata sanctus est Lorem ipsum dolor sit amet."
   ]
  },
  {
   "cell_type": "code",
   "execution_count": null,
   "metadata": {
    "execution": {
     "iopub.execute_input": "2021-04-27T12:27:20.696329Z",
     "iopub.status.busy": "2021-04-27T12:27:20.695647Z",
     "iopub.status.idle": "2021-04-27T12:27:20.850799Z",
     "shell.execute_reply": "2021-04-27T12:27:20.851252Z"
    }
   },
   "outputs": [],
   "source": [
    "import numpy as np"
   ]
  },
  {
   "cell_type": "code",
   "execution_count": null,
   "metadata": {
    "execution": {
     "iopub.execute_input": "2021-04-27T12:27:20.858449Z",
     "iopub.status.busy": "2021-04-27T12:27:20.857889Z",
     "iopub.status.idle": "2021-04-27T12:27:20.860547Z",
     "shell.execute_reply": "2021-04-27T12:27:20.861006Z"
    }
   },
   "outputs": [],
   "source": [
    "1+np.sqrt(20)"
   ]
  },
  {
   "cell_type": "raw",
   "metadata": {},
   "source": [
    "More details\n",
    "------------\n",
    "\n",
    "Lorem ipsum dolor sit amet, consetetur sadipscing elitr, sed diam nonumy eirmod tempor invidunt ut labore et dolore magna aliquyam erat, sed diam voluptua. At vero eos et accusam et justo duo dolores et ea rebum. Stet clita kasd gubergren, no sea takimata sanctus est Lorem ipsum dolor sit amet. Lorem ipsum dolor sit amet, consetetur sadipscing elitr, sed diam nonumy eirmod tempor invidunt ut labore et dolore magna aliquyam erat, sed diam voluptua. At vero eos et accusam et justo duo dolores et ea rebum. Stet clita kasd gubergren, no sea takimata sanctus est Lorem ipsum dolor sit amet."
   ]
  },
  {
   "cell_type": "code",
   "execution_count": null,
   "metadata": {
    "execution": {
     "iopub.execute_input": "2021-04-27T12:27:20.863624Z",
     "iopub.status.busy": "2021-04-27T12:27:20.863206Z",
     "iopub.status.idle": "2021-04-27T12:27:20.865106Z",
     "shell.execute_reply": "2021-04-27T12:27:20.865588Z"
    }
   },
   "outputs": [],
   "source": [
    "8*8"
   ]
  },
  {
   "cell_type": "raw",
   "metadata": {},
   "source": [
    ".. raw:: html\n",
    "\n",
    "   </div>"
   ]
  }
 ],
 "metadata": {
  "kernelspec": {
   "display_name": "Python 3",
   "language": "python",
   "name": "python3"
  },
  "language_info": {
   "codemirror_mode": {
    "name": "ipython",
    "version": 3
   },
   "file_extension": ".py",
   "mimetype": "text/x-python",
   "name": "python",
   "nbconvert_exporter": "python",
   "pygments_lexer": "ipython3",
   "version": "3.8.5"
  }
 },
 "nbformat": 4,
 "nbformat_minor": 2
}
