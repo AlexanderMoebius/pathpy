{
 "cells": [
  {
   "cell_type": "markdown",
   "metadata": {},
   "source": [
    "# Simulating Random Walk Processes in Networks"
   ]
  },
  {
   "cell_type": "code",
   "execution_count": null,
   "metadata": {
    "execution": {
     "iopub.execute_input": "2021-04-27T12:28:16.092434Z",
     "iopub.status.busy": "2021-04-27T12:28:16.091701Z",
     "iopub.status.idle": "2021-04-27T12:28:17.026519Z",
     "shell.execute_reply": "2021-04-27T12:28:17.027025Z"
    }
   },
   "outputs": [],
   "source": [
    "import pathpy as pp\n",
    "from pprint import pprint"
   ]
  },
  {
   "cell_type": "markdown",
   "metadata": {},
   "source": [
    "We first generate a directed network with weighted edges:"
   ]
  },
  {
   "cell_type": "code",
   "execution_count": null,
   "metadata": {
    "execution": {
     "iopub.execute_input": "2021-04-27T12:28:17.031418Z",
     "iopub.status.busy": "2021-04-27T12:28:17.030921Z",
     "iopub.status.idle": "2021-04-27T12:28:17.032701Z",
     "shell.execute_reply": "2021-04-27T12:28:17.033197Z"
    }
   },
   "outputs": [],
   "source": [
    "n = pp.Network(directed=False)\n",
    "n.add_edge('a', 'b', weight=1, uid='a-b')\n",
    "n.add_edge('b', 'c', weight=1, uid='b-c')\n",
    "n.add_edge('c', 'a', weight=2, uid='c-a')\n",
    "n.add_edge('c', 'd', weight=1, uid='c-d')\n",
    "n.add_edge('d', 'a', weight=1, uid='d-a')"
   ]
  },
  {
   "cell_type": "markdown",
   "metadata": {},
   "source": [
    "To initialize a random walk process, we can generate a `RandomWalk` instance on the network. Specifying the `weight` attribute will lead to a biased random walk, where the transition probabilities are weighted by the respective numerical property:"
   ]
  },
  {
   "cell_type": "code",
   "execution_count": null,
   "metadata": {
    "execution": {
     "iopub.execute_input": "2021-04-27T12:28:17.038595Z",
     "iopub.status.busy": "2021-04-27T12:28:17.038059Z",
     "iopub.status.idle": "2021-04-27T12:28:17.041050Z",
     "shell.execute_reply": "2021-04-27T12:28:17.041389Z"
    }
   },
   "outputs": [],
   "source": [
    "rw = pp.processes.RandomWalk(n, weight='weight')"
   ]
  },
  {
   "cell_type": "markdown",
   "metadata": {},
   "source": [
    "We can inspect the transition matrix of the random walk process as follows. Using the function `matrix_pd` will return the matrix as a (nicely formatted) pandas DataFrame, while `matrix` returns the internal sparse matrix representation."
   ]
  },
  {
   "cell_type": "code",
   "execution_count": null,
   "metadata": {
    "execution": {
     "iopub.execute_input": "2021-04-27T12:28:17.046750Z",
     "iopub.status.busy": "2021-04-27T12:28:17.046210Z",
     "iopub.status.idle": "2021-04-27T12:28:17.048061Z",
     "shell.execute_reply": "2021-04-27T12:28:17.048530Z"
    }
   },
   "outputs": [],
   "source": [
    "print(rw.matrix_pd())"
   ]
  },
  {
   "cell_type": "code",
   "execution_count": null,
   "metadata": {
    "execution": {
     "iopub.execute_input": "2021-04-27T12:28:17.051081Z",
     "iopub.status.busy": "2021-04-27T12:28:17.050602Z",
     "iopub.status.idle": "2021-04-27T12:28:17.052163Z",
     "shell.execute_reply": "2021-04-27T12:28:17.052587Z"
    }
   },
   "outputs": [],
   "source": [
    "pprint(rw.matrix)"
   ]
  },
  {
   "cell_type": "markdown",
   "metadata": {},
   "source": [
    "We can use the method `generate_walk` of the random walk instance to generate a random walk with a given length. If we specify `start_node`, the walk will start from the given node object. The method returns a `Path` object."
   ]
  },
  {
   "cell_type": "code",
   "execution_count": null,
   "metadata": {
    "execution": {
     "iopub.execute_input": "2021-04-27T12:28:17.055575Z",
     "iopub.status.busy": "2021-04-27T12:28:17.055167Z",
     "iopub.status.idle": "2021-04-27T12:28:17.056924Z",
     "shell.execute_reply": "2021-04-27T12:28:17.057360Z"
    }
   },
   "outputs": [],
   "source": [
    "p = rw.generate_walk(steps=10, start_node=n.nodes['a'])\n",
    "print(p)\n",
    "pprint([v.uid for v in p.nodes ]) "
   ]
  },
  {
   "cell_type": "markdown",
   "metadata": {},
   "source": [
    "If we omit the `start_node` argument, a random node will be chosen as start node."
   ]
  },
  {
   "cell_type": "code",
   "execution_count": null,
   "metadata": {
    "execution": {
     "iopub.execute_input": "2021-04-27T12:28:17.060390Z",
     "iopub.status.busy": "2021-04-27T12:28:17.059900Z",
     "iopub.status.idle": "2021-04-27T12:28:17.061530Z",
     "shell.execute_reply": "2021-04-27T12:28:17.062023Z"
    }
   },
   "outputs": [],
   "source": [
    "p = rw.generate_walk(steps=10)\n",
    "print(p)\n",
    "pprint([v.uid for v in p.nodes ]) "
   ]
  },
  {
   "cell_type": "markdown",
   "metadata": {},
   "source": [
    "We can generate a `PathCollection` that contains a given number of random walks with a given length specified by `steps_per_walk`. If the `start_nodes` argument is a numeric, the given number of walks will be generated, each walk starting from a random node."
   ]
  },
  {
   "cell_type": "code",
   "execution_count": null,
   "metadata": {
    "execution": {
     "iopub.execute_input": "2021-04-27T12:28:17.065896Z",
     "iopub.status.busy": "2021-04-27T12:28:17.065379Z",
     "iopub.status.idle": "2021-04-27T12:28:17.067210Z",
     "shell.execute_reply": "2021-04-27T12:28:17.067696Z"
    }
   },
   "outputs": [],
   "source": [
    "pc = rw.generate_walks(steps_per_walk=10, start_nodes=2)\n",
    "for p in pc:\n",
    "    print([ v.uid for v in p.nodes ])"
   ]
  },
  {
   "cell_type": "markdown",
   "metadata": {},
   "source": [
    "If `start_nodes` is a list of `Node` objects, a single random walk will be generated for each start node. To generate a single random walk starting in each node of the network, we can write:"
   ]
  },
  {
   "cell_type": "code",
   "execution_count": null,
   "metadata": {
    "execution": {
     "iopub.execute_input": "2021-04-27T12:28:17.071756Z",
     "iopub.status.busy": "2021-04-27T12:28:17.071327Z",
     "iopub.status.idle": "2021-04-27T12:28:17.072881Z",
     "shell.execute_reply": "2021-04-27T12:28:17.073305Z"
    }
   },
   "outputs": [],
   "source": [
    "pc = rw.generate_walks(steps_per_walk=10, start_nodes=n.nodes)\n",
    "for p in pc:\n",
    "    print([ v.uid for v in p.nodes ])"
   ]
  },
  {
   "cell_type": "markdown",
   "metadata": {},
   "source": [
    "We can also use an iterator interface to iteratively perform random walk steps. I neach step, we can assess the current state of the random walk at time t."
   ]
  },
  {
   "cell_type": "code",
   "execution_count": null,
   "metadata": {
    "execution": {
     "iopub.execute_input": "2021-04-27T12:28:17.076490Z",
     "iopub.status.busy": "2021-04-27T12:28:17.076083Z",
     "iopub.status.idle": "2021-04-27T12:28:17.081392Z",
     "shell.execute_reply": "2021-04-27T12:28:17.081801Z"
    }
   },
   "outputs": [],
   "source": [
    "for v in rw.walk(10, start_node=n.nodes['a']):\n",
    "    print('Current node = {0}'.format(v))\n",
    "    print('Current time = {0}'.format(rw.t))\n",
    "    print(rw.visitation_frequencies())"
   ]
  },
  {
   "cell_type": "markdown",
   "metadata": {},
   "source": [
    "The visitation probabilities after t steps for a given start node can be computed using the `visitation_probabilities` function."
   ]
  },
  {
   "cell_type": "code",
   "execution_count": null,
   "metadata": {
    "execution": {
     "iopub.execute_input": "2021-04-27T12:28:17.084585Z",
     "iopub.status.busy": "2021-04-27T12:28:17.083982Z",
     "iopub.status.idle": "2021-04-27T12:28:17.086604Z",
     "shell.execute_reply": "2021-04-27T12:28:17.087010Z"
    }
   },
   "outputs": [],
   "source": [
    "rw.visitation_probabilities(0, start_node=n.nodes['a'])"
   ]
  },
  {
   "cell_type": "code",
   "execution_count": null,
   "metadata": {
    "execution": {
     "iopub.execute_input": "2021-04-27T12:28:17.090373Z",
     "iopub.status.busy": "2021-04-27T12:28:17.089940Z",
     "iopub.status.idle": "2021-04-27T12:28:17.092086Z",
     "shell.execute_reply": "2021-04-27T12:28:17.092496Z"
    }
   },
   "outputs": [],
   "source": [
    "rw.visitation_probabilities(1, start_node=n.nodes['a'])"
   ]
  },
  {
   "cell_type": "code",
   "execution_count": null,
   "metadata": {
    "execution": {
     "iopub.execute_input": "2021-04-27T12:28:17.096086Z",
     "iopub.status.busy": "2021-04-27T12:28:17.095623Z",
     "iopub.status.idle": "2021-04-27T12:28:17.097506Z",
     "shell.execute_reply": "2021-04-27T12:28:17.097910Z"
    }
   },
   "outputs": [],
   "source": [
    "rw.visitation_probabilities(100, start_node=n.nodes['a'])"
   ]
  },
  {
   "cell_type": "markdown",
   "metadata": {},
   "source": [
    "The stationary visitation probabilities for $t \\rightarrow \\infty$ can be computed as follows:"
   ]
  },
  {
   "cell_type": "code",
   "execution_count": null,
   "metadata": {
    "execution": {
     "iopub.execute_input": "2021-04-27T12:28:17.100347Z",
     "iopub.status.busy": "2021-04-27T12:28:17.099900Z",
     "iopub.status.idle": "2021-04-27T12:28:17.101778Z",
     "shell.execute_reply": "2021-04-27T12:28:17.102182Z"
    }
   },
   "outputs": [],
   "source": [
    "rw.stationary_probabilities()"
   ]
  }
 ],
 "metadata": {
  "kernelspec": {
   "display_name": "Python 3.7.4 64-bit",
   "language": "python",
   "name": "python37464bit955f4811db0441eba2efbde262696f05"
  },
  "language_info": {
   "codemirror_mode": {
    "name": "ipython",
    "version": 3
   },
   "file_extension": ".py",
   "mimetype": "text/x-python",
   "name": "python",
   "nbconvert_exporter": "python",
   "pygments_lexer": "ipython3",
   "version": "3.8.5"
  }
 },
 "nbformat": 4,
 "nbformat_minor": 2
}
