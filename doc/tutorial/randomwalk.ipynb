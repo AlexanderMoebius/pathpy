{
 "metadata": {
  "language_info": {
   "codemirror_mode": {
    "name": "ipython",
    "version": 3
   },
   "file_extension": ".py",
   "mimetype": "text/x-python",
   "name": "python",
   "nbconvert_exporter": "python",
   "pygments_lexer": "ipython3",
   "version": "3.7.4"
  },
  "orig_nbformat": 2,
  "kernelspec": {
   "name": "python37464bit955f4811db0441eba2efbde262696f05",
   "display_name": "Python 3.7.4 64-bit",
   "language": "python"
  }
 },
 "nbformat": 4,
 "nbformat_minor": 2,
 "cells": [
  {
   "source": [
    "# Simulating Random Walk Processes in Networks"
   ],
   "cell_type": "markdown",
   "metadata": {}
  },
  {
   "cell_type": "code",
   "execution_count": 1,
   "metadata": {},
   "outputs": [
    {
     "output_type": "display_data",
     "data": {
      "text/plain": "<IPython.core.display.HTML object>",
      "text/html": "\n    <script charset=\"utf-8\">\n    // Load via requireJS if available (jupyter notebook environment)\n    try {\n    require.config({\n    paths: {\n    d3: \"https://d3js.org/d3.v5.min.js\".replace(\".js\", \"\")\n    }\n    });\n    console.log(\"OKAY: requireJS was detected\");\n    }\n    catch(err){\n    console.log(err);\n    console.log(\"ERROR: NO requireJS was detected\");\n    };\n    require(['d3'], function(d3){\n    console.log(\"OKAY: d3js was detected\");\n    });\n    </script>\n    "
     },
     "metadata": {}
    }
   ],
   "source": [
    "import pathpy as pp\n",
    "from pprint import pprint"
   ]
  },
  {
   "source": [
    "We first generate a directed network with weighted edges:"
   ],
   "cell_type": "markdown",
   "metadata": {}
  },
  {
   "cell_type": "code",
   "execution_count": 2,
   "metadata": {},
   "outputs": [],
   "source": [
    "n = pp.Network(directed=False)\n",
    "n.add_edge('a', 'b', weight=1, uid='a-b')\n",
    "n.add_edge('b', 'c', weight=1, uid='b-c')\n",
    "n.add_edge('c', 'a', weight=2, uid='c-a')\n",
    "n.add_edge('c', 'd', weight=1, uid='c-d')\n",
    "n.add_edge('d', 'a', weight=1, uid='d-a')"
   ]
  },
  {
   "source": [
    "To initialize a random walk process, we can generate a `RandomWalk` instance on the network. Specifying the `weight` attribute will lead to a biased random walk, where the transition probabilities are weighted by the respective numerical property:"
   ],
   "cell_type": "markdown",
   "metadata": {}
  },
  {
   "cell_type": "code",
   "execution_count": 3,
   "metadata": {},
   "outputs": [],
   "source": [
    "rw = pp.processes.RandomWalk(n, weight='weight')"
   ]
  },
  {
   "source": [
    "We can inspect the transition matrix of the random walk process as follows. Using the function `matrix_pd` will return the matrix as a (nicely formatted) pandas DataFrame, while `matrix` returns the internal sparse matrix representation."
   ],
   "cell_type": "markdown",
   "metadata": {}
  },
  {
   "cell_type": "code",
   "execution_count": 4,
   "metadata": {},
   "outputs": [
    {
     "output_type": "stream",
     "name": "stdout",
     "text": [
      "     a     b    c     d\na  0.0  0.25  0.5  0.25\nb  0.5  0.00  0.5  0.00\nc  0.5  0.25  0.0  0.25\nd  0.5  0.00  0.5  0.00\n"
     ]
    }
   ],
   "source": [
    "print(rw.matrix_pd())"
   ]
  },
  {
   "cell_type": "code",
   "execution_count": 5,
   "metadata": {},
   "outputs": [
    {
     "output_type": "stream",
     "name": "stdout",
     "text": [
      "<4x4 sparse matrix of type '<class 'numpy.float64'>'\n\twith 10 stored elements in Compressed Sparse Row format>\n"
     ]
    }
   ],
   "source": [
    "pprint(rw.matrix)"
   ]
  },
  {
   "source": [
    "We can use the method `generate_walk` of the random walk instance to generate a random walk with a given length. If we specify `start_node`, the walk will start from the given node object. The method returns a `Path` object."
   ],
   "cell_type": "markdown",
   "metadata": {}
  },
  {
   "cell_type": "code",
   "execution_count": 6,
   "metadata": {},
   "outputs": [
    {
     "output_type": "stream",
     "name": "stdout",
     "text": [
      "Uid:\t\t\t0x7fb33813a1d0\nType:\t\t\tPath\nNumber of unique nodes:\t3\nNumber of unique edges:\t4\nPath length (# edges):\t10\n['a', 'a', 'd', 'a', 'b', 'b', 'a', 'a', 'a', 'a', 'a']\n"
     ]
    }
   ],
   "source": [
    "p = rw.generate_walk(steps=10, start_node=n.nodes['a'])\n",
    "print(p)\n",
    "pprint([v.uid for v in p.nodes ]) "
   ]
  },
  {
   "source": [
    "If we omit the `start_node` argument, a random node will be chosen as start node."
   ],
   "cell_type": "markdown",
   "metadata": {}
  },
  {
   "cell_type": "code",
   "execution_count": 7,
   "metadata": {},
   "outputs": [
    {
     "output_type": "stream",
     "name": "stdout",
     "text": [
      "Uid:\t\t\t0x7fb358bc7690\nType:\t\t\tPath\nNumber of unique nodes:\t2\nNumber of unique edges:\t3\nPath length (# edges):\t10\n['a', 'a', 'c', 'c', 'c', 'c', 'a', 'a', 'a', 'a', 'a']\n"
     ]
    }
   ],
   "source": [
    "p = rw.generate_walk(steps=10)\n",
    "print(p)\n",
    "pprint([v.uid for v in p.nodes ]) "
   ]
  },
  {
   "source": [
    "We can generate a `PathCollection` that contains a given number of random walks with a given length specified by `steps_per_walk`. If the `start_nodes` argument is a numeric, the given number of walks will be generated, each walk starting from a random node."
   ],
   "cell_type": "markdown",
   "metadata": {}
  },
  {
   "cell_type": "code",
   "execution_count": 8,
   "metadata": {},
   "outputs": [
    {
     "output_type": "stream",
     "name": "stdout",
     "text": [
      "['d', 'd', 'd', 'd', 'c', 'c', 'd', 'd', 'd', 'd', 'c']\n['b', 'c', 'c', 'c', 'a', 'a', 'a', 'a', 'd', 'd', 'a']\n"
     ]
    }
   ],
   "source": [
    "pc = rw.generate_walks(steps_per_walk=10, start_nodes=2)\n",
    "for p in pc:\n",
    "    print([ v.uid for v in p.nodes ])"
   ]
  },
  {
   "source": [
    "If `start_nodes` is a list of `Node` objects, a single random walk will be generated for each start node. To generate a single random walk starting in each node of the network, we can write:"
   ],
   "cell_type": "markdown",
   "metadata": {}
  },
  {
   "cell_type": "code",
   "execution_count": 9,
   "metadata": {},
   "outputs": [
    {
     "output_type": "stream",
     "name": "stdout",
     "text": [
      "['a', 'a', 'd', 'a', 'a', 'a', 'a', 'd', 'a', 'b', 'c']\n['b', 'b', 'b', 'b', 'a', 'a', 'a', 'a', 'b', 'c', 'd']\n['c', 'c', 'c', 'a', 'b', 'b', 'a', 'a', 'b', 'b', 'a']\n['d', 'd', 'd', 'd', 'a', 'b', 'c', 'd', 'd', 'a', 'a']\n"
     ]
    }
   ],
   "source": [
    "pc = rw.generate_walks(steps_per_walk=10, start_nodes=n.nodes)\n",
    "for p in pc:\n",
    "    print([ v.uid for v in p.nodes ])"
   ]
  },
  {
   "source": [
    "We can also use an iterator interface to iteratively perform random walk steps. I neach step, we can assess the current state of the random walk at time t."
   ],
   "cell_type": "markdown",
   "metadata": {}
  },
  {
   "cell_type": "code",
   "execution_count": 10,
   "metadata": {},
   "outputs": [
    {
     "output_type": "stream",
     "name": "stdout",
     "text": [
      "Current node = b\nCurrent time = 1\n[0.5 0.5 0.  0. ]\nCurrent node = c\nCurrent time = 2\n[0.33333333 0.33333333 0.33333333 0.        ]\nCurrent node = d\nCurrent time = 3\n[0.25 0.25 0.25 0.25]\nCurrent node = a\nCurrent time = 4\n[0.4 0.2 0.2 0.2]\nCurrent node = c\nCurrent time = 5\n[0.33333333 0.16666667 0.33333333 0.16666667]\nCurrent node = a\nCurrent time = 6\n[0.42857143 0.14285714 0.28571429 0.14285714]\nCurrent node = c\nCurrent time = 7\n[0.375 0.125 0.375 0.125]\nCurrent node = a\nCurrent time = 8\n[0.44444444 0.11111111 0.33333333 0.11111111]\nCurrent node = c\nCurrent time = 9\n[0.4 0.1 0.4 0.1]\nCurrent node = a\nCurrent time = 10\n[0.45454545 0.09090909 0.36363636 0.09090909]\n"
     ]
    }
   ],
   "source": [
    "for v in rw.walk(10, start_node=n.nodes['a']):\n",
    "    print('Current node = {0}'.format(v))\n",
    "    print('Current time = {0}'.format(rw.t))\n",
    "    print(rw.visitation_frequencies())"
   ]
  },
  {
   "source": [
    "The visitation probabilities after t steps for a given start node can be computed using the `visitation_probabilities` function."
   ],
   "cell_type": "markdown",
   "metadata": {}
  },
  {
   "cell_type": "code",
   "execution_count": 11,
   "metadata": {},
   "outputs": [
    {
     "output_type": "execute_result",
     "data": {
      "text/plain": [
       "matrix([[1., 0., 0., 0.]])"
      ]
     },
     "metadata": {},
     "execution_count": 11
    }
   ],
   "source": [
    "rw.visitation_probabilities(0, start_node=n.nodes['a'])"
   ]
  },
  {
   "cell_type": "code",
   "execution_count": 12,
   "metadata": {},
   "outputs": [
    {
     "output_type": "execute_result",
     "data": {
      "text/plain": [
       "matrix([[0.  , 0.25, 0.5 , 0.25]])"
      ]
     },
     "metadata": {},
     "execution_count": 12
    }
   ],
   "source": [
    "rw.visitation_probabilities(1, start_node=n.nodes['a'])"
   ]
  },
  {
   "cell_type": "code",
   "execution_count": 13,
   "metadata": {},
   "outputs": [
    {
     "output_type": "execute_result",
     "data": {
      "text/plain": [
       "matrix([[0.33333333, 0.16666667, 0.33333333, 0.16666667]])"
      ]
     },
     "metadata": {},
     "execution_count": 13
    }
   ],
   "source": [
    "rw.visitation_probabilities(100, start_node=n.nodes['a'])"
   ]
  },
  {
   "source": [
    "The stationary visitation probabilities for $t \\rightarrow \\infty$ can be computed as follows:"
   ],
   "cell_type": "markdown",
   "metadata": {}
  },
  {
   "cell_type": "code",
   "execution_count": 14,
   "metadata": {},
   "outputs": [
    {
     "output_type": "execute_result",
     "data": {
      "text/plain": [
       "array([0.33333333, 0.16666667, 0.33333333, 0.16666667])"
      ]
     },
     "metadata": {},
     "execution_count": 14
    }
   ],
   "source": [
    "rw.stationary_probabilities()"
   ]
  }
 ]
}