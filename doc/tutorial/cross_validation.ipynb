{
 "cells": [
  {
   "cell_type": "markdown",
   "metadata": {},
   "source": [
    "# Cross-validation experiments with networks\n",
    "\n",
    "[Open notebook in Google Colab](https://colab.research.google.com/github/pathpy/pathpy/blob/master/doc/tutorial/cross_validation.ipynb)\n",
    "\n",
    "`pathpy` provides basic support for evaluations based on cross-validation experiments. In particular, the `train_test_split` method can be used to create train and test splits. The semantics of the method as well as the arguments is similar to the corresponding function in `sklearn`.\n",
    "\n",
    "To demonstrate the use, we generate a random graph:"
   ]
  },
  {
   "cell_type": "code",
   "execution_count": null,
   "metadata": {
    "execution": {
     "iopub.execute_input": "2021-04-27T16:47:17.235057Z",
     "iopub.status.busy": "2021-04-27T16:47:17.234331Z",
     "iopub.status.idle": "2021-04-27T16:47:22.535062Z",
     "shell.execute_reply": "2021-04-27T16:47:22.535742Z"
    },
    "tags": [
     "hide"
    ]
   },
   "outputs": [],
   "source": [
    "pip install git+git://github.com/pathpy/pathpy.git"
   ]
  },
  {
   "cell_type": "code",
   "execution_count": null,
   "metadata": {
    "execution": {
     "iopub.execute_input": "2021-04-27T16:47:22.541098Z",
     "iopub.status.busy": "2021-04-27T16:47:22.540428Z",
     "iopub.status.idle": "2021-04-27T16:47:23.066610Z",
     "shell.execute_reply": "2021-04-27T16:47:23.067035Z"
    }
   },
   "outputs": [],
   "source": [
    "import pathpy as pp\n",
    "\n",
    "n = pp.generators.ER_np(100, 0.04)\n",
    "print(n)\n",
    "n.plot()"
   ]
  },
  {
   "cell_type": "markdown",
   "metadata": {},
   "source": [
    "To generate a test and train network instance, where the test network contains a random fraction of 25 % of the nodes, we can write:"
   ]
  },
  {
   "cell_type": "code",
   "execution_count": null,
   "metadata": {
    "execution": {
     "iopub.execute_input": "2021-04-27T16:47:23.075532Z",
     "iopub.status.busy": "2021-04-27T16:47:23.074981Z",
     "iopub.status.idle": "2021-04-27T16:47:23.078200Z",
     "shell.execute_reply": "2021-04-27T16:47:23.077763Z"
    }
   },
   "outputs": [],
   "source": [
    "test, train = pp.algorithms.evaluation.train_test_split(n, test_size = 0.25)\n",
    "print(test)\n",
    "print(train)"
   ]
  },
  {
   "cell_type": "markdown",
   "metadata": {},
   "source": [
    "The method generates two new Network instances that refer to the same node and edge objects as the original network, i.e. the new objects do not consume a lot of memory. The original network instance is not changed. The uids of the newly generated networks will be set to the original uid with a suffix of `_test` and `_train` respectively.\n",
    "\n",
    "By default, the split will be made based on the nodes, and the train and test networks will include all incident edges for the corresponding node sets. This implies that some edges can be lost if the split is made along the endpoints. To preserve the number of edges, we can set the split method to `edge`. This will sample a random fraction of edges, and all nodes are added to both networks, i.e. the node sets between the two networks are identical. The sum of the edges of the training and test network equals the number of edges in the original network."
   ]
  },
  {
   "cell_type": "code",
   "execution_count": null,
   "metadata": {
    "execution": {
     "iopub.execute_input": "2021-04-27T16:47:23.088288Z",
     "iopub.status.busy": "2021-04-27T16:47:23.087605Z",
     "iopub.status.idle": "2021-04-27T16:47:23.090518Z",
     "shell.execute_reply": "2021-04-27T16:47:23.090939Z"
    }
   },
   "outputs": [],
   "source": [
    "test, train = pp.algorithms.evaluation.train_test_split(n, test_size = 0.25, split='edge')\n",
    "print(test)\n",
    "print(train)"
   ]
  },
  {
   "cell_type": "markdown",
   "metadata": {},
   "source": [
    "We can alternatively set the size of the training set:"
   ]
  },
  {
   "cell_type": "code",
   "execution_count": null,
   "metadata": {
    "execution": {
     "iopub.execute_input": "2021-04-27T16:47:23.101066Z",
     "iopub.status.busy": "2021-04-27T16:47:23.100595Z",
     "iopub.status.idle": "2021-04-27T16:47:23.103363Z",
     "shell.execute_reply": "2021-04-27T16:47:23.103830Z"
    }
   },
   "outputs": [],
   "source": [
    "test, train = pp.algorithms.evaluation.train_test_split(n, train_size = 0.25, split='edge')\n",
    "print(test)\n",
    "print(train)"
   ]
  },
  {
   "cell_type": "markdown",
   "metadata": {},
   "source": [
    "Apart from static networks, we can also create cross-validation sets for temporal networks. For this, we first load a temporal network from the KONECT database:"
   ]
  },
  {
   "cell_type": "code",
   "execution_count": null,
   "metadata": {
    "execution": {
     "iopub.execute_input": "2021-04-27T16:47:23.106726Z",
     "iopub.status.busy": "2021-04-27T16:47:23.106015Z",
     "iopub.status.idle": "2021-04-27T16:47:24.768566Z",
     "shell.execute_reply": "2021-04-27T16:47:24.767637Z"
    }
   },
   "outputs": [],
   "source": [
    "tn = pp.io.konect.read_konect_name('sociopatterns-hypertext')\n",
    "print(tn)\n",
    "tn.plot()"
   ]
  },
  {
   "cell_type": "markdown",
   "metadata": {},
   "source": [
    "We can call the same function on a temporal network instance. By default, the split will be made based on the observed interactions, i.e. in the following example the first 75 % of all time-stamped interactions will be included in the training network, while the last 25 % will be included in the test network. "
   ]
  },
  {
   "cell_type": "code",
   "execution_count": null,
   "metadata": {
    "execution": {
     "iopub.execute_input": "2021-04-27T16:47:24.858900Z",
     "iopub.status.busy": "2021-04-27T16:47:24.814571Z",
     "iopub.status.idle": "2021-04-27T16:47:26.416175Z",
     "shell.execute_reply": "2021-04-27T16:47:26.416669Z"
    }
   },
   "outputs": [],
   "source": [
    "test, train = pp.algorithms.evaluation.train_test_split(tn, test_size=0.25)\n",
    "print(train)\n",
    "print(test)"
   ]
  },
  {
   "cell_type": "code",
   "execution_count": null,
   "metadata": {
    "execution": {
     "iopub.execute_input": "2021-04-27T16:47:26.510341Z",
     "iopub.status.busy": "2021-04-27T16:47:26.462311Z",
     "iopub.status.idle": "2021-04-27T16:47:26.888531Z",
     "shell.execute_reply": "2021-04-27T16:47:26.888952Z"
    }
   },
   "outputs": [],
   "source": [
    "train.plot()"
   ]
  },
  {
   "cell_type": "code",
   "execution_count": null,
   "metadata": {
    "execution": {
     "iopub.execute_input": "2021-04-27T16:47:26.978235Z",
     "iopub.status.busy": "2021-04-27T16:47:26.933788Z",
     "iopub.status.idle": "2021-04-27T16:47:27.039174Z",
     "shell.execute_reply": "2021-04-27T16:47:27.039620Z"
    }
   },
   "outputs": [],
   "source": [
    "test.plot()"
   ]
  },
  {
   "cell_type": "markdown",
   "metadata": {},
   "source": [
    "We can also split based on the observed time, i.e. here we include all interactions ocurring within in the first 75 % of the observed time period in the training network, while the remaining interactions are included in the test network."
   ]
  },
  {
   "cell_type": "code",
   "execution_count": null,
   "metadata": {
    "execution": {
     "iopub.execute_input": "2021-04-27T16:47:27.130057Z",
     "iopub.status.busy": "2021-04-27T16:47:27.085489Z",
     "iopub.status.idle": "2021-04-27T16:47:29.184892Z",
     "shell.execute_reply": "2021-04-27T16:47:29.185371Z"
    }
   },
   "outputs": [],
   "source": [
    "test, train = pp.algorithms.evaluation.train_test_split(tn, test_size=0.25, split='time')\n",
    "print(train)\n",
    "print(test)"
   ]
  }
 ],
 "metadata": {
  "celltoolbar": "Tags",
  "kernelspec": {
   "display_name": "Python 3",
   "language": "python",
   "name": "python3"
  },
  "language_info": {
   "codemirror_mode": {
    "name": "ipython",
    "version": 3
   },
   "file_extension": ".py",
   "mimetype": "text/x-python",
   "name": "python",
   "nbconvert_exporter": "python",
   "pygments_lexer": "ipython3",
   "version": "3.8.5"
  },
  "metadata": {
   "interpreter": {
    "hash": "82db51cffef479cc4d0f53089378e5a2925f9e7adca31d741132ceba61ecca6f"
   }
  }
 },
 "nbformat": 4,
 "nbformat_minor": 2
}
