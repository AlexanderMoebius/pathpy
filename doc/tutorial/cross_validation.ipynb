{
 "cells": [
  {
   "cell_type": "markdown",
   "metadata": {},
   "source": [
    "# Cross-validation experiments with networks\n",
    "\n",
    "[Open notebook in Google Colab](https://colab.research.google.com/github/pathpy/pathpy/blob/master/doc/tutorial/cross_validation.ipynb)\n",
    "\n",
    "`pathpy` provides basic support for evaluations based on cross-validation experiments. In particular, the `train_test_split` method can be used to create train and test splits. The semantics of the method as well as the arguments is similar to the corresponding function in `sklearn`.\n",
    "\n",
    "To demonstrate the use, we generate a random graph:"
   ]
  },
  {
   "cell_type": "code",
   "execution_count": null,
   "metadata": {
    "execution": {
     "iopub.execute_input": "2021-04-27T16:50:56.654500Z",
     "iopub.status.busy": "2021-04-27T16:50:56.653859Z",
     "iopub.status.idle": "2021-04-27T16:51:02.192835Z",
     "shell.execute_reply": "2021-04-27T16:51:02.193523Z"
    },
    "tags": [
     "hide"
    ]
   },
   "outputs": [],
   "source": [
    "pip install git+git://github.com/pathpy/pathpy.git"
   ]
  },
  {
   "cell_type": "code",
   "execution_count": null,
   "metadata": {
    "execution": {
     "iopub.execute_input": "2021-04-27T16:51:02.197958Z",
     "iopub.status.busy": "2021-04-27T16:51:02.197360Z",
     "iopub.status.idle": "2021-04-27T16:51:02.940656Z",
     "shell.execute_reply": "2021-04-27T16:51:02.941217Z"
    }
   },
   "outputs": [],
   "source": [
    "import pathpy as pp\n",
    "\n",
    "n = pp.generators.ER_np(100, 0.04)\n",
    "print(n)\n",
    "n.plot()"
   ]
  },
  {
   "cell_type": "markdown",
   "metadata": {},
   "source": [
    "To generate a test and train network instance, where the test network contains a random fraction of 25 % of the nodes, we can write:"
   ]
  },
  {
   "cell_type": "code",
   "execution_count": null,
   "metadata": {
    "execution": {
     "iopub.execute_input": "2021-04-27T16:51:02.951835Z",
     "iopub.status.busy": "2021-04-27T16:51:02.951270Z",
     "iopub.status.idle": "2021-04-27T16:51:02.953389Z",
     "shell.execute_reply": "2021-04-27T16:51:02.953824Z"
    }
   },
   "outputs": [],
   "source": [
    "test, train = pp.algorithms.evaluation.train_test_split(n, test_size = 0.25)\n",
    "print(test)\n",
    "print(train)"
   ]
  },
  {
   "cell_type": "markdown",
   "metadata": {},
   "source": [
    "The method generates two new Network instances that refer to the same node and edge objects as the original network, i.e. the new objects do not consume a lot of memory. The original network instance is not changed. The uids of the newly generated networks will be set to the original uid with a suffix of `_test` and `_train` respectively.\n",
    "\n",
    "By default, the split will be made based on the nodes, and the train and test networks will include all incident edges for the corresponding node sets. This implies that some edges can be lost if the split is made along the endpoints. To preserve the number of edges, we can set the split method to `edge`. This will sample a random fraction of edges, and all nodes are added to both networks, i.e. the node sets between the two networks are identical. The sum of the edges of the training and test network equals the number of edges in the original network."
   ]
  },
  {
   "cell_type": "code",
   "execution_count": null,
   "metadata": {
    "execution": {
     "iopub.execute_input": "2021-04-27T16:51:02.964900Z",
     "iopub.status.busy": "2021-04-27T16:51:02.964373Z",
     "iopub.status.idle": "2021-04-27T16:51:02.966420Z",
     "shell.execute_reply": "2021-04-27T16:51:02.966830Z"
    }
   },
   "outputs": [],
   "source": [
    "test, train = pp.algorithms.evaluation.train_test_split(n, test_size = 0.25, split='edge')\n",
    "print(test)\n",
    "print(train)"
   ]
  },
  {
   "cell_type": "markdown",
   "metadata": {},
   "source": [
    "We can alternatively set the size of the training set:"
   ]
  },
  {
   "cell_type": "code",
   "execution_count": null,
   "metadata": {
    "execution": {
     "iopub.execute_input": "2021-04-27T16:51:02.978548Z",
     "iopub.status.busy": "2021-04-27T16:51:02.978086Z",
     "iopub.status.idle": "2021-04-27T16:51:02.979871Z",
     "shell.execute_reply": "2021-04-27T16:51:02.980285Z"
    }
   },
   "outputs": [],
   "source": [
    "test, train = pp.algorithms.evaluation.train_test_split(n, train_size = 0.25, split='edge')\n",
    "print(test)\n",
    "print(train)"
   ]
  },
  {
   "cell_type": "markdown",
   "metadata": {},
   "source": [
    "Apart from static networks, we can also create cross-validation sets for temporal networks. For this, we first load a temporal network from the KONECT database:"
   ]
  },
  {
   "cell_type": "code",
   "execution_count": null,
   "metadata": {
    "execution": {
     "iopub.execute_input": "2021-04-27T16:51:02.982746Z",
     "iopub.status.busy": "2021-04-27T16:51:02.982360Z",
     "iopub.status.idle": "2021-04-27T16:51:04.733097Z",
     "shell.execute_reply": "2021-04-27T16:51:04.733542Z"
    }
   },
   "outputs": [],
   "source": [
    "tn = pp.io.konect.read_konect_name('sociopatterns-hypertext')\n",
    "print(tn)\n",
    "tn.plot()"
   ]
  },
  {
   "cell_type": "markdown",
   "metadata": {},
   "source": [
    "We can call the same function on a temporal network instance. By default, the split will be made based on the observed interactions, i.e. in the following example the first 75 % of all time-stamped interactions will be included in the training network, while the last 25 % will be included in the test network. "
   ]
  },
  {
   "cell_type": "code",
   "execution_count": null,
   "metadata": {
    "execution": {
     "iopub.execute_input": "2021-04-27T16:51:04.820798Z",
     "iopub.status.busy": "2021-04-27T16:51:04.777704Z",
     "iopub.status.idle": "2021-04-27T16:51:06.459040Z",
     "shell.execute_reply": "2021-04-27T16:51:06.459538Z"
    }
   },
   "outputs": [],
   "source": [
    "test, train = pp.algorithms.evaluation.train_test_split(tn, test_size=0.25)\n",
    "print(train)\n",
    "print(test)"
   ]
  },
  {
   "cell_type": "code",
   "execution_count": null,
   "metadata": {
    "execution": {
     "iopub.execute_input": "2021-04-27T16:51:06.545563Z",
     "iopub.status.busy": "2021-04-27T16:51:06.503772Z",
     "iopub.status.idle": "2021-04-27T16:51:06.980556Z",
     "shell.execute_reply": "2021-04-27T16:51:06.981062Z"
    }
   },
   "outputs": [],
   "source": [
    "train.plot()"
   ]
  },
  {
   "cell_type": "code",
   "execution_count": null,
   "metadata": {
    "execution": {
     "iopub.execute_input": "2021-04-27T16:51:07.072612Z",
     "iopub.status.busy": "2021-04-27T16:51:07.027080Z",
     "iopub.status.idle": "2021-04-27T16:51:07.163622Z",
     "shell.execute_reply": "2021-04-27T16:51:07.164039Z"
    }
   },
   "outputs": [],
   "source": [
    "test.plot()"
   ]
  },
  {
   "cell_type": "markdown",
   "metadata": {},
   "source": [
    "We can also split based on the observed time, i.e. here we include all interactions ocurring within in the first 75 % of the observed time period in the training network, while the remaining interactions are included in the test network."
   ]
  },
  {
   "cell_type": "code",
   "execution_count": null,
   "metadata": {
    "execution": {
     "iopub.execute_input": "2021-04-27T16:51:07.252203Z",
     "iopub.status.busy": "2021-04-27T16:51:07.209646Z",
     "iopub.status.idle": "2021-04-27T16:51:09.297940Z",
     "shell.execute_reply": "2021-04-27T16:51:09.298362Z"
    }
   },
   "outputs": [],
   "source": [
    "test, train = pp.algorithms.evaluation.train_test_split(tn, test_size=0.25, split='time')\n",
    "print(train)\n",
    "print(test)"
   ]
  }
 ],
 "metadata": {
  "celltoolbar": "Tags",
  "kernelspec": {
   "display_name": "Python 3",
   "language": "python",
   "name": "python3"
  },
  "language_info": {
   "codemirror_mode": {
    "name": "ipython",
    "version": 3
   },
   "file_extension": ".py",
   "mimetype": "text/x-python",
   "name": "python",
   "nbconvert_exporter": "python",
   "pygments_lexer": "ipython3",
   "version": "3.8.5"
  },
  "metadata": {
   "interpreter": {
    "hash": "82db51cffef479cc4d0f53089378e5a2925f9e7adca31d741132ceba61ecca6f"
   }
  }
 },
 "nbformat": 4,
 "nbformat_minor": 2
}
