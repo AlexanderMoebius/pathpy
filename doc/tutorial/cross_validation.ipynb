{
 "cells": [
  {
   "cell_type": "markdown",
   "metadata": {},
   "source": [
    "# Cross-validation experiments with networks\n",
    "\n",
    "[Run notebook in Google Colab](https://colab.research.google.com/github/pathpy/pathpy/blob/master/doc/tutorial/cross_validation.ipynb)  \n",
    "[Download notebook](https://github.com/pathpy/pathpy/raw/master/doc/tutorial/cross_validation.ipynb)\n",
    "\n",
    "`pathpy` provides basic support for evaluations based on cross-validation experiments. In particular, the `train_test_split` method can be used to create train and test splits. The semantics of the method as well as the arguments is similar to the [corresponding function in `sklearn`](https://scikit-learn.org/stable/modules/generated/sklearn.model_selection.train_test_split.html).\n",
    "\n",
    "To demonstrate the use, we generate a random graph:"
   ]
  },
  {
   "cell_type": "code",
   "execution_count": null,
   "metadata": {
    "execution": {
     "iopub.execute_input": "2021-06-22T17:01:40.317190Z",
     "iopub.status.busy": "2021-06-22T17:01:40.315382Z",
     "iopub.status.idle": "2021-06-22T17:01:46.879954Z",
     "shell.execute_reply": "2021-06-22T17:01:46.880598Z"
    },
    "tags": [
     "hide"
    ]
   },
   "outputs": [],
   "source": [
    "pip install git+git://github.com/pathpy/pathpy.git"
   ]
  },
  {
   "cell_type": "code",
   "execution_count": null,
   "metadata": {
    "execution": {
     "iopub.execute_input": "2021-06-22T17:01:46.886859Z",
     "iopub.status.busy": "2021-06-22T17:01:46.885628Z",
     "iopub.status.idle": "2021-06-22T17:01:47.469795Z",
     "shell.execute_reply": "2021-06-22T17:01:47.470409Z"
    }
   },
   "outputs": [],
   "source": [
    "import pathpy as pp\n",
    "\n",
    "n = pp.generators.ER_np(100, 0.04)\n",
    "print(n)\n",
    "n.plot()"
   ]
  },
  {
   "cell_type": "markdown",
   "metadata": {},
   "source": [
    "To generate a test and train network instance, where the test network contains a random fraction of 25 % of the nodes, we can write:"
   ]
  },
  {
   "cell_type": "code",
   "execution_count": null,
   "metadata": {
    "execution": {
     "iopub.execute_input": "2021-06-22T17:01:47.487408Z",
     "iopub.status.busy": "2021-06-22T17:01:47.486658Z",
     "iopub.status.idle": "2021-06-22T17:01:47.489105Z",
     "shell.execute_reply": "2021-06-22T17:01:47.489734Z"
    }
   },
   "outputs": [],
   "source": [
    "train, test = pp.algorithms.evaluation.train_test_split(n, test_size = 0.25)\n",
    "print(train)\n",
    "print(test)"
   ]
  },
  {
   "cell_type": "markdown",
   "metadata": {},
   "source": [
    "The method generates two new Network instances that refer to the same node and edge objects as the original network, i.e. the new objects do not consume a lot of memory. The original network instance is not changed. The uids of the newly generated networks will be set to the original uid with a suffix of `_test` and `_train` respectively.\n",
    "\n",
    "By default, the split will be made based on the nodes, and the train and test networks will include all incident edges for the corresponding node sets. This implies that some edges can be lost if the split is made along the endpoints. To preserve the number of edges, we can set the split method to `edge`. This will sample a random fraction of edges, and all nodes are added to both networks, i.e. the node sets between the two networks are identical. The sum of the edges of the training and test network equals the number of edges in the original network."
   ]
  },
  {
   "cell_type": "code",
   "execution_count": null,
   "metadata": {
    "execution": {
     "iopub.execute_input": "2021-06-22T17:01:47.513382Z",
     "iopub.status.busy": "2021-06-22T17:01:47.512487Z",
     "iopub.status.idle": "2021-06-22T17:01:47.515812Z",
     "shell.execute_reply": "2021-06-22T17:01:47.516430Z"
    }
   },
   "outputs": [],
   "source": [
    "train, test = pp.algorithms.evaluation.train_test_split(n, test_size = 0.25, split='edge')\n",
    "print(train)\n",
    "print(test)"
   ]
  },
  {
   "cell_type": "markdown",
   "metadata": {},
   "source": [
    "We can alternatively set the size of the training set:"
   ]
  },
  {
   "cell_type": "code",
   "execution_count": null,
   "metadata": {
    "execution": {
     "iopub.execute_input": "2021-06-22T17:01:47.539903Z",
     "iopub.status.busy": "2021-06-22T17:01:47.539152Z",
     "iopub.status.idle": "2021-06-22T17:01:47.541606Z",
     "shell.execute_reply": "2021-06-22T17:01:47.542214Z"
    }
   },
   "outputs": [],
   "source": [
    "train, test = pp.algorithms.evaluation.train_test_split(n, train_size = 0.25, split='edge')\n",
    "print(train)\n",
    "print(test)"
   ]
  },
  {
   "cell_type": "markdown",
   "metadata": {},
   "source": [
    "Apart from static networks, we can also create cross-validation sets for temporal networks. For this, we first load a temporal network from the KONECT database:"
   ]
  },
  {
   "cell_type": "code",
   "execution_count": null,
   "metadata": {
    "execution": {
     "iopub.execute_input": "2021-06-22T17:01:47.547434Z",
     "iopub.status.busy": "2021-06-22T17:01:47.546553Z",
     "iopub.status.idle": "2021-06-22T17:02:02.131727Z",
     "shell.execute_reply": "2021-06-22T17:02:02.061260Z"
    }
   },
   "outputs": [],
   "source": [
    "tn = pp.io.konect.read_konect_name('sociopatterns-hypertext')\n",
    "print(tn)\n",
    "tn.plot()"
   ]
  },
  {
   "cell_type": "markdown",
   "metadata": {},
   "source": [
    "We can call the same function on a temporal network instance. By default, the split will be made based on the observed interactions, i.e. in the following example the first 75 % of all time-stamped interactions will be included in the training network, while the last 25 % will be included in the test network. "
   ]
  },
  {
   "cell_type": "code",
   "execution_count": null,
   "metadata": {
    "execution": {
     "iopub.execute_input": "2021-06-22T17:02:02.206994Z",
     "iopub.status.busy": "2021-06-22T17:02:02.170506Z",
     "iopub.status.idle": "2021-06-22T17:02:20.279594Z",
     "shell.execute_reply": "2021-06-22T17:02:20.278855Z"
    }
   },
   "outputs": [],
   "source": [
    "train, test = pp.algorithms.evaluation.train_test_split(tn, test_size=0.25)\n",
    "print(train)\n",
    "print(test)"
   ]
  },
  {
   "cell_type": "code",
   "execution_count": null,
   "metadata": {
    "execution": {
     "iopub.execute_input": "2021-06-22T17:02:20.354309Z",
     "iopub.status.busy": "2021-06-22T17:02:20.318223Z",
     "iopub.status.idle": "2021-06-22T17:02:21.663983Z",
     "shell.execute_reply": "2021-06-22T17:02:21.664549Z"
    }
   },
   "outputs": [],
   "source": [
    "train.plot()"
   ]
  },
  {
   "cell_type": "code",
   "execution_count": null,
   "metadata": {
    "execution": {
     "iopub.execute_input": "2021-06-22T17:02:21.742132Z",
     "iopub.status.busy": "2021-06-22T17:02:21.706449Z",
     "iopub.status.idle": "2021-06-22T17:02:22.125440Z",
     "shell.execute_reply": "2021-06-22T17:02:22.126107Z"
    }
   },
   "outputs": [],
   "source": [
    "test.plot()"
   ]
  },
  {
   "cell_type": "markdown",
   "metadata": {},
   "source": [
    "We can also split based on the observed time, i.e. here we include all interactions ocurring within in the first 75 % of the observed time period in the training network, while the remaining interactions are included in the test network."
   ]
  },
  {
   "cell_type": "code",
   "execution_count": null,
   "metadata": {
    "execution": {
     "iopub.execute_input": "2021-06-22T17:02:22.206049Z",
     "iopub.status.busy": "2021-06-22T17:02:22.170178Z",
     "iopub.status.idle": "2021-06-22T17:02:39.315319Z",
     "shell.execute_reply": "2021-06-22T17:02:39.315944Z"
    }
   },
   "outputs": [],
   "source": [
    "train, test = pp.algorithms.evaluation.train_test_split(tn, test_size=0.25, split='time')\n",
    "print(train)\n",
    "print(test)"
   ]
  },
  {
   "cell_type": "markdown",
   "metadata": {},
   "source": [
    "## Randomizing networks\n",
    "\n",
    "To detect patterns in networks, it is often helpful to randomize their topology while preserving the nodes as well as certain aggregate statistics of the network. We can try this with the Karate club network:"
   ]
  },
  {
   "cell_type": "code",
   "execution_count": null,
   "metadata": {
    "execution": {
     "iopub.execute_input": "2021-06-22T17:02:39.320512Z",
     "iopub.status.busy": "2021-06-22T17:02:39.319600Z",
     "iopub.status.idle": "2021-06-22T17:02:39.578185Z",
     "shell.execute_reply": "2021-06-22T17:02:39.578922Z"
    }
   },
   "outputs": [],
   "source": [
    "n = pp.io.graphtool.read_netzschleuder_network('karate', '77')\n",
    "n.plot()"
   ]
  },
  {
   "cell_type": "markdown",
   "metadata": {},
   "source": [
    "We can use the `randomize` functions in the module `generators`, which are coupled to the corresponding random graph models. To generate a randomized version of a network where the number of nodes $n$ and the number of edges $m$ is preserved, we can use the `randomize` function associated with the Erdös-Renyi $G(n,m)$ model. This will generate a network with the same number of nodes and edges, but with a different, randomized topology:"
   ]
  },
  {
   "cell_type": "code",
   "execution_count": null,
   "metadata": {
    "execution": {
     "iopub.execute_input": "2021-06-22T17:02:39.606283Z",
     "iopub.status.busy": "2021-06-22T17:02:39.605428Z",
     "iopub.status.idle": "2021-06-22T17:02:39.611311Z",
     "shell.execute_reply": "2021-06-22T17:02:39.611947Z"
    }
   },
   "outputs": [],
   "source": [
    "r1 = pp.generators.ER_nm_randomize(n)\n",
    "r1.plot()"
   ]
  },
  {
   "cell_type": "markdown",
   "metadata": {},
   "source": [
    "If we use the `randomize` function of the Erdös-Renyi `G(n,p)` model, we obtain a randomized network with the same number of nodes and the same number of *expected* edges\":"
   ]
  },
  {
   "cell_type": "code",
   "execution_count": null,
   "metadata": {
    "execution": {
     "iopub.execute_input": "2021-06-22T17:02:39.630760Z",
     "iopub.status.busy": "2021-06-22T17:02:39.629986Z",
     "iopub.status.idle": "2021-06-22T17:02:39.634924Z",
     "shell.execute_reply": "2021-06-22T17:02:39.635565Z"
    }
   },
   "outputs": [],
   "source": [
    "r2 = pp.generators.ER_np_randomize(n)\n",
    "r2.plot()"
   ]
  },
  {
   "cell_type": "markdown",
   "metadata": {},
   "source": [
    "## Shuffling temporal networks\n",
    "\n",
    "To study temporal networks, it is often helpful to randomize the timestamps of edges while preserving the frequency and topology of edges, as well as the inter-event time distribution. Consider the following example:"
   ]
  },
  {
   "cell_type": "code",
   "execution_count": null,
   "metadata": {
    "execution": {
     "iopub.execute_input": "2021-06-22T17:02:39.694772Z",
     "iopub.status.busy": "2021-06-22T17:02:39.693942Z",
     "iopub.status.idle": "2021-06-22T17:02:39.700599Z",
     "shell.execute_reply": "2021-06-22T17:02:39.701536Z"
    }
   },
   "outputs": [],
   "source": [
    "tn = pp.TemporalNetwork(directed=False, uid='temporal_network_42')\n",
    "tn.add_edge('a', 'b', timestamp=1, color='red')\n",
    "tn.add_edge('b', 'c', timestamp=3, color='green')\n",
    "tn.add_edge('c', 'a', timestamp=6, color='blue')\n",
    "tn.add_edge('a', 'b', timestamp=12, color='orange')\n",
    "tn.plot()"
   ]
  },
  {
   "cell_type": "markdown",
   "metadata": {},
   "source": [
    "We can use the `randomize_temporal_network` function to randomly permute the timestamps and reassign them to edges. This method will preserve time-varying attributes of edges. In the example above, the shuffled network contains two occurences of edge $(a,b)$, one is red the other is orange. However, those edges will occur at randomly chosen timestamps."
   ]
  },
  {
   "cell_type": "code",
   "execution_count": null,
   "metadata": {
    "execution": {
     "iopub.execute_input": "2021-06-22T17:02:39.708502Z",
     "iopub.status.busy": "2021-06-22T17:02:39.707354Z",
     "iopub.status.idle": "2021-06-22T17:02:39.709572Z",
     "shell.execute_reply": "2021-06-22T17:02:39.710217Z"
    }
   },
   "outputs": [],
   "source": [
    "shuffled_tempnet = pp.algorithms.evaluation.shuffle_temporal_network(tn)"
   ]
  },
  {
   "cell_type": "code",
   "execution_count": null,
   "metadata": {
    "execution": {
     "iopub.execute_input": "2021-06-22T17:02:39.714440Z",
     "iopub.status.busy": "2021-06-22T17:02:39.713619Z",
     "iopub.status.idle": "2021-06-22T17:02:39.716711Z",
     "shell.execute_reply": "2021-06-22T17:02:39.717571Z"
    }
   },
   "outputs": [],
   "source": [
    "print(shuffled_tempnet)"
   ]
  },
  {
   "cell_type": "code",
   "execution_count": null,
   "metadata": {
    "execution": {
     "iopub.execute_input": "2021-06-22T17:02:39.722982Z",
     "iopub.status.busy": "2021-06-22T17:02:39.722242Z",
     "iopub.status.idle": "2021-06-22T17:02:39.726455Z",
     "shell.execute_reply": "2021-06-22T17:02:39.726983Z"
    }
   },
   "outputs": [],
   "source": [
    "shuffled_tempnet.plot()"
   ]
  },
  {
   "cell_type": "code",
   "execution_count": null,
   "metadata": {},
   "outputs": [],
   "source": []
  }
 ],
 "metadata": {
  "celltoolbar": "Tags",
  "kernelspec": {
   "display_name": "Python 3",
   "language": "python",
   "name": "python3"
  },
  "language_info": {
   "codemirror_mode": {
    "name": "ipython",
    "version": 3
   },
   "file_extension": ".py",
   "mimetype": "text/x-python",
   "name": "python",
   "nbconvert_exporter": "python",
   "pygments_lexer": "ipython3",
   "version": "3.9.5"
  },
  "metadata": {
   "interpreter": {
    "hash": "82db51cffef479cc4d0f53089378e5a2925f9e7adca31d741132ceba61ecca6f"
   }
  }
 },
 "nbformat": 4,
 "nbformat_minor": 4
}
