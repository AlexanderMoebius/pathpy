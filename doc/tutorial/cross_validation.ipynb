{
 "cells": [
  {
   "cell_type": "markdown",
   "metadata": {},
   "source": [
    "# Cross-validation experiments with networks\n",
    "\n",
    "[Run notebook in Google Colab](https://colab.research.google.com/github/pathpy/pathpy/blob/master/doc/tutorial/cross_validation.ipynb)  \n",
    "[Download notebook](https://github.com/pathpy/pathpy/raw/master/doc/tutorial/cross_validation.ipynb)\n",
    "\n",
    "`pathpy` provides basic support for evaluations based on cross-validation experiments. In particular, the `train_test_split` method can be used to create train and test splits. The semantics of the method as well as the arguments is similar to the [corresponding function in `sklearn`](https://scikit-learn.org/stable/modules/generated/sklearn.model_selection.train_test_split.html).\n",
    "\n",
    "To demonstrate the use, we generate a random graph:"
   ]
  },
  {
   "cell_type": "code",
   "execution_count": null,
   "metadata": {
    "execution": {
     "iopub.execute_input": "2021-05-11T10:11:45.263325Z",
     "iopub.status.busy": "2021-05-11T10:11:45.262770Z",
     "iopub.status.idle": "2021-05-11T10:11:55.406739Z",
     "shell.execute_reply": "2021-05-11T10:11:55.406263Z"
    },
    "tags": [
     "hide"
    ]
   },
   "outputs": [],
   "source": [
    "pip install git+git://github.com/pathpy/pathpy.git"
   ]
  },
  {
   "cell_type": "code",
   "execution_count": null,
   "metadata": {
    "execution": {
     "iopub.execute_input": "2021-05-11T10:11:55.410791Z",
     "iopub.status.busy": "2021-05-11T10:11:55.410214Z",
     "iopub.status.idle": "2021-05-11T10:11:55.895961Z",
     "shell.execute_reply": "2021-05-11T10:11:55.896341Z"
    }
   },
   "outputs": [],
   "source": [
    "import pathpy as pp\n",
    "\n",
    "n = pp.generators.ER_np(100, 0.04)\n",
    "print(n)\n",
    "n.plot()"
   ]
  },
  {
   "cell_type": "markdown",
   "metadata": {},
   "source": [
    "To generate a test and train network instance, where the test network contains a random fraction of 25 % of the nodes, we can write:"
   ]
  },
  {
   "cell_type": "code",
   "execution_count": null,
   "metadata": {
    "execution": {
     "iopub.execute_input": "2021-05-11T10:11:55.906478Z",
     "iopub.status.busy": "2021-05-11T10:11:55.906028Z",
     "iopub.status.idle": "2021-05-11T10:11:55.908736Z",
     "shell.execute_reply": "2021-05-11T10:11:55.908334Z"
    }
   },
   "outputs": [],
   "source": [
    "test, train = pp.algorithms.evaluation.train_test_split(n, test_size = 0.25)\n",
    "print(test)\n",
    "print(train)"
   ]
  },
  {
   "cell_type": "markdown",
   "metadata": {},
   "source": [
    "The method generates two new Network instances that refer to the same node and edge objects as the original network, i.e. the new objects do not consume a lot of memory. The original network instance is not changed. The uids of the newly generated networks will be set to the original uid with a suffix of `_test` and `_train` respectively.\n",
    "\n",
    "By default, the split will be made based on the nodes, and the train and test networks will include all incident edges for the corresponding node sets. This implies that some edges can be lost if the split is made along the endpoints. To preserve the number of edges, we can set the split method to `edge`. This will sample a random fraction of edges, and all nodes are added to both networks, i.e. the node sets between the two networks are identical. The sum of the edges of the training and test network equals the number of edges in the original network."
   ]
  },
  {
   "cell_type": "code",
   "execution_count": null,
   "metadata": {
    "execution": {
     "iopub.execute_input": "2021-05-11T10:11:55.921923Z",
     "iopub.status.busy": "2021-05-11T10:11:55.921439Z",
     "iopub.status.idle": "2021-05-11T10:11:55.924129Z",
     "shell.execute_reply": "2021-05-11T10:11:55.923721Z"
    }
   },
   "outputs": [],
   "source": [
    "test, train = pp.algorithms.evaluation.train_test_split(n, test_size = 0.25, split='edge')\n",
    "print(test)\n",
    "print(train)"
   ]
  },
  {
   "cell_type": "markdown",
   "metadata": {},
   "source": [
    "We can alternatively set the size of the training set:"
   ]
  },
  {
   "cell_type": "code",
   "execution_count": null,
   "metadata": {
    "execution": {
     "iopub.execute_input": "2021-05-11T10:11:55.937953Z",
     "iopub.status.busy": "2021-05-11T10:11:55.937457Z",
     "iopub.status.idle": "2021-05-11T10:11:55.939779Z",
     "shell.execute_reply": "2021-05-11T10:11:55.940156Z"
    }
   },
   "outputs": [],
   "source": [
    "test, train = pp.algorithms.evaluation.train_test_split(n, train_size = 0.25, split='edge')\n",
    "print(test)\n",
    "print(train)"
   ]
  },
  {
   "cell_type": "markdown",
   "metadata": {},
   "source": [
    "Apart from static networks, we can also create cross-validation sets for temporal networks. For this, we first load a temporal network from the KONECT database:"
   ]
  },
  {
   "cell_type": "code",
   "execution_count": null,
   "metadata": {
    "execution": {
     "iopub.execute_input": "2021-05-11T10:11:55.944025Z",
     "iopub.status.busy": "2021-05-11T10:11:55.943564Z",
     "iopub.status.idle": "2021-05-11T10:11:58.075714Z",
     "shell.execute_reply": "2021-05-11T10:11:58.076329Z"
    }
   },
   "outputs": [],
   "source": [
    "tn = pp.io.konect.read_konect_name('sociopatterns-hypertext')\n",
    "print(tn)\n",
    "tn.plot()"
   ]
  },
  {
   "cell_type": "markdown",
   "metadata": {},
   "source": [
    "We can call the same function on a temporal network instance. By default, the split will be made based on the observed interactions, i.e. in the following example the first 75 % of all time-stamped interactions will be included in the training network, while the last 25 % will be included in the test network. "
   ]
  },
  {
   "cell_type": "code",
   "execution_count": null,
   "metadata": {
    "execution": {
     "iopub.execute_input": "2021-05-11T10:11:58.114919Z",
     "iopub.status.busy": "2021-05-11T10:11:58.104551Z",
     "iopub.status.idle": "2021-05-11T10:12:00.236951Z",
     "shell.execute_reply": "2021-05-11T10:12:00.237640Z"
    }
   },
   "outputs": [],
   "source": [
    "test, train = pp.algorithms.evaluation.train_test_split(tn, test_size=0.25)\n",
    "print(train)\n",
    "print(test)"
   ]
  },
  {
   "cell_type": "code",
   "execution_count": null,
   "metadata": {
    "execution": {
     "iopub.execute_input": "2021-05-11T10:12:00.312875Z",
     "iopub.status.busy": "2021-05-11T10:12:00.276443Z",
     "iopub.status.idle": "2021-05-11T10:12:00.440536Z",
     "shell.execute_reply": "2021-05-11T10:12:00.441214Z"
    }
   },
   "outputs": [],
   "source": [
    "train.plot()"
   ]
  },
  {
   "cell_type": "code",
   "execution_count": null,
   "metadata": {
    "execution": {
     "iopub.execute_input": "2021-05-11T10:12:00.490290Z",
     "iopub.status.busy": "2021-05-11T10:12:00.454338Z",
     "iopub.status.idle": "2021-05-11T10:12:01.079460Z",
     "shell.execute_reply": "2021-05-11T10:12:01.080118Z"
    }
   },
   "outputs": [],
   "source": [
    "test.plot()"
   ]
  },
  {
   "cell_type": "markdown",
   "metadata": {},
   "source": [
    "We can also split based on the observed time, i.e. here we include all interactions ocurring within in the first 75 % of the observed time period in the training network, while the remaining interactions are included in the test network."
   ]
  },
  {
   "cell_type": "code",
   "execution_count": null,
   "metadata": {
    "execution": {
     "iopub.execute_input": "2021-05-11T10:12:01.154410Z",
     "iopub.status.busy": "2021-05-11T10:12:01.118723Z",
     "iopub.status.idle": "2021-05-11T10:12:03.362853Z",
     "shell.execute_reply": "2021-05-11T10:12:03.363506Z"
    }
   },
   "outputs": [],
   "source": [
    "test, train = pp.algorithms.evaluation.train_test_split(tn, test_size=0.25, split='time')\n",
    "print(train)\n",
    "print(test)"
   ]
  },
  {
   "cell_type": "code",
   "execution_count": null,
   "metadata": {},
   "outputs": [],
   "source": []
  }
 ],
 "metadata": {
  "celltoolbar": "Tags",
  "kernelspec": {
   "display_name": "Python 3",
   "language": "python",
   "name": "python3"
  },
  "language_info": {
   "codemirror_mode": {
    "name": "ipython",
    "version": 3
   },
   "file_extension": ".py",
   "mimetype": "text/x-python",
   "name": "python",
   "nbconvert_exporter": "python",
   "pygments_lexer": "ipython3",
   "version": "3.9.4"
  },
  "metadata": {
   "interpreter": {
    "hash": "82db51cffef479cc4d0f53089378e5a2925f9e7adca31d741132ceba61ecca6f"
   }
  }
 },
 "nbformat": 4,
 "nbformat_minor": 4
}
