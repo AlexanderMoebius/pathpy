{
 "cells": [
  {
   "cell_type": "markdown",
   "metadata": {},
   "source": [
    "# Random Walks in Static Networks\n",
    "\n",
    "[Run notebook in Google Colab](https://colab.research.google.com/github/pathpy/pathpy/blob/master/doc/tutorial/random_walks.ipynb)  \n",
    "[Download notebook](https://github.com/pathpy/pathpy/raw/master/doc/tutorial/random_walks.ipynb)"
   ]
  },
  {
   "cell_type": "code",
   "execution_count": null,
   "metadata": {
    "execution": {
     "iopub.execute_input": "2021-04-30T00:16:37.177091Z",
     "iopub.status.busy": "2021-04-30T00:16:37.176442Z",
     "iopub.status.idle": "2021-04-30T00:16:43.232679Z",
     "shell.execute_reply": "2021-04-30T00:16:43.231850Z"
    },
    "tags": [
     "hide"
    ]
   },
   "outputs": [],
   "source": [
    "pip install git+git://github.com/pathpy/pathpy.git"
   ]
  },
  {
   "cell_type": "code",
   "execution_count": null,
   "metadata": {
    "execution": {
     "iopub.execute_input": "2021-04-30T00:16:43.236430Z",
     "iopub.status.busy": "2021-04-30T00:16:43.235855Z",
     "iopub.status.idle": "2021-04-30T00:16:43.963341Z",
     "shell.execute_reply": "2021-04-30T00:16:43.963851Z"
    }
   },
   "outputs": [],
   "source": [
    "import pathpy as pp\n",
    "from pprint import pprint"
   ]
  },
  {
   "cell_type": "markdown",
   "metadata": {},
   "source": [
    "We first generate a directed network with weighted edges:"
   ]
  },
  {
   "cell_type": "code",
   "execution_count": null,
   "metadata": {
    "execution": {
     "iopub.execute_input": "2021-04-30T00:16:43.968924Z",
     "iopub.status.busy": "2021-04-30T00:16:43.968392Z",
     "iopub.status.idle": "2021-04-30T00:16:43.973133Z",
     "shell.execute_reply": "2021-04-30T00:16:43.973633Z"
    }
   },
   "outputs": [],
   "source": [
    "n = pp.Network(directed=True)\n",
    "n.add_edge('a', 'b', weight=1, uid='a-b')\n",
    "n.add_edge('b', 'c', weight=1, uid='b-c')\n",
    "n.add_edge('c', 'a', weight=2, uid='c-a')\n",
    "n.add_edge('c', 'd', weight=1, uid='c-d')\n",
    "n.add_edge('d', 'a', weight=1, uid='d-a')\n",
    "n.plot()"
   ]
  },
  {
   "cell_type": "markdown",
   "metadata": {},
   "source": [
    "To initialize a random walk process, we can generate a `RandomWalk` instance on the network. Specifying the `weight` attribute will lead to a biased random walk, where the transition probabilities are weighted by the respective numerical property:"
   ]
  },
  {
   "cell_type": "code",
   "execution_count": null,
   "metadata": {
    "execution": {
     "iopub.execute_input": "2021-04-30T00:16:43.978808Z",
     "iopub.status.busy": "2021-04-30T00:16:43.978340Z",
     "iopub.status.idle": "2021-04-30T00:16:43.981340Z",
     "shell.execute_reply": "2021-04-30T00:16:43.981831Z"
    }
   },
   "outputs": [],
   "source": [
    "rw = pp.processes.RandomWalk(n, weight='weight')"
   ]
  },
  {
   "cell_type": "markdown",
   "metadata": {},
   "source": [
    "We can inspect the transition matrix of the random walk process as follows. Using the function `matrix_pd` will return the matrix as a (nicely formatted) pandas DataFrame, while `matrix` returns the internal sparse matrix representation."
   ]
  },
  {
   "cell_type": "code",
   "execution_count": null,
   "metadata": {
    "execution": {
     "iopub.execute_input": "2021-04-30T00:16:43.987383Z",
     "iopub.status.busy": "2021-04-30T00:16:43.986824Z",
     "iopub.status.idle": "2021-04-30T00:16:43.988645Z",
     "shell.execute_reply": "2021-04-30T00:16:43.989144Z"
    }
   },
   "outputs": [],
   "source": [
    "print(rw.transition_matrix_pd())"
   ]
  },
  {
   "cell_type": "markdown",
   "metadata": {},
   "source": [
    "We can use the method `generate_walk` of the random walk instance to generate a random walk with a given length. If we specify `start_node`, the walk will start from the given node object. The method returns a `Path` object."
   ]
  },
  {
   "cell_type": "code",
   "execution_count": null,
   "metadata": {
    "execution": {
     "iopub.execute_input": "2021-04-30T00:16:43.993313Z",
     "iopub.status.busy": "2021-04-30T00:16:43.992780Z",
     "iopub.status.idle": "2021-04-30T00:16:43.994640Z",
     "shell.execute_reply": "2021-04-30T00:16:43.995133Z"
    }
   },
   "outputs": [],
   "source": [
    "for time, updated_nodes in rw.simulation_run(steps=10, seed='a'):\n",
    "    print('time = {0}, node = {1}'.format(time, updated_nodes[0]))"
   ]
  },
  {
   "cell_type": "code",
   "execution_count": null,
   "metadata": {
    "execution": {
     "iopub.execute_input": "2021-04-30T00:16:43.998155Z",
     "iopub.status.busy": "2021-04-30T00:16:43.997717Z",
     "iopub.status.idle": "2021-04-30T00:16:44.003661Z",
     "shell.execute_reply": "2021-04-30T00:16:44.004090Z"
    }
   },
   "outputs": [],
   "source": [
    "data = rw.run_experiment(steps=10, runs=['a', 'b'])\n",
    "print(data)"
   ]
  },
  {
   "cell_type": "code",
   "execution_count": null,
   "metadata": {
    "execution": {
     "iopub.execute_input": "2021-04-30T00:16:44.006730Z",
     "iopub.status.busy": "2021-04-30T00:16:44.006315Z",
     "iopub.status.idle": "2021-04-30T00:16:44.012479Z",
     "shell.execute_reply": "2021-04-30T00:16:44.012973Z"
    }
   },
   "outputs": [],
   "source": [
    "p = rw.get_path(data, 0)\n",
    "print([v for v in p.nodes])"
   ]
  },
  {
   "cell_type": "code",
   "execution_count": null,
   "metadata": {
    "execution": {
     "iopub.execute_input": "2021-04-30T00:16:44.017295Z",
     "iopub.status.busy": "2021-04-30T00:16:44.016653Z",
     "iopub.status.idle": "2021-04-30T00:16:44.018396Z",
     "shell.execute_reply": "2021-04-30T00:16:44.018832Z"
    }
   },
   "outputs": [],
   "source": [
    "pc = rw.get_paths(data, [0,1])\n",
    "print(pc)"
   ]
  },
  {
   "cell_type": "code",
   "execution_count": null,
   "metadata": {
    "execution": {
     "iopub.execute_input": "2021-04-30T00:16:44.021669Z",
     "iopub.status.busy": "2021-04-30T00:16:44.021259Z",
     "iopub.status.idle": "2021-04-30T00:16:44.030124Z",
     "shell.execute_reply": "2021-04-30T00:16:44.030548Z"
    }
   },
   "outputs": [],
   "source": [
    "rw.plot(data)"
   ]
  },
  {
   "cell_type": "markdown",
   "metadata": {},
   "source": [
    "If we omit the `start_node` argument, a random node will be chosen as start node."
   ]
  },
  {
   "cell_type": "code",
   "execution_count": null,
   "metadata": {
    "execution": {
     "iopub.execute_input": "2021-04-30T00:16:44.077751Z",
     "iopub.status.busy": "2021-04-30T00:16:44.077344Z",
     "iopub.status.idle": "2021-04-30T00:16:44.081770Z",
     "shell.execute_reply": "2021-04-30T00:16:44.082195Z"
    }
   },
   "outputs": [],
   "source": [
    "data = rw.run_experiment(steps=200, runs=2)\n",
    "rw.plot(data)"
   ]
  },
  {
   "cell_type": "markdown",
   "metadata": {},
   "source": [
    "We can generate a `PathCollection` that contains a given number of random walks with a given length specified by `steps_per_walk`. If the `start_nodes` argument is a numeric, the given number of walks will be generated, each walk starting from a random node."
   ]
  },
  {
   "cell_type": "code",
   "execution_count": null,
   "metadata": {
    "execution": {
     "iopub.execute_input": "2021-04-30T00:16:44.094613Z",
     "iopub.status.busy": "2021-04-30T00:16:44.094199Z",
     "iopub.status.idle": "2021-04-30T00:16:44.095890Z",
     "shell.execute_reply": "2021-04-30T00:16:44.096348Z"
    }
   },
   "outputs": [],
   "source": [
    "pc = rw.get_paths(rw.run_experiment(steps=10, runs=10))\n",
    "for p in pc:\n",
    "    print( tuple([v.uid for v in p.nodes]))"
   ]
  },
  {
   "cell_type": "markdown",
   "metadata": {},
   "source": [
    "If `start_nodes` is a list of `Node` objects, a single random walk will be generated for each start node. To generate a single random walk starting in each node of the network, we can write:"
   ]
  },
  {
   "cell_type": "code",
   "execution_count": null,
   "metadata": {
    "execution": {
     "iopub.execute_input": "2021-04-30T00:16:44.103675Z",
     "iopub.status.busy": "2021-04-30T00:16:44.103255Z",
     "iopub.status.idle": "2021-04-30T00:16:44.104918Z",
     "shell.execute_reply": "2021-04-30T00:16:44.105345Z"
    }
   },
   "outputs": [],
   "source": [
    "pc = rw.get_paths(rw.run_experiment(steps=10, runs=n.nodes.uids))\n",
    "for p in pc:\n",
    "    print(tuple([ v.uid for v in p.nodes ]))"
   ]
  },
  {
   "cell_type": "markdown",
   "metadata": {},
   "source": [
    "We can also use an iterator interface to iteratively perform random walk steps. I neach step, we can assess the current state of the random walk at time t."
   ]
  },
  {
   "cell_type": "code",
   "execution_count": null,
   "metadata": {
    "execution": {
     "iopub.execute_input": "2021-04-30T00:16:44.110680Z",
     "iopub.status.busy": "2021-04-30T00:16:44.110236Z",
     "iopub.status.idle": "2021-04-30T00:16:44.111969Z",
     "shell.execute_reply": "2021-04-30T00:16:44.112397Z"
    }
   },
   "outputs": [],
   "source": [
    "for time, _ in rw.simulation_run(10, seed='a'):\n",
    "    print('Current node = {0}'.format(rw.current_node))\n",
    "    print('Current time = {0}'.format(rw.time))\n",
    "    print(rw.visitation_frequencies)    \n",
    "    print(rw.total_variation_distance)"
   ]
  },
  {
   "cell_type": "markdown",
   "metadata": {},
   "source": [
    "The visitation probabilities after t steps for a given start node can be computed using the `visitation_probabilities` function."
   ]
  },
  {
   "cell_type": "code",
   "execution_count": null,
   "metadata": {
    "execution": {
     "iopub.execute_input": "2021-04-30T00:16:44.115161Z",
     "iopub.status.busy": "2021-04-30T00:16:44.114748Z",
     "iopub.status.idle": "2021-04-30T00:16:44.117419Z",
     "shell.execute_reply": "2021-04-30T00:16:44.117861Z"
    }
   },
   "outputs": [],
   "source": [
    "rw.visitation_probabilities(0, seed='a')"
   ]
  },
  {
   "cell_type": "code",
   "execution_count": null,
   "metadata": {
    "execution": {
     "iopub.execute_input": "2021-04-30T00:16:44.120231Z",
     "iopub.status.busy": "2021-04-30T00:16:44.119786Z",
     "iopub.status.idle": "2021-04-30T00:16:44.122230Z",
     "shell.execute_reply": "2021-04-30T00:16:44.122661Z"
    }
   },
   "outputs": [],
   "source": [
    "rw.visitation_probabilities(1, seed='a')"
   ]
  },
  {
   "cell_type": "code",
   "execution_count": null,
   "metadata": {
    "execution": {
     "iopub.execute_input": "2021-04-30T00:16:44.126318Z",
     "iopub.status.busy": "2021-04-30T00:16:44.125772Z",
     "iopub.status.idle": "2021-04-30T00:16:44.127859Z",
     "shell.execute_reply": "2021-04-30T00:16:44.128319Z"
    }
   },
   "outputs": [],
   "source": [
    "rw.visitation_probabilities(100, seed='a')"
   ]
  },
  {
   "cell_type": "markdown",
   "metadata": {},
   "source": [
    "The stationary visitation probabilities for $t \\rightarrow \\infty$ can be computed as follows:"
   ]
  },
  {
   "cell_type": "code",
   "execution_count": null,
   "metadata": {
    "execution": {
     "iopub.execute_input": "2021-04-30T00:16:44.131039Z",
     "iopub.status.busy": "2021-04-30T00:16:44.130598Z",
     "iopub.status.idle": "2021-04-30T00:16:44.132669Z",
     "shell.execute_reply": "2021-04-30T00:16:44.133139Z"
    }
   },
   "outputs": [],
   "source": [
    "rw.stationary_state()"
   ]
  }
 ],
 "metadata": {
  "celltoolbar": "Tags",
  "kernelspec": {
   "display_name": "Python 3",
   "language": "python",
   "name": "python3"
  },
  "language_info": {
   "codemirror_mode": {
    "name": "ipython",
    "version": 3
   },
   "file_extension": ".py",
   "mimetype": "text/x-python",
   "name": "python",
   "nbconvert_exporter": "python",
   "pygments_lexer": "ipython3",
   "version": "3.8.5"
  },
  "metadata": {
   "interpreter": {
    "hash": "82db51cffef479cc4d0f53089378e5a2925f9e7adca31d741132ceba61ecca6f"
   }
  }
 },
 "nbformat": 4,
 "nbformat_minor": 4
}
