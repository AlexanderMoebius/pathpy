{
 "cells": [
  {
   "cell_type": "markdown",
   "metadata": {},
   "source": [
    "# Random Walks in Static Networks\n",
    "\n",
    "[Run notebook in Google Colab](https://colab.research.google.com/github/pathpy/pathpy/blob/master/doc/tutorial/random_walks.ipynb)"
   ]
  },
  {
   "cell_type": "code",
   "execution_count": null,
   "metadata": {
    "execution": {
     "iopub.execute_input": "2021-04-28T11:47:05.028816Z",
     "iopub.status.busy": "2021-04-28T11:47:05.028173Z",
     "iopub.status.idle": "2021-04-28T11:47:10.434485Z",
     "shell.execute_reply": "2021-04-28T11:47:10.435179Z"
    },
    "tags": [
     "hide"
    ]
   },
   "outputs": [],
   "source": [
    "pip install git+git://github.com/pathpy/pathpy.git"
   ]
  },
  {
   "cell_type": "code",
   "execution_count": null,
   "metadata": {
    "execution": {
     "iopub.execute_input": "2021-04-28T11:47:10.439533Z",
     "iopub.status.busy": "2021-04-28T11:47:10.438916Z",
     "iopub.status.idle": "2021-04-28T11:47:10.957573Z",
     "shell.execute_reply": "2021-04-28T11:47:10.958009Z"
    }
   },
   "outputs": [],
   "source": [
    "import pathpy as pp\n",
    "from pprint import pprint"
   ]
  },
  {
   "cell_type": "markdown",
   "metadata": {},
   "source": [
    "We first generate a directed network with weighted edges:"
   ]
  },
  {
   "cell_type": "code",
   "execution_count": null,
   "metadata": {
    "execution": {
     "iopub.execute_input": "2021-04-28T11:47:10.961784Z",
     "iopub.status.busy": "2021-04-28T11:47:10.961386Z",
     "iopub.status.idle": "2021-04-28T11:47:10.963233Z",
     "shell.execute_reply": "2021-04-28T11:47:10.963636Z"
    }
   },
   "outputs": [],
   "source": [
    "n = pp.Network(directed=False)\n",
    "n.add_edge('a', 'b', weight=1, uid='a-b')\n",
    "n.add_edge('b', 'c', weight=1, uid='b-c')\n",
    "n.add_edge('c', 'a', weight=2, uid='c-a')\n",
    "n.add_edge('c', 'd', weight=1, uid='c-d')\n",
    "n.add_edge('d', 'a', weight=1, uid='d-a')"
   ]
  },
  {
   "cell_type": "markdown",
   "metadata": {},
   "source": [
    "To initialize a random walk process, we can generate a `RandomWalk` instance on the network. Specifying the `weight` attribute will lead to a biased random walk, where the transition probabilities are weighted by the respective numerical property:"
   ]
  },
  {
   "cell_type": "code",
   "execution_count": null,
   "metadata": {
    "execution": {
     "iopub.execute_input": "2021-04-28T11:47:10.968305Z",
     "iopub.status.busy": "2021-04-28T11:47:10.967923Z",
     "iopub.status.idle": "2021-04-28T11:47:10.970885Z",
     "shell.execute_reply": "2021-04-28T11:47:10.971302Z"
    }
   },
   "outputs": [],
   "source": [
    "rw = pp.processes.RandomWalk(n, weight='weight')"
   ]
  },
  {
   "cell_type": "markdown",
   "metadata": {},
   "source": [
    "We can inspect the transition matrix of the random walk process as follows. Using the function `matrix_pd` will return the matrix as a (nicely formatted) pandas DataFrame, while `matrix` returns the internal sparse matrix representation."
   ]
  },
  {
   "cell_type": "code",
   "execution_count": null,
   "metadata": {
    "execution": {
     "iopub.execute_input": "2021-04-28T11:47:10.976291Z",
     "iopub.status.busy": "2021-04-28T11:47:10.975796Z",
     "iopub.status.idle": "2021-04-28T11:47:10.977725Z",
     "shell.execute_reply": "2021-04-28T11:47:10.978129Z"
    }
   },
   "outputs": [],
   "source": [
    "print(rw.matrix_pd())"
   ]
  },
  {
   "cell_type": "code",
   "execution_count": null,
   "metadata": {
    "execution": {
     "iopub.execute_input": "2021-04-28T11:47:10.980838Z",
     "iopub.status.busy": "2021-04-28T11:47:10.980361Z",
     "iopub.status.idle": "2021-04-28T11:47:10.982038Z",
     "shell.execute_reply": "2021-04-28T11:47:10.982444Z"
    }
   },
   "outputs": [],
   "source": [
    "pprint(rw.matrix)"
   ]
  },
  {
   "cell_type": "markdown",
   "metadata": {},
   "source": [
    "We can use the method `generate_walk` of the random walk instance to generate a random walk with a given length. If we specify `start_node`, the walk will start from the given node object. The method returns a `Path` object."
   ]
  },
  {
   "cell_type": "code",
   "execution_count": null,
   "metadata": {
    "execution": {
     "iopub.execute_input": "2021-04-28T11:47:10.985795Z",
     "iopub.status.busy": "2021-04-28T11:47:10.985236Z",
     "iopub.status.idle": "2021-04-28T11:47:10.987532Z",
     "shell.execute_reply": "2021-04-28T11:47:10.987971Z"
    }
   },
   "outputs": [],
   "source": [
    "p = rw.generate_walk(steps=10, start_node=n.nodes['a'])\n",
    "print(p)\n",
    "pprint([v.uid for v in p.nodes ]) "
   ]
  },
  {
   "cell_type": "markdown",
   "metadata": {},
   "source": [
    "If we omit the `start_node` argument, a random node will be chosen as start node."
   ]
  },
  {
   "cell_type": "code",
   "execution_count": null,
   "metadata": {
    "execution": {
     "iopub.execute_input": "2021-04-28T11:47:10.990788Z",
     "iopub.status.busy": "2021-04-28T11:47:10.990336Z",
     "iopub.status.idle": "2021-04-28T11:47:10.991975Z",
     "shell.execute_reply": "2021-04-28T11:47:10.992445Z"
    }
   },
   "outputs": [],
   "source": [
    "p = rw.generate_walk(steps=10)\n",
    "print(p)\n",
    "pprint([v.uid for v in p.nodes ]) "
   ]
  },
  {
   "cell_type": "markdown",
   "metadata": {},
   "source": [
    "We can generate a `PathCollection` that contains a given number of random walks with a given length specified by `steps_per_walk`. If the `start_nodes` argument is a numeric, the given number of walks will be generated, each walk starting from a random node."
   ]
  },
  {
   "cell_type": "code",
   "execution_count": null,
   "metadata": {
    "execution": {
     "iopub.execute_input": "2021-04-28T11:47:10.995812Z",
     "iopub.status.busy": "2021-04-28T11:47:10.995414Z",
     "iopub.status.idle": "2021-04-28T11:47:10.997213Z",
     "shell.execute_reply": "2021-04-28T11:47:10.997642Z"
    }
   },
   "outputs": [],
   "source": [
    "pc = rw.generate_walks(steps_per_walk=10, start_nodes=2)\n",
    "for p in pc:\n",
    "    print([ v.uid for v in p.nodes ])"
   ]
  },
  {
   "cell_type": "markdown",
   "metadata": {},
   "source": [
    "If `start_nodes` is a list of `Node` objects, a single random walk will be generated for each start node. To generate a single random walk starting in each node of the network, we can write:"
   ]
  },
  {
   "cell_type": "code",
   "execution_count": null,
   "metadata": {
    "execution": {
     "iopub.execute_input": "2021-04-28T11:47:11.001761Z",
     "iopub.status.busy": "2021-04-28T11:47:11.001372Z",
     "iopub.status.idle": "2021-04-28T11:47:11.003166Z",
     "shell.execute_reply": "2021-04-28T11:47:11.003580Z"
    }
   },
   "outputs": [],
   "source": [
    "pc = rw.generate_walks(steps_per_walk=10, start_nodes=n.nodes)\n",
    "for p in pc:\n",
    "    print([ v.uid for v in p.nodes ])"
   ]
  },
  {
   "cell_type": "markdown",
   "metadata": {},
   "source": [
    "We can also use an iterator interface to iteratively perform random walk steps. I neach step, we can assess the current state of the random walk at time t."
   ]
  },
  {
   "cell_type": "code",
   "execution_count": null,
   "metadata": {
    "execution": {
     "iopub.execute_input": "2021-04-28T11:47:11.006768Z",
     "iopub.status.busy": "2021-04-28T11:47:11.006368Z",
     "iopub.status.idle": "2021-04-28T11:47:11.011884Z",
     "shell.execute_reply": "2021-04-28T11:47:11.012404Z"
    }
   },
   "outputs": [],
   "source": [
    "for v in rw.walk(10, start_node=n.nodes['a']):\n",
    "    print('Current node = {0}'.format(v))\n",
    "    print('Current time = {0}'.format(rw.t))\n",
    "    print(rw.visitation_frequencies())"
   ]
  },
  {
   "cell_type": "markdown",
   "metadata": {},
   "source": [
    "The visitation probabilities after t steps for a given start node can be computed using the `visitation_probabilities` function."
   ]
  },
  {
   "cell_type": "code",
   "execution_count": null,
   "metadata": {
    "execution": {
     "iopub.execute_input": "2021-04-28T11:47:11.015714Z",
     "iopub.status.busy": "2021-04-28T11:47:11.014946Z",
     "iopub.status.idle": "2021-04-28T11:47:11.017857Z",
     "shell.execute_reply": "2021-04-28T11:47:11.018297Z"
    }
   },
   "outputs": [],
   "source": [
    "rw.visitation_probabilities(0, start_node=n.nodes['a'])"
   ]
  },
  {
   "cell_type": "code",
   "execution_count": null,
   "metadata": {
    "execution": {
     "iopub.execute_input": "2021-04-28T11:47:11.020827Z",
     "iopub.status.busy": "2021-04-28T11:47:11.020227Z",
     "iopub.status.idle": "2021-04-28T11:47:11.022734Z",
     "shell.execute_reply": "2021-04-28T11:47:11.023146Z"
    }
   },
   "outputs": [],
   "source": [
    "rw.visitation_probabilities(1, start_node=n.nodes['a'])"
   ]
  },
  {
   "cell_type": "code",
   "execution_count": null,
   "metadata": {
    "execution": {
     "iopub.execute_input": "2021-04-28T11:47:11.026683Z",
     "iopub.status.busy": "2021-04-28T11:47:11.026206Z",
     "iopub.status.idle": "2021-04-28T11:47:11.028138Z",
     "shell.execute_reply": "2021-04-28T11:47:11.028576Z"
    }
   },
   "outputs": [],
   "source": [
    "rw.visitation_probabilities(100, start_node=n.nodes['a'])"
   ]
  },
  {
   "cell_type": "markdown",
   "metadata": {},
   "source": [
    "The stationary visitation probabilities for $t \\rightarrow \\infty$ can be computed as follows:"
   ]
  },
  {
   "cell_type": "code",
   "execution_count": null,
   "metadata": {
    "execution": {
     "iopub.execute_input": "2021-04-28T11:47:11.031082Z",
     "iopub.status.busy": "2021-04-28T11:47:11.030672Z",
     "iopub.status.idle": "2021-04-28T11:47:11.032429Z",
     "shell.execute_reply": "2021-04-28T11:47:11.032894Z"
    }
   },
   "outputs": [],
   "source": [
    "rw.stationary_probabilities()"
   ]
  }
 ],
 "metadata": {
  "celltoolbar": "Tags",
  "kernelspec": {
   "display_name": "Python 3",
   "language": "python",
   "name": "python3"
  },
  "language_info": {
   "codemirror_mode": {
    "name": "ipython",
    "version": 3
   },
   "file_extension": ".py",
   "mimetype": "text/x-python",
   "name": "python",
   "nbconvert_exporter": "python",
   "pygments_lexer": "ipython3",
   "version": "3.8.5"
  }
 },
 "nbformat": 4,
 "nbformat_minor": 4
}
