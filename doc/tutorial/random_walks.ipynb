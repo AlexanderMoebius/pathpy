{
 "cells": [
  {
   "cell_type": "markdown",
   "metadata": {},
   "source": [
    "# Random Walks in Static Networks\n",
    "\n",
    "[Open notebook in Google Colab](https://colab.research.google.com/github/pathpy/pathpy/blob/master/doc/tutorial/random_walks.ipynb)"
   ]
  },
  {
   "cell_type": "code",
   "execution_count": null,
   "metadata": {
    "tags": [
     "hide"
    ]
   },
   "outputs": [],
   "source": [
    "pip install git+git://github.com/pathpy/pathpy.git"
   ]
  },
  {
   "cell_type": "code",
   "execution_count": null,
   "metadata": {
    "execution": {
     "iopub.execute_input": "2021-04-27T15:26:40.192789Z",
     "iopub.status.busy": "2021-04-27T15:26:40.192141Z",
     "iopub.status.idle": "2021-04-27T15:26:40.737137Z",
     "shell.execute_reply": "2021-04-27T15:26:40.737634Z"
    }
   },
   "outputs": [],
   "source": [
    "import pathpy as pp\n",
    "from pprint import pprint"
   ]
  },
  {
   "cell_type": "markdown",
   "metadata": {},
   "source": [
    "We first generate a directed network with weighted edges:"
   ]
  },
  {
   "cell_type": "code",
   "execution_count": null,
   "metadata": {
    "execution": {
     "iopub.execute_input": "2021-04-27T15:26:40.741528Z",
     "iopub.status.busy": "2021-04-27T15:26:40.741085Z",
     "iopub.status.idle": "2021-04-27T15:26:40.742784Z",
     "shell.execute_reply": "2021-04-27T15:26:40.743272Z"
    }
   },
   "outputs": [],
   "source": [
    "n = pp.Network(directed=False)\n",
    "n.add_edge('a', 'b', weight=1, uid='a-b')\n",
    "n.add_edge('b', 'c', weight=1, uid='b-c')\n",
    "n.add_edge('c', 'a', weight=2, uid='c-a')\n",
    "n.add_edge('c', 'd', weight=1, uid='c-d')\n",
    "n.add_edge('d', 'a', weight=1, uid='d-a')"
   ]
  },
  {
   "cell_type": "markdown",
   "metadata": {},
   "source": [
    "To initialize a random walk process, we can generate a `RandomWalk` instance on the network. Specifying the `weight` attribute will lead to a biased random walk, where the transition probabilities are weighted by the respective numerical property:"
   ]
  },
  {
   "cell_type": "code",
   "execution_count": null,
   "metadata": {
    "execution": {
     "iopub.execute_input": "2021-04-27T15:26:40.748416Z",
     "iopub.status.busy": "2021-04-27T15:26:40.747977Z",
     "iopub.status.idle": "2021-04-27T15:26:40.750833Z",
     "shell.execute_reply": "2021-04-27T15:26:40.751273Z"
    }
   },
   "outputs": [],
   "source": [
    "rw = pp.processes.RandomWalk(n, weight='weight')"
   ]
  },
  {
   "cell_type": "markdown",
   "metadata": {},
   "source": [
    "We can inspect the transition matrix of the random walk process as follows. Using the function `matrix_pd` will return the matrix as a (nicely formatted) pandas DataFrame, while `matrix` returns the internal sparse matrix representation."
   ]
  },
  {
   "cell_type": "code",
   "execution_count": null,
   "metadata": {
    "execution": {
     "iopub.execute_input": "2021-04-27T15:26:40.757402Z",
     "iopub.status.busy": "2021-04-27T15:26:40.756925Z",
     "iopub.status.idle": "2021-04-27T15:26:40.758755Z",
     "shell.execute_reply": "2021-04-27T15:26:40.759219Z"
    }
   },
   "outputs": [],
   "source": [
    "print(rw.matrix_pd())"
   ]
  },
  {
   "cell_type": "code",
   "execution_count": null,
   "metadata": {
    "execution": {
     "iopub.execute_input": "2021-04-27T15:26:40.761977Z",
     "iopub.status.busy": "2021-04-27T15:26:40.761478Z",
     "iopub.status.idle": "2021-04-27T15:26:40.763055Z",
     "shell.execute_reply": "2021-04-27T15:26:40.763491Z"
    }
   },
   "outputs": [],
   "source": [
    "pprint(rw.matrix)"
   ]
  },
  {
   "cell_type": "markdown",
   "metadata": {},
   "source": [
    "We can use the method `generate_walk` of the random walk instance to generate a random walk with a given length. If we specify `start_node`, the walk will start from the given node object. The method returns a `Path` object."
   ]
  },
  {
   "cell_type": "code",
   "execution_count": null,
   "metadata": {
    "execution": {
     "iopub.execute_input": "2021-04-27T15:26:40.766555Z",
     "iopub.status.busy": "2021-04-27T15:26:40.766094Z",
     "iopub.status.idle": "2021-04-27T15:26:40.767898Z",
     "shell.execute_reply": "2021-04-27T15:26:40.768605Z"
    }
   },
   "outputs": [],
   "source": [
    "p = rw.generate_walk(steps=10, start_node=n.nodes['a'])\n",
    "print(p)\n",
    "pprint([v.uid for v in p.nodes ]) "
   ]
  },
  {
   "cell_type": "markdown",
   "metadata": {},
   "source": [
    "If we omit the `start_node` argument, a random node will be chosen as start node."
   ]
  },
  {
   "cell_type": "code",
   "execution_count": null,
   "metadata": {
    "execution": {
     "iopub.execute_input": "2021-04-27T15:26:40.771488Z",
     "iopub.status.busy": "2021-04-27T15:26:40.771077Z",
     "iopub.status.idle": "2021-04-27T15:26:40.772650Z",
     "shell.execute_reply": "2021-04-27T15:26:40.773072Z"
    }
   },
   "outputs": [],
   "source": [
    "p = rw.generate_walk(steps=10)\n",
    "print(p)\n",
    "pprint([v.uid for v in p.nodes ]) "
   ]
  },
  {
   "cell_type": "markdown",
   "metadata": {},
   "source": [
    "We can generate a `PathCollection` that contains a given number of random walks with a given length specified by `steps_per_walk`. If the `start_nodes` argument is a numeric, the given number of walks will be generated, each walk starting from a random node."
   ]
  },
  {
   "cell_type": "code",
   "execution_count": null,
   "metadata": {
    "execution": {
     "iopub.execute_input": "2021-04-27T15:26:40.776837Z",
     "iopub.status.busy": "2021-04-27T15:26:40.776161Z",
     "iopub.status.idle": "2021-04-27T15:26:40.778166Z",
     "shell.execute_reply": "2021-04-27T15:26:40.778626Z"
    }
   },
   "outputs": [],
   "source": [
    "pc = rw.generate_walks(steps_per_walk=10, start_nodes=2)\n",
    "for p in pc:\n",
    "    print([ v.uid for v in p.nodes ])"
   ]
  },
  {
   "cell_type": "markdown",
   "metadata": {},
   "source": [
    "If `start_nodes` is a list of `Node` objects, a single random walk will be generated for each start node. To generate a single random walk starting in each node of the network, we can write:"
   ]
  },
  {
   "cell_type": "code",
   "execution_count": null,
   "metadata": {
    "execution": {
     "iopub.execute_input": "2021-04-27T15:26:40.782294Z",
     "iopub.status.busy": "2021-04-27T15:26:40.781844Z",
     "iopub.status.idle": "2021-04-27T15:26:40.783422Z",
     "shell.execute_reply": "2021-04-27T15:26:40.784017Z"
    }
   },
   "outputs": [],
   "source": [
    "pc = rw.generate_walks(steps_per_walk=10, start_nodes=n.nodes)\n",
    "for p in pc:\n",
    "    print([ v.uid for v in p.nodes ])"
   ]
  },
  {
   "cell_type": "markdown",
   "metadata": {},
   "source": [
    "We can also use an iterator interface to iteratively perform random walk steps. I neach step, we can assess the current state of the random walk at time t."
   ]
  },
  {
   "cell_type": "code",
   "execution_count": null,
   "metadata": {
    "execution": {
     "iopub.execute_input": "2021-04-27T15:26:40.787121Z",
     "iopub.status.busy": "2021-04-27T15:26:40.786712Z",
     "iopub.status.idle": "2021-04-27T15:26:40.793155Z",
     "shell.execute_reply": "2021-04-27T15:26:40.793587Z"
    }
   },
   "outputs": [],
   "source": [
    "for v in rw.walk(10, start_node=n.nodes['a']):\n",
    "    print('Current node = {0}'.format(v))\n",
    "    print('Current time = {0}'.format(rw.t))\n",
    "    print(rw.visitation_frequencies())"
   ]
  },
  {
   "cell_type": "markdown",
   "metadata": {},
   "source": [
    "The visitation probabilities after t steps for a given start node can be computed using the `visitation_probabilities` function."
   ]
  },
  {
   "cell_type": "code",
   "execution_count": null,
   "metadata": {
    "execution": {
     "iopub.execute_input": "2021-04-27T15:26:40.796394Z",
     "iopub.status.busy": "2021-04-27T15:26:40.795796Z",
     "iopub.status.idle": "2021-04-27T15:26:40.798138Z",
     "shell.execute_reply": "2021-04-27T15:26:40.798561Z"
    }
   },
   "outputs": [],
   "source": [
    "rw.visitation_probabilities(0, start_node=n.nodes['a'])"
   ]
  },
  {
   "cell_type": "code",
   "execution_count": null,
   "metadata": {
    "execution": {
     "iopub.execute_input": "2021-04-27T15:26:40.801987Z",
     "iopub.status.busy": "2021-04-27T15:26:40.801313Z",
     "iopub.status.idle": "2021-04-27T15:26:40.803441Z",
     "shell.execute_reply": "2021-04-27T15:26:40.803905Z"
    }
   },
   "outputs": [],
   "source": [
    "rw.visitation_probabilities(1, start_node=n.nodes['a'])"
   ]
  },
  {
   "cell_type": "code",
   "execution_count": null,
   "metadata": {
    "execution": {
     "iopub.execute_input": "2021-04-27T15:26:40.807483Z",
     "iopub.status.busy": "2021-04-27T15:26:40.807034Z",
     "iopub.status.idle": "2021-04-27T15:26:40.809175Z",
     "shell.execute_reply": "2021-04-27T15:26:40.809660Z"
    }
   },
   "outputs": [],
   "source": [
    "rw.visitation_probabilities(100, start_node=n.nodes['a'])"
   ]
  },
  {
   "cell_type": "markdown",
   "metadata": {},
   "source": [
    "The stationary visitation probabilities for $t \\rightarrow \\infty$ can be computed as follows:"
   ]
  },
  {
   "cell_type": "code",
   "execution_count": null,
   "metadata": {
    "execution": {
     "iopub.execute_input": "2021-04-27T15:26:40.812241Z",
     "iopub.status.busy": "2021-04-27T15:26:40.811800Z",
     "iopub.status.idle": "2021-04-27T15:26:40.813586Z",
     "shell.execute_reply": "2021-04-27T15:26:40.814007Z"
    }
   },
   "outputs": [],
   "source": [
    "rw.stationary_probabilities()"
   ]
  }
 ],
 "metadata": {
  "celltoolbar": "Tags",
  "kernelspec": {
   "display_name": "Python 3.7.4 64-bit",
   "language": "python",
   "name": "python37464bit955f4811db0441eba2efbde262696f05"
  },
  "language_info": {
   "codemirror_mode": {
    "name": "ipython",
    "version": 3
   },
   "file_extension": ".py",
   "mimetype": "text/x-python",
   "name": "python",
   "nbconvert_exporter": "python",
   "pygments_lexer": "ipython3",
   "version": "3.8.5"
  }
 },
 "nbformat": 4,
 "nbformat_minor": 2
}
