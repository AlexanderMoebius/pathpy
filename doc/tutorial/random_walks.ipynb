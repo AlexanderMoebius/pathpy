{
 "cells": [
  {
   "cell_type": "markdown",
   "metadata": {},
   "source": [
    "# Random Walks in Static Networks\n",
    "\n",
    "[Open notebook in Google Colab](https://colab.research.google.com/github/pathpy/pathpy/blob/master/doc/tutorial/random_walks.ipynb)"
   ]
  },
  {
   "cell_type": "code",
   "execution_count": null,
   "metadata": {
    "execution": {
     "iopub.execute_input": "2021-04-27T17:08:58.335481Z",
     "iopub.status.busy": "2021-04-27T17:08:58.334835Z",
     "iopub.status.idle": "2021-04-27T17:09:03.548808Z",
     "shell.execute_reply": "2021-04-27T17:09:03.549479Z"
    },
    "tags": [
     "hide"
    ]
   },
   "outputs": [],
   "source": [
    "pip install git+git://github.com/pathpy/pathpy.git"
   ]
  },
  {
   "cell_type": "code",
   "execution_count": null,
   "metadata": {
    "execution": {
     "iopub.execute_input": "2021-04-27T17:09:03.553453Z",
     "iopub.status.busy": "2021-04-27T17:09:03.552884Z",
     "iopub.status.idle": "2021-04-27T17:09:04.067381Z",
     "shell.execute_reply": "2021-04-27T17:09:04.067805Z"
    }
   },
   "outputs": [],
   "source": [
    "import pathpy as pp\n",
    "from pprint import pprint"
   ]
  },
  {
   "cell_type": "markdown",
   "metadata": {},
   "source": [
    "We first generate a directed network with weighted edges:"
   ]
  },
  {
   "cell_type": "code",
   "execution_count": null,
   "metadata": {
    "execution": {
     "iopub.execute_input": "2021-04-27T17:09:04.071568Z",
     "iopub.status.busy": "2021-04-27T17:09:04.071122Z",
     "iopub.status.idle": "2021-04-27T17:09:04.072655Z",
     "shell.execute_reply": "2021-04-27T17:09:04.073127Z"
    }
   },
   "outputs": [],
   "source": [
    "n = pp.Network(directed=False)\n",
    "n.add_edge('a', 'b', weight=1, uid='a-b')\n",
    "n.add_edge('b', 'c', weight=1, uid='b-c')\n",
    "n.add_edge('c', 'a', weight=2, uid='c-a')\n",
    "n.add_edge('c', 'd', weight=1, uid='c-d')\n",
    "n.add_edge('d', 'a', weight=1, uid='d-a')"
   ]
  },
  {
   "cell_type": "markdown",
   "metadata": {},
   "source": [
    "To initialize a random walk process, we can generate a `RandomWalk` instance on the network. Specifying the `weight` attribute will lead to a biased random walk, where the transition probabilities are weighted by the respective numerical property:"
   ]
  },
  {
   "cell_type": "code",
   "execution_count": null,
   "metadata": {
    "execution": {
     "iopub.execute_input": "2021-04-27T17:09:04.078168Z",
     "iopub.status.busy": "2021-04-27T17:09:04.077713Z",
     "iopub.status.idle": "2021-04-27T17:09:04.080455Z",
     "shell.execute_reply": "2021-04-27T17:09:04.080908Z"
    }
   },
   "outputs": [],
   "source": [
    "rw = pp.processes.RandomWalk(n, weight='weight')"
   ]
  },
  {
   "cell_type": "markdown",
   "metadata": {},
   "source": [
    "We can inspect the transition matrix of the random walk process as follows. Using the function `matrix_pd` will return the matrix as a (nicely formatted) pandas DataFrame, while `matrix` returns the internal sparse matrix representation."
   ]
  },
  {
   "cell_type": "code",
   "execution_count": null,
   "metadata": {
    "execution": {
     "iopub.execute_input": "2021-04-27T17:09:04.086013Z",
     "iopub.status.busy": "2021-04-27T17:09:04.085530Z",
     "iopub.status.idle": "2021-04-27T17:09:04.087382Z",
     "shell.execute_reply": "2021-04-27T17:09:04.087810Z"
    }
   },
   "outputs": [],
   "source": [
    "print(rw.matrix_pd())"
   ]
  },
  {
   "cell_type": "code",
   "execution_count": null,
   "metadata": {
    "execution": {
     "iopub.execute_input": "2021-04-27T17:09:04.090183Z",
     "iopub.status.busy": "2021-04-27T17:09:04.089782Z",
     "iopub.status.idle": "2021-04-27T17:09:04.091512Z",
     "shell.execute_reply": "2021-04-27T17:09:04.091913Z"
    }
   },
   "outputs": [],
   "source": [
    "pprint(rw.matrix)"
   ]
  },
  {
   "cell_type": "markdown",
   "metadata": {},
   "source": [
    "We can use the method `generate_walk` of the random walk instance to generate a random walk with a given length. If we specify `start_node`, the walk will start from the given node object. The method returns a `Path` object."
   ]
  },
  {
   "cell_type": "code",
   "execution_count": null,
   "metadata": {
    "execution": {
     "iopub.execute_input": "2021-04-27T17:09:04.095108Z",
     "iopub.status.busy": "2021-04-27T17:09:04.094639Z",
     "iopub.status.idle": "2021-04-27T17:09:04.097167Z",
     "shell.execute_reply": "2021-04-27T17:09:04.096745Z"
    }
   },
   "outputs": [],
   "source": [
    "p = rw.generate_walk(steps=10, start_node=n.nodes['a'])\n",
    "print(p)\n",
    "pprint([v.uid for v in p.nodes ]) "
   ]
  },
  {
   "cell_type": "markdown",
   "metadata": {},
   "source": [
    "If we omit the `start_node` argument, a random node will be chosen as start node."
   ]
  },
  {
   "cell_type": "code",
   "execution_count": null,
   "metadata": {
    "execution": {
     "iopub.execute_input": "2021-04-27T17:09:04.100305Z",
     "iopub.status.busy": "2021-04-27T17:09:04.099818Z",
     "iopub.status.idle": "2021-04-27T17:09:04.101630Z",
     "shell.execute_reply": "2021-04-27T17:09:04.102027Z"
    }
   },
   "outputs": [],
   "source": [
    "p = rw.generate_walk(steps=10)\n",
    "print(p)\n",
    "pprint([v.uid for v in p.nodes ]) "
   ]
  },
  {
   "cell_type": "markdown",
   "metadata": {},
   "source": [
    "We can generate a `PathCollection` that contains a given number of random walks with a given length specified by `steps_per_walk`. If the `start_nodes` argument is a numeric, the given number of walks will be generated, each walk starting from a random node."
   ]
  },
  {
   "cell_type": "code",
   "execution_count": null,
   "metadata": {
    "execution": {
     "iopub.execute_input": "2021-04-27T17:09:04.105342Z",
     "iopub.status.busy": "2021-04-27T17:09:04.104943Z",
     "iopub.status.idle": "2021-04-27T17:09:04.106794Z",
     "shell.execute_reply": "2021-04-27T17:09:04.107187Z"
    }
   },
   "outputs": [],
   "source": [
    "pc = rw.generate_walks(steps_per_walk=10, start_nodes=2)\n",
    "for p in pc:\n",
    "    print([ v.uid for v in p.nodes ])"
   ]
  },
  {
   "cell_type": "markdown",
   "metadata": {},
   "source": [
    "If `start_nodes` is a list of `Node` objects, a single random walk will be generated for each start node. To generate a single random walk starting in each node of the network, we can write:"
   ]
  },
  {
   "cell_type": "code",
   "execution_count": null,
   "metadata": {
    "execution": {
     "iopub.execute_input": "2021-04-27T17:09:04.111340Z",
     "iopub.status.busy": "2021-04-27T17:09:04.110881Z",
     "iopub.status.idle": "2021-04-27T17:09:04.112676Z",
     "shell.execute_reply": "2021-04-27T17:09:04.113068Z"
    }
   },
   "outputs": [],
   "source": [
    "pc = rw.generate_walks(steps_per_walk=10, start_nodes=n.nodes)\n",
    "for p in pc:\n",
    "    print([ v.uid for v in p.nodes ])"
   ]
  },
  {
   "cell_type": "markdown",
   "metadata": {},
   "source": [
    "We can also use an iterator interface to iteratively perform random walk steps. I neach step, we can assess the current state of the random walk at time t."
   ]
  },
  {
   "cell_type": "code",
   "execution_count": null,
   "metadata": {
    "execution": {
     "iopub.execute_input": "2021-04-27T17:09:04.116489Z",
     "iopub.status.busy": "2021-04-27T17:09:04.115937Z",
     "iopub.status.idle": "2021-04-27T17:09:04.120544Z",
     "shell.execute_reply": "2021-04-27T17:09:04.120957Z"
    }
   },
   "outputs": [],
   "source": [
    "for v in rw.walk(10, start_node=n.nodes['a']):\n",
    "    print('Current node = {0}'.format(v))\n",
    "    print('Current time = {0}'.format(rw.t))\n",
    "    print(rw.visitation_frequencies())"
   ]
  },
  {
   "cell_type": "markdown",
   "metadata": {},
   "source": [
    "The visitation probabilities after t steps for a given start node can be computed using the `visitation_probabilities` function."
   ]
  },
  {
   "cell_type": "code",
   "execution_count": null,
   "metadata": {
    "execution": {
     "iopub.execute_input": "2021-04-27T17:09:04.123595Z",
     "iopub.status.busy": "2021-04-27T17:09:04.123042Z",
     "iopub.status.idle": "2021-04-27T17:09:04.126077Z",
     "shell.execute_reply": "2021-04-27T17:09:04.126622Z"
    }
   },
   "outputs": [],
   "source": [
    "rw.visitation_probabilities(0, start_node=n.nodes['a'])"
   ]
  },
  {
   "cell_type": "code",
   "execution_count": null,
   "metadata": {
    "execution": {
     "iopub.execute_input": "2021-04-27T17:09:04.129474Z",
     "iopub.status.busy": "2021-04-27T17:09:04.128965Z",
     "iopub.status.idle": "2021-04-27T17:09:04.131056Z",
     "shell.execute_reply": "2021-04-27T17:09:04.131459Z"
    }
   },
   "outputs": [],
   "source": [
    "rw.visitation_probabilities(1, start_node=n.nodes['a'])"
   ]
  },
  {
   "cell_type": "code",
   "execution_count": null,
   "metadata": {
    "execution": {
     "iopub.execute_input": "2021-04-27T17:09:04.134801Z",
     "iopub.status.busy": "2021-04-27T17:09:04.134390Z",
     "iopub.status.idle": "2021-04-27T17:09:04.136247Z",
     "shell.execute_reply": "2021-04-27T17:09:04.136653Z"
    }
   },
   "outputs": [],
   "source": [
    "rw.visitation_probabilities(100, start_node=n.nodes['a'])"
   ]
  },
  {
   "cell_type": "markdown",
   "metadata": {},
   "source": [
    "The stationary visitation probabilities for $t \\rightarrow \\infty$ can be computed as follows:"
   ]
  },
  {
   "cell_type": "code",
   "execution_count": null,
   "metadata": {
    "execution": {
     "iopub.execute_input": "2021-04-27T17:09:04.139114Z",
     "iopub.status.busy": "2021-04-27T17:09:04.138695Z",
     "iopub.status.idle": "2021-04-27T17:09:04.140452Z",
     "shell.execute_reply": "2021-04-27T17:09:04.140866Z"
    }
   },
   "outputs": [],
   "source": [
    "rw.stationary_probabilities()"
   ]
  }
 ],
 "metadata": {
  "celltoolbar": "Tags",
  "kernelspec": {
   "display_name": "Python 3.7.4 64-bit",
   "language": "python",
   "name": "python37464bit955f4811db0441eba2efbde262696f05"
  },
  "language_info": {
   "codemirror_mode": {
    "name": "ipython",
    "version": 3
   },
   "file_extension": ".py",
   "mimetype": "text/x-python",
   "name": "python",
   "nbconvert_exporter": "python",
   "pygments_lexer": "ipython3",
   "version": "3.8.5"
  }
 },
 "nbformat": 4,
 "nbformat_minor": 2
}
