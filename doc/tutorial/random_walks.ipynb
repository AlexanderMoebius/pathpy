{
 "cells": [
  {
   "cell_type": "markdown",
   "metadata": {},
   "source": [
    "# Random Walks in Static Networks\n",
    "\n",
    "[Run notebook in Google Colab](https://colab.research.google.com/github/pathpy/pathpy/blob/master/doc/tutorial/random_walks.ipynb)  \n",
    "[Download notebook](https://github.com/pathpy/pathpy/raw/master/doc/tutorial/random_walks.ipynb)\n",
    "\n",
    "Using the general interafce provided by the abstract class `pathpy.processes.BaseProcess` it is easy to simulate random walks. In the following, we demonstrate this in both a toy example and an empirical network. Let us first import pathoy and create a simple toy network."
   ]
  },
  {
   "cell_type": "code",
   "execution_count": null,
   "metadata": {
    "execution": {
     "iopub.execute_input": "2021-05-04T11:35:31.700309Z",
     "iopub.status.busy": "2021-05-04T11:35:31.699673Z",
     "iopub.status.idle": "2021-05-04T11:35:38.445289Z",
     "shell.execute_reply": "2021-05-04T11:35:38.446006Z"
    },
    "tags": [
     "hide"
    ]
   },
   "outputs": [],
   "source": [
    "pip install git+git://github.com/pathpy/pathpy.git"
   ]
  },
  {
   "cell_type": "code",
   "execution_count": null,
   "metadata": {
    "execution": {
     "iopub.execute_input": "2021-05-04T11:35:38.450323Z",
     "iopub.status.busy": "2021-05-04T11:35:38.449682Z",
     "iopub.status.idle": "2021-05-04T11:35:39.043673Z",
     "shell.execute_reply": "2021-05-04T11:35:39.044316Z"
    }
   },
   "outputs": [],
   "source": [
    "import pathpy as pp\n",
    "from pprint import pprint"
   ]
  },
  {
   "cell_type": "markdown",
   "metadata": {},
   "source": [
    "Our toy example is a directed network with four nodes and five weighted edges:"
   ]
  },
  {
   "cell_type": "code",
   "execution_count": null,
   "metadata": {
    "execution": {
     "iopub.execute_input": "2021-05-04T11:35:39.051088Z",
     "iopub.status.busy": "2021-05-04T11:35:39.050464Z",
     "iopub.status.idle": "2021-05-04T11:35:39.055913Z",
     "shell.execute_reply": "2021-05-04T11:35:39.056606Z"
    }
   },
   "outputs": [],
   "source": [
    "n = pp.Network(directed=True)\n",
    "n.add_edge('a', 'b', weight=1, uid='a-b')\n",
    "n.add_edge('b', 'c', weight=1, uid='b-c')\n",
    "n.add_edge('c', 'a', weight=2, uid='c-a')\n",
    "n.add_edge('c', 'd', weight=1, uid='c-d')\n",
    "n.add_edge('d', 'a', weight=1, uid='d-a')\n",
    "n.plot()"
   ]
  },
  {
   "cell_type": "markdown",
   "metadata": {},
   "source": [
    "To simulate a random walk in this network, we first create a `RandomWalk` instance. The constructor will generate a (sparse) transition matrix and use it to initialize the random walk sampling process for a specific network, which is why we need to pass the network instance as the first parameter. Specifying the optional second `weight` attribute will lead to a biased random walk, where the transition probabilities are weighted by the respective numerical property:"
   ]
  },
  {
   "cell_type": "code",
   "execution_count": null,
   "metadata": {
    "execution": {
     "iopub.execute_input": "2021-05-04T11:35:39.064000Z",
     "iopub.status.busy": "2021-05-04T11:35:39.063389Z",
     "iopub.status.idle": "2021-05-04T11:35:39.066958Z",
     "shell.execute_reply": "2021-05-04T11:35:39.067591Z"
    }
   },
   "outputs": [],
   "source": [
    "rw = pp.processes.RandomWalk(n, weight='weight')"
   ]
  },
  {
   "cell_type": "markdown",
   "metadata": {},
   "source": [
    "We can inspect the sparse transition matrix of the random walk process by using the function `rw.transition_matrix()`:"
   ]
  },
  {
   "cell_type": "code",
   "execution_count": null,
   "metadata": {
    "execution": {
     "iopub.execute_input": "2021-05-04T11:35:39.071721Z",
     "iopub.status.busy": "2021-05-04T11:35:39.071087Z",
     "iopub.status.idle": "2021-05-04T11:35:39.073504Z",
     "shell.execute_reply": "2021-05-04T11:35:39.074220Z"
    }
   },
   "outputs": [],
   "source": [
    "print(rw.transition_matrix)"
   ]
  },
  {
   "cell_type": "markdown",
   "metadata": {},
   "source": [
    "The function `transition_matrix_pd` returns the matrix as a (nicely formatted and properly labelled) pandas DataFrame, which makes it easy to read it:"
   ]
  },
  {
   "cell_type": "code",
   "execution_count": null,
   "metadata": {
    "execution": {
     "iopub.execute_input": "2021-05-04T11:35:39.082071Z",
     "iopub.status.busy": "2021-05-04T11:35:39.081383Z",
     "iopub.status.idle": "2021-05-04T11:35:39.083490Z",
     "shell.execute_reply": "2021-05-04T11:35:39.084125Z"
    }
   },
   "outputs": [],
   "source": [
    "print(rw.transition_matrix_pd())"
   ]
  },
  {
   "cell_type": "markdown",
   "metadata": {},
   "source": [
    "To compute the stationary visitation probabilites of the random walk, we can call:"
   ]
  },
  {
   "cell_type": "code",
   "execution_count": null,
   "metadata": {
    "execution": {
     "iopub.execute_input": "2021-05-04T11:35:39.088743Z",
     "iopub.status.busy": "2021-05-04T11:35:39.087936Z",
     "iopub.status.idle": "2021-05-04T11:35:39.090291Z",
     "shell.execute_reply": "2021-05-04T11:35:39.090996Z"
    }
   },
   "outputs": [],
   "source": [
    "rw.stationary_state()"
   ]
  },
  {
   "cell_type": "markdown",
   "metadata": {},
   "source": [
    "Following the general design of the class `BaseProcess`, we can use the iterator function `simulation_run` to iterate through the steps of a random walk with a given length. If we specify `seed`, the walk will start from the given node uid.\n",
    "\n",
    "In each step, the iterator will yield the current time, as well as a tuple containing those nodes whose state has changed. In the random walk process, this is the currently visited node (the first entry in the tuple) and the previous node, that is now not visited anymore (the second entry in the tuple). \n",
    "\n",
    "In each step, we can use properties and methods to access the current state of the random walk, e.g. we can output the current node visitation frequencies as well as the total variation distance to the stationary visitation probabilities. Note that the first iteration yields the status after the first transition, i.e. in the following example, the random walk is initialized in node `a` at time 0."
   ]
  },
  {
   "cell_type": "code",
   "execution_count": null,
   "metadata": {
    "execution": {
     "iopub.execute_input": "2021-05-04T11:35:39.099367Z",
     "iopub.status.busy": "2021-05-04T11:35:39.098775Z",
     "iopub.status.idle": "2021-05-04T11:35:39.100996Z",
     "shell.execute_reply": "2021-05-04T11:35:39.101599Z"
    }
   },
   "outputs": [],
   "source": [
    "for time, updated_nodes in rw.simulation_run(steps=10, seed='a'):\n",
    "    print('time = {0}, current node = {1}'.format(time, updated_nodes[0]))\n",
    "    pprint(rw.visitation_frequencies)\n",
    "    print(rw.total_variation_distance)"
   ]
  },
  {
   "cell_type": "markdown",
   "metadata": {},
   "source": [
    "We can use the function `run_experiment` to generate data on multiple runs of a random walker starting in different nodes. This method will return a data frame, that contains all node changes that ocurred during the simulations. To generate two runs of a random walk with 10 steps each, starting from node `a` and node `b` we thus call:"
   ]
  },
  {
   "cell_type": "code",
   "execution_count": null,
   "metadata": {
    "execution": {
     "iopub.execute_input": "2021-05-04T11:35:39.106122Z",
     "iopub.status.busy": "2021-05-04T11:35:39.105467Z",
     "iopub.status.idle": "2021-05-04T11:35:39.114983Z",
     "shell.execute_reply": "2021-05-04T11:35:39.115655Z"
    }
   },
   "outputs": [],
   "source": [
    "data = rw.run_experiment(steps=10, runs=['a', 'b'])\n",
    "print(data)"
   ]
  },
  {
   "cell_type": "markdown",
   "metadata": {},
   "source": [
    "While this data frame can be easily exported or visualised, we often want to retrieve `Path` objects that capture the trajectories of random walks. This allows, for instance, to fit higher-order models based on observed random walks. We can use the `get_path` function to retrieve a single path from the data recorded during an experiment. Here, we have to specify the `run_id` of the path that shall be extracted, a zero-based counter that is automatically generated during the experiment:"
   ]
  },
  {
   "cell_type": "code",
   "execution_count": null,
   "metadata": {
    "execution": {
     "iopub.execute_input": "2021-05-04T11:35:39.119903Z",
     "iopub.status.busy": "2021-05-04T11:35:39.119302Z",
     "iopub.status.idle": "2021-05-04T11:35:39.130228Z",
     "shell.execute_reply": "2021-05-04T11:35:39.130825Z"
    }
   },
   "outputs": [],
   "source": [
    "p = rw.get_path(data, 1)\n",
    "print(' -> '.join([v.uid for v in p.nodes]))"
   ]
  },
  {
   "cell_type": "markdown",
   "metadata": {},
   "source": [
    "If we omit the `run_id`, the first run (with ID 0) will be returned as a path:"
   ]
  },
  {
   "cell_type": "code",
   "execution_count": null,
   "metadata": {
    "execution": {
     "iopub.execute_input": "2021-05-04T11:35:39.135821Z",
     "iopub.status.busy": "2021-05-04T11:35:39.135184Z",
     "iopub.status.idle": "2021-05-04T11:35:39.137364Z",
     "shell.execute_reply": "2021-05-04T11:35:39.137984Z"
    }
   },
   "outputs": [],
   "source": [
    "p = rw.get_path(data)\n",
    "print(' -> '.join([v.uid for v in p.nodes]))"
   ]
  },
  {
   "cell_type": "markdown",
   "metadata": {},
   "source": [
    "We can use the `get_paths` function of the `RandomWalk` class to generate a `PathCollection` containing all paths captured by a list of run_ids (or all runs in a data frame if we omit the `run_ids` argument):"
   ]
  },
  {
   "cell_type": "code",
   "execution_count": null,
   "metadata": {
    "execution": {
     "iopub.execute_input": "2021-05-04T11:35:39.145134Z",
     "iopub.status.busy": "2021-05-04T11:35:39.144497Z",
     "iopub.status.idle": "2021-05-04T11:35:39.146639Z",
     "shell.execute_reply": "2021-05-04T11:35:39.147225Z"
    }
   },
   "outputs": [],
   "source": [
    "pc = rw.get_paths(data, run_ids=[0, 1])\n",
    "for p in pc:\n",
    "    print(' -> '.join([v.uid for v in p.nodes]))"
   ]
  },
  {
   "cell_type": "markdown",
   "metadata": {},
   "source": [
    "We can use the data frame returned by `run_experiment` to generate an interactive visualisation of the random walk process. We just have to pass the data frame to the `plot` function of the random walk instance. The result is a temporal network visualization, where we can use a slider bar to move forward and backward through time.\n",
    "\n",
    "The `plot` function accepts a `run_id` argument that defines which of the recorded random walks in `data` shall be visualised. If we omit this parameter, the first random walk will be visualised."
   ]
  },
  {
   "cell_type": "code",
   "execution_count": null,
   "metadata": {
    "execution": {
     "iopub.execute_input": "2021-05-04T11:35:39.151303Z",
     "iopub.status.busy": "2021-05-04T11:35:39.150733Z",
     "iopub.status.idle": "2021-05-04T11:35:39.161843Z",
     "shell.execute_reply": "2021-05-04T11:35:39.162369Z"
    }
   },
   "outputs": [],
   "source": [
    "rw.plot(data)"
   ]
  },
  {
   "cell_type": "markdown",
   "metadata": {},
   "source": [
    "Apart from specifying a list of start nodes, we can also give a number of runs that shall be simulated. In this case, the seed nodes of the individual simulation runs are chosen uniformly at random."
   ]
  },
  {
   "cell_type": "code",
   "execution_count": null,
   "metadata": {
    "execution": {
     "iopub.execute_input": "2021-05-04T11:35:39.189812Z",
     "iopub.status.busy": "2021-05-04T11:35:39.189304Z",
     "iopub.status.idle": "2021-05-04T11:35:39.191410Z",
     "shell.execute_reply": "2021-05-04T11:35:39.191928Z"
    }
   },
   "outputs": [],
   "source": [
    "pc = rw.get_paths(rw.run_experiment(steps=10, runs=20))\n",
    "for p in pc:\n",
    "    print( tuple([v.uid for v in p.nodes]))"
   ]
  },
  {
   "cell_type": "markdown",
   "metadata": {},
   "source": [
    "If `runs` is a list of `Node` objects, a single random walk will be generated for each start node. To generate exactly one random walk starting in each node of the network, we can simply pass the node uids of a network:"
   ]
  },
  {
   "cell_type": "code",
   "execution_count": null,
   "metadata": {
    "execution": {
     "iopub.execute_input": "2021-05-04T11:35:39.202464Z",
     "iopub.status.busy": "2021-05-04T11:35:39.201789Z",
     "iopub.status.idle": "2021-05-04T11:35:39.204182Z",
     "shell.execute_reply": "2021-05-04T11:35:39.204849Z"
    }
   },
   "outputs": [],
   "source": [
    "pc = rw.get_paths(rw.run_experiment(steps=10, runs=n.nodes.uids))\n",
    "for p in pc:\n",
    "    print(tuple([ v.uid for v in p.nodes ]))"
   ]
  },
  {
   "cell_type": "markdown",
   "metadata": {},
   "source": [
    "We close this tutorial with a random walk simulation in an empirical network."
   ]
  },
  {
   "cell_type": "code",
   "execution_count": null,
   "metadata": {
    "execution": {
     "iopub.execute_input": "2021-05-04T11:35:39.209133Z",
     "iopub.status.busy": "2021-05-04T11:35:39.208467Z",
     "iopub.status.idle": "2021-05-04T11:35:40.058246Z",
     "shell.execute_reply": "2021-05-04T11:35:40.058919Z"
    }
   },
   "outputs": [],
   "source": [
    "n = pp.io.graphtool.read_netzschleuder_network('game_thrones')\n",
    "rw = pp.processes.RandomWalk(n, weight='weight')\n",
    "rw.plot(rw.run_experiment(steps=100))"
   ]
  }
 ],
 "metadata": {
  "celltoolbar": "Tags",
  "kernelspec": {
   "display_name": "Python 3",
   "language": "python",
   "name": "python3"
  },
  "language_info": {
   "codemirror_mode": {
    "name": "ipython",
    "version": 3
   },
   "file_extension": ".py",
   "mimetype": "text/x-python",
   "name": "python",
   "nbconvert_exporter": "python",
   "pygments_lexer": "ipython3",
   "version": "3.8.5"
  },
  "metadata": {
   "interpreter": {
    "hash": "82db51cffef479cc4d0f53089378e5a2925f9e7adca31d741132ceba61ecca6f"
   }
  }
 },
 "nbformat": 4,
 "nbformat_minor": 4
}
