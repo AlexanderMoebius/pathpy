{
 "cells": [
  {
   "cell_type": "markdown",
   "metadata": {},
   "source": [
    "# Extracting paths from temporal networks\n",
    "\n",
    "[Run notebook in Google Colab](https://colab.research.google.com/github/pathpy/pathpy/blob/master/doc/tutorial/path_extraction.ipynb)  \n",
    "[Download notebook](https://github.com/pathpy/pathpy/raw/master/doc/tutorial/path_extraction.ipynb)\n",
    "\n",
    "This short tutorial demonstrates (and explains) how to calculate time-respecting path frequencies in a temporal network."
   ]
  },
  {
   "cell_type": "code",
   "execution_count": null,
   "metadata": {
    "execution": {
     "iopub.execute_input": "2021-05-06T18:56:32.973786Z",
     "iopub.status.busy": "2021-05-06T18:56:32.973044Z",
     "iopub.status.idle": "2021-05-06T18:56:43.456066Z",
     "shell.execute_reply": "2021-05-06T18:56:43.456837Z"
    },
    "tags": [
     "hide"
    ]
   },
   "outputs": [],
   "source": [
    "pip install git+git://github.com/pathpy/pathpy.git"
   ]
  },
  {
   "cell_type": "code",
   "execution_count": null,
   "metadata": {
    "execution": {
     "iopub.execute_input": "2021-05-06T18:56:43.460891Z",
     "iopub.status.busy": "2021-05-06T18:56:43.460269Z",
     "iopub.status.idle": "2021-05-06T18:56:44.365706Z",
     "shell.execute_reply": "2021-05-06T18:56:44.366254Z"
    }
   },
   "outputs": [],
   "source": [
    "import pathpy as pp\n",
    "import io\n",
    "import numpy as np"
   ]
  },
  {
   "cell_type": "markdown",
   "metadata": {},
   "source": [
    "We first generate a maximally simple temporal network with three (instantaneous) time-stamped edges:"
   ]
  },
  {
   "cell_type": "code",
   "execution_count": null,
   "metadata": {
    "execution": {
     "iopub.execute_input": "2021-05-06T18:56:44.371185Z",
     "iopub.status.busy": "2021-05-06T18:56:44.370703Z",
     "iopub.status.idle": "2021-05-06T18:56:44.375036Z",
     "shell.execute_reply": "2021-05-06T18:56:44.375543Z"
    }
   },
   "outputs": [],
   "source": [
    "tn = pp.TemporalNetwork()\n",
    "tn.add_edge('a', 'b', timestamp=1)\n",
    "tn.add_edge('b', 'c', timestamp=2)\n",
    "tn.add_edge('b', 'd', timestamp=5)\n",
    "tn.plot()"
   ]
  },
  {
   "cell_type": "markdown",
   "metadata": {},
   "source": [
    "As a first step, we can turn this temporal network into a time-unfolded directed acyclic graph. For this, we have to specify the maximum time difference delta between any two time-stamped edges that shall constitute a time-respecting or causal path. In addition to occuring within the maximum time difference, time-stamped edges also have to occur in the correct temporal ordering.\n",
    "\n",
    "In the resulting time-unfolded directed acyclic graph, each time-unfolded node `v_t` represents a node `v` at a given time stamp `t`. Each edge (`v_t`, `w_{t'}`) between such time-unfolded nodes represents a possible causal influence (i.e. a time-respecting of causal path) by which node `v` at time `t` can influence node `w` at `t'>t`.\n",
    "\n",
    "By definition, each time-stamped edge (`v`, `w`, t) is a causal path of length one by which node `v` at time `t` can influence node `w` at the next timestamp `t+1` (i.e. we assume that it takes one unit of time for influence to traverse an edge). For a maximum time difference of one between two edges, the only causal path of length two connects node `a` (at time 1) via node `b` (at time 2) to node `c` at time 3. We can see this in the resulting time-unfolded directed acyclic graph:"
   ]
  },
  {
   "cell_type": "code",
   "execution_count": null,
   "metadata": {
    "execution": {
     "iopub.execute_input": "2021-05-06T18:56:44.378949Z",
     "iopub.status.busy": "2021-05-06T18:56:44.378481Z",
     "iopub.status.idle": "2021-05-06T18:56:44.381881Z",
     "shell.execute_reply": "2021-05-06T18:56:44.382362Z"
    }
   },
   "outputs": [],
   "source": [
    "dag = pp.DirectedAcyclicGraph.from_temporal_network(tn, delta=1)\n",
    "dag.plot()"
   ]
  },
  {
   "cell_type": "markdown",
   "metadata": {},
   "source": [
    "If we increase the maximum time difference to `delta=2` three additional time-respecting paths of length one emerges (one from `b` at time 5 to `d` at time 7,  one from `a` at time 1 to `b` at time 3, and one from node `b` at time 2 to node `c` at time 4). This further implies one additional time-respecting path of length two, which is represented in the DAG below:"
   ]
  },
  {
   "cell_type": "code",
   "execution_count": null,
   "metadata": {
    "execution": {
     "iopub.execute_input": "2021-05-06T18:56:44.385480Z",
     "iopub.status.busy": "2021-05-06T18:56:44.385056Z",
     "iopub.status.idle": "2021-05-06T18:56:44.388280Z",
     "shell.execute_reply": "2021-05-06T18:56:44.388723Z"
    }
   },
   "outputs": [],
   "source": [
    "dag = pp.DirectedAcyclicGraph.from_temporal_network(tn, delta=2)\n",
    "dag.plot()"
   ]
  },
  {
   "cell_type": "markdown",
   "metadata": {},
   "source": [
    "If we set the delta to a maximum value of `infinity`, only the time-ordering of time-stamped edges is considered, i.e. any time gap between edges is allowed. In the example above, this implies that the state of node `a` at time `t=1` can influence any other node at any later time. In the directed acyclic graph this is represented as:"
   ]
  },
  {
   "cell_type": "code",
   "execution_count": null,
   "metadata": {
    "execution": {
     "iopub.execute_input": "2021-05-06T18:56:44.392294Z",
     "iopub.status.busy": "2021-05-06T18:56:44.391864Z",
     "iopub.status.idle": "2021-05-06T18:56:44.394792Z",
     "shell.execute_reply": "2021-05-06T18:56:44.395243Z"
    }
   },
   "outputs": [],
   "source": [
    "dag = pp.DirectedAcyclicGraph.from_temporal_network(tn, delta=np.inf)\n",
    "dag.plot()"
   ]
  },
  {
   "cell_type": "markdown",
   "metadata": {},
   "source": [
    "Thanks to its acyclicity, a directed acyclic graph can be used to calculate a finite set of all paths from any root node (the potential start node/time of a causal path in a temporal network) to any leaf node (the potential end node/time of a causal path) in the DAG. We can use the `roots` and `leafs` properties of the `DirectedAcyclicGraph` class to return those:"
   ]
  },
  {
   "cell_type": "code",
   "execution_count": null,
   "metadata": {
    "execution": {
     "iopub.execute_input": "2021-05-06T18:56:44.397841Z",
     "iopub.status.busy": "2021-05-06T18:56:44.397410Z",
     "iopub.status.idle": "2021-05-06T18:56:44.399446Z",
     "shell.execute_reply": "2021-05-06T18:56:44.399929Z"
    }
   },
   "outputs": [],
   "source": [
    "print([v.uid for v in dag.roots])\n",
    "print([v.uid for v in dag.leafs])"
   ]
  },
  {
   "cell_type": "markdown",
   "metadata": {},
   "source": [
    "We can calculate all possible paths from a given root node to any leaf node i nthe DAG as follows:"
   ]
  },
  {
   "cell_type": "code",
   "execution_count": null,
   "metadata": {
    "execution": {
     "iopub.execute_input": "2021-05-06T18:56:44.403080Z",
     "iopub.status.busy": "2021-05-06T18:56:44.402613Z",
     "iopub.status.idle": "2021-05-06T18:56:44.404506Z",
     "shell.execute_reply": "2021-05-06T18:56:44.404948Z"
    }
   },
   "outputs": [],
   "source": [
    "paths = dag.routes_from('a_1')\n",
    "paths"
   ]
  },
  {
   "cell_type": "markdown",
   "metadata": {},
   "source": [
    "To calculate the statistics of all paths from all roots, we can call the following function. In the example above, this is identical to the paths from the root `a_1` since there is a single root node only in this DAG."
   ]
  },
  {
   "cell_type": "code",
   "execution_count": null,
   "metadata": {
    "execution": {
     "iopub.execute_input": "2021-05-06T18:56:44.408024Z",
     "iopub.status.busy": "2021-05-06T18:56:44.407555Z",
     "iopub.status.idle": "2021-05-06T18:56:44.409401Z",
     "shell.execute_reply": "2021-05-06T18:56:44.409846Z"
    }
   },
   "outputs": [],
   "source": [
    "paths = pp.algorithms.path_extraction.all_paths_from_dag(dag)\n",
    "paths"
   ]
  },
  {
   "cell_type": "markdown",
   "metadata": {},
   "source": [
    "The problem with this is that we are actually not interested in paths in the time-unfolded directed acyclic graph, but in causal, i.e. time-respecting paths in the original network. In our example, different nodes in the directed acyclic graph actually correspond to the same node in the network at different times. For instance, nodes `b_4` and `b_6` represent the same node `b` at time `4` and `6`. \n",
    "\n",
    "For the calculation of paths in the original network, we must incorporate this information. pathpy supports this via a custom node mapping, that we can pass to the path calculation. Moreover, each node in the directed acyclic graph generated by the `from_temporal_network` function has a node attribute `original` that contains the ID of the original node in the temporal network. To map DAG nodes to such nodes we can thus write:"
   ]
  },
  {
   "cell_type": "code",
   "execution_count": null,
   "metadata": {
    "execution": {
     "iopub.execute_input": "2021-05-06T18:56:44.412977Z",
     "iopub.status.busy": "2021-05-06T18:56:44.412508Z",
     "iopub.status.idle": "2021-05-06T18:56:44.414399Z",
     "shell.execute_reply": "2021-05-06T18:56:44.414842Z"
    }
   },
   "outputs": [],
   "source": [
    "paths = pp.algorithms.path_extraction.all_paths_from_dag(dag, node_mapping={ v.uid: v['original'].uid for v in dag.nodes })\n",
    "paths"
   ]
  },
  {
   "cell_type": "markdown",
   "metadata": {},
   "source": [
    "We have now mapped four different paths `a->b->c` to a single causal path, because the different paths in the original DAG all represent the same path from a single root node to the same (mapped) leaf node. The only difference is that transitions between nodes happen at different times.\n",
    "\n",
    "It might appear that this is all we need to calculate statistics of causal paths in a temporal network. However, the situation is more complicated if we additionally consider which of the shorter paths are already contained in the longer paths. Let us reconsider the DAG generated above:"
   ]
  },
  {
   "cell_type": "code",
   "execution_count": null,
   "metadata": {
    "execution": {
     "iopub.execute_input": "2021-05-06T18:56:44.417593Z",
     "iopub.status.busy": "2021-05-06T18:56:44.417093Z",
     "iopub.status.idle": "2021-05-06T18:56:44.420336Z",
     "shell.execute_reply": "2021-05-06T18:56:44.420781Z"
    }
   },
   "outputs": [],
   "source": [
    "dag.plot()"
   ]
  },
  {
   "cell_type": "markdown",
   "metadata": {},
   "source": [
    "In the original temporal network, there are actually only three temporal edges `(a,b), (b,c)` and `(c,d)` occurring in sequence. This leads to two different longest causal paths of length two, which contain the three shorter causal paths of length one (i.e. the edges).\n",
    "\n",
    "The idea to focus on longest causal paths only is the basis for the calculation of poath statistics using the following function:"
   ]
  },
  {
   "cell_type": "code",
   "execution_count": null,
   "metadata": {
    "execution": {
     "iopub.execute_input": "2021-05-06T18:56:44.424822Z",
     "iopub.status.busy": "2021-05-06T18:56:44.424367Z",
     "iopub.status.idle": "2021-05-06T18:56:44.426139Z",
     "shell.execute_reply": "2021-05-06T18:56:44.426575Z"
    }
   },
   "outputs": [],
   "source": [
    "paths = pp.algorithms.path_extraction.all_paths_from_temporal_network(tn, delta=np.inf)\n",
    "paths"
   ]
  },
  {
   "cell_type": "markdown",
   "metadata": {},
   "source": [
    "In the example above, we only have a single root node, which is why the path statistics for the whole DAG is identical to the statistics returned for the paths originating in the single root note. \n",
    "\n",
    "In our temporal network with delta=2 we actually have two different roots, hence we have to consider causal paths starting in different nodes:"
   ]
  },
  {
   "cell_type": "code",
   "execution_count": null,
   "metadata": {
    "execution": {
     "iopub.execute_input": "2021-05-06T18:56:44.429849Z",
     "iopub.status.busy": "2021-05-06T18:56:44.429417Z",
     "iopub.status.idle": "2021-05-06T18:56:44.432575Z",
     "shell.execute_reply": "2021-05-06T18:56:44.433110Z"
    }
   },
   "outputs": [],
   "source": [
    "dag = pp.DirectedAcyclicGraph.from_temporal_network(tn, delta=2)\n",
    "dag.plot()"
   ]
  },
  {
   "cell_type": "code",
   "execution_count": null,
   "metadata": {
    "execution": {
     "iopub.execute_input": "2021-05-06T18:56:44.435859Z",
     "iopub.status.busy": "2021-05-06T18:56:44.435424Z",
     "iopub.status.idle": "2021-05-06T18:56:44.437287Z",
     "shell.execute_reply": "2021-05-06T18:56:44.437722Z"
    }
   },
   "outputs": [],
   "source": [
    "paths = dag.routes_from('a_1')\n",
    "paths"
   ]
  },
  {
   "cell_type": "code",
   "execution_count": null,
   "metadata": {
    "execution": {
     "iopub.execute_input": "2021-05-06T18:56:44.440376Z",
     "iopub.status.busy": "2021-05-06T18:56:44.439916Z",
     "iopub.status.idle": "2021-05-06T18:56:44.441828Z",
     "shell.execute_reply": "2021-05-06T18:56:44.442286Z"
    }
   },
   "outputs": [],
   "source": [
    "paths = dag.routes_from('b_5')\n",
    "paths"
   ]
  },
  {
   "cell_type": "code",
   "execution_count": null,
   "metadata": {
    "execution": {
     "iopub.execute_input": "2021-05-06T18:56:44.445095Z",
     "iopub.status.busy": "2021-05-06T18:56:44.444647Z",
     "iopub.status.idle": "2021-05-06T18:56:44.446465Z",
     "shell.execute_reply": "2021-05-06T18:56:44.446912Z"
    }
   },
   "outputs": [],
   "source": [
    "paths = pp.algorithms.path_extraction.all_paths_from_dag(dag)\n",
    "paths"
   ]
  },
  {
   "cell_type": "code",
   "execution_count": null,
   "metadata": {
    "execution": {
     "iopub.execute_input": "2021-05-06T18:56:44.450589Z",
     "iopub.status.busy": "2021-05-06T18:56:44.450129Z",
     "iopub.status.idle": "2021-05-06T18:56:44.452160Z",
     "shell.execute_reply": "2021-05-06T18:56:44.452628Z"
    }
   },
   "outputs": [],
   "source": [
    "paths = pp.algorithms.path_extraction.all_paths_from_temporal_network(tn, delta=2)\n",
    "paths"
   ]
  },
  {
   "cell_type": "code",
   "execution_count": null,
   "metadata": {
    "execution": {
     "iopub.execute_input": "2021-05-06T18:56:44.458038Z",
     "iopub.status.busy": "2021-05-06T18:56:44.457489Z",
     "iopub.status.idle": "2021-05-06T18:56:44.460115Z",
     "shell.execute_reply": "2021-05-06T18:56:44.460576Z"
    }
   },
   "outputs": [],
   "source": [
    "tn = pp.TemporalNetwork()\n",
    "tn.add_edge('a', 'b', timestamp=1)\n",
    "tn.add_edge('b', 'c', timestamp=2)\n",
    "tn.add_edge('b', 'd', timestamp=5)\n",
    "tn.add_edge('a', 'b', timestamp=12)\n",
    "tn.add_edge('b', 'c', timestamp=13)\n",
    "paths = pp.algorithms.path_extraction.all_paths_from_temporal_network(tn, delta=2)\n",
    "paths"
   ]
  },
  {
   "cell_type": "code",
   "execution_count": null,
   "metadata": {
    "execution": {
     "iopub.execute_input": "2021-05-06T18:56:44.463258Z",
     "iopub.status.busy": "2021-05-06T18:56:44.462807Z",
     "iopub.status.idle": "2021-05-06T18:56:44.464816Z",
     "shell.execute_reply": "2021-05-06T18:56:44.465481Z"
    }
   },
   "outputs": [],
   "source": [
    "pp.io.infomap.to_state_file(paths, 'test.state')"
   ]
  },
  {
   "cell_type": "code",
   "execution_count": null,
   "metadata": {
    "execution": {
     "iopub.execute_input": "2021-05-06T18:56:44.469936Z",
     "iopub.status.busy": "2021-05-06T18:56:44.469400Z",
     "iopub.status.idle": "2021-05-06T18:56:44.471109Z",
     "shell.execute_reply": "2021-05-06T18:56:44.471576Z"
    }
   },
   "outputs": [],
   "source": [
    "with io.open('test.state', 'r') as f:\n",
    "    print(f.read())"
   ]
  },
  {
   "cell_type": "code",
   "execution_count": null,
   "metadata": {
    "execution": {
     "iopub.execute_input": "2021-05-06T18:56:44.474318Z",
     "iopub.status.busy": "2021-05-06T18:56:44.473836Z",
     "iopub.status.idle": "2021-05-06T18:56:45.450121Z",
     "shell.execute_reply": "2021-05-06T18:56:45.450840Z"
    }
   },
   "outputs": [],
   "source": [
    "n = pp.io.konect.read_konect_name('sociopatterns-hypertext')\n",
    "print(n)"
   ]
  },
  {
   "cell_type": "code",
   "execution_count": null,
   "metadata": {
    "execution": {
     "iopub.execute_input": "2021-05-06T18:56:45.532417Z",
     "iopub.status.busy": "2021-05-06T18:56:45.491488Z",
     "iopub.status.idle": "2021-05-06T18:56:47.262236Z",
     "shell.execute_reply": "2021-05-06T18:56:47.262821Z"
    }
   },
   "outputs": [],
   "source": [
    "validation, train = pp.algorithms.evaluation.train_test_split(n, train_size = 0.8, split = \"time\")"
   ]
  },
  {
   "cell_type": "markdown",
   "metadata": {},
   "source": [
    "# PaCO: Path Counting in Temporal Networks\n",
    "\n",
    "We will look at two temporal netorks:"
   ]
  },
  {
   "cell_type": "code",
   "execution_count": null,
   "metadata": {
    "execution": {
     "iopub.execute_input": "2021-05-06T18:56:47.269965Z",
     "iopub.status.busy": "2021-05-06T18:56:47.269372Z",
     "iopub.status.idle": "2021-05-06T18:56:47.273312Z",
     "shell.execute_reply": "2021-05-06T18:56:47.273895Z"
    }
   },
   "outputs": [],
   "source": [
    "tn1 = pp.TemporalNetwork(directed=True)\n",
    "tn1.add_edge(\"a\", \"b\", timestamp=1)  # 0\n",
    "tn1.add_edge(\"a\", \"b\", timestamp=2)  # 1\n",
    "tn1.add_edge(\"b\", \"a\", timestamp=3)  # 2\n",
    "tn1.add_edge(\"b\", \"c\", timestamp=3)  # 3\n",
    "tn1.add_edge(\"d\", \"c\", timestamp=3)  # 4\n",
    "tn1.add_edge(\"d\", \"c\", timestamp=4)  # 5\n",
    "tn1.add_edge(\"c\", \"d\", timestamp=5)  # 6\n",
    "tn1.add_edge(\"c\", \"b\", timestamp=6)  # 7\n",
    "tn1.add_edge(\"b\", \"c\", timestamp=7)  # 8\n",
    "tn1.plot()"
   ]
  },
  {
   "cell_type": "code",
   "execution_count": null,
   "metadata": {
    "execution": {
     "iopub.execute_input": "2021-05-06T18:56:47.280080Z",
     "iopub.status.busy": "2021-05-06T18:56:47.279583Z",
     "iopub.status.idle": "2021-05-06T18:56:47.283727Z",
     "shell.execute_reply": "2021-05-06T18:56:47.284267Z"
    }
   },
   "outputs": [],
   "source": [
    "tn2 = pp.TemporalNetwork(directed=True)\n",
    "tn2.add_edge(\"a\", \"b\", timestamp=1)  # 0\n",
    "tn2.add_edge(\"a\", \"c\", timestamp=2)  # 1\n",
    "tn2.add_edge(\"b\", \"c\", timestamp=2)  # 2\n",
    "tn2.add_edge(\"c\", \"d\", timestamp=3)  # 3\n",
    "tn2.add_edge(\"b\", \"d\", timestamp=4)  # 4\n",
    "tn2.add_edge(\"d\", \"c\", timestamp=4)  # 5\n",
    "tn2.add_edge(\"d\", \"c\", timestamp=5)  # 6\n",
    "tn2.add_edge(\"d\", \"a\", timestamp=5)  # 7\n",
    "tn2.add_edge(\"c\", \"b\", timestamp=6)  # 8\n",
    "tn2.plot()"
   ]
  },
  {
   "cell_type": "markdown",
   "metadata": {},
   "source": [
    "For PaCo, we define paths in temporal networks to consist of temporal links which \n",
    "* can be continued topologically: the destination of a previous link is the same as the source of the next link, e.g. $(a,b,t_1)$ and $(b, e, t_2)$.\n",
    "* can be continued temporally: the timestamps of successive links $t_i$, $t_{i+1}$ satisfy\n",
    "$$t_i < t_{i+1}$$\n",
    "$$t_{i+1} - t_i \\leq \\delta $$\n",
    "\n",
    "For the first temporal network, and choices $\\delta = 2$ and $\\delta = 3$ the paths are as follows:"
   ]
  },
  {
   "cell_type": "code",
   "execution_count": null,
   "metadata": {
    "execution": {
     "iopub.execute_input": "2021-05-06T18:56:47.288966Z",
     "iopub.status.busy": "2021-05-06T18:56:47.288386Z",
     "iopub.status.idle": "2021-05-06T18:56:47.289991Z",
     "shell.execute_reply": "2021-05-06T18:56:47.290493Z"
    }
   },
   "outputs": [],
   "source": [
    "tn1_delta2= {\n",
    "    1: {('a', 'b'): 2,\n",
    "        ('b', 'a'): 1,\n",
    "        ('b', 'c'): 2,\n",
    "        ('c', 'b'): 1,\n",
    "        ('c', 'd'): 1,\n",
    "        ('d', 'c'): 2},\n",
    "    2: {('a', 'b', 'a'): 2,\n",
    "        ('a', 'b', 'c'): 2,\n",
    "        ('b', 'c', 'd'): 1,\n",
    "        ('c', 'b', 'c'): 1,\n",
    "        ('d', 'c', 'b'): 1,\n",
    "        ('d', 'c', 'd'): 2},\n",
    "    3: {('a', 'b', 'c', 'd'): 2,\n",
    "        ('d', 'c', 'b', 'c'): 1}\n",
    "}"
   ]
  },
  {
   "cell_type": "code",
   "execution_count": null,
   "metadata": {
    "execution": {
     "iopub.execute_input": "2021-05-06T18:56:47.295190Z",
     "iopub.status.busy": "2021-05-06T18:56:47.294702Z",
     "iopub.status.idle": "2021-05-06T18:56:47.296407Z",
     "shell.execute_reply": "2021-05-06T18:56:47.296927Z"
    }
   },
   "outputs": [],
   "source": [
    "tn1_delta3 =  {\n",
    "    1: {('a', 'b'): 2,\n",
    "        ('b', 'a'): 1,\n",
    "        ('b', 'c'): 2,\n",
    "        ('c', 'b'): 1,\n",
    "        ('c', 'd'): 1,\n",
    "        ('d', 'c'): 2},\n",
    "    2: {('a', 'b', 'a'): 2,\n",
    "        ('a', 'b', 'c'): 2,\n",
    "        ('b', 'c', 'b'): 1,\n",
    "        ('b', 'c', 'd'): 1,\n",
    "        ('c', 'b', 'c'): 1,\n",
    "        ('d', 'c', 'b'): 2,\n",
    "        ('d', 'c', 'd'): 2},\n",
    "    3: {('a', 'b', 'c', 'b'): 2,\n",
    "        ('a', 'b', 'c', 'd'): 2,\n",
    "        ('b', 'c', 'b', 'c'): 1,\n",
    "        ('d', 'c', 'b', 'c'): 2},\n",
    "    4: {('a', 'b', 'c', 'b', 'c'): 2}\n",
    "}"
   ]
  },
  {
   "cell_type": "markdown",
   "metadata": {},
   "source": [
    "For the second temporal network and choices $\\delta = 1$ and $\\delta = 2$  the paths are following:"
   ]
  },
  {
   "cell_type": "code",
   "execution_count": null,
   "metadata": {
    "execution": {
     "iopub.execute_input": "2021-05-06T18:56:47.302285Z",
     "iopub.status.busy": "2021-05-06T18:56:47.301774Z",
     "iopub.status.idle": "2021-05-06T18:56:47.303315Z",
     "shell.execute_reply": "2021-05-06T18:56:47.303818Z"
    }
   },
   "outputs": [],
   "source": [
    "\n",
    "tn2_delta1 = {\n",
    "    1: {('a', 'b'): 1,\n",
    "        ('a', 'c'): 1,\n",
    "        ('b', 'c'): 1,\n",
    "        ('b', 'd'): 1,\n",
    "        ('c', 'b'): 1,\n",
    "        ('c', 'd'): 1,\n",
    "        ('d', 'a'): 1,\n",
    "        ('d', 'c'): 2},\n",
    "    2: {('a', 'b', 'c'): 1,\n",
    "        ('a', 'c', 'd'): 1,\n",
    "        ('b', 'c', 'd'): 1,\n",
    "        ('b', 'd', 'a'): 1,\n",
    "        ('b', 'd', 'c'): 1,\n",
    "        ('c', 'd', 'c'): 1,\n",
    "        ('d', 'c', 'b'): 1},\n",
    "    3: {('a', 'b', 'c', 'd'): 1,\n",
    "        ('a', 'c', 'd', 'c'): 1,\n",
    "        ('b', 'c', 'd', 'c'): 1,\n",
    "        ('b', 'd', 'c', 'b'): 1},\n",
    "    4: {('a', 'b', 'c', 'd', 'c'): 1}\n",
    "}"
   ]
  },
  {
   "cell_type": "code",
   "execution_count": null,
   "metadata": {
    "execution": {
     "iopub.execute_input": "2021-05-06T18:56:47.310007Z",
     "iopub.status.busy": "2021-05-06T18:56:47.309461Z",
     "iopub.status.idle": "2021-05-06T18:56:47.311157Z",
     "shell.execute_reply": "2021-05-06T18:56:47.311671Z"
    }
   },
   "outputs": [],
   "source": [
    "tn2_delta2 = {\n",
    "    1: {('a', 'b'): 1,\n",
    "        ('a', 'c'): 1,\n",
    "        ('b', 'c'): 1,\n",
    "        ('b', 'd'): 1,\n",
    "        ('c', 'b'): 1,\n",
    "        ('c', 'd'): 1,\n",
    "        ('d', 'a'): 1,\n",
    "        ('d', 'c'): 2},\n",
    "    2: {('a', 'b', 'c'): 1,\n",
    "        ('a', 'c', 'd'): 1,\n",
    "        ('b', 'c', 'd'): 1,\n",
    "        ('c', 'd', 'c'): 2,\n",
    "        ('b', 'd', 'c'): 1,\n",
    "        ('c', 'd', 'a'): 1,\n",
    "        ('b', 'd', 'a'): 1,\n",
    "        ('d', 'c', 'b'): 2},\n",
    "    3: {('a', 'b', 'c', 'd'): 1,\n",
    "        ('a', 'c', 'd', 'c'): 2,\n",
    "        ('b', 'c', 'd', 'c'): 2,\n",
    "        ('b', 'd', 'c', 'b'): 1,\n",
    "        ('a', 'c', 'd', 'a'): 1,\n",
    "        ('b', 'c', 'd', 'a'): 1,\n",
    "        ('c', 'd', 'c', 'b'): 2},\n",
    "    4: {('a', 'b', 'c', 'd', 'a'): 1,\n",
    "        ('a', 'c', 'd', 'c', 'b'): 2,\n",
    "        ('b', 'c', 'd', 'c', 'b'): 2,\n",
    "        ('a', 'b', 'c', 'd', 'c'): 2},\n",
    "    5: {('a', 'b', 'c', 'd', 'c', 'b'): 2}\n",
    "}"
   ]
  },
  {
   "cell_type": "markdown",
   "metadata": {},
   "source": [
    "PaCo finds these paths, and outputs them in a `PathCollection`."
   ]
  },
  {
   "cell_type": "code",
   "execution_count": null,
   "metadata": {
    "execution": {
     "iopub.execute_input": "2021-05-06T18:56:47.316944Z",
     "iopub.status.busy": "2021-05-06T18:56:47.316426Z",
     "iopub.status.idle": "2021-05-06T18:56:47.318075Z",
     "shell.execute_reply": "2021-05-06T18:56:47.318596Z"
    }
   },
   "outputs": [],
   "source": [
    "def test_PaCo():\n",
    "    \"\"\"\n",
    "    Test the PaCo algorithm\n",
    "    \"\"\"\n",
    "    for tn, delta, solution in [ (tn1, 3, tn1_delta3), (tn1, 3, tn1_delta3), (tn2, 1, tn2_delta1), (tn2, 2, tn2_delta2)]: \n",
    "        PaCo_paths = pp.algorithms.path_extraction.PaCo(tn, delta, skip_first=0, up_to_k=10)\n",
    "        for l in solution:\n",
    "            for path in solution[l]:\n",
    "                assert PaCo_paths[path][\"frequency\"] == solution[l][path], f\"Mismatch in counts for path {path}, correct counter is {solution[l][path]}, PaCo computed {PaCo_paths[path]['frequency']}.\"\n",
    "\n",
    "                PaCo_paths.remove(path)\n",
    "        assert len(PaCo_paths) == 0, f\"PaCo found some non-existing paths.\"\n",
    "    return True"
   ]
  },
  {
   "cell_type": "code",
   "execution_count": null,
   "metadata": {
    "execution": {
     "iopub.execute_input": "2021-05-06T18:56:47.334813Z",
     "iopub.status.busy": "2021-05-06T18:56:47.334296Z",
     "iopub.status.idle": "2021-05-06T18:56:47.336516Z",
     "shell.execute_reply": "2021-05-06T18:56:47.337048Z"
    }
   },
   "outputs": [],
   "source": [
    "test_PaCo()"
   ]
  },
  {
   "cell_type": "markdown",
   "metadata": {},
   "source": [
    "Let's now try this in the actual sociopatterns data"
   ]
  },
  {
   "cell_type": "code",
   "execution_count": null,
   "metadata": {
    "execution": {
     "iopub.execute_input": "2021-05-06T18:56:47.420034Z",
     "iopub.status.busy": "2021-05-06T18:56:47.379647Z",
     "iopub.status.idle": "2021-05-06T18:56:48.968785Z",
     "shell.execute_reply": "2021-05-06T18:56:48.969374Z"
    }
   },
   "outputs": [],
   "source": [
    "paths = pp.algorithms.path_extraction.PaCo(train, 300, skip_first=0, up_to_k=10)"
   ]
  },
  {
   "cell_type": "markdown",
   "metadata": {},
   "source": [
    "We can now write those paths to a state file. For now, we have to convert a path collection to a Counter object (will be gone once we have a good own implementation of the PathCollection):"
   ]
  },
  {
   "cell_type": "code",
   "execution_count": null,
   "metadata": {
    "execution": {
     "iopub.execute_input": "2021-05-06T18:56:49.056510Z",
     "iopub.status.busy": "2021-05-06T18:56:49.014408Z",
     "iopub.status.idle": "2021-05-06T18:56:49.222604Z",
     "shell.execute_reply": "2021-05-06T18:56:49.223084Z"
    }
   },
   "outputs": [],
   "source": [
    "from collections import Counter\n",
    "cnt = Counter()\n",
    "for path in paths:\n",
    "    p = tuple([v.uid for v in path.nodes])\n",
    "    cnt[p] = paths[path]['frequency']\n",
    "\n",
    "pp.io.infomap.to_state_file(cnt, 'test.state', max_memory=1)"
   ]
  },
  {
   "cell_type": "code",
   "execution_count": null,
   "metadata": {
    "execution": {
     "iopub.execute_input": "2021-05-06T18:56:49.225720Z",
     "iopub.status.busy": "2021-05-06T18:56:49.225264Z",
     "iopub.status.idle": "2021-05-06T18:56:49.228817Z",
     "shell.execute_reply": "2021-05-06T18:56:49.229247Z"
    }
   },
   "outputs": [],
   "source": [
    "with io.open('test.state', 'r') as f:\n",
    "    print(f.read())"
   ]
  },
  {
   "cell_type": "code",
   "execution_count": null,
   "metadata": {
    "execution": {
     "iopub.execute_input": "2021-05-06T18:56:49.232186Z",
     "iopub.status.busy": "2021-05-06T18:56:49.231783Z",
     "iopub.status.idle": "2021-05-06T18:56:49.258092Z",
     "shell.execute_reply": "2021-05-06T18:56:49.258587Z"
    }
   },
   "outputs": [],
   "source": [
    "pp.io.infomap.to_state_file(cnt, 'test.state', max_memory=2)"
   ]
  },
  {
   "cell_type": "code",
   "execution_count": null,
   "metadata": {
    "execution": {
     "iopub.execute_input": "2021-05-06T18:56:49.261910Z",
     "iopub.status.busy": "2021-05-06T18:56:49.261509Z",
     "iopub.status.idle": "2021-05-06T18:56:49.265151Z",
     "shell.execute_reply": "2021-05-06T18:56:49.265641Z"
    }
   },
   "outputs": [],
   "source": [
    "with io.open('test.state', 'r') as f:\n",
    "    print(f.read())"
   ]
  },
  {
   "cell_type": "code",
   "execution_count": null,
   "metadata": {},
   "outputs": [],
   "source": []
  }
 ],
 "metadata": {
  "celltoolbar": "Tags",
  "kernelspec": {
   "display_name": "Python 3",
   "language": "python",
   "name": "python3"
  },
  "language_info": {
   "codemirror_mode": {
    "name": "ipython",
    "version": 3
   },
   "file_extension": ".py",
   "mimetype": "text/x-python",
   "name": "python",
   "nbconvert_exporter": "python",
   "pygments_lexer": "ipython3",
   "version": "3.8.5"
  },
  "metadata": {
   "interpreter": {
    "hash": "82db51cffef479cc4d0f53089378e5a2925f9e7adca31d741132ceba61ecca6f"
   }
  }
 },
 "nbformat": 4,
 "nbformat_minor": 4
}
