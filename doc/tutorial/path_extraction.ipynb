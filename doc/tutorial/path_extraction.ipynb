{
 "cells": [
  {
   "cell_type": "markdown",
   "metadata": {},
   "source": [
    "# Extracting paths from temporal networks\n",
    "\n",
    "[Run notebook in Google Colab](https://colab.research.google.com/github/pathpy/pathpy/blob/master/doc/tutorial/path_extraction.ipynb)  \n",
    "[Download notebook](https://github.com/pathpy/pathpy/raw/master/doc/tutorial/path_extraction.ipynb)\n",
    "\n",
    "This short tutorial demonstrates (and explains) how to calculate time-respecting path frequencies in a temporal network."
   ]
  },
  {
   "cell_type": "markdown",
   "metadata": {},
   "source": [
    "pip install git+git://github.com/pathpy/pathpy.git"
   ]
  },
  {
   "cell_type": "code",
   "execution_count": null,
   "metadata": {
    "execution": {
     "iopub.execute_input": "2021-05-04T11:35:26.817422Z",
     "iopub.status.busy": "2021-05-04T11:35:26.816693Z",
     "iopub.status.idle": "2021-05-04T11:35:27.447599Z",
     "shell.execute_reply": "2021-05-04T11:35:27.447075Z"
    }
   },
   "outputs": [],
   "source": [
    "import pathpy as pp\n",
    "import io\n",
    "import numpy as np"
   ]
  },
  {
   "cell_type": "markdown",
   "metadata": {},
   "source": [
    "We first generate a maximally simple temporal network with three (instantaneous) time-stamped edges:"
   ]
  },
  {
   "cell_type": "code",
   "execution_count": null,
   "metadata": {
    "execution": {
     "iopub.execute_input": "2021-05-04T11:35:27.452363Z",
     "iopub.status.busy": "2021-05-04T11:35:27.451772Z",
     "iopub.status.idle": "2021-05-04T11:35:27.456276Z",
     "shell.execute_reply": "2021-05-04T11:35:27.456720Z"
    }
   },
   "outputs": [],
   "source": [
    "tn = pp.TemporalNetwork()\n",
    "tn.add_edge('a', 'b', timestamp=1)\n",
    "tn.add_edge('b', 'c', timestamp=2)\n",
    "tn.add_edge('b', 'd', timestamp=5)\n",
    "tn.plot()"
   ]
  },
  {
   "cell_type": "markdown",
   "metadata": {},
   "source": [
    "As a first step, we can turn this temporal network into a time-unfolded directed acyclic graph. For this, we have to specify the maximum time difference delta between any two time-stamped edges that shall constitute a time-respecting or causal path. In addition to occuring within the maximum time difference, time-stamped edges also have to occur in the correct temporal ordering.\n",
    "\n",
    "In the resulting time-unfolded directed acyclic graph, each time-unfolded node `v_t` represents a node `v` at a given time stamp `t`. Each edge (`v_t`, `w_{t'}`) between such time-unfolded nodes represents a possible causal influence (i.e. a time-respecting of causal path) by which node `v` at time `t` can influence node `w` at `t'>t`.\n",
    "\n",
    "By definition, each time-stamped edge (`v`, `w`, t) is a causal path of length one by which node `v` at time `t` can influence node `w` at the next timestamp `t+1` (i.e. we assume that it takes one unit of time for influence to traverse an edge). For a maximum time difference of one between two edges, the only causal path of length two connects node `a` (at time 1) via node `b` (at time 2) to node `c` at time 3. We can see this in the resulting time-unfolded directed acyclic graph:"
   ]
  },
  {
   "cell_type": "code",
   "execution_count": null,
   "metadata": {
    "execution": {
     "iopub.execute_input": "2021-05-04T11:35:27.460107Z",
     "iopub.status.busy": "2021-05-04T11:35:27.459334Z",
     "iopub.status.idle": "2021-05-04T11:35:27.463853Z",
     "shell.execute_reply": "2021-05-04T11:35:27.464344Z"
    }
   },
   "outputs": [],
   "source": [
    "dag = pp.DirectedAcyclicGraph.from_temporal_network(tn, delta=1)\n",
    "dag.plot()"
   ]
  },
  {
   "cell_type": "markdown",
   "metadata": {},
   "source": [
    "If we increase the maximum time difference to `delta=2` three additional time-respecting paths of length one emerges (one from `b` at time 5 to `d` at time 7,  one from `a` at time 1 to `b` at time 3, and one from node `b` at time 2 to node `c` at time 4). This further implies one additional time-respecting path of length two, which is represented in the DAG below:"
   ]
  },
  {
   "cell_type": "code",
   "execution_count": null,
   "metadata": {
    "execution": {
     "iopub.execute_input": "2021-05-04T11:35:27.467524Z",
     "iopub.status.busy": "2021-05-04T11:35:27.466897Z",
     "iopub.status.idle": "2021-05-04T11:35:27.470739Z",
     "shell.execute_reply": "2021-05-04T11:35:27.471232Z"
    }
   },
   "outputs": [],
   "source": [
    "dag = pp.DirectedAcyclicGraph.from_temporal_network(tn, delta=2)\n",
    "dag.plot()"
   ]
  },
  {
   "cell_type": "markdown",
   "metadata": {},
   "source": [
    "If we set the delta to a maximum value of `infinity`, only the time-ordering of time-stamped edges is considered, i.e. any time gap between edges is allowed. In the example above, this implies that the state of node `a` at time `t=1` can influence any other node at any later time. In the directed acyclic graph this is represented as:"
   ]
  },
  {
   "cell_type": "code",
   "execution_count": null,
   "metadata": {
    "execution": {
     "iopub.execute_input": "2021-05-04T11:35:27.474717Z",
     "iopub.status.busy": "2021-05-04T11:35:27.474245Z",
     "iopub.status.idle": "2021-05-04T11:35:27.477587Z",
     "shell.execute_reply": "2021-05-04T11:35:27.478072Z"
    }
   },
   "outputs": [],
   "source": [
    "dag = pp.DirectedAcyclicGraph.from_temporal_network(tn, delta=np.inf)\n",
    "dag.plot()"
   ]
  },
  {
   "cell_type": "markdown",
   "metadata": {},
   "source": [
    "Thanks to its acyclicity, a directed acyclic graph can be used to calculate a finite set of all paths from any root node `(the potential start node/time of a causal path in a temporal network) to any leaf node (the potential end node/time of a causal path) in the DAG. We can use the `roots` and `leafs` properties of the `DirectedAcyclicGraph` class to return those:"
   ]
  },
  {
   "cell_type": "code",
   "execution_count": null,
   "metadata": {
    "execution": {
     "iopub.execute_input": "2021-05-04T11:35:27.480883Z",
     "iopub.status.busy": "2021-05-04T11:35:27.480366Z",
     "iopub.status.idle": "2021-05-04T11:35:27.482092Z",
     "shell.execute_reply": "2021-05-04T11:35:27.482580Z"
    }
   },
   "outputs": [],
   "source": [
    "print([v.uid for v in dag.roots])\n",
    "print([v.uid for v in dag.leafs])"
   ]
  },
  {
   "cell_type": "code",
   "execution_count": null,
   "metadata": {
    "execution": {
     "iopub.execute_input": "2021-05-04T11:35:27.486712Z",
     "iopub.status.busy": "2021-05-04T11:35:27.486250Z",
     "iopub.status.idle": "2021-05-04T11:35:27.487944Z",
     "shell.execute_reply": "2021-05-04T11:35:27.488421Z"
    }
   },
   "outputs": [],
   "source": [
    "paths = pp.PathCollection()\n",
    "paths = dag.routes_from(dag.nodes['a_1'], paths)\n",
    "for p in paths:\n",
    "    print(' -> '.join([v.uid for v in p.nodes]))\n"
   ]
  },
  {
   "cell_type": "code",
   "execution_count": null,
   "metadata": {
    "execution": {
     "iopub.execute_input": "2021-05-04T11:35:27.492726Z",
     "iopub.status.busy": "2021-05-04T11:35:27.491785Z",
     "iopub.status.idle": "2021-05-04T11:35:27.494288Z",
     "shell.execute_reply": "2021-05-04T11:35:27.494789Z"
    }
   },
   "outputs": [],
   "source": [
    "paths = pp.algorithms.path_extraction.extract_path_collection(tn, delta=2)\n",
    "for p in paths:\n",
    "    print(' -> '.join([v.uid for v in p.nodes]))\n",
    "    print(paths[p.uid]['frequency'])\n",
    "    print('---')"
   ]
  },
  {
   "cell_type": "code",
   "execution_count": null,
   "metadata": {
    "execution": {
     "iopub.execute_input": "2021-05-04T11:35:27.497511Z",
     "iopub.status.busy": "2021-05-04T11:35:27.497017Z",
     "iopub.status.idle": "2021-05-04T11:35:27.498988Z",
     "shell.execute_reply": "2021-05-04T11:35:27.499424Z"
    }
   },
   "outputs": [],
   "source": [
    "pp.io.infomap.to_state_file(paths, 'test.state', weight='frequency')"
   ]
  },
  {
   "cell_type": "code",
   "execution_count": null,
   "metadata": {
    "execution": {
     "iopub.execute_input": "2021-05-04T11:35:27.502302Z",
     "iopub.status.busy": "2021-05-04T11:35:27.501745Z",
     "iopub.status.idle": "2021-05-04T11:35:27.503909Z",
     "shell.execute_reply": "2021-05-04T11:35:27.504345Z"
    }
   },
   "outputs": [],
   "source": [
    "with io.open('test.state', 'r') as f:\n",
    "    print(f.read())"
   ]
  },
  {
   "cell_type": "code",
   "execution_count": null,
   "metadata": {
    "execution": {
     "iopub.execute_input": "2021-05-04T11:35:27.508407Z",
     "iopub.status.busy": "2021-05-04T11:35:27.507913Z",
     "iopub.status.idle": "2021-05-04T11:35:27.509926Z",
     "shell.execute_reply": "2021-05-04T11:35:27.510349Z"
    }
   },
   "outputs": [],
   "source": [
    "pc = pp.PathCollection()\n",
    "a = pp.Node('a')\n",
    "b = pp.Node('b')\n",
    "c = pp.Node('c')\n",
    "d = pp.Node('d')\n",
    "\n",
    "e1 = pp.Edge(a, b, uid='a-b')\n",
    "e2 = pp.Edge(b, c, uid='b-c')\n",
    "e3 = pp.Edge(c, d, uid='c-d')\n",
    "\n",
    "# 15 observations: a-b\n",
    "# this path of length one should be ignored as there's no associated state node (empty memory)\n",
    "pc.add(pp.Path(e1, frequency=15))\n",
    "\n",
    "# 42 observations: a-b-c\n",
    "# this leads to state nodes a-b and b-c connected by a link with weight 42\n",
    "pc.add(pp.Path(e1, e2, frequency=42))\n",
    "\n",
    "# 41 observations: a-b-c-d\n",
    "# this leads to state nodes a-b-c and b-c-d connected by a link with weight 41\n",
    "pc.add(pp.Path(e1, e2, e3, frequency=41))\n",
    "print(pc)"
   ]
  },
  {
   "cell_type": "code",
   "execution_count": null,
   "metadata": {
    "execution": {
     "iopub.execute_input": "2021-05-04T11:35:27.512921Z",
     "iopub.status.busy": "2021-05-04T11:35:27.512368Z",
     "iopub.status.idle": "2021-05-04T11:35:27.514685Z",
     "shell.execute_reply": "2021-05-04T11:35:27.515104Z"
    }
   },
   "outputs": [],
   "source": [
    "pp.io.infomap.to_state_file(pc, 'test.state', weight='frequency')\n",
    "with open('test.state', 'r') as f:\n",
    "    print(f.read())"
   ]
  },
  {
   "cell_type": "code",
   "execution_count": null,
   "metadata": {},
   "outputs": [],
   "source": []
  }
 ],
 "metadata": {
  "kernelspec": {
   "display_name": "Python 3",
   "language": "python",
   "name": "python3"
  },
  "language_info": {
   "codemirror_mode": {
    "name": "ipython",
    "version": 3
   },
   "file_extension": ".py",
   "mimetype": "text/x-python",
   "name": "python",
   "nbconvert_exporter": "python",
   "pygments_lexer": "ipython3",
   "version": "3.8.5"
  },
  "metadata": {
   "interpreter": {
    "hash": "82db51cffef479cc4d0f53089378e5a2925f9e7adca31d741132ceba61ecca6f"
   }
  }
 },
 "nbformat": 4,
 "nbformat_minor": 4
}
