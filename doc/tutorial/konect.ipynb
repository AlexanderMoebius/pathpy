{
 "cells": [
  {
   "cell_type": "markdown",
   "metadata": {},
   "source": [
    "# Reading networks from KONECT\n",
    "\n",
    "[Run notebook in Google Colab](https://colab.research.google.com/github/pathpy/pathpy/blob/master/doc/tutorial/konect.ipynb)  \n",
    "[Download notebook](https://github.com/pathpy/pathpy/raw/master/doc/tutorial/konect.ipynb)"
   ]
  },
  {
   "cell_type": "code",
   "execution_count": null,
   "metadata": {
    "execution": {
     "iopub.execute_input": "2021-04-30T17:01:39.444742Z",
     "iopub.status.busy": "2021-04-30T17:01:39.444079Z",
     "iopub.status.idle": "2021-04-30T17:01:45.746007Z",
     "shell.execute_reply": "2021-04-30T17:01:45.746700Z"
    },
    "tags": [
     "hide"
    ]
   },
   "outputs": [],
   "source": [
    "pip install git+git://github.com/pathpy/pathpy.git"
   ]
  },
  {
   "cell_type": "code",
   "execution_count": null,
   "metadata": {
    "execution": {
     "iopub.execute_input": "2021-04-30T17:01:45.751227Z",
     "iopub.status.busy": "2021-04-30T17:01:45.750608Z",
     "iopub.status.idle": "2021-04-30T17:01:46.275643Z",
     "shell.execute_reply": "2021-04-30T17:01:46.276047Z"
    }
   },
   "outputs": [],
   "source": [
    "import pathpy as pp"
   ]
  },
  {
   "cell_type": "markdown",
   "metadata": {},
   "source": [
    "## Reading static networks\n",
    "\n",
    "To read a network from the [KONECT](http://konect.cc/) database, you can simply use the (internal) name of the network, as given in the Metadata of each network record. In a nutshell, a network with name `ucidata-zachary` must be accessible via URL `base_url` + 'ucid_data-zachary', where the `base_url` defaults to the value: `https://konnect.cc/files/download.tsv.`\n",
    "\n",
    "To read the Zachary Karate Club network, we can write:"
   ]
  },
  {
   "cell_type": "code",
   "execution_count": null,
   "metadata": {
    "execution": {
     "iopub.execute_input": "2021-04-30T17:01:46.278805Z",
     "iopub.status.busy": "2021-04-30T17:01:46.278414Z",
     "iopub.status.idle": "2021-04-30T17:01:46.398937Z",
     "shell.execute_reply": "2021-04-30T17:01:46.399562Z"
    }
   },
   "outputs": [],
   "source": [
    "n = pp.io.konect.read_konect_name('ucidata-zachary')\n",
    "print(n)"
   ]
  },
  {
   "cell_type": "code",
   "execution_count": null,
   "metadata": {
    "execution": {
     "iopub.execute_input": "2021-04-30T17:01:46.403985Z",
     "iopub.status.busy": "2021-04-30T17:01:46.403415Z",
     "iopub.status.idle": "2021-04-30T17:01:46.409921Z",
     "shell.execute_reply": "2021-04-30T17:01:46.410509Z"
    }
   },
   "outputs": [],
   "source": [
    "n.plot()"
   ]
  },
  {
   "cell_type": "markdown",
   "metadata": {},
   "source": [
    "## Reading temporal networks\n",
    "\n",
    "The type of the returned network depends on the data record. Data with temporal edges will automatically be returned as a temporal network.\n",
    "\n",
    "To load and visualize the temporal network ``"
   ]
  },
  {
   "cell_type": "code",
   "execution_count": null,
   "metadata": {
    "execution": {
<<<<<<< HEAD
     "iopub.execute_input": "2021-04-28T08:37:01.351175Z",
     "iopub.status.busy": "2021-04-28T08:37:01.350446Z",
     "iopub.status.idle": "2021-04-28T08:37:01.438015Z",
     "shell.execute_reply": "2021-04-28T08:37:01.437415Z"
=======
     "iopub.execute_input": "2021-04-30T17:01:46.413998Z",
     "iopub.status.busy": "2021-04-30T17:01:46.413395Z",
     "iopub.status.idle": "2021-04-30T17:01:46.536668Z",
     "shell.execute_reply": "2021-04-30T17:01:46.537182Z"
>>>>>>> master
    }
   },
   "outputs": [],
   "source": [
    "tn = pp.io.konect.read_konect_name('edit-htwikisource')\n",
    "print(tn)"
   ]
  },
  {
   "cell_type": "code",
   "execution_count": null,
   "metadata": {
    "execution": {
<<<<<<< HEAD
     "iopub.execute_input": "2021-04-28T08:37:01.463362Z",
     "iopub.status.busy": "2021-04-28T08:37:01.462686Z",
     "iopub.status.idle": "2021-04-28T08:37:01.474972Z",
     "shell.execute_reply": "2021-04-28T08:37:01.475554Z"
=======
     "iopub.execute_input": "2021-04-30T17:01:46.561352Z",
     "iopub.status.busy": "2021-04-30T17:01:46.560875Z",
     "iopub.status.idle": "2021-04-30T17:01:46.568595Z",
     "shell.execute_reply": "2021-04-30T17:01:46.569082Z"
>>>>>>> master
    }
   },
   "outputs": [],
   "source": [
    "pp.plot(tn)"
   ]
  },
  {
   "cell_type": "markdown",
   "metadata": {},
   "source": [
    "## Reading temporal data as static network\n",
    "\n",
    "Sometimes, we may want to read data with temporal edges as a static network. For this, we can set the `ignore_temporal` argument to true. This will return a static mtulti-edge network, where the edges have a `time` attribute, that is however not interpreted as a temporal edge by `pathpy`."
   ]
  },
  {
   "cell_type": "code",
   "execution_count": null,
   "metadata": {
    "execution": {
<<<<<<< HEAD
     "iopub.execute_input": "2021-04-28T08:37:01.479546Z",
     "iopub.status.busy": "2021-04-28T08:37:01.478827Z",
     "iopub.status.idle": "2021-04-28T08:37:01.556091Z",
     "shell.execute_reply": "2021-04-28T08:37:01.556669Z"
=======
     "iopub.execute_input": "2021-04-30T17:01:46.571885Z",
     "iopub.status.busy": "2021-04-30T17:01:46.571468Z",
     "iopub.status.idle": "2021-04-30T17:01:46.672599Z",
     "shell.execute_reply": "2021-04-30T17:01:46.673191Z"
>>>>>>> master
    }
   },
   "outputs": [],
   "source": [
    "n = pp.io.konect.read_konect_name('edit-htwikisource', ignore_temporal=True)\n",
    "print(n)"
   ]
  },
  {
   "cell_type": "code",
   "execution_count": null,
   "metadata": {
    "execution": {
<<<<<<< HEAD
     "iopub.execute_input": "2021-04-28T08:37:01.562463Z",
     "iopub.status.busy": "2021-04-28T08:37:01.561762Z",
     "iopub.status.idle": "2021-04-28T08:37:01.572253Z",
     "shell.execute_reply": "2021-04-28T08:37:01.572834Z"
=======
     "iopub.execute_input": "2021-04-30T17:01:46.679157Z",
     "iopub.status.busy": "2021-04-30T17:01:46.678571Z",
     "iopub.status.idle": "2021-04-30T17:01:46.685975Z",
     "shell.execute_reply": "2021-04-30T17:01:46.686477Z"
>>>>>>> master
    }
   },
   "outputs": [],
   "source": [
    "pp.plot(n)"
   ]
  },
  {
   "cell_type": "code",
   "execution_count": null,
   "metadata": {},
   "outputs": [],
   "source": []
  }
 ],
 "metadata": {
  "celltoolbar": "Tags",
  "kernelspec": {
   "display_name": "Python 3",
   "language": "python",
   "name": "python3"
  },
  "language_info": {
   "codemirror_mode": {
    "name": "ipython",
    "version": 3
   },
   "file_extension": ".py",
   "mimetype": "text/x-python",
   "name": "python",
   "nbconvert_exporter": "python",
   "pygments_lexer": "ipython3",
   "version": "3.9.3"
  },
  "metadata": {
   "interpreter": {
    "hash": "82db51cffef479cc4d0f53089378e5a2925f9e7adca31d741132ceba61ecca6f"
   }
  }
 },
 "nbformat": 4,
 "nbformat_minor": 2
}
