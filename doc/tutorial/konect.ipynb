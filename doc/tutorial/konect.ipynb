{
 "cells": [
  {
   "cell_type": "markdown",
   "metadata": {},
   "source": [
    "# Reading networks from KONECT\n",
    "\n",
    "[Run notebook in Google Colab](https://colab.research.google.com/github/pathpy/pathpy/blob/master/doc/tutorial/konect.ipynb)  \n",
    "[Download notebook](https://github.com/pathpy/pathpy/raw/master/doc/tutorial/konect.ipynb)"
   ]
  },
  {
   "cell_type": "code",
   "execution_count": null,
   "metadata": {
    "execution": {
     "iopub.execute_input": "2021-04-30T00:16:25.681185Z",
     "iopub.status.busy": "2021-04-30T00:16:25.680572Z",
     "iopub.status.idle": "2021-04-30T00:16:31.797746Z",
     "shell.execute_reply": "2021-04-30T00:16:31.798323Z"
    },
    "tags": [
     "hide"
    ]
   },
   "outputs": [],
   "source": [
    "pip install git+git://github.com/pathpy/pathpy.git"
   ]
  },
  {
   "cell_type": "code",
   "execution_count": 1,
   "metadata": {
    "execution": {
     "iopub.execute_input": "2021-04-30T00:16:31.801875Z",
     "iopub.status.busy": "2021-04-30T00:16:31.801382Z",
     "iopub.status.idle": "2021-04-30T00:16:32.681540Z",
     "shell.execute_reply": "2021-04-30T00:16:32.681952Z"
    }
   },
   "outputs": [
    {
     "data": {
      "text/html": [
       "\n",
       "    <script charset=\"utf-8\">\n",
       "    // Load via requireJS if available (jupyter notebook environment)\n",
       "    try {\n",
       "    require.config({\n",
       "    paths: {\n",
       "    d3: \"https://d3js.org/d3.v5.min.js\".replace(\".js\", \"\")\n",
       "    }\n",
       "    });\n",
       "    console.log(\"OKAY: requireJS was detected\");\n",
       "    }\n",
       "    catch(err){\n",
       "    console.log(err);\n",
       "    console.log(\"ERROR: NO requireJS was detected\");\n",
       "    };\n",
       "    require(['d3'], function(d3){\n",
       "    console.log(\"OKAY: d3js was detected\");\n",
       "    });\n",
       "    </script>\n",
       "    "
      ],
      "text/plain": [
       "<IPython.core.display.HTML object>"
      ]
     },
     "metadata": {},
     "output_type": "display_data"
    }
   ],
   "source": [
    "import pathpy as pp"
   ]
  },
  {
   "cell_type": "markdown",
   "metadata": {},
   "source": [
    "## Reading static networks\n",
    "\n",
    "To read a network from the [KONECT](http://konect.cc/) database, you can simply use the (internal) name of the network, as given in the Metadata of each network record. In a nutshell, a network with name `ucidata-zachary` must be accessible via URL `base_url` + 'ucid_data-zachary', where the `base_url` defaults to the value: `https://konnect.cc/files/download.tsv.`\n",
    "\n",
    "To read the Zachary Karate Club network, we can write:"
   ]
  },
  {
   "cell_type": "code",
   "execution_count": 2,
   "metadata": {
    "execution": {
     "iopub.execute_input": "2021-04-30T00:16:32.684957Z",
     "iopub.status.busy": "2021-04-30T00:16:32.684471Z",
     "iopub.status.idle": "2021-04-30T00:16:32.798978Z",
     "shell.execute_reply": "2021-04-30T00:16:32.798407Z"
    }
   },
   "outputs": [
    {
     "name": "stdout",
     "output_type": "stream",
     "text": [
      "Uid:\t\t\t0x7fa2f89ad4c0\n",
      "Type:\t\t\tNetwork\n",
      "Directed:\t\tFalse\n",
      "Multi-Edges:\t\tFalse\n",
      "Number of nodes:\t34\n",
      "Number of edges:\t78\n",
      "\n",
      "Network attributes\n",
      "------------------\n",
      "name:\tZachary karate club\n",
      "code:\tZA\n",
      "url:\thttp://vlado.fmf.uni-lj.si/pub/networks/data/ucinet/ucidata.htm#zachary\n",
      "category:\tHumanSocial\n",
      "description:\tMember–member ties\n",
      "long-description:\tThis is the well-known and much-used Zachary karate club network.  The data was collected from the members of a university karate club by Wayne Zachary in 1977.  Each node represents a member of the club, and each edge represents a tie between two members of the club.  The network is undirected.  An often discussed problem using this dataset is to find the two groups of people into which the karate club split after an argument between two teachers.\n",
      "entity-names:\tmember\n",
      "relationship-names:\ttie\n",
      "extr:\tucidata\n",
      "cite:\tkonect:ucidata-zachary\n",
      "timeiso:\t1977\n",
      "time:\t1977\n",
      "\n"
     ]
    }
   ],
   "source": [
    "n = pp.io.konect.read_konect_name('ucidata-zachary')\n",
    "print(n)"
   ]
  },
  {
   "cell_type": "code",
   "execution_count": null,
   "metadata": {
    "execution": {
     "iopub.execute_input": "2021-04-30T00:16:32.802838Z",
     "iopub.status.busy": "2021-04-30T00:16:32.802341Z",
     "iopub.status.idle": "2021-04-30T00:16:32.808050Z",
     "shell.execute_reply": "2021-04-30T00:16:32.808611Z"
    }
   },
   "outputs": [],
   "source": [
    "n.plot()"
   ]
  },
  {
   "cell_type": "markdown",
   "metadata": {},
   "source": [
    "## Reading temporal networks\n",
    "\n",
    "The type of the returned network depends on the data record. Data with temporal edges will automatically be returned as a temporal network.\n",
    "\n",
    "To load and visualize the temporal network ``"
   ]
  },
  {
   "cell_type": "code",
   "execution_count": null,
   "metadata": {
    "execution": {
     "iopub.execute_input": "2021-04-30T00:16:32.811558Z",
     "iopub.status.busy": "2021-04-30T00:16:32.811005Z",
     "iopub.status.idle": "2021-04-30T00:16:32.923450Z",
     "shell.execute_reply": "2021-04-30T00:16:32.923963Z"
    }
   },
   "outputs": [],
   "source": [
    "tn = pp.io.konect.read_konect_name('edit-htwikisource')\n",
    "print(tn)"
   ]
  },
  {
   "cell_type": "code",
   "execution_count": null,
   "metadata": {
    "execution": {
     "iopub.execute_input": "2021-04-30T00:16:32.948046Z",
     "iopub.status.busy": "2021-04-30T00:16:32.947556Z",
     "iopub.status.idle": "2021-04-30T00:16:32.955419Z",
     "shell.execute_reply": "2021-04-30T00:16:32.955927Z"
    }
   },
   "outputs": [],
   "source": [
    "pp.plot(tn)"
   ]
  },
  {
   "cell_type": "markdown",
   "metadata": {},
   "source": [
    "## Reading temporal data as static network\n",
    "\n",
    "Sometimes, we may want to read data with temporal edges as a static network. For this, we can set the `ignore_temporal` argument to true. This will return a static mtulti-edge network, where the edges have a `time` attribute, that is however not interpreted as a temporal edge by `pathpy`."
   ]
  },
  {
   "cell_type": "code",
   "execution_count": null,
   "metadata": {
    "execution": {
     "iopub.execute_input": "2021-04-30T00:16:32.958927Z",
     "iopub.status.busy": "2021-04-30T00:16:32.958398Z",
     "iopub.status.idle": "2021-04-30T00:16:33.055929Z",
     "shell.execute_reply": "2021-04-30T00:16:33.056444Z"
    }
   },
   "outputs": [],
   "source": [
    "n = pp.io.konect.read_konect_name('edit-htwikisource', ignore_temporal=True)\n",
    "print(n)"
   ]
  },
  {
   "cell_type": "code",
   "execution_count": null,
   "metadata": {
    "execution": {
     "iopub.execute_input": "2021-04-30T00:16:33.061595Z",
     "iopub.status.busy": "2021-04-30T00:16:33.061060Z",
     "iopub.status.idle": "2021-04-30T00:16:33.068259Z",
     "shell.execute_reply": "2021-04-30T00:16:33.068768Z"
    }
   },
   "outputs": [],
   "source": [
    "pp.plot(n)"
   ]
  },
  {
   "cell_type": "code",
   "execution_count": null,
   "metadata": {},
   "outputs": [],
   "source": []
  }
 ],
 "metadata": {
  "celltoolbar": "Tags",
  "kernelspec": {
   "display_name": "Python 3",
   "language": "python",
   "name": "python3"
  },
  "language_info": {
   "codemirror_mode": {
    "name": "ipython",
    "version": 3
   },
   "file_extension": ".py",
   "mimetype": "text/x-python",
   "name": "python",
   "nbconvert_exporter": "python",
   "pygments_lexer": "ipython3",
   "version": "3.8.5"
  },
  "metadata": {
   "interpreter": {
    "hash": "82db51cffef479cc4d0f53089378e5a2925f9e7adca31d741132ceba61ecca6f"
   }
  }
 },
 "nbformat": 4,
 "nbformat_minor": 2
}
