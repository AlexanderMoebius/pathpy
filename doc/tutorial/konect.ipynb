{
 "cells": [
  {
   "cell_type": "markdown",
   "metadata": {},
   "source": [
    "# Reading networks from KONECT\n",
    "\n",
    "[Run notebook in Google Colab](https://colab.research.google.com/github/pathpy/pathpy/blob/master/doc/tutorial/konect.ipynb)  \n",
    "[Download notebook](https://github.com/pathpy/pathpy/raw/master/doc/tutorial/konect.ipynb)"
   ]
  },
  {
   "cell_type": "code",
   "execution_count": null,
   "metadata": {
    "execution": {
     "iopub.execute_input": "2021-04-30T00:16:25.681185Z",
     "iopub.status.busy": "2021-04-30T00:16:25.680572Z",
     "iopub.status.idle": "2021-04-30T00:16:31.797746Z",
     "shell.execute_reply": "2021-04-30T00:16:31.798323Z"
    },
    "tags": [
     "hide"
    ]
   },
   "outputs": [],
   "source": [
    "pip install git+git://github.com/pathpy/pathpy.git"
   ]
  },
  {
   "cell_type": "code",
   "execution_count": null,
   "metadata": {
    "execution": {
     "iopub.execute_input": "2021-04-30T00:16:31.801875Z",
     "iopub.status.busy": "2021-04-30T00:16:31.801382Z",
     "iopub.status.idle": "2021-04-30T00:16:32.681540Z",
     "shell.execute_reply": "2021-04-30T00:16:32.681952Z"
    }
   },
   "outputs": [],
   "source": [
    "import pathpy as pp"
   ]
  },
  {
   "cell_type": "markdown",
   "metadata": {},
   "source": [
    "## Reading static networks\n",
    "\n",
    "To read a network from the [KONECT](http://konect.cc/) database, you can simply use the (internal) name of the network, as given in the Metadata of each network record. In a nutshell, a network with name `ucidata-zachary` must be accessible via URL `base_url` + 'ucid_data-zachary', where the `base_url` defaults to the value: `https://konnect.cc/files/download.tsv.`\n",
    "\n",
    "To read the Zachary Karate Club network, we can write:"
   ]
  },
  {
   "cell_type": "code",
   "execution_count": null,
   "metadata": {
    "execution": {
     "iopub.execute_input": "2021-04-30T00:16:32.684957Z",
     "iopub.status.busy": "2021-04-30T00:16:32.684471Z",
     "iopub.status.idle": "2021-04-30T00:16:32.798978Z",
     "shell.execute_reply": "2021-04-30T00:16:32.798407Z"
    }
   },
   "outputs": [],
   "source": [
    "n = pp.io.konect.read_konect_name('ucidata-zachary')\n",
    "print(n)"
   ]
  },
  {
   "cell_type": "code",
   "execution_count": null,
   "metadata": {
    "execution": {
     "iopub.execute_input": "2021-04-30T00:16:32.802838Z",
     "iopub.status.busy": "2021-04-30T00:16:32.802341Z",
     "iopub.status.idle": "2021-04-30T00:16:32.808050Z",
     "shell.execute_reply": "2021-04-30T00:16:32.808611Z"
    }
   },
   "outputs": [],
   "source": [
    "n.plot()"
   ]
  },
  {
   "cell_type": "markdown",
   "metadata": {},
   "source": [
    "## Reading temporal networks\n",
    "\n",
    "The type of the returned network depends on the data record. Data with temporal edges will automatically be returned as a temporal network.\n",
    "\n",
    "To load and visualize the temporal network ``"
   ]
  },
  {
   "cell_type": "code",
   "execution_count": null,
   "metadata": {
    "execution": {
     "iopub.execute_input": "2021-04-28T08:37:01.351175Z",
     "iopub.status.busy": "2021-04-28T08:37:01.350446Z",
     "iopub.status.idle": "2021-04-28T08:37:01.438015Z",
     "shell.execute_reply": "2021-04-28T08:37:01.437415Z"
    }
   },
   "outputs": [],
   "source": [
    "tn = pp.io.konect.read_konect_name('edit-htwikisource')\n",
    "print(tn)"
   ]
  },
  {
   "cell_type": "code",
   "execution_count": null,
   "metadata": {
    "execution": {
     "iopub.execute_input": "2021-04-28T08:37:01.463362Z",
     "iopub.status.busy": "2021-04-28T08:37:01.462686Z",
     "iopub.status.idle": "2021-04-28T08:37:01.474972Z",
     "shell.execute_reply": "2021-04-28T08:37:01.475554Z"
    }
   },
   "outputs": [],
   "source": [
    "pp.plot(tn)"
   ]
  },
  {
   "cell_type": "markdown",
   "metadata": {},
   "source": [
    "## Reading temporal data as static network\n",
    "\n",
    "Sometimes, we may want to read data with temporal edges as a static network. For this, we can set the `ignore_temporal` argument to true. This will return a static mtulti-edge network, where the edges have a `time` attribute, that is however not interpreted as a temporal edge by `pathpy`."
   ]
  },
  {
   "cell_type": "code",
   "execution_count": null,
   "metadata": {
    "execution": {
     "iopub.execute_input": "2021-04-28T08:37:01.479546Z",
     "iopub.status.busy": "2021-04-28T08:37:01.478827Z",
     "iopub.status.idle": "2021-04-28T08:37:01.556091Z",
     "shell.execute_reply": "2021-04-28T08:37:01.556669Z"
    }
   },
   "outputs": [],
   "source": [
    "n = pp.io.konect.read_konect_name('edit-htwikisource', ignore_temporal=True)\n",
    "print(n)"
   ]
  },
  {
   "cell_type": "code",
   "execution_count": null,
   "metadata": {
    "execution": {
     "iopub.execute_input": "2021-04-28T08:37:01.562463Z",
     "iopub.status.busy": "2021-04-28T08:37:01.561762Z",
     "iopub.status.idle": "2021-04-28T08:37:01.572253Z",
     "shell.execute_reply": "2021-04-28T08:37:01.572834Z"
    }
   },
   "outputs": [],
   "source": [
    "pp.plot(n)"
   ]
  },
  {
   "cell_type": "code",
   "execution_count": null,
   "metadata": {},
   "outputs": [],
   "source": []
  }
 ],
 "metadata": {
  "celltoolbar": "Tags",
  "kernelspec": {
   "display_name": "Python 3",
   "language": "python",
   "name": "python3"
  },
  "language_info": {
   "codemirror_mode": {
    "name": "ipython",
    "version": 3
   },
   "file_extension": ".py",
   "mimetype": "text/x-python",
   "name": "python",
   "nbconvert_exporter": "python",
   "pygments_lexer": "ipython3",
   "version": "3.9.3"
  },
  "metadata": {
   "interpreter": {
    "hash": "82db51cffef479cc4d0f53089378e5a2925f9e7adca31d741132ceba61ecca6f"
   }
  }
 },
 "nbformat": 4,
 "nbformat_minor": 2
}
