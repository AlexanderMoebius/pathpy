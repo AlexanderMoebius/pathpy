{
 "cells": [
  {
   "cell_type": "markdown",
   "metadata": {},
   "source": [
    "# Reading networks from KONECT\n",
    "\n",
    "[Run notebook in Google Colab](https://colab.research.google.com/github/pathpy/pathpy/blob/master/doc/tutorial/konect.ipynb)  \n",
    "[Download notebook](https://github.com/pathpy/pathpy/raw/master/doc/tutorial/konect.ipynb)"
   ]
  },
  {
   "cell_type": "code",
   "execution_count": null,
   "metadata": {
    "execution": {
     "iopub.execute_input": "2021-08-28T22:07:54.219493Z",
     "iopub.status.busy": "2021-08-28T22:07:54.218953Z",
     "iopub.status.idle": "2021-08-28T22:08:02.213735Z",
     "shell.execute_reply": "2021-08-28T22:08:02.214170Z"
    },
    "tags": [
     "hide"
    ]
   },
   "outputs": [],
   "source": [
    "pip install git+git://github.com/pathpy/pathpy.git"
   ]
  },
  {
   "cell_type": "code",
   "execution_count": null,
   "metadata": {
    "execution": {
     "iopub.execute_input": "2021-08-28T22:08:02.217429Z",
     "iopub.status.busy": "2021-08-28T22:08:02.217016Z",
     "iopub.status.idle": "2021-08-28T22:08:03.126966Z",
     "shell.execute_reply": "2021-08-28T22:08:03.127394Z"
    }
   },
   "outputs": [],
   "source": [
    "import pathpy as pp"
   ]
  },
  {
   "cell_type": "markdown",
   "metadata": {},
   "source": [
    "## Reading static networks\n",
    "\n",
    "To read a network from the [KONECT](http://konect.cc/) database, you can simply use the (internal) name of the network, as given in the Metadata of each network record. In a nutshell, a network with name `ucidata-zachary` must be accessible via URL `base_url` + 'ucid_data-zachary', where the `base_url` defaults to the value: `https://konnect.cc/files/download.tsv.`\n",
    "\n",
    "To read the Zachary Karate Club network, we can write:"
   ]
  },
  {
   "cell_type": "code",
   "execution_count": null,
   "metadata": {
    "execution": {
     "iopub.execute_input": "2021-08-28T22:08:03.130650Z",
     "iopub.status.busy": "2021-08-28T22:08:03.130240Z",
     "iopub.status.idle": "2021-08-28T22:08:03.256558Z",
     "shell.execute_reply": "2021-08-28T22:08:03.257015Z"
    }
   },
   "outputs": [],
   "source": [
    "n = pp.io.konect.read_konect_name('ucidata-zachary')\n",
    "print(n)"
   ]
  },
  {
   "cell_type": "code",
   "execution_count": null,
   "metadata": {
    "execution": {
     "iopub.execute_input": "2021-08-28T22:08:03.260465Z",
     "iopub.status.busy": "2021-08-28T22:08:03.260053Z",
     "iopub.status.idle": "2021-08-28T22:08:03.265647Z",
     "shell.execute_reply": "2021-08-28T22:08:03.266306Z"
    }
   },
   "outputs": [],
   "source": [
    "n.plot()"
   ]
  },
  {
   "cell_type": "markdown",
   "metadata": {},
   "source": [
    "## Reading temporal networks\n",
    "\n",
    "The type of the returned network depends on the data record. Data with temporal edges will automatically be returned as a temporal network.\n",
    "\n",
    "To load and visualize the temporal network ``"
   ]
  },
  {
   "cell_type": "code",
   "execution_count": null,
   "metadata": {
    "execution": {
     "iopub.execute_input": "2021-08-28T22:08:03.269178Z",
     "iopub.status.busy": "2021-08-28T22:08:03.268734Z",
     "iopub.status.idle": "2021-08-28T22:08:03.441859Z",
     "shell.execute_reply": "2021-08-28T22:08:03.442282Z"
    }
   },
   "outputs": [],
   "source": [
    "tn = pp.io.konect.read_konect_name('edit-htwikisource')\n",
    "print(tn)"
   ]
  },
  {
   "cell_type": "code",
   "execution_count": null,
   "metadata": {
    "execution": {
     "iopub.execute_input": "2021-08-28T22:08:03.471378Z",
     "iopub.status.busy": "2021-08-28T22:08:03.470975Z",
     "iopub.status.idle": "2021-08-28T22:08:03.478435Z",
     "shell.execute_reply": "2021-08-28T22:08:03.478856Z"
    }
   },
   "outputs": [],
   "source": [
    "pp.plot(tn)"
   ]
  },
  {
   "cell_type": "markdown",
   "metadata": {},
   "source": [
    "## Reading temporal data as static network\n",
    "\n",
    "Sometimes, we may want to read data with temporal edges as a static network. For this, we can set the `ignore_temporal` argument to true. This will return a static mtulti-edge network, where the edges have a `time` attribute, that is however not interpreted as a temporal edge by `pathpy`."
   ]
  },
  {
   "cell_type": "code",
   "execution_count": null,
   "metadata": {
    "execution": {
     "iopub.execute_input": "2021-08-28T22:08:03.481821Z",
     "iopub.status.busy": "2021-08-28T22:08:03.481365Z",
     "iopub.status.idle": "2021-08-28T22:08:03.617465Z",
     "shell.execute_reply": "2021-08-28T22:08:03.617888Z"
    }
   },
   "outputs": [],
   "source": [
    "n = pp.io.konect.read_konect_name('edit-htwikisource', ignore_temporal=True)\n",
    "print(n)"
   ]
  },
  {
   "cell_type": "code",
   "execution_count": null,
   "metadata": {
    "execution": {
     "iopub.execute_input": "2021-08-28T22:08:03.624083Z",
     "iopub.status.busy": "2021-08-28T22:08:03.622830Z",
     "iopub.status.idle": "2021-08-28T22:08:03.630304Z",
     "shell.execute_reply": "2021-08-28T22:08:03.630909Z"
    }
   },
   "outputs": [],
   "source": [
    "pp.plot(n)"
   ]
  },
  {
   "cell_type": "code",
   "execution_count": null,
   "metadata": {},
   "outputs": [],
   "source": []
  }
 ],
 "metadata": {
  "celltoolbar": "Tags",
  "kernelspec": {
   "display_name": "Python 3",
   "language": "python",
   "name": "python3"
  },
  "language_info": {
   "codemirror_mode": {
    "name": "ipython",
    "version": 3
   },
   "file_extension": ".py",
   "mimetype": "text/x-python",
   "name": "python",
   "nbconvert_exporter": "python",
   "pygments_lexer": "ipython3",
   "version": "3.8.5"
  },
  "metadata": {
   "interpreter": {
    "hash": "82db51cffef479cc4d0f53089378e5a2925f9e7adca31d741132ceba61ecca6f"
   }
  }
 },
 "nbformat": 4,
 "nbformat_minor": 4
}
