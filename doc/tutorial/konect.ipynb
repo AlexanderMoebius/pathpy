{
 "cells": [
  {
   "cell_type": "markdown",
   "metadata": {},
   "source": [
    "# Reading network data from the KONECT database"
   ]
  },
  {
   "cell_type": "code",
   "execution_count": null,
   "metadata": {
    "execution": {
     "iopub.execute_input": "2021-04-27T20:00:21.472408Z",
     "iopub.status.busy": "2021-04-27T20:00:21.471331Z",
     "iopub.status.idle": "2021-04-27T20:00:21.903147Z",
     "shell.execute_reply": "2021-04-27T20:00:21.903866Z"
    }
   },
   "outputs": [],
   "source": [
    "import pathpy as pp"
   ]
  },
  {
   "cell_type": "markdown",
   "metadata": {},
   "source": [
    "## Reading static networks from KONECT\n",
    "\n",
    "To read a network from the [KONECT](http://konect.cc/) database, you can simply use the (internal) name of the network, as given in the Metadata of each network record. In a nutshell, a network with name `ucidata-zachary` must be accessible via URL `base_url` + 'ucid_data-zachary', where the `base_url` defaults to the value: `https://konnect.cc/files/download.tsv.`\n",
    "\n",
    "To read the Zachary Karate Club network, we can write:"
   ]
  },
  {
   "cell_type": "code",
   "execution_count": null,
   "metadata": {
    "execution": {
     "iopub.execute_input": "2021-04-27T20:00:21.908840Z",
     "iopub.status.busy": "2021-04-27T20:00:21.908089Z",
     "iopub.status.idle": "2021-04-27T20:00:21.985890Z",
     "shell.execute_reply": "2021-04-27T20:00:21.986534Z"
    }
   },
   "outputs": [],
   "source": [
    "n = pp.io.konect.read_konect_name('ucidata-zachary')\n",
    "print(n)"
   ]
  },
  {
   "cell_type": "code",
   "execution_count": null,
   "metadata": {
    "execution": {
     "iopub.execute_input": "2021-04-27T20:00:21.991519Z",
     "iopub.status.busy": "2021-04-27T20:00:21.990732Z",
     "iopub.status.idle": "2021-04-27T20:00:21.998552Z",
     "shell.execute_reply": "2021-04-27T20:00:21.999170Z"
    }
   },
   "outputs": [],
   "source": [
    "n.plot()"
   ]
  },
  {
   "cell_type": "markdown",
   "metadata": {},
   "source": [
    "## Read a temporal network from KONECT\n",
    "\n",
    "The type of the returned network depends on the data record. Data with temporal edges will automatically be returned as a temporal network.\n",
    "\n",
    "To load and visualize the temporal network ``"
   ]
  },
  {
   "cell_type": "code",
   "execution_count": null,
   "metadata": {
    "execution": {
     "iopub.execute_input": "2021-04-27T20:00:22.003376Z",
     "iopub.status.busy": "2021-04-27T20:00:22.002648Z",
     "iopub.status.idle": "2021-04-27T20:00:22.091819Z",
     "shell.execute_reply": "2021-04-27T20:00:22.092434Z"
    }
   },
   "outputs": [],
   "source": [
    "tn = pp.io.konect.read_konect_name('edit-htwikisource')\n",
    "print(tn)"
   ]
  },
  {
   "cell_type": "code",
   "execution_count": null,
   "metadata": {
    "execution": {
     "iopub.execute_input": "2021-04-27T20:00:22.120357Z",
     "iopub.status.busy": "2021-04-27T20:00:22.119563Z",
     "iopub.status.idle": "2021-04-27T20:00:22.131992Z",
     "shell.execute_reply": "2021-04-27T20:00:22.132612Z"
    }
   },
   "outputs": [],
   "source": [
    "pp.plot(tn)"
   ]
  },
  {
   "cell_type": "markdown",
   "metadata": {},
   "source": [
    "## Read temporal data as static network\n",
    "\n",
    "Sometimes, we may want to read data with temporal edges as a static network. For this, we can set the `ignore_temporal` argument to true. This will return a static mtulti-edge network, where the edges have a `time` attribute, that is however not interpreted as a temporal edge by `pathpy`."
   ]
  },
  {
   "cell_type": "code",
   "execution_count": null,
   "metadata": {
    "execution": {
     "iopub.execute_input": "2021-04-27T20:00:22.136786Z",
     "iopub.status.busy": "2021-04-27T20:00:22.136037Z",
     "iopub.status.idle": "2021-04-27T20:00:22.223508Z",
     "shell.execute_reply": "2021-04-27T20:00:22.224125Z"
    }
   },
   "outputs": [],
   "source": [
    "n = pp.io.konect.read_konect_name('edit-htwikisource', ignore_temporal=True)\n",
    "print(n)"
   ]
  },
  {
   "cell_type": "code",
   "execution_count": null,
   "metadata": {
    "execution": {
     "iopub.execute_input": "2021-04-27T20:00:22.232222Z",
     "iopub.status.busy": "2021-04-27T20:00:22.231439Z",
     "iopub.status.idle": "2021-04-27T20:00:22.245388Z",
     "shell.execute_reply": "2021-04-27T20:00:22.246105Z"
    }
   },
   "outputs": [],
   "source": [
    "pp.plot(n)"
   ]
  }
 ],
 "metadata": {
  "kernelspec": {
   "display_name": "Python 3",
   "language": "python",
   "name": "python3"
  },
  "language_info": {
   "codemirror_mode": {
    "name": "ipython",
    "version": 3
   },
   "file_extension": ".py",
   "mimetype": "text/x-python",
   "name": "python",
   "nbconvert_exporter": "python",
   "pygments_lexer": "ipython3",
   "version": "3.9.3"
  },
  "metadata": {
   "interpreter": {
    "hash": "82db51cffef479cc4d0f53089378e5a2925f9e7adca31d741132ceba61ecca6f"
   }
  }
 },
 "nbformat": 4,
 "nbformat_minor": 2
}
