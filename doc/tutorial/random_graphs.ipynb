{
 "cells": [
  {
   "cell_type": "markdown",
   "metadata": {},
   "source": [
    "# Generating random graphs"
   ]
  },
  {
   "cell_type": "code",
   "execution_count": null,
   "metadata": {},
   "outputs": [],
   "source": [
    "import pathpy as pp\n",
    "import numpy as np\n",
    "\n",
    "import seaborn as sns\n",
    "import matplotlib.pyplot as plt\n",
    "\n",
    "plt.style.use('default')\n",
    "sns.set_style(\"whitegrid\")"
   ]
  },
  {
   "source": [
    "A number of random graph models like the $G(n,m)$ model by Pál Erdös and Alred Rényi as well as $G(n,p)$ by Edgar Nelson Gilbert\n",
    " are implemented in the `pathpy` module `generators`. To generate random graphs using the $G(n,m)$ model we can write: "
   ],
   "cell_type": "markdown",
   "metadata": {}
  },
  {
   "cell_type": "code",
   "execution_count": null,
   "metadata": {},
   "outputs": [],
   "source": [
    "pp.generators.ER_nm(30, 40, directed=False)"
   ]
  },
  {
   "source": [
    "Note that we can also generate networks directed or undirected with or without loops and with multiple edges. If you want to quickly check the maximum number of possible edges for such networks with a given number of nodes, you can use the `max_edges` functions. It computes the quantities explained in the combinatorics primer in theory lecture L03:"
   ],
   "cell_type": "markdown",
   "metadata": {}
  },
  {
   "cell_type": "code",
   "execution_count": null,
   "metadata": {},
   "outputs": [],
   "source": [
    "print(pp.generators.max_edges(100, directed=True, loops=True))\n",
    "print(pp.generators.max_edges(100, directed=True, loops=False))\n",
    "print(pp.generators.max_edges(100, directed=False, loops=True))\n",
    "print(pp.generators.max_edges(100, directed=False, loops=False))"
   ]
  },
  {
   "source": [
    "If we specify parameters of an impossible network, the function issues the appropriate error message:"
   ],
   "cell_type": "markdown",
   "metadata": {}
  },
  {
   "cell_type": "code",
   "execution_count": null,
   "metadata": {},
   "outputs": [],
   "source": [
    "pp.generators.ER_nm(n=100, m=5060, directed=False, loops=True)"
   ]
  },
  {
   "source": [
    "Finally, we can use the function `pp.generators.ER_np` to generate networks according to the $G(n,p)$ model:"
   ],
   "cell_type": "markdown",
   "metadata": {}
  },
  {
   "cell_type": "code",
   "execution_count": null,
   "metadata": {},
   "outputs": [],
   "source": [
    "pp.generators.ER_np(n=100, p=0.02)"
   ]
  },
  {
   "source": [
    "We often use random graph models to randomize the topolpgy of a given network, while keeping their aggregate characteristics. For this common task, `pathpy` provides `_randomize` versions of random graph functions that automatically adjust the model parameters to a given network instance. To see how this works, consider the following example network:"
   ],
   "cell_type": "markdown",
   "metadata": {}
  },
  {
   "cell_type": "code",
   "execution_count": null,
   "metadata": {},
   "outputs": [],
   "source": [
    "n_undirected = pp.Network(directed=False)\n",
    "n_undirected.add_edge('a', 'b')\n",
    "n_undirected.add_edge('b', 'c')\n",
    "n_undirected.add_edge('c', 'a')\n",
    "n_undirected.add_edge('d', 'e')\n",
    "n_undirected.add_edge('e', 'f')\n",
    "n_undirected.add_edge('f', 'g')\n",
    "n_undirected.add_edge('g', 'd')\n",
    "n_undirected.add_edge('d', 'f')\n",
    "n_undirected.add_edge('b', 'd')\n",
    "n_undirected.plot()"
   ]
  },
  {
   "source": [
    "We can use the $G(n,m)$ model to generate a random version of this network with the same number of nodes, edges, the same edge directedness and the same node uids as follows:"
   ],
   "cell_type": "markdown",
   "metadata": {}
  },
  {
   "cell_type": "code",
   "execution_count": null,
   "metadata": {},
   "outputs": [],
   "source": [
    "pp.generators.ER_nm_randomize(n_undirected)"
   ]
  },
  {
   "source": [
    "We can do the same for the $G(n,p)$ model. Here the parameter $p$ is automatically fitted to the given network, i.e. it is chosen such that the number of *expected links* in the generated microstates matches the number of links in the given network:"
   ],
   "cell_type": "markdown",
   "metadata": {}
  },
  {
   "cell_type": "code",
   "execution_count": null,
   "metadata": {},
   "outputs": [],
   "source": [
    "pp.generators.ER_np_randomize(n_undirected)"
   ]
  },
  {
   "cell_type": "code",
   "execution_count": null,
   "metadata": {},
   "outputs": [],
   "source": [
    "link_numbers = []\n",
    "for i in range(200):\n",
    "    r = pp.generators.ER_np_randomize(n_undirected)\n",
    "    link_numbers.append(r.number_of_edges())\n",
    "ax = sns.distplot(link_numbers)\n",
    "\n",
    "ax.axvline(n_undirected.number_of_edges(), color='red')"
   ]
  }
 ],
 "metadata": {
  "kernelspec": {
   "display_name": "Python 3",
   "language": "python",
   "name": "python3"
  },
  "language_info": {
   "codemirror_mode": {
    "name": "ipython",
    "version": 3
   },
   "file_extension": ".py",
   "mimetype": "text/x-python",
   "name": "python",
   "nbconvert_exporter": "python",
   "pygments_lexer": "ipython3",
   "version": "3.8.5"
  }
 },
 "nbformat": 4,
 "nbformat_minor": 4
}