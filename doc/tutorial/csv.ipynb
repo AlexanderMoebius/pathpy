{
 "cells": [
  {
   "cell_type": "markdown",
   "metadata": {},
   "source": [
    "# Reading networks from CSV files\n",
    "\n",
    "[Run notebook in Google Colab](https://colab.research.google.com/github/pathpy/pathpy/blob/master/doc/tutorial/csv.ipynb)  \n",
    "[Download notebook](https://github.com/pathpy/pathpy/raw/master/doc/tutorial/csv.ipynb)\n",
    "\n",
    "This notebook shows you, how to read and write network data from `.csv` files.  "
   ]
  },
  {
   "cell_type": "code",
   "execution_count": null,
   "metadata": {
    "execution": {
     "iopub.execute_input": "2021-06-23T10:58:37.682964Z",
     "iopub.status.busy": "2021-06-23T10:58:37.681983Z",
     "iopub.status.idle": "2021-06-23T10:58:44.024155Z",
     "shell.execute_reply": "2021-06-23T10:58:44.024777Z"
    }
   },
   "outputs": [],
   "source": [
    "pip install git+git://github.com/pathpy/pathpy.git"
   ]
  },
  {
   "cell_type": "code",
   "execution_count": null,
   "metadata": {
    "execution": {
     "iopub.execute_input": "2021-06-23T10:58:44.030257Z",
     "iopub.status.busy": "2021-06-23T10:58:44.029425Z",
     "iopub.status.idle": "2021-06-23T10:58:44.493748Z",
     "shell.execute_reply": "2021-06-23T10:58:44.494389Z"
    }
   },
   "outputs": [],
   "source": [
    "import pathpy as pp\n",
    "import io\n",
    "import pandas as pd\n",
    "from pprint import pprint"
   ]
  },
  {
   "cell_type": "markdown",
   "metadata": {},
   "source": [
    "The simplest way to store network data is in terms of an adjacency list, i.e. a simple text file where each line contains the uids of source and target nodes of an edge, separated by a special character. This widely used format is the default file format of `pathpy` (and many other network analysis packages). We can use the `write` function in the `io.csv` module to save a network instance in this format. In the generation of the toy network below, we also demonstrate how we can add multiple nodes and edges at once based on a sequence of node uid tuples. The call to `add_edges` below generates three nodes and two edges:"
   ]
  },
  {
   "cell_type": "code",
   "execution_count": null,
   "metadata": {
    "execution": {
     "iopub.execute_input": "2021-06-23T10:58:44.499226Z",
     "iopub.status.busy": "2021-06-23T10:58:44.498460Z",
     "iopub.status.idle": "2021-06-23T10:58:44.500944Z",
     "shell.execute_reply": "2021-06-23T10:58:44.501573Z"
    }
   },
   "outputs": [],
   "source": [
    "n = pp.Network()\n",
    "n.add_edges(('a', 'b'), ('a', 'c'))\n",
    "print(n)"
   ]
  },
  {
   "cell_type": "markdown",
   "metadata": {},
   "source": [
    "To store this network in a `.csv` file, we call:"
   ]
  },
  {
   "cell_type": "code",
   "execution_count": null,
   "metadata": {
    "execution": {
     "iopub.execute_input": "2021-06-23T10:58:44.508489Z",
     "iopub.status.busy": "2021-06-23T10:58:44.507692Z",
     "iopub.status.idle": "2021-06-23T10:58:44.510694Z",
     "shell.execute_reply": "2021-06-23T10:58:44.511342Z"
    }
   },
   "outputs": [],
   "source": [
    "pp.io.csv.write(n, 'network.csv')"
   ]
  },
  {
   "cell_type": "markdown",
   "metadata": {},
   "source": [
    "If you inspect this file, you will find that it contains the source and target node uids of all edges, as well as the edge uids. By default a comma separator is used, but we can easily change this using the `sep` parameter of the function.\n",
    "\n",
    "To directly load a network from a csv file, we can use the `read_network` function in the `io.csv` module. To read the network that we saved before, we can write:"
   ]
  },
  {
   "cell_type": "code",
   "execution_count": null,
   "metadata": {
    "execution": {
     "iopub.execute_input": "2021-06-23T10:58:44.517229Z",
     "iopub.status.busy": "2021-06-23T10:58:44.516371Z",
     "iopub.status.idle": "2021-06-23T10:58:44.520510Z",
     "shell.execute_reply": "2021-06-23T10:58:44.519833Z"
    }
   },
   "outputs": [],
   "source": [
    "n = pp.io.csv.read_network('network.csv')\n",
    "print(n)"
   ]
  },
  {
   "cell_type": "markdown",
   "metadata": {},
   "source": [
    "Since the `io` functions are internally based on pandas data frames, we would get the same network (with a different uid though) if we did the following:"
   ]
  },
  {
   "cell_type": "code",
   "execution_count": null,
   "metadata": {
    "execution": {
     "iopub.execute_input": "2021-06-23T10:58:44.527192Z",
     "iopub.status.busy": "2021-06-23T10:58:44.526450Z",
     "iopub.status.idle": "2021-06-23T10:58:44.533903Z",
     "shell.execute_reply": "2021-06-23T10:58:44.533430Z"
    }
   },
   "outputs": [],
   "source": [
    "dfpd = pd.read_csv('network.csv')\n",
    "dfpp = pp.io.csv.read_dataframe('network.csv')\n",
    "print(dfpd)\n",
    "print(dfpp)"
   ]
  },
  {
   "cell_type": "markdown",
   "metadata": {},
   "source": [
    "The above call will generate a network with a new uid and no attributes. if we want to assign attributes or a custom uid to the newly generated network, we can simply pass those attributes to the `from_csv` function:"
   ]
  },
  {
   "cell_type": "code",
   "execution_count": null,
   "metadata": {
    "execution": {
     "iopub.execute_input": "2021-06-23T10:58:44.539170Z",
     "iopub.status.busy": "2021-06-23T10:58:44.537020Z",
     "iopub.status.idle": "2021-06-23T10:58:44.542511Z",
     "shell.execute_reply": "2021-06-23T10:58:44.542886Z"
    }
   },
   "outputs": [],
   "source": [
    "n = pp.io.csv.read_network(filename='network.csv', uid='csvnetwork')\n",
    "print(n)"
   ]
  },
  {
   "cell_type": "markdown",
   "metadata": {},
   "source": [
    "All of the functions above also work with edges that have arbitrary attributes. If only part of the edges have a given attribute, a NaN value will be automatically assigned for other edges. Let's create a small example where this is the case:"
   ]
  },
  {
   "cell_type": "code",
   "execution_count": null,
   "metadata": {
    "execution": {
     "iopub.execute_input": "2021-06-23T10:58:44.546629Z",
     "iopub.status.busy": "2021-06-23T10:58:44.546186Z",
     "iopub.status.idle": "2021-06-23T10:58:44.548116Z",
     "shell.execute_reply": "2021-06-23T10:58:44.547729Z"
    }
   },
   "outputs": [],
   "source": [
    "n = pp.Network(directed=False)\n",
    "n.add_edge('a', 'b', weight=2.0)\n",
    "n.add_edge('a', 'c', type='friendship')\n",
    "print(n)"
   ]
  },
  {
   "cell_type": "code",
   "execution_count": null,
   "metadata": {},
   "outputs": [],
   "source": []
  }
 ],
 "metadata": {
  "interpreter": {
   "hash": "cbc06d602e623f3da56a6fd8482a438fdef2ce96413bf7bd183f2e65bbc2f388"
  },
  "kernelspec": {
   "display_name": "Python 3.9.5 64-bit ('pathp': venv)",
   "name": "python3"
  },
  "language_info": {
   "codemirror_mode": {
    "name": "ipython",
    "version": 3
   },
   "file_extension": ".py",
   "mimetype": "text/x-python",
   "name": "python",
   "nbconvert_exporter": "python",
   "pygments_lexer": "ipython3",
   "version": "3.9.5"
  },
  "metadata": {
   "interpreter": {
    "hash": "82db51cffef479cc4d0f53089378e5a2925f9e7adca31d741132ceba61ecca6f"
   }
  }
 },
 "nbformat": 4,
 "nbformat_minor": 2
}
