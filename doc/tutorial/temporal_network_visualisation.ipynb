{
 "cells": [
  {
   "cell_type": "markdown",
   "metadata": {},
   "source": [
    "# Temporal Network Visualisation"
   ]
  },
  {
   "source": [
    "The `pathpy` package provides special support for the analysis of temporal networks data via its `TemporalNetwork` class. It is suitable for data that captures time-stamped edges  $(v,w,t)$  instantaneously occurring at discrete time stamps $t$. Let us start by creating an empty instance of this class."
   ],
   "cell_type": "markdown",
   "metadata": {}
  },
  {
   "cell_type": "code",
   "execution_count": null,
   "metadata": {},
   "outputs": [],
   "source": [
    "mport pathpy as pp\n",
    "import numpy as np\n",
    "import sqlite3\n",
    "\n",
    "import seaborn as sns\n",
    "import matplotlib.pyplot as plt\n",
    "import scipy\n",
    "\n",
    "from collections import defaultdict\n",
    "\n",
    "plt.style.use('default')\n",
    "sns.set_style(\"whitegrid\")"
   ]
  },
  {
   "cell_type": "code",
   "execution_count": null,
   "metadata": {},
   "outputs": [],
   "source": [
    "t = pp.TemporalNetwork()\n",
    "print(t)"
   ]
  },
  {
   "source": [
    "The TemporalNetwork instance $t$ stores two key information: a list of nodes t.nodes and a collection t.tedges of time-stamped edges $(v,w,t)$. Let us add some time-stamped edges to this instance."
   ],
   "cell_type": "markdown",
   "metadata": {}
  },
  {
   "cell_type": "code",
   "execution_count": null,
   "metadata": {},
   "outputs": [],
   "source": [
    "t.add_edge('a', 'b', 1)\n",
    "t.add_edge('b', 'a', 3)\n",
    "t.add_edge('b', 'c', 3)\n",
    "t.add_edge('d', 'c', 4)\n",
    "t.add_edge('c', 'd', 5)\n",
    "t.add_edge('c', 'b', 6)\n",
    "print(t)"
   ]
  },
  {
   "source": [
    "We get basic summary statistics, such as the number of time-stamped interactions, the minimum and maximum timestamp, the duration of the observation, the number of different timestamps, as well as the average, minimum, and maximum time difference between consecutive time-stamped edges.\n",
    "\n",
    "Above we used integer timestamps, which represent discrete time units. But we often have data where time is given in terms of a date and/or time of day. Luckily, pathpy supports arbitrary timestamp formats. Let us try this in an example."
   ],
   "cell_type": "markdown",
   "metadata": {}
  },
  {
   "cell_type": "code",
   "execution_count": null,
   "metadata": {},
   "outputs": [],
   "source": [
    "t_realtime = pp.TemporalNetwork()\n",
    "t_realtime.add_edge('a', 'b', '2018-08-22 09:30:22')\n",
    "t_realtime.add_edge('b', 'c', '2018-08-22 09:30:25')\n",
    "t_realtime.add_edge('c', 'a', '2018-08-22 10:30:25')\n",
    "print(t_realtime)\n",
    "\n",
    "for e in t_realtime.tedges:\n",
    "    print(e)"
   ]
  },
  {
   "source": [
    "We observe that `pathpy` internally converts such timestamps into UNIX timestamps. For custom formats, we can set a custom `timestamp_format` parameter that will be used for this conversion. After the conversion, all time units will be in seconds (see e.g. the min/max inter-event time).\n",
    "\n",
    "Just like other pathpy objects, we can directly embed interactive visualisations of a TemporalNetwork in-line in jupyter. Let us try this with our first example instance $t$."
   ],
   "cell_type": "markdown",
   "metadata": {}
  },
  {
   "cell_type": "code",
   "execution_count": null,
   "metadata": {},
   "outputs": [],
   "source": [
    "t"
   ]
  },
  {
   "source": [
    "Using the default parameters, this visualisation is too fast. Luckily, we can use the generic `pp.visualisation.plot` function to pass a style for the visualisation. We can use all parameters that we used for static networks, plus additional parameters that influence temporal aspects of the visualisation.\n",
    "\n",
    "Of particular importance are the parameters `ms_per_frame` and `ts_per_frame`: The first specifies how many time units will be shown in one frame of the visualisation, allowing us to compress the visualisation by showing multiple timestamps in a single frame. This is helpful when you want to coarse-grain visualisations of high-resolution temporal network data. The parameter `ms_per_frame` defines the target frame rate of the visualisation by adjusting how many milliseconds each frame is displayed.\n",
    "\n",
    "Two more parameters will influence the force-directed layout algorithm, that is used to position nodes in the network. In a temporal network, the question is which time-stamped edges should be taken into account for the force-calculation at any given time stamp. If we only consider currently active edges, the layout will change too fast to recognize interesting patterns. If we consider all edges at every time step, node positions will be static despite the dynamics of edges. In real settings we want a compromise between those extremes, i.e. we specify a time window around the current time stamp within which edges are taken into account in the force-directed layout calculation. We can achieve this by setting the number of timestamps to consider before and after the currently shown frame via the `look_ahead` and `look_behind` parameters.\n",
    "\n",
    "Finally, we can style active and inactive nodes and edges individually via the parameters `active_edge_width`, `inactive_edge_width`, `active_node_color`, and `inactive_node_color`. This allows us to change the color and/or size of nodes/edges whenever they are involved in an interaction."
   ],
   "cell_type": "markdown",
   "metadata": {}
  },
  {
   "cell_type": "code",
   "execution_count": null,
   "metadata": {},
   "outputs": [],
   "source": [
    "style = {    \n",
    "  'ts_per_frame': 1, \n",
    "  'ms_per_frame': 2000,\n",
    "  'look_ahead': 2, \n",
    "  'look_behind': 2, \n",
    "  'node_size': 15, \n",
    "  'inactive_edge_width': 2,\n",
    "  'active_edge_width': 4, \n",
    "  'label_color' : '#ffffff',\n",
    "  'd3js_path': 'http://localhost:8888/notebooks/d3.v4.min.js',\n",
    "  'label_size' : '24px',\n",
    "  'label_offset': [0,5]\n",
    "  }\n",
    "pp.visualisation.plot(t, **style)"
   ]
  },
  {
   "source": [
    "This generates an embedded interactive visualisation, i.e. you can pan and zoom, or drag nodes. The controls in the top part of the visualisation allow you to stop, start or restart the simulation.\n",
    "\n",
    "We can easily save such interactive visualisations as stand-alone HTML5 files, which can be distributed via the Web."
   ],
   "cell_type": "markdown",
   "metadata": {}
  },
  {
   "cell_type": "code",
   "execution_count": null,
   "metadata": {},
   "outputs": [],
   "source": [
    "pp.visualisation.export_html(t, '01_temporal_network.html', **style)"
   ]
  },
  {
   "source": [
    "template based visualization?"
   ],
   "cell_type": "markdown",
   "metadata": {}
  }
 ],
 "metadata": {
  "kernelspec": {
   "display_name": "Python 3",
   "language": "python",
   "name": "python3"
  },
  "language_info": {
   "codemirror_mode": {
    "name": "ipython",
    "version": 3
   },
   "file_extension": ".py",
   "mimetype": "text/x-python",
   "name": "python",
   "nbconvert_exporter": "python",
   "pygments_lexer": "ipython3",
   "version": "3.8.5"
  }
 },
 "nbformat": 4,
 "nbformat_minor": 4
}