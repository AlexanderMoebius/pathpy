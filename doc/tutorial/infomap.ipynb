{
 "cells": [
  {
   "cell_type": "code",
   "execution_count": null,
   "metadata": {
    "execution": {
     "iopub.execute_input": "2021-04-27T12:27:11.952219Z",
     "iopub.status.busy": "2021-04-27T12:27:11.951597Z",
     "iopub.status.idle": "2021-04-27T12:27:12.463647Z",
     "shell.execute_reply": "2021-04-27T12:27:12.464060Z"
    }
   },
   "outputs": [],
   "source": [
    "import pathpy as pp"
   ]
  },
  {
   "cell_type": "markdown",
   "metadata": {},
   "source": [
    "The following code generates a simple example instance for a set of paths. We use a custum attribute `frequency` to store the observed frequencies of each path. Right now, the construction of paths is based on an edge sequence. The interface is more cumbersome than it needs to be, and we are currently working on simplifying the API of the `Path` and `PathCollection` classes. There should be a better version by next week."
   ]
  },
  {
   "cell_type": "code",
   "execution_count": null,
   "metadata": {
    "execution": {
     "iopub.execute_input": "2021-04-27T12:27:12.469309Z",
     "iopub.status.busy": "2021-04-27T12:27:12.468482Z",
     "iopub.status.idle": "2021-04-27T12:27:12.470974Z",
     "shell.execute_reply": "2021-04-27T12:27:12.471368Z"
    }
   },
   "outputs": [],
   "source": [
    "pc = pp.PathCollection()\n",
    "a = pp.Node('a')\n",
    "b = pp.Node('b')\n",
    "c = pp.Node('c')\n",
    "d = pp.Node('d')\n",
    "\n",
    "e1 = pp.Edge(a, b, uid='a-b')\n",
    "e2 = pp.Edge(b, c, uid='b-c')\n",
    "e3 = pp.Edge(c, d, uid='c-d')\n",
    "\n",
    "# 15 observations of path a-b\n",
    "# this path of length one should be ignored as there's no associated state node (empty memory)\n",
    "pc.add(pp.Path(e1, frequency=15))\n",
    "\n",
    "# 42 observations of path a-b-c\n",
    "# this leads to state nodes a-b and b-c connected by a link with weight 42\n",
    "pc.add(pp.Path(e1, e2, frequency=42))\n",
    "\n",
    "# 41 observations of path a-b-c-d\n",
    "# this leads to state nodes a-b-c and b-c-d connected by a link with weight 41\n",
    "pc.add(pp.Path(e1, e2, e3, frequency=41))\n",
    "print(pc)"
   ]
  },
  {
   "cell_type": "code",
   "execution_count": null,
   "metadata": {
    "execution": {
     "iopub.execute_input": "2021-04-27T12:27:12.473779Z",
     "iopub.status.busy": "2021-04-27T12:27:12.473401Z",
     "iopub.status.idle": "2021-04-27T12:27:12.476181Z",
     "shell.execute_reply": "2021-04-27T12:27:12.476612Z"
    }
   },
   "outputs": [],
   "source": [
    "pp.io.infomap.to_state_file(pc, 'test.state', weight='frequency')\n",
    "with open('test.state', 'r') as f:\n",
    "    print(f.read())"
   ]
  },
  {
   "cell_type": "code",
   "execution_count": null,
   "metadata": {},
   "outputs": [],
   "source": []
  }
 ],
 "metadata": {
  "kernelspec": {
   "display_name": "Python 3",
   "language": "python",
   "name": "python3"
  },
  "language_info": {
   "codemirror_mode": {
    "name": "ipython",
    "version": 3
   },
   "file_extension": ".py",
   "mimetype": "text/x-python",
   "name": "python",
   "nbconvert_exporter": "python",
   "pygments_lexer": "ipython3",
   "version": "3.8.5"
  },
  "metadata": {
   "interpreter": {
    "hash": "82db51cffef479cc4d0f53089378e5a2925f9e7adca31d741132ceba61ecca6f"
   }
  }
 },
 "nbformat": 4,
 "nbformat_minor": 2
}
