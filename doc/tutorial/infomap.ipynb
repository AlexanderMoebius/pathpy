{
 "cells": [
  {
   "cell_type": "markdown",
   "metadata": {},
   "source": [
    "# Exporting path data as InfoMap state files\n",
    "\n",
    "[Run notebook in Google Colab](https://colab.research.google.com/github/pathpy/pathpy/blob/master/doc/tutorial/infomap.ipynb)  \n",
    "[Download notebook](https://github.com/pathpy/pathpy/raw/master/doc/tutorial/infomap.ipynb)"
   ]
  },
  {
   "cell_type": "code",
   "execution_count": null,
   "metadata": {
    "execution": {
<<<<<<< HEAD
     "iopub.execute_input": "2021-04-28T08:33:21.778576Z",
     "iopub.status.busy": "2021-04-28T08:33:21.777883Z",
     "iopub.status.idle": "2021-04-28T08:33:29.815106Z",
     "shell.execute_reply": "2021-04-28T08:33:29.814610Z"
=======
     "iopub.execute_input": "2021-04-30T00:16:09.959471Z",
     "iopub.status.busy": "2021-04-30T00:16:09.958823Z",
     "iopub.status.idle": "2021-04-30T00:16:19.307888Z",
     "shell.execute_reply": "2021-04-30T00:16:19.308559Z"
>>>>>>> master
    },
    "tags": [
     "hide"
    ]
   },
   "outputs": [],
   "source": [
    "pip install git+git://github.com/pathpy/pathpy.git"
   ]
  },
  {
   "cell_type": "code",
   "execution_count": null,
   "metadata": {
    "execution": {
<<<<<<< HEAD
     "iopub.execute_input": "2021-04-28T08:33:29.819095Z",
     "iopub.status.busy": "2021-04-28T08:33:29.818636Z",
     "iopub.status.idle": "2021-04-28T08:33:30.270229Z",
     "shell.execute_reply": "2021-04-28T08:33:30.270864Z"
=======
     "iopub.execute_input": "2021-04-30T00:16:19.313112Z",
     "iopub.status.busy": "2021-04-30T00:16:19.312522Z",
     "iopub.status.idle": "2021-04-30T00:16:20.001085Z",
     "shell.execute_reply": "2021-04-30T00:16:20.001521Z"
>>>>>>> master
    }
   },
   "outputs": [],
   "source": [
    "import pathpy as pp"
   ]
  },
  {
   "cell_type": "markdown",
   "metadata": {},
   "source": [
    "The following code generates a simple example instance for a set of paths. We use a custum attribute `frequency` to store the observed frequencies of each path. Right now, the construction of paths is based on an edge sequence. The interface is more cumbersome than it needs to be, and we are currently working on simplifying the API of the `Path` and `PathCollection` classes. There should be a better version by next week."
   ]
  },
  {
   "cell_type": "code",
   "execution_count": null,
   "metadata": {
    "execution": {
<<<<<<< HEAD
     "iopub.execute_input": "2021-04-28T08:33:30.279742Z",
     "iopub.status.busy": "2021-04-28T08:33:30.278938Z",
     "iopub.status.idle": "2021-04-28T08:33:30.281431Z",
     "shell.execute_reply": "2021-04-28T08:33:30.282071Z"
=======
     "iopub.execute_input": "2021-04-30T00:16:20.008264Z",
     "iopub.status.busy": "2021-04-30T00:16:20.007706Z",
     "iopub.status.idle": "2021-04-30T00:16:20.009456Z",
     "shell.execute_reply": "2021-04-30T00:16:20.009984Z"
>>>>>>> master
    }
   },
   "outputs": [],
   "source": [
    "pc = pp.PathCollection()\n",
    "a = pp.Node('a')\n",
    "b = pp.Node('b')\n",
    "c = pp.Node('c')\n",
    "d = pp.Node('d')\n",
    "\n",
    "e1 = pp.Edge(a, b, uid='a-b')\n",
    "e2 = pp.Edge(b, c, uid='b-c')\n",
    "e3 = pp.Edge(c, d, uid='c-d')\n",
    "\n",
    "# 15 observations of path a-b\n",
    "# this path of length one should be ignored as there's no associated state node (empty memory)\n",
    "pc.add(pp.Path(e1, frequency=15))\n",
    "\n",
    "# 42 observations of path a-b-c\n",
    "# this leads to state nodes a-b and b-c connected by a link with weight 42\n",
    "pc.add(pp.Path(e1, e2, frequency=42))\n",
    "\n",
    "# 41 observations of path a-b-c-d\n",
    "# this leads to state nodes a-b-c and b-c-d connected by a link with weight 41\n",
    "pc.add(pp.Path(e1, e2, e3, frequency=41))\n",
    "print(pc)"
   ]
  },
  {
   "cell_type": "code",
   "execution_count": null,
   "metadata": {
    "execution": {
<<<<<<< HEAD
     "iopub.execute_input": "2021-04-28T08:33:30.286396Z",
     "iopub.status.busy": "2021-04-28T08:33:30.285616Z",
     "iopub.status.idle": "2021-04-28T08:33:30.288871Z",
     "shell.execute_reply": "2021-04-28T08:33:30.288470Z"
=======
     "iopub.execute_input": "2021-04-30T00:16:20.012799Z",
     "iopub.status.busy": "2021-04-30T00:16:20.012335Z",
     "iopub.status.idle": "2021-04-30T00:16:20.014580Z",
     "shell.execute_reply": "2021-04-30T00:16:20.015035Z"
>>>>>>> master
    }
   },
   "outputs": [],
   "source": [
    "pp.io.infomap.to_state_file(pc, 'test.state', weight='frequency')\n",
    "with open('test.state', 'r') as f:\n",
    "    print(f.read())"
   ]
  },
  {
   "cell_type": "code",
   "execution_count": null,
   "metadata": {},
   "outputs": [],
   "source": []
  }
 ],
 "metadata": {
  "celltoolbar": "Tags",
  "kernelspec": {
   "display_name": "Python 3",
   "language": "python",
   "name": "python3"
  },
  "language_info": {
   "codemirror_mode": {
    "name": "ipython",
    "version": 3
   },
   "file_extension": ".py",
   "mimetype": "text/x-python",
   "name": "python",
   "nbconvert_exporter": "python",
   "pygments_lexer": "ipython3",
<<<<<<< HEAD
   "version": "3.9.3"
=======
   "version": "3.8.5"
>>>>>>> master
  },
  "metadata": {
   "interpreter": {
    "hash": "82db51cffef479cc4d0f53089378e5a2925f9e7adca31d741132ceba61ecca6f"
   }
  }
 },
 "nbformat": 4,
 "nbformat_minor": 4
}
