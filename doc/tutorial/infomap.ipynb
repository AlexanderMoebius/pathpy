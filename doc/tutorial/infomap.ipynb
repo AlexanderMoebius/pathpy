{
 "cells": [
  {
   "cell_type": "markdown",
   "metadata": {},
   "source": [
    "# Exporting path data as InfoMap state files\n",
    "\n",
    "[Run notebook in Google Colab](https://colab.research.google.com/github/pathpy/pathpy/blob/master/doc/tutorial/infomap.ipynb)  \n",
    "[Download notebook](https://github.com/pathpy/pathpy/raw/master/doc/tutorial/infomap.ipynb)"
   ]
  },
  {
   "cell_type": "code",
   "execution_count": null,
   "metadata": {
    "execution": {
     "iopub.execute_input": "2021-04-30T00:16:09.959471Z",
     "iopub.status.busy": "2021-04-30T00:16:09.958823Z",
     "iopub.status.idle": "2021-04-30T00:16:19.307888Z",
     "shell.execute_reply": "2021-04-30T00:16:19.308559Z"
    },
    "tags": [
     "hide"
    ]
   },
   "outputs": [],
   "source": [
    "pip install git+git://github.com/pathpy/pathpy.git"
   ]
  },
  {
   "cell_type": "code",
   "execution_count": 2,
   "metadata": {
    "execution": {
     "iopub.execute_input": "2021-04-30T00:16:19.313112Z",
     "iopub.status.busy": "2021-04-30T00:16:19.312522Z",
     "iopub.status.idle": "2021-04-30T00:16:20.001085Z",
     "shell.execute_reply": "2021-04-30T00:16:20.001521Z"
    }
   },
   "outputs": [
    {
     "output_type": "display_data",
     "data": {
      "text/plain": "<IPython.core.display.HTML object>",
      "text/html": "\n    <script charset=\"utf-8\">\n    // Load via requireJS if available (jupyter notebook environment)\n    try {\n    require.config({\n    paths: {\n    d3: \"https://d3js.org/d3.v5.min.js\".replace(\".js\", \"\")\n    }\n    });\n    console.log(\"OKAY: requireJS was detected\");\n    }\n    catch(err){\n    console.log(err);\n    console.log(\"ERROR: NO requireJS was detected\");\n    };\n    require(['d3'], function(d3){\n    console.log(\"OKAY: d3js was detected\");\n    });\n    </script>\n    "
     },
     "metadata": {}
    }
   ],
   "source": [
    "import pathpy as pp"
   ]
  },
  {
   "cell_type": "markdown",
   "metadata": {},
   "source": [
    "The following code generates a simple example instance for a set of paths. We use a custum attribute `frequency` to store the observed frequencies of each path. Right now, the construction of paths is based on an edge sequence. The interface is more cumbersome than it needs to be, and we are currently working on simplifying the API of the `Path` and `PathCollection` classes. There should be a better version by next week."
   ]
  },
  {
   "cell_type": "code",
   "execution_count": 3,
   "metadata": {
    "execution": {
     "iopub.execute_input": "2021-04-30T00:16:20.008264Z",
     "iopub.status.busy": "2021-04-30T00:16:20.007706Z",
     "iopub.status.idle": "2021-04-30T00:16:20.009456Z",
     "shell.execute_reply": "2021-04-30T00:16:20.009984Z"
    }
   },
   "outputs": [
    {
     "output_type": "stream",
     "name": "stdout",
     "text": [
      "{<pathpy.core.path.Path object at 0x000001B9E18906A0>, <pathpy.core.path.Path object at 0x000001B9E1890630>, <pathpy.core.path.Path object at 0x000001B9E18906D8>}\n"
     ]
    }
   ],
   "source": [
    "pc = pp.PathCollection()\n",
    "a = pp.Node('a')\n",
    "b = pp.Node('b')\n",
    "c = pp.Node('c')\n",
    "d = pp.Node('d')\n",
    "\n",
    "e1 = pp.Edge(a, b, uid='a-b')\n",
    "e2 = pp.Edge(b, c, uid='b-c')\n",
    "e3 = pp.Edge(c, d, uid='c-d')\n",
    "\n",
    "# 15 observations of path a-b\n",
    "# this path of length one should be ignored as there's no associated state node (empty memory)\n",
    "pc.add(pp.Path(e1, frequency=15))\n",
    "\n",
    "# 42 observations of path a-b-c\n",
    "# this leads to state nodes a-b and b-c connected by a link with weight 42\n",
    "pc.add(pp.Path(e1, e2, frequency=42))\n",
    "\n",
    "# 41 observations of path a-b-c-d\n",
    "# this leads to state nodes a-b-c and b-c-d connected by a link with weight 41\n",
    "pc.add(pp.Path(e1, e2, e3, frequency=41))"
   ]
  },
  {
   "cell_type": "code",
   "execution_count": 4,
   "metadata": {
    "execution": {
     "iopub.execute_input": "2021-04-30T00:16:20.012799Z",
     "iopub.status.busy": "2021-04-30T00:16:20.012335Z",
     "iopub.status.idle": "2021-04-30T00:16:20.014580Z",
     "shell.execute_reply": "2021-04-30T00:16:20.015035Z"
    }
   },
   "outputs": [
    {
     "output_type": "stream",
     "name": "stdout",
     "text": [
      "*Vertices 4\n1 \"c\"\n2 \"b\"\n3 \"d\"\n4 \"a\"\n*States\n1 4 \"{eps}_a\"\n2 2 \"{a}_b\"\n3 1 \"{a-b}_c\"\n4 3 \"{a-b-c}_d\"\n*Links\n1 2 15\n1 2 42\n2 3 42\n1 2 41\n2 3 41\n3 4 41\n"
     ]
    }
   ],
   "source": [
    "pp.io.infomap.to_state_file(pc, 'test.state', weight='frequency')\n",
    "with open('test.state', 'r') as f:\n",
    "    print(f.read())"
   ]
  },
  {
   "cell_type": "code",
   "execution_count": 6,
   "metadata": {},
   "outputs": [
    {
     "output_type": "stream",
     "name": "stdout",
     "text": [
      "{<pathpy.core.path.Path object at 0x000001B9E1984898>, <pathpy.core.path.Path object at 0x000001B9E18F4EB8>, <pathpy.core.path.Path object at 0x000001B9E1984F60>, <pathpy.core.path.Path object at 0x000001B9E1982978>}\n"
     ]
    }
   ],
   "source": [
    "pc = pp.PathCollection()\n",
    "a = pp.Node('a')\n",
    "b = pp.Node('b')\n",
    "c = pp.Node('c')\n",
    "d = pp.Node('d')\n",
    "\n",
    "\n",
    "# 1 observation of path a-b\n",
    "e1 = pp.Edge(a, b, uid='a-b')\n",
    "pc.add(pp.Path(e1, frequency=1))\n",
    "\n",
    "# 1 observation of path b-c-d\n",
    "e2 = pp.Edge(b, c, uid='b-c')\n",
    "e3 = pp.Edge(c, d, uid='c-d')\n",
    "pc.add(pp.Path(e2, e3, frequency=1))\n",
    "\n",
    "# 1 observation of path c-d-a-c\n",
    "e4 = pp.Edge(d, a, uid='d-a')\n",
    "e5 = pp.Edge(a, c, uid='a-c')\n",
    "pc.add(pp.Path(e3, e4, e5, frequency=1))\n",
    "\n",
    "# 1 observation of path b-c-b-a-c\n",
    "e6 = pp.Edge(c, b, uid='c-b')\n",
    "e7 = pp.Edge(b, a, uid='b-a')\n",
    "pc.add(pp.Path(e2, e6, e7, e5, frequency=1))\n",
    "\n",
    "print(pc)"
   ]
  },
  {
   "cell_type": "code",
   "execution_count": 7,
   "metadata": {},
   "outputs": [
    {
     "output_type": "stream",
     "name": "stdout",
     "text": [
      "*Vertices 4\n1 \"c\"\n2 \"b\"\n3 \"d\"\n4 \"a\"\n*States\n1 4 \"{eps}_a\"\n2 2 \"{a}_b\"\n3 2 \"{eps}_b\"\n4 1 \"{b}_c\"\n5 3 \"{b-c}_d\"\n6 1 \"{eps}_c\"\n7 3 \"{c}_d\"\n8 4 \"{c-d}_a\"\n9 1 \"{c-d-a}_c\"\n10 2 \"{b-c}_b\"\n11 4 \"{b-c-b}_a\"\n12 1 \"{b-c-b-a}_c\"\n*Links\n1 2 1\n3 4 1\n4 5 1\n6 7 1\n7 8 1\n8 9 1\n3 4 1\n4 10 1\n10 11 1\n11 12 1\n"
     ]
    }
   ],
   "source": [
    "pp.io.infomap.to_state_file(pc, 'test.state', weight='frequency')\n",
    "with open('test.state', 'r') as f:\n",
    "    print(f.read())"
   ]
  },
  {
   "cell_type": "code",
   "execution_count": null,
   "metadata": {},
   "outputs": [],
   "source": []
  }
 ],
 "metadata": {
  "celltoolbar": "Tags",
  "kernelspec": {
   "name": "python37364bitbaseconda0af53cac2fb5450b99ec78a7efde583f",
   "display_name": "Python 3.7.3 64-bit ('base': conda)"
  },
  "language_info": {
   "codemirror_mode": {
    "name": "ipython",
    "version": 3
   },
   "file_extension": ".py",
   "mimetype": "text/x-python",
   "name": "python",
   "nbconvert_exporter": "python",
   "pygments_lexer": "ipython3",
   "version": "3.7.3"
  },
  "metadata": {
   "interpreter": {
    "hash": "82db51cffef479cc4d0f53089378e5a2925f9e7adca31d741132ceba61ecca6f"
   }
  }
 },
 "nbformat": 4,
 "nbformat_minor": 4
}