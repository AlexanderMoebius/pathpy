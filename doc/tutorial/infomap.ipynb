{
 "cells": [
  {
   "cell_type": "markdown",
   "metadata": {},
   "source": [
    "# Exporting path data as InfoMap state files\n",
    "\n",
    "[Run notebook in Google Colab](https://colab.research.google.com/github/pathpy/pathpy/blob/master/doc/tutorial/infomap.ipynb)  \n",
    "[Download notebook](https://github.com/pathpy/pathpy/raw/master/doc/tutorial/infomap.ipynb)"
   ]
  },
  {
   "cell_type": "code",
   "execution_count": null,
   "metadata": {
    "execution": {
     "iopub.execute_input": "2021-05-11T10:16:00.355096Z",
     "iopub.status.busy": "2021-05-11T10:16:00.354126Z",
     "iopub.status.idle": "2021-05-11T10:16:05.839662Z",
     "shell.execute_reply": "2021-05-11T10:16:05.839206Z"
    },
    "tags": [
     "hide"
    ]
   },
   "outputs": [],
   "source": [
    "pip install git+git://github.com/pathpy/pathpy.git"
   ]
  },
  {
   "cell_type": "code",
   "execution_count": null,
   "metadata": {
    "execution": {
     "iopub.execute_input": "2021-05-11T10:16:05.842589Z",
     "iopub.status.busy": "2021-05-11T10:16:05.842155Z",
     "iopub.status.idle": "2021-05-11T10:16:06.285876Z",
     "shell.execute_reply": "2021-05-11T10:16:06.285469Z"
    }
   },
   "outputs": [],
   "source": [
    "import pathpy as pp\n",
    "from collections import Counter"
   ]
  },
  {
   "cell_type": "code",
   "execution_count": null,
   "metadata": {
    "execution": {
     "iopub.execute_input": "2021-05-11T10:16:06.289211Z",
     "iopub.status.busy": "2021-05-11T10:16:06.288772Z",
     "iopub.status.idle": "2021-05-11T10:16:06.290578Z",
     "shell.execute_reply": "2021-05-11T10:16:06.290185Z"
    }
   },
   "outputs": [],
   "source": [
    "def pc_to_cnt(pc):\n",
    "    cnt = Counter()\n",
    "    for path in pc:\n",
    "        p = tuple([v.uid for v in path.nodes])\n",
    "        cnt[p] = pc[path]['frequency']\n",
    "    return cnt"
   ]
  },
  {
   "cell_type": "markdown",
   "metadata": {},
   "source": [
    "The following code generates a simple example instance for a set of paths. We use a custum attribute `frequency` to store the observed frequencies of each path. Right now, the construction of paths is based on an edge sequence. The interface is more cumbersome than it needs to be, and we are currently working on simplifying the API of the `Path` and `PathCollection` classes. There should be a better version by next week."
   ]
  },
  {
   "cell_type": "code",
   "execution_count": null,
   "metadata": {
    "execution": {
     "iopub.execute_input": "2021-05-11T10:16:06.296399Z",
     "iopub.status.busy": "2021-05-11T10:16:06.295958Z",
     "iopub.status.idle": "2021-05-11T10:16:06.297698Z",
     "shell.execute_reply": "2021-05-11T10:16:06.297299Z"
    }
   },
   "outputs": [],
   "source": [
    "pc = pp.PathCollection()\n",
    "a = pp.Node('a')\n",
    "b = pp.Node('b')\n",
    "c = pp.Node('c')\n",
    "d = pp.Node('d')\n",
    "\n",
    "e1 = pp.Edge(a, b, uid='a-b')\n",
    "e2 = pp.Edge(b, c, uid='b-c')\n",
    "e3 = pp.Edge(c, d, uid='c-d')\n",
    "\n",
    "# 15 observations of path a-b\n",
    "# this path of length one should be ignored as there's no associated state node (empty memory)\n",
    "pc.add(pp.Path(e1, frequency=15))\n",
    "\n",
    "# 42 observations of path a-b-c\n",
    "# this leads to state nodes a-b and b-c connected by a link with weight 42\n",
    "pc.add(pp.Path(e1, e2, frequency=42))\n",
    "\n",
    "# 41 observations of path a-b-c-d\n",
    "# this leads to state nodes a-b-c and b-c-d connected by a link with weight 41\n",
    "pc.add(pp.Path(e1, e2, e3, frequency=41))"
   ]
  },
  {
   "cell_type": "code",
   "execution_count": null,
   "metadata": {
    "execution": {
     "iopub.execute_input": "2021-05-11T10:16:06.300848Z",
     "iopub.status.busy": "2021-05-11T10:16:06.300380Z",
     "iopub.status.idle": "2021-05-11T10:16:06.303023Z",
     "shell.execute_reply": "2021-05-11T10:16:06.302621Z"
    }
   },
   "outputs": [],
   "source": [
    "pp.io.infomap.to_state_file(pc_to_cnt(pc), 'test.state')\n",
    "with open('test.state', 'r') as f:\n",
    "    print(f.read())"
   ]
  },
  {
   "cell_type": "code",
   "execution_count": null,
   "metadata": {
    "execution": {
     "iopub.execute_input": "2021-05-11T10:16:06.309644Z",
     "iopub.status.busy": "2021-05-11T10:16:06.309120Z",
     "iopub.status.idle": "2021-05-11T10:16:06.311540Z",
     "shell.execute_reply": "2021-05-11T10:16:06.311089Z"
    }
   },
   "outputs": [],
   "source": [
    "pc = pp.PathCollection()\n",
    "a = pp.Node('a')\n",
    "b = pp.Node('b')\n",
    "c = pp.Node('c')\n",
    "d = pp.Node('d')\n",
    "\n",
    "\n",
    "# 1 observation of path a-b\n",
    "e1 = pp.Edge(a, b, uid='a-b')\n",
    "pc.add(pp.Path(e1, frequency=1))\n",
    "\n",
    "# 1 observation of path b-c-d\n",
    "e2 = pp.Edge(b, c, uid='b-c')\n",
    "e3 = pp.Edge(c, d, uid='c-d')\n",
    "pc.add(pp.Path(e2, e3, frequency=1))\n",
    "\n",
    "# 1 observation of path c-d-a-c\n",
    "e4 = pp.Edge(d, a, uid='d-a')\n",
    "e5 = pp.Edge(a, c, uid='a-c')\n",
    "pc.add(pp.Path(e3, e4, e5, frequency=1))\n",
    "\n",
    "# 1 observation of path b-c-b-a-c\n",
    "e6 = pp.Edge(c, b, uid='c-b')\n",
    "e7 = pp.Edge(b, a, uid='b-a')\n",
    "pc.add(pp.Path(e2, e6, e7, e5, frequency=1))\n",
    "\n",
    "print(pc)"
   ]
  },
  {
   "cell_type": "code",
   "execution_count": null,
   "metadata": {
    "execution": {
     "iopub.execute_input": "2021-05-11T10:16:06.314545Z",
     "iopub.status.busy": "2021-05-11T10:16:06.314094Z",
     "iopub.status.idle": "2021-05-11T10:16:06.316261Z",
     "shell.execute_reply": "2021-05-11T10:16:06.316616Z"
    }
   },
   "outputs": [],
   "source": [
    "pp.io.infomap.to_state_file(pc_to_cnt(pc), 'test.state', max_memory=1)\n",
    "with open('test.state', 'r') as f:\n",
    "    print(f.read())"
   ]
  },
  {
   "cell_type": "code",
   "execution_count": null,
   "metadata": {},
   "outputs": [],
   "source": []
  }
 ],
 "metadata": {
  "celltoolbar": "Tags",
  "kernelspec": {
   "display_name": "Python 3",
   "language": "python",
   "name": "python3"
  },
  "language_info": {
   "codemirror_mode": {
    "name": "ipython",
    "version": 3
   },
   "file_extension": ".py",
   "mimetype": "text/x-python",
   "name": "python",
   "nbconvert_exporter": "python",
   "pygments_lexer": "ipython3",
   "version": "3.9.4"
  },
  "metadata": {
   "interpreter": {
    "hash": "82db51cffef479cc4d0f53089378e5a2925f9e7adca31d741132ceba61ecca6f"
   }
  }
 },
 "nbformat": 4,
 "nbformat_minor": 4
}
