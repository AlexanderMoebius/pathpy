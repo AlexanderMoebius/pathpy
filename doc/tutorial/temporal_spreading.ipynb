{
 "cells": [
  {
   "cell_type": "markdown",
   "metadata": {},
   "source": [
    "## Epidemic Spreading in Temporal Networks\n",
    "\n",
    "[Run notebook in Google Colab](https://colab.research.google.com/github/pathpy/pathpy/blob/master/doc/tutorial/temporal_spreading.ipynb)  \n",
    "[Download notebook](https://github.com/pathpy/pathpy/raw/master/doc/tutorial/temporal_spreading.ipynb)"
   ]
  },
  {
   "cell_type": "code",
   "execution_count": null,
   "metadata": {
    "execution": {
     "iopub.execute_input": "2021-05-06T18:56:54.032312Z",
     "iopub.status.busy": "2021-05-06T18:56:54.031648Z",
     "iopub.status.idle": "2021-05-06T18:57:00.868020Z",
     "shell.execute_reply": "2021-05-06T18:57:00.868756Z"
    },
    "tags": [
     "hide"
    ]
   },
   "outputs": [],
   "source": [
    "pip install git+git://github.com/pathpy/pathpy.git"
   ]
  },
  {
   "cell_type": "code",
   "execution_count": null,
   "metadata": {
    "execution": {
     "iopub.execute_input": "2021-05-06T18:57:00.873117Z",
     "iopub.status.busy": "2021-05-06T18:57:00.872467Z",
     "iopub.status.idle": "2021-05-06T18:57:01.388813Z",
     "shell.execute_reply": "2021-05-06T18:57:01.389267Z"
    }
   },
   "outputs": [],
   "source": [
    "import pathpy as pp"
   ]
  },
  {
   "cell_type": "code",
   "execution_count": null,
   "metadata": {
    "execution": {
     "iopub.execute_input": "2021-05-06T18:57:01.393761Z",
     "iopub.status.busy": "2021-05-06T18:57:01.393154Z",
     "iopub.status.idle": "2021-05-06T18:57:01.398140Z",
     "shell.execute_reply": "2021-05-06T18:57:01.398601Z"
    }
   },
   "outputs": [],
   "source": [
    "t = pp.TemporalNetwork()\n",
    "t.add_edge('a', 'b', timestamp=1)\n",
    "t.add_edge('b', 'c', timestamp=2)\n",
    "t.add_edge('c', 'd', timestamp=3)\n",
    "t.plot()"
   ]
  },
  {
   "cell_type": "code",
   "execution_count": null,
   "metadata": {
    "execution": {
     "iopub.execute_input": "2021-05-06T18:57:01.401770Z",
     "iopub.status.busy": "2021-05-06T18:57:01.401386Z",
     "iopub.status.idle": "2021-05-06T18:57:01.414496Z",
     "shell.execute_reply": "2021-05-06T18:57:01.414923Z"
    }
   },
   "outputs": [],
   "source": [
    "sir = pp.processes.EpidemicSIR(t, recovery_time=1, infection_prob=1)\n",
    "sir.plot(sir.run_experiment(steps=10, runs=['a']))"
   ]
  },
  {
   "cell_type": "code",
   "execution_count": null,
   "metadata": {
    "execution": {
     "iopub.execute_input": "2021-05-06T18:57:01.417491Z",
     "iopub.status.busy": "2021-05-06T18:57:01.417044Z",
     "iopub.status.idle": "2021-05-06T18:57:03.371367Z",
     "shell.execute_reply": "2021-05-06T18:57:03.371906Z"
    }
   },
   "outputs": [],
   "source": [
    "t = pp.io.graphtool.read_netzschleuder_network('sp_hospital')\n",
    "print(t)\n",
    "t.plot()"
   ]
  },
  {
   "cell_type": "code",
   "execution_count": null,
   "metadata": {
    "execution": {
     "iopub.execute_input": "2021-05-06T18:57:03.456087Z",
     "iopub.status.busy": "2021-05-06T18:57:03.414573Z",
     "iopub.status.idle": "2021-05-06T18:57:40.718316Z",
     "shell.execute_reply": "2021-05-06T18:57:40.718750Z"
    }
   },
   "outputs": [],
   "source": [
    "sir = pp.processes.EpidemicSIR(t, recovery_time=10000, infection_prob=1)\n",
    "sir.plot(sir.run_experiment(steps=10000, runs=['14']))"
   ]
  }
 ],
 "metadata": {
  "celltoolbar": "Tags",
  "kernelspec": {
   "display_name": "Python 3",
   "language": "python",
   "name": "python3"
  },
  "language_info": {
   "codemirror_mode": {
    "name": "ipython",
    "version": 3
   },
   "file_extension": ".py",
   "mimetype": "text/x-python",
   "name": "python",
   "nbconvert_exporter": "python",
   "pygments_lexer": "ipython3",
   "version": "3.8.5"
  },
  "metadata": {
   "interpreter": {
    "hash": "82db51cffef479cc4d0f53089378e5a2925f9e7adca31d741132ceba61ecca6f"
   }
  }
 },
 "nbformat": 4,
 "nbformat_minor": 2
}
