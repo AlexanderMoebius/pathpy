{
 "cells": [
  {
   "cell_type": "markdown",
   "metadata": {},
   "source": [
    "# Clustering and Mixing patterns\n",
    "\n",
    "[Run notebook in Google Colab](https://colab.research.google.com/github/pathpy/pathpy/blob/master/doc/tutorial/clustering.ipynb)  \n",
    "[Download notebook](https://github.com/pathpy/pathpy/raw/master/doc/tutorial/clustering.ipynb)\n",
    "\n",
    "\n",
    "In this tutorial we show you how to compute the local and global clustering coefficient using the respective functions in the `pathpy` module `pp.statistics`.   "
   ]
  },
  {
   "cell_type": "code",
   "execution_count": null,
   "metadata": {
    "execution": {
     "iopub.execute_input": "2021-06-22T16:48:02.249767Z",
     "iopub.status.busy": "2021-06-22T16:48:02.248890Z",
     "iopub.status.idle": "2021-06-22T16:48:13.547223Z",
     "shell.execute_reply": "2021-06-22T16:48:13.547866Z"
    }
   },
   "outputs": [],
   "source": [
    "pip install git+git://github.com/pathpy/pathpy.git"
   ]
  },
  {
   "cell_type": "code",
   "execution_count": null,
   "metadata": {
    "execution": {
     "iopub.execute_input": "2021-06-22T16:48:13.553993Z",
     "iopub.status.busy": "2021-06-22T16:48:13.552863Z",
     "iopub.status.idle": "2021-06-22T16:48:14.336021Z",
     "shell.execute_reply": "2021-06-22T16:48:14.336403Z"
    }
   },
   "outputs": [],
   "source": [
    "import pathpy as pp\n",
    "\n",
    "import seaborn as sns\n",
    "import matplotlib.pyplot as plt\n",
    "\n",
    "plt.style.use('default')\n",
    "sns.set_style(\"whitegrid\")"
   ]
  },
  {
   "cell_type": "markdown",
   "metadata": {},
   "source": [
    "For our purposes we create two exmaple networks:"
   ]
  },
  {
   "cell_type": "code",
   "execution_count": null,
   "metadata": {
    "execution": {
     "iopub.execute_input": "2021-06-22T16:48:14.342624Z",
     "iopub.status.busy": "2021-06-22T16:48:14.342120Z",
     "iopub.status.idle": "2021-06-22T16:48:14.348223Z",
     "shell.execute_reply": "2021-06-22T16:48:14.347409Z"
    }
   },
   "outputs": [],
   "source": [
    "n_undirected = pp.Network(directed=False)\n",
    "n_undirected.add_edge('a', 'b')\n",
    "n_undirected.add_edge('b', 'c')\n",
    "n_undirected.add_edge('c', 'a')\n",
    "n_undirected.add_edge('d', 'e')\n",
    "n_undirected.add_edge('e', 'f')\n",
    "n_undirected.add_edge('f', 'g')\n",
    "n_undirected.add_edge('g', 'd')\n",
    "n_undirected.add_edge('d', 'f')\n",
    "n_undirected.add_edge('b', 'd')\n",
    "n_undirected.plot()"
   ]
  },
  {
   "cell_type": "code",
   "execution_count": null,
   "metadata": {
    "execution": {
     "iopub.execute_input": "2021-06-22T16:48:14.356275Z",
     "iopub.status.busy": "2021-06-22T16:48:14.355260Z",
     "iopub.status.idle": "2021-06-22T16:48:14.359518Z",
     "shell.execute_reply": "2021-06-22T16:48:14.360169Z"
    }
   },
   "outputs": [],
   "source": [
    "n_directed = pp.Network(directed=True)\n",
    "n_directed.add_edge('a', 'b')\n",
    "n_directed.add_edge('b', 'c')\n",
    "n_directed.add_edge('c', 'a')\n",
    "n_directed.add_edge('d', 'e')\n",
    "n_directed.add_edge('e', 'f')\n",
    "n_directed.add_edge('f', 'g')\n",
    "n_directed.add_edge('g', 'd')\n",
    "n_directed.add_edge('d', 'f')\n",
    "n_directed.add_edge('b', 'd')\n",
    "n_directed.plot()"
   ]
  },
  {
   "cell_type": "markdown",
   "metadata": {},
   "source": [
    "## Clustering coefficient and closed triads in `pathpy`\n",
    "\n",
    "Using `pathpy` functions from the module `pp.statistics` we can compute the local (in this case for the node f) and global clustering coefficient :"
   ]
  },
  {
   "cell_type": "code",
   "execution_count": null,
   "metadata": {
    "execution": {
     "iopub.execute_input": "2021-06-22T16:48:14.365138Z",
     "iopub.status.busy": "2021-06-22T16:48:14.364333Z",
     "iopub.status.idle": "2021-06-22T16:48:14.367473Z",
     "shell.execute_reply": "2021-06-22T16:48:14.368104Z"
    }
   },
   "outputs": [],
   "source": [
    "pp.statistics.local_clustering_coefficient(n_undirected, 'f')"
   ]
  },
  {
   "cell_type": "code",
   "execution_count": null,
   "metadata": {
    "execution": {
     "iopub.execute_input": "2021-06-22T16:48:14.373432Z",
     "iopub.status.busy": "2021-06-22T16:48:14.372586Z",
     "iopub.status.idle": "2021-06-22T16:48:14.375667Z",
     "shell.execute_reply": "2021-06-22T16:48:14.376311Z"
    }
   },
   "outputs": [],
   "source": [
    "pp.statistics.avg_clustering_coefficient(n_undirected)"
   ]
  },
  {
   "cell_type": "markdown",
   "metadata": {},
   "source": [
    "If we want to find the set of closed triads around a node, we can use the function closed_triads. It returns all direct connections between neighbors of a given node. In our example, f has a degree of three and there is a direct edge between two of the three neighbor pairs:"
   ]
  },
  {
   "cell_type": "code",
   "execution_count": null,
   "metadata": {
    "execution": {
     "iopub.execute_input": "2021-06-22T16:48:14.381073Z",
     "iopub.status.busy": "2021-06-22T16:48:14.380277Z",
     "iopub.status.idle": "2021-06-22T16:48:14.382852Z",
     "shell.execute_reply": "2021-06-22T16:48:14.383566Z"
    }
   },
   "outputs": [],
   "source": [
    "for edge in pp.statistics.closed_triads(n_undirected, 'f'):\n",
    "    print(edge)"
   ]
  },
  {
   "cell_type": "code",
   "execution_count": null,
   "metadata": {},
   "outputs": [],
   "source": []
  }
 ],
 "metadata": {
  "kernelspec": {
   "display_name": "Python 3",
   "language": "python",
   "name": "python3"
  },
  "language_info": {
   "codemirror_mode": {
    "name": "ipython",
    "version": 3
   },
   "file_extension": ".py",
   "mimetype": "text/x-python",
   "name": "python",
   "nbconvert_exporter": "python",
   "pygments_lexer": "ipython3",
   "version": "3.9.5"
  },
  "metadata": {
   "interpreter": {
    "hash": "82db51cffef479cc4d0f53089378e5a2925f9e7adca31d741132ceba61ecca6f"
   }
  }
 },
 "nbformat": 4,
 "nbformat_minor": 4
}
