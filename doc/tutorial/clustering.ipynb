{
 "cells": [
  {
   "cell_type": "markdown",
   "metadata": {},
   "source": [
    "# Clustering and Mixing patterns\n",
    "\n",
    "In this unit we show how to compute the local and global clustering coefficient using the respective functions in the `pathpy` module `pp.statistics`.   "
   ]
  },
  {
   "cell_type": "code",
   "execution_count": null,
   "metadata": {
    "execution": {
     "iopub.execute_input": "2021-05-11T10:11:31.289510Z",
     "iopub.status.busy": "2021-05-11T10:11:31.288715Z",
     "iopub.status.idle": "2021-05-11T10:11:32.019085Z",
     "shell.execute_reply": "2021-05-11T10:11:32.018315Z"
    }
   },
   "outputs": [],
   "source": [
    "import pathpy as pp\n",
    "\n",
    "import seaborn as sns\n",
    "import matplotlib.pyplot as plt\n",
    "\n",
    "plt.style.use('default')\n",
    "sns.set_style(\"whitegrid\")"
   ]
  },
  {
   "cell_type": "markdown",
   "metadata": {},
   "source": [
    "For our purposes we create two exmaple networks:"
   ]
  },
  {
   "cell_type": "code",
   "execution_count": null,
   "metadata": {
    "execution": {
     "iopub.execute_input": "2021-05-11T10:11:32.027458Z",
     "iopub.status.busy": "2021-05-11T10:11:32.026686Z",
     "iopub.status.idle": "2021-05-11T10:11:32.032493Z",
     "shell.execute_reply": "2021-05-11T10:11:32.033156Z"
    }
   },
   "outputs": [],
   "source": [
    "n_undirected = pp.Network(directed=False)\n",
    "n_undirected.add_edge('a', 'b')\n",
    "n_undirected.add_edge('b', 'c')\n",
    "n_undirected.add_edge('c', 'a')\n",
    "n_undirected.add_edge('d', 'e')\n",
    "n_undirected.add_edge('e', 'f')\n",
    "n_undirected.add_edge('f', 'g')\n",
    "n_undirected.add_edge('g', 'd')\n",
    "n_undirected.add_edge('d', 'f')\n",
    "n_undirected.add_edge('b', 'd')\n",
    "n_undirected.plot()"
   ]
  },
  {
   "cell_type": "code",
   "execution_count": null,
   "metadata": {
    "execution": {
     "iopub.execute_input": "2021-05-11T10:11:32.040443Z",
     "iopub.status.busy": "2021-05-11T10:11:32.039669Z",
     "iopub.status.idle": "2021-05-11T10:11:32.042948Z",
     "shell.execute_reply": "2021-05-11T10:11:32.043431Z"
    }
   },
   "outputs": [],
   "source": [
    "n_directed = pp.Network(directed=True)\n",
    "n_directed.add_edge('a', 'b')\n",
    "n_directed.add_edge('b', 'c')\n",
    "n_directed.add_edge('c', 'a')\n",
    "n_directed.add_edge('d', 'e')\n",
    "n_directed.add_edge('e', 'f')\n",
    "n_directed.add_edge('f', 'g')\n",
    "n_directed.add_edge('g', 'd')\n",
    "n_directed.add_edge('d', 'f')\n",
    "n_directed.add_edge('b', 'd')\n",
    "n_directed.plot()"
   ]
  },
  {
   "cell_type": "markdown",
   "metadata": {},
   "source": [
    "## Clustering coefficient and closed triads in `pathpy`"
   ]
  },
  {
   "cell_type": "markdown",
   "metadata": {},
   "source": [
    "Using the `pathpy` functions we can compute the local clustering coefficient for the node f and the clustering coefficient as average of all local clustering coefficients:\n",
    "  "
   ]
  },
  {
   "cell_type": "code",
   "execution_count": null,
   "metadata": {
    "execution": {
     "iopub.execute_input": "2021-05-11T10:11:32.046886Z",
     "iopub.status.busy": "2021-05-11T10:11:32.046445Z",
     "iopub.status.idle": "2021-05-11T10:11:32.048205Z",
     "shell.execute_reply": "2021-05-11T10:11:32.048579Z"
    }
   },
   "outputs": [],
   "source": [
    "pp.statistics.local_clustering_coefficient(n_undirected, 'f')"
   ]
  },
  {
   "cell_type": "code",
   "execution_count": null,
   "metadata": {
    "execution": {
     "iopub.execute_input": "2021-05-11T10:11:32.052382Z",
     "iopub.status.busy": "2021-05-11T10:11:32.051929Z",
     "iopub.status.idle": "2021-05-11T10:11:32.054074Z",
     "shell.execute_reply": "2021-05-11T10:11:32.053679Z"
    }
   },
   "outputs": [],
   "source": [
    "pp.statistics.avg_clustering_coefficient(n_undirected)"
   ]
  },
  {
   "cell_type": "markdown",
   "metadata": {},
   "source": [
    "If we want to find the set of closed triads around a node, we can use the function closed_triads. It returns all direct connections between neighbors of a given node. In our example, f has a degree of three and there is a direct edge between two of the three neighbor pairs:"
   ]
  },
  {
   "cell_type": "code",
   "execution_count": null,
   "metadata": {
    "execution": {
     "iopub.execute_input": "2021-05-11T10:11:32.057400Z",
     "iopub.status.busy": "2021-05-11T10:11:32.056951Z",
     "iopub.status.idle": "2021-05-11T10:11:32.059016Z",
     "shell.execute_reply": "2021-05-11T10:11:32.058619Z"
    }
   },
   "outputs": [],
   "source": [
    "for edge in pp.statistics.closed_triads(n_undirected, 'f'):\n",
    "    print(edge)"
   ]
  },
  {
   "cell_type": "markdown",
   "metadata": {},
   "source": [
    "## Clustering coefficient in empirical networks\n",
    "\n",
    "Concluding this unit, we calculate the clustering coefficient to empirical networks:"
   ]
  }
 ],
 "metadata": {
  "kernelspec": {
   "display_name": "Python 3",
   "language": "python",
   "name": "python3"
  },
  "language_info": {
   "codemirror_mode": {
    "name": "ipython",
    "version": 3
   },
   "file_extension": ".py",
   "mimetype": "text/x-python",
   "name": "python",
   "nbconvert_exporter": "python",
   "pygments_lexer": "ipython3",
   "version": "3.9.4"
  }
 },
 "nbformat": 4,
 "nbformat_minor": 4
}
