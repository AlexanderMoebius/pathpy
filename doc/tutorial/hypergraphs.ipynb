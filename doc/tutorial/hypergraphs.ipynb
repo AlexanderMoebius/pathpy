{
 "cells": [
  {
   "cell_type": "markdown",
   "metadata": {},
   "source": [
    "# Hypergraphs\n",
    "[Run notebook in Google Colab](https://colab.research.google.com/github/pathpy/pathpy/blob/master/doc/tutorial/hypergraphs.ipynb)  \n",
    "[Download notebook](https://github.com/pathpy/pathpy/raw/master/doc/tutorial/hypergraphs.ipynb)\n",
    "\n",
    "The `pathpy` package provides special support for the analysis of hypergraphs data via its `HyperGraph` class. It is suitable for data that captures unordered relations ${u,v,w}$.\n",
    "\n",
    "To get started with `pathpy` we first import `pathpy` and assign the local alias `pp`:"
   ]
  },
  {
   "cell_type": "code",
   "execution_count": null,
   "metadata": {
    "execution": {
     "iopub.execute_input": "2021-08-28T21:44:02.088161Z",
     "iopub.status.busy": "2021-08-28T21:44:02.087709Z",
     "iopub.status.idle": "2021-08-28T21:44:09.631816Z",
     "shell.execute_reply": "2021-08-28T21:44:09.632481Z"
    }
   },
   "outputs": [],
   "source": [
    "pip install git+git://github.com/pathpy/pathpy.git"
   ]
  },
  {
   "cell_type": "code",
   "execution_count": null,
   "metadata": {
    "execution": {
     "iopub.execute_input": "2021-08-28T21:44:09.636358Z",
     "iopub.status.busy": "2021-08-28T21:44:09.635855Z",
     "iopub.status.idle": "2021-08-28T21:44:10.205703Z",
     "shell.execute_reply": "2021-08-28T21:44:10.206130Z"
    }
   },
   "outputs": [],
   "source": [
    "import pathpy as pp\n",
    "from pathpy.core.hyperedge import HyperEdge\n",
    "from pathpy.models.hypergraph import HyperGraph"
   ]
  },
  {
   "cell_type": "markdown",
   "metadata": {},
   "source": [
    "## Creating hypergraphs\n",
    "\n",
    "For this purpose `pathpy` provides the `HyperGraph` class. Calling the constructor will return an instance that represents an empty hypergraph with no nodes and no hyperedges. \n",
    "\n",
    "Printing the `HyperGraph` object will give a short string summary which tells whether the hypergraph allows multi-edges, as well as the number of unique nodes and links."
   ]
  },
  {
   "cell_type": "code",
   "execution_count": null,
   "metadata": {
    "execution": {
     "iopub.execute_input": "2021-08-28T21:44:10.208734Z",
     "iopub.status.busy": "2021-08-28T21:44:10.208333Z",
     "iopub.status.idle": "2021-08-28T21:44:10.210220Z",
     "shell.execute_reply": "2021-08-28T21:44:10.210576Z"
    }
   },
   "outputs": [],
   "source": [
    "hg = HyperGraph()\n",
    "print(hg)"
   ]
  },
  {
   "cell_type": "markdown",
   "metadata": {},
   "source": [
    "The simplest way to add nodes and edges is to call the functions `add_node` and `add_edge`. In both cases, we can simply pass unique string identifiers of nodes, which will then be used as UIDs of the underlying node objects. To create hypergraph with three nodes and two edges, we can write: "
   ]
  },
  {
   "cell_type": "code",
   "execution_count": null,
   "metadata": {
    "execution": {
     "iopub.execute_input": "2021-08-28T21:44:10.214294Z",
     "iopub.status.busy": "2021-08-28T21:44:10.213669Z",
     "iopub.status.idle": "2021-08-28T21:44:10.216218Z",
     "shell.execute_reply": "2021-08-28T21:44:10.215775Z"
    }
   },
   "outputs": [],
   "source": [
    "hg = HyperGraph(multiedges=True,uid='ExampleNetwork')\n",
    "hg.add_node('a')\n",
    "hg.add_node('b')\n",
    "hg.add_node('c')\n",
    "hg.add_edge('a', 'b')\n",
    "hg.add_edge('a','b', 'c')\n",
    "print(hg)"
   ]
  },
  {
   "cell_type": "markdown",
   "metadata": {},
   "source": [
    "Unless we want to explicitly add isolated nodes with no incident edges, we can omit the explicit call of the `add_node` function. If we add hyperedges any node that does not exist already will be created and added automatically. If we want to check explicitly whether a node exists before creating and edge, we can test this with the `in` operator on the set of node UIDS available via `HyperGraph.nodes.uids`:"
   ]
  },
  {
   "cell_type": "code",
   "execution_count": null,
   "metadata": {
    "execution": {
     "iopub.execute_input": "2021-08-28T21:44:10.218809Z",
     "iopub.status.busy": "2021-08-28T21:44:10.218354Z",
     "iopub.status.idle": "2021-08-28T21:44:10.220406Z",
     "shell.execute_reply": "2021-08-28T21:44:10.220839Z"
    }
   },
   "outputs": [],
   "source": [
    "print('d' in hg.nodes.uids)"
   ]
  },
  {
   "cell_type": "markdown",
   "metadata": {},
   "source": [
    "The following code will automatically add a new node `d`, along with a new hyperedge {`a`,`c`,`d`}."
   ]
  },
  {
   "cell_type": "code",
   "execution_count": null,
   "metadata": {
    "execution": {
     "iopub.execute_input": "2021-08-28T21:44:10.223671Z",
     "iopub.status.busy": "2021-08-28T21:44:10.223099Z",
     "iopub.status.idle": "2021-08-28T21:44:10.224814Z",
     "shell.execute_reply": "2021-08-28T21:44:10.225292Z"
    }
   },
   "outputs": [],
   "source": [
    "hg.add_edge('a','c','d')\n",
    "print(hg)"
   ]
  },
  {
   "cell_type": "code",
   "execution_count": null,
   "metadata": {
    "execution": {
     "iopub.execute_input": "2021-08-28T21:44:10.227877Z",
     "iopub.status.busy": "2021-08-28T21:44:10.227346Z",
     "iopub.status.idle": "2021-08-28T21:44:10.229210Z",
     "shell.execute_reply": "2021-08-28T21:44:10.229702Z"
    }
   },
   "outputs": [],
   "source": [
    "print('d' in hg.nodes.uids)"
   ]
  },
  {
   "cell_type": "markdown",
   "metadata": {},
   "source": [
    "To count the number of nodes and hyperedges in a network we can use the `number_of_nodes` and `number_of_edges` functions, or we could can compute `len` of `HyperGraph.nodes` and `HyperGraph.edges`:"
   ]
  },
  {
   "cell_type": "code",
   "execution_count": null,
   "metadata": {
    "execution": {
     "iopub.execute_input": "2021-08-28T21:44:10.232925Z",
     "iopub.status.busy": "2021-08-28T21:44:10.232246Z",
     "iopub.status.idle": "2021-08-28T21:44:10.234174Z",
     "shell.execute_reply": "2021-08-28T21:44:10.234624Z"
    }
   },
   "outputs": [],
   "source": [
    "print('HyperGraph has {0} nodes and {1} edges'.format(hg.number_of_nodes(), hg.number_of_edges()))\n",
    "print('Number of nodes: {0}'.format(len(hg.nodes)))\n",
    "print('Number of edges: {0}'.format(len(hg.edges)))"
   ]
  },
  {
   "cell_type": "markdown",
   "metadata": {},
   "source": [
    "### Node and Edge objects\n",
    "\n",
    "In the simple example above, we generated nodes and edges by calling the `add_node` and `add_edge` function of the network instance. Internally, nodes and edges are represented as objects of type `Node` and `HyperEdge` that can be referenced by one or more instances of type `HyperGraph`. Just like a `HyperGraph`, each instance of a `Node` and `HyperEdge` has a UID. In the example above, `pathpy` has automatically created `Node` and `HyperEdge` instances and has assigned the UIDs `a`, `b`, `c`, and `d` to those nodes. We can access those node objects via the node container `HyperGraph.nodes`. We can iterate through this dictionary to print a summary of all node objects referenced with a hypergraph object:"
   ]
  },
  {
   "cell_type": "code",
   "execution_count": null,
   "metadata": {
    "execution": {
     "iopub.execute_input": "2021-08-28T21:44:10.237357Z",
     "iopub.status.busy": "2021-08-28T21:44:10.236718Z",
     "iopub.status.idle": "2021-08-28T21:44:10.238554Z",
     "shell.execute_reply": "2021-08-28T21:44:10.239033Z"
    }
   },
   "outputs": [],
   "source": [
    "for v in hg.nodes:\n",
    "    print(v)"
   ]
  },
  {
   "cell_type": "markdown",
   "metadata": {},
   "source": [
    "We can also use the uid of a node to access a specific node object in a network by using the uid as an index to the `nodes` container:"
   ]
  },
  {
   "cell_type": "code",
   "execution_count": null,
   "metadata": {
    "execution": {
     "iopub.execute_input": "2021-08-28T21:44:10.241588Z",
     "iopub.status.busy": "2021-08-28T21:44:10.241155Z",
     "iopub.status.idle": "2021-08-28T21:44:10.243317Z",
     "shell.execute_reply": "2021-08-28T21:44:10.242818Z"
    }
   },
   "outputs": [],
   "source": [
    "print(hg.nodes['a'])"
   ]
  },
  {
   "cell_type": "markdown",
   "metadata": {},
   "source": [
    "Similar to `nodes`, the `edges` container of the hypergraph contains all hyperedges of a network and each hyperedge is actually stored as an `HyperEdge` object. Let us iterate through the edges container of network `hg` to better understand this:"
   ]
  },
  {
   "cell_type": "code",
   "execution_count": null,
   "metadata": {
    "execution": {
     "iopub.execute_input": "2021-08-28T21:44:10.245984Z",
     "iopub.status.busy": "2021-08-28T21:44:10.245537Z",
     "iopub.status.idle": "2021-08-28T21:44:10.247331Z",
     "shell.execute_reply": "2021-08-28T21:44:10.247850Z"
    }
   },
   "outputs": [],
   "source": [
    "for e in hg.edges:\n",
    "    print('---')\n",
    "    print(e)"
   ]
  },
  {
   "cell_type": "markdown",
   "metadata": {},
   "source": [
    "We see that the edge container contains one `HyperEdge` object instance for each hyperedge that we added before. Each `HyperEdge` has again a unique identifier, which has been automatically created in our example above. Just like for `Node` or `HyperGraph` objects, we can manually create a hyperedge object with a custom UID that connects the nodes `a`, `b` and `c` as follows:"
   ]
  },
  {
   "cell_type": "code",
   "execution_count": null,
   "metadata": {
    "execution": {
     "iopub.execute_input": "2021-08-28T21:44:10.250490Z",
     "iopub.status.busy": "2021-08-28T21:44:10.250039Z",
     "iopub.status.idle": "2021-08-28T21:44:10.251607Z",
     "shell.execute_reply": "2021-08-28T21:44:10.252085Z"
    }
   },
   "outputs": [],
   "source": [
    "edge = HyperEdge('a','b','c', uid='MyHyperEdge')\n",
    "print(edge)"
   ]
  },
  {
   "cell_type": "markdown",
   "metadata": {},
   "source": [
    "This `HyperEdge` object has a different UID than the existing edge between nodes `a`, `b` and `c`, which is why we can add it to network `hg` even though this network already contains an edge (with a different UID) between nodes `a`, `b` and `c`:"
   ]
  },
  {
   "cell_type": "code",
   "execution_count": null,
   "metadata": {
    "execution": {
     "iopub.execute_input": "2021-08-28T21:44:10.255411Z",
     "iopub.status.busy": "2021-08-28T21:44:10.254956Z",
     "iopub.status.idle": "2021-08-28T21:44:10.256688Z",
     "shell.execute_reply": "2021-08-28T21:44:10.257179Z"
    }
   },
   "outputs": [],
   "source": [
    "hg.add_edge(edge)\n",
    "print(hg)"
   ]
  },
  {
   "cell_type": "markdown",
   "metadata": {},
   "source": [
    "The summary of the hypergraph confirms that the network now contains four hyperedges. This native support for multi-edge networks is an important feature of `pathpy`. It also means that every pair of nodes can be connected by more than one edge. We can access those edges via the `HyperGraph.edges` container in multiple ways. First, we can simply iterate through the edge objects as shown before. Second, we can directly access an `HyperEdge` with a given UID as follows:"
   ]
  },
  {
   "cell_type": "code",
   "execution_count": null,
   "metadata": {
    "execution": {
     "iopub.execute_input": "2021-08-28T21:44:10.259735Z",
     "iopub.status.busy": "2021-08-28T21:44:10.259296Z",
     "iopub.status.idle": "2021-08-28T21:44:10.260898Z",
     "shell.execute_reply": "2021-08-28T21:44:10.261407Z"
    }
   },
   "outputs": [],
   "source": [
    "print(hg.edges['MyHyperEdge'])"
   ]
  },
  {
   "cell_type": "markdown",
   "metadata": {},
   "source": [
    "Finally, we often want to access those hyperedges that connect a specific set of nodes. We can thus alternatively pass the node uids as index to `HyperGraph.edges`. Since multiple edges between the same pair of nodes are possible, this generally returns a list of HyperEdge objects, which - in the case of the node pair `a` and `b` - contains two different edge objects with different UIDs."
   ]
  },
  {
   "cell_type": "code",
   "execution_count": null,
   "metadata": {
    "execution": {
     "iopub.execute_input": "2021-08-28T21:44:10.263982Z",
     "iopub.status.busy": "2021-08-28T21:44:10.263538Z",
     "iopub.status.idle": "2021-08-28T21:44:10.265150Z",
     "shell.execute_reply": "2021-08-28T21:44:10.265636Z"
    }
   },
   "outputs": [],
   "source": [
    "print(hg.edges['a','b','c'])"
   ]
  },
  {
   "cell_type": "markdown",
   "metadata": {},
   "source": [
    "Since the relationships between nodes inside a `HyperEdge` are unorderd, we can access a `HyperEdge` with any valid combination of nodes:"
   ]
  },
  {
   "cell_type": "code",
   "execution_count": null,
   "metadata": {
    "execution": {
     "iopub.execute_input": "2021-08-28T21:44:10.268230Z",
     "iopub.status.busy": "2021-08-28T21:44:10.267776Z",
     "iopub.status.idle": "2021-08-28T21:44:10.269332Z",
     "shell.execute_reply": "2021-08-28T21:44:10.269778Z"
    }
   },
   "outputs": [],
   "source": [
    "print(hg.edges['a','c','b'])"
   ]
  },
  {
   "cell_type": "code",
   "execution_count": null,
   "metadata": {
    "execution": {
     "iopub.execute_input": "2021-08-28T21:44:10.272243Z",
     "iopub.status.busy": "2021-08-28T21:44:10.271778Z",
     "iopub.status.idle": "2021-08-28T21:44:10.273731Z",
     "shell.execute_reply": "2021-08-28T21:44:10.274248Z"
    }
   },
   "outputs": [],
   "source": [
    "print(hg.edges['b','a','c'])"
   ]
  },
  {
   "cell_type": "code",
   "execution_count": null,
   "metadata": {
    "execution": {
     "iopub.execute_input": "2021-08-28T21:44:10.276619Z",
     "iopub.status.busy": "2021-08-28T21:44:10.276186Z",
     "iopub.status.idle": "2021-08-28T21:44:10.278134Z",
     "shell.execute_reply": "2021-08-28T21:44:10.278654Z"
    }
   },
   "outputs": [],
   "source": [
    "print(hg.edges['c','b','a'])"
   ]
  }
 ],
 "metadata": {
  "kernelspec": {
   "display_name": "Python 3",
   "language": "python",
   "name": "python3"
  },
  "language_info": {
   "codemirror_mode": {
    "name": "ipython",
    "version": 3
   },
   "file_extension": ".py",
   "mimetype": "text/x-python",
   "name": "python",
   "nbconvert_exporter": "python",
   "pygments_lexer": "ipython3",
   "version": "3.8.5"
  }
 },
 "nbformat": 4,
 "nbformat_minor": 5
}
