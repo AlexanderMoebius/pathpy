{
 "cells": [
  {
   "cell_type": "markdown",
   "id": "indian-duration",
   "metadata": {},
   "source": [
    "# Hypergraphs\n",
    "[Run notebook in Google Colab](https://colab.research.google.com/github/pathpy/pathpy/blob/master/doc/tutorial/hypergraphs.ipynb)  \n",
    "[Download notebook](https://github.com/pathpy/pathpy/raw/master/doc/tutorial/hypergraphs.ipynb)\n",
    "\n",
    "The `pathpy` package provides special support for the analysis of hypergraphs data via its `HyperGraph` class. It is suitable for data that captures unordered relations ${u,v,w}$.\n",
    "\n",
    "To get started with `pathpy` we first import `pathpy` and assign the local alias `pp`:"
   ]
  },
  {
   "cell_type": "code",
   "execution_count": null,
   "id": "optical-balloon",
   "metadata": {},
   "outputs": [],
   "source": [
    "pip install git+git://github.com/pathpy/pathpy.git"
   ]
  },
  {
   "cell_type": "code",
   "execution_count": 1,
   "id": "ecological-department",
   "metadata": {},
   "outputs": [
    {
     "data": {
      "text/html": [
       "\n",
       "    <script charset=\"utf-8\">\n",
       "    // Load via requireJS if available (jupyter notebook environment)\n",
       "    try {\n",
       "    require.config({\n",
       "    paths: {\n",
       "    d3: \"https://d3js.org/d3.v5.min.js\".replace(\".js\", \"\")\n",
       "    }\n",
       "    });\n",
       "    console.log(\"OKAY: requireJS was detected\");\n",
       "    }\n",
       "    catch(err){\n",
       "    console.log(err);\n",
       "    console.log(\"ERROR: NO requireJS was detected\");\n",
       "    };\n",
       "    require(['d3'], function(d3){\n",
       "    console.log(\"OKAY: d3js was detected\");\n",
       "    });\n",
       "    </script>\n",
       "    "
      ],
      "text/plain": [
       "<IPython.core.display.HTML object>"
      ]
     },
     "metadata": {},
     "output_type": "display_data"
    }
   ],
   "source": [
    "import pathpy as pp\n",
    "from pathpy.core.hyperedge import HyperEdge\n",
    "from pathpy.models.hypergraph import HyperGraph"
   ]
  },
  {
   "cell_type": "markdown",
   "id": "computational-manner",
   "metadata": {},
   "source": [
    "## Creating hypergraphs\n",
    "\n",
    "For this purpose `pathpy` provides the `HyperGraph` class. Calling the constructor will return an instance that represents an empty hypergraph with no nodes and no hyperedges. \n",
    "\n",
    "Printing the `HyperGraph` object will give a short string summary which tells whether the hypergraph allows multi-edges, as well as the number of unique nodes and links."
   ]
  },
  {
   "cell_type": "code",
   "execution_count": 2,
   "id": "eastern-melbourne",
   "metadata": {},
   "outputs": [
    {
     "name": "stdout",
     "output_type": "stream",
     "text": [
      "Uid:\t\t\t0x7fe3a58025b0\n",
      "Type:\t\t\tHyperGraph\n",
      "Multi-Edges:\t\tFalse\n",
      "Number of nodes:\t0\n",
      "Number of edges:\t0\n"
     ]
    }
   ],
   "source": [
    "hg = HyperGraph()\n",
    "print(hg)"
   ]
  },
  {
   "cell_type": "markdown",
   "id": "anonymous-liver",
   "metadata": {},
   "source": [
    "The simplest way to add nodes and edges is to call the functions `add_node` and `add_edge`. In both cases, we can simply pass unique string identifiers of nodes, which will then be used as UIDs of the underlying node objects. To create hypergraph with three nodes and two edges, we can write: "
   ]
  },
  {
   "cell_type": "code",
   "execution_count": 3,
   "id": "coordinated-agreement",
   "metadata": {},
   "outputs": [
    {
     "name": "stdout",
     "output_type": "stream",
     "text": [
      "Uid:\t\t\tExampleNetwork\n",
      "Type:\t\t\tHyperGraph\n",
      "Multi-Edges:\t\tTrue\n",
      "Number of nodes:\t3\n",
      "Number of edges:\t2\n"
     ]
    }
   ],
   "source": [
    "hg = HyperGraph(multiedges=True,uid='ExampleNetwork')\n",
    "hg.add_node('a')\n",
    "hg.add_node('b')\n",
    "hg.add_node('c')\n",
    "hg.add_edge('a', 'b')\n",
    "hg.add_edge('a','b', 'c')\n",
    "print(hg)"
   ]
  },
  {
   "cell_type": "markdown",
   "id": "separated-waters",
   "metadata": {},
   "source": [
    "Unless we want to explicitly add isolated nodes with no incident edges, we can omit the explicit call of the `add_node` function. If we add hyperedges any node that does not exist already will be created and added automatically. If we want to check explicitly whether a node exists before creating and edge, we can test this with the `in` operator on the set of node UIDS available via `HyperGraph.nodes.uids`:"
   ]
  },
  {
   "cell_type": "code",
   "execution_count": 4,
   "id": "reduced-pontiac",
   "metadata": {},
   "outputs": [
    {
     "name": "stdout",
     "output_type": "stream",
     "text": [
      "False\n"
     ]
    }
   ],
   "source": [
    "print('d' in hg.nodes.uids)"
   ]
  },
  {
   "cell_type": "markdown",
   "id": "clinical-society",
   "metadata": {},
   "source": [
    "The following code will automatically add a new node `d`, along with a new hyperedge {`a`,`c`,`d`}."
   ]
  },
  {
   "cell_type": "code",
   "execution_count": 5,
   "id": "rocky-water",
   "metadata": {},
   "outputs": [
    {
     "name": "stdout",
     "output_type": "stream",
     "text": [
      "Uid:\t\t\tExampleNetwork\n",
      "Type:\t\t\tHyperGraph\n",
      "Multi-Edges:\t\tTrue\n",
      "Number of nodes:\t4\n",
      "Number of edges:\t3\n"
     ]
    }
   ],
   "source": [
    "hg.add_edge('a','c','d')\n",
    "print(hg)"
   ]
  },
  {
   "cell_type": "code",
   "execution_count": 6,
   "id": "whole-valve",
   "metadata": {},
   "outputs": [
    {
     "name": "stdout",
     "output_type": "stream",
     "text": [
      "True\n"
     ]
    }
   ],
   "source": [
    "print('d' in hg.nodes.uids)"
   ]
  },
  {
   "cell_type": "markdown",
   "id": "grave-adapter",
   "metadata": {},
   "source": [
    "To count the number of nodes and hyperedges in a network we can use the `number_of_nodes` and `number_of_edges` functions, or we could can compute `len` of `HyperGraph.nodes` and `HyperGraph.edges`:"
   ]
  },
  {
   "cell_type": "code",
   "execution_count": 7,
   "id": "fundamental-order",
   "metadata": {},
   "outputs": [
    {
     "name": "stdout",
     "output_type": "stream",
     "text": [
      "HyperGraph has 4 nodes and 3 edges\n",
      "Number of nodes: 4\n",
      "Number of edges: 3\n"
     ]
    }
   ],
   "source": [
    "print('HyperGraph has {0} nodes and {1} edges'.format(hg.number_of_nodes(), hg.number_of_edges()))\n",
    "print('Number of nodes: {0}'.format(len(hg.nodes)))\n",
    "print('Number of edges: {0}'.format(len(hg.edges)))"
   ]
  },
  {
   "cell_type": "markdown",
   "id": "limiting-pride",
   "metadata": {},
   "source": [
    "### Node and Edge objects\n",
    "\n",
    "In the simple example above, we generated nodes and edges by calling the `add_node` and `add_edge` function of the network instance. Internally, nodes and edges are represented as objects of type `Node` and `HyperEdge` that can be referenced by one or more instances of type `HyperGraph`. Just like a `HyperGraph`, each instance of a `Node` and `HyperEdge` has a UID. In the example above, `pathpy` has automatically created `Node` and `HyperEdge` instances and has assigned the UIDs `a`, `b`, `c`, and `d` to those nodes. We can access those node objects via the node container `HyperGraph.nodes`. We can iterate through this dictionary to print a summary of all node objects referenced with a hypergraph object:"
   ]
  },
  {
   "cell_type": "code",
   "execution_count": 8,
   "id": "operating-solution",
   "metadata": {},
   "outputs": [
    {
     "name": "stdout",
     "output_type": "stream",
     "text": [
      "Uid:\t\ta\n",
      "Type:\t\tNode\n",
      "\n",
      "Uid:\t\tb\n",
      "Type:\t\tNode\n",
      "\n",
      "Uid:\t\tc\n",
      "Type:\t\tNode\n",
      "\n",
      "Uid:\t\td\n",
      "Type:\t\tNode\n",
      "\n"
     ]
    }
   ],
   "source": [
    "for v in hg.nodes:\n",
    "    print(v)"
   ]
  },
  {
   "cell_type": "markdown",
   "id": "worse-median",
   "metadata": {},
   "source": [
    "We can also use the uid of a node to access a specific node object in a network by using the uid as an index to the `nodes` container:"
   ]
  },
  {
   "cell_type": "code",
   "execution_count": 10,
   "id": "advanced-wisdom",
   "metadata": {},
   "outputs": [
    {
     "name": "stdout",
     "output_type": "stream",
     "text": [
      "Uid:\t\ta\n",
      "Type:\t\tNode\n",
      "\n"
     ]
    }
   ],
   "source": [
    "print(hg.nodes['a'])"
   ]
  },
  {
   "cell_type": "markdown",
   "id": "spiritual-ordinary",
   "metadata": {},
   "source": [
    "Similar to `nodes`, the `edges` container of the hypergraph contains all hyperedges of a network and each hyperedge is actually stored as an `HyperEdge` object. Let us iterate through the edges container of network `hg` to better understand this:"
   ]
  },
  {
   "cell_type": "code",
   "execution_count": 11,
   "id": "subtle-bryan",
   "metadata": {},
   "outputs": [
    {
     "name": "stdout",
     "output_type": "stream",
     "text": [
      "---\n",
      "Uid:\t\t0x7fe3a5802700\n",
      "Type:\t\tHyperEdge\n",
      "Nodes:\t\t{'b', 'a'}\n",
      "\n",
      "---\n",
      "Uid:\t\t0x7fe3a5802d90\n",
      "Type:\t\tHyperEdge\n",
      "Nodes:\t\t{'c', 'b', 'a'}\n",
      "\n",
      "---\n",
      "Uid:\t\t0x7fe3a5802fd0\n",
      "Type:\t\tHyperEdge\n",
      "Nodes:\t\t{'c', 'a', 'd'}\n",
      "\n"
     ]
    }
   ],
   "source": [
    "for e in hg.edges:\n",
    "    print('---')\n",
    "    print(e)"
   ]
  },
  {
   "cell_type": "markdown",
   "id": "numeric-numbers",
   "metadata": {},
   "source": [
    "We see that the edge container contains one `HyperEdge` object instance for each hyperedge that we added before. Each `HyperEdge` has again a unique identifier, which has been automatically created in our example above. Just like for `Node` or `HyperGraph` objects, we can manually create a hyperedge object with a custom UID that connects the nodes `a`, `b` and `c` as follows:"
   ]
  },
  {
   "cell_type": "code",
   "execution_count": 12,
   "id": "incredible-wholesale",
   "metadata": {},
   "outputs": [
    {
     "name": "stdout",
     "output_type": "stream",
     "text": [
      "Uid:\t\tMyHyperEdge\n",
      "Type:\t\tHyperEdge\n",
      "Nodes:\t\t{'c', 'b', 'a'}\n",
      "\n"
     ]
    }
   ],
   "source": [
    "edge = HyperEdge('a','b','c', uid='MyHyperEdge')\n",
    "print(edge)"
   ]
  },
  {
   "cell_type": "markdown",
   "id": "super-folder",
   "metadata": {},
   "source": [
    "This `HyperEdge` object has a different UID than the existing edge between nodes `a`, `b` and `c`, which is why we can add it to network `hg` even though this network already contains an edge (with a different UID) between nodes `a`, `b` and `c`:"
   ]
  },
  {
   "cell_type": "code",
   "execution_count": 13,
   "id": "educational-waterproof",
   "metadata": {},
   "outputs": [
    {
     "name": "stdout",
     "output_type": "stream",
     "text": [
      "Uid:\t\t\tExampleNetwork\n",
      "Type:\t\t\tHyperGraph\n",
      "Multi-Edges:\t\tTrue\n",
      "Number of nodes:\t4\n",
      "Number of edges:\t4\n"
     ]
    }
   ],
   "source": [
    "hg.add_edge(edge)\n",
    "print(hg)"
   ]
  },
  {
   "cell_type": "markdown",
   "id": "reduced-movie",
   "metadata": {},
   "source": [
    "The summary of the hypergraph confirms that the network now contains four hyperedges. This native support for multi-edge networks is an important feature of `pathpy`. It also means that every pair of nodes can be connected by more than one edge. We can access those edges via the `HyperGraph.edges` container in multiple ways. First, we can simply iterate through the edge objects as shown before. Second, we can directly access an `HyperEdge` with a given UID as follows:"
   ]
  },
  {
   "cell_type": "code",
   "execution_count": 14,
   "id": "close-wisdom",
   "metadata": {},
   "outputs": [
    {
     "name": "stdout",
     "output_type": "stream",
     "text": [
      "Uid:\t\tMyHyperEdge\n",
      "Type:\t\tHyperEdge\n",
      "Nodes:\t\t{'c', 'b', 'a'}\n",
      "\n"
     ]
    }
   ],
   "source": [
    "print(hg.edges['MyHyperEdge'])"
   ]
  },
  {
   "cell_type": "markdown",
   "id": "widespread-drove",
   "metadata": {},
   "source": [
    "Finally, we often want to access those hyperedges that connect a specific set of nodes. We can thus alternatively pass the node uids as index to `HyperGraph.edges`. Since multiple edges between the same pair of nodes are possible, this generally returns a list of HyperEdge objects, which - in the case of the node pair `a` and `b` - contains two different edge objects with different UIDs."
   ]
  },
  {
   "cell_type": "code",
   "execution_count": 15,
   "id": "global-contemporary",
   "metadata": {},
   "outputs": [
    {
     "name": "stdout",
     "output_type": "stream",
     "text": [
      "{HyperEdge {'c', 'b', 'a'}, HyperEdge MyHyperEdge}\n"
     ]
    }
   ],
   "source": [
    "print(hg.edges['a','b','c'])"
   ]
  },
  {
   "cell_type": "markdown",
   "id": "serious-declaration",
   "metadata": {},
   "source": [
    "Since the relationships between nodes inside a `HyperEdge` are unorderd, we can access a `HyperEdge` with any valid combination of nodes:"
   ]
  },
  {
   "cell_type": "code",
   "execution_count": 16,
   "id": "expressed-growing",
   "metadata": {},
   "outputs": [
    {
     "name": "stdout",
     "output_type": "stream",
     "text": [
      "{HyperEdge {'c', 'b', 'a'}, HyperEdge MyHyperEdge}\n"
     ]
    }
   ],
   "source": [
    "print(hg.edges['a','c','b'])"
   ]
  },
  {
   "cell_type": "code",
   "execution_count": 17,
   "id": "powered-spotlight",
   "metadata": {},
   "outputs": [
    {
     "name": "stdout",
     "output_type": "stream",
     "text": [
      "{HyperEdge {'c', 'b', 'a'}, HyperEdge MyHyperEdge}\n"
     ]
    }
   ],
   "source": [
    "print(hg.edges['b','a','c'])"
   ]
  },
  {
   "cell_type": "code",
   "execution_count": 18,
   "id": "waiting-springfield",
   "metadata": {},
   "outputs": [
    {
     "name": "stdout",
     "output_type": "stream",
     "text": [
      "{HyperEdge {'c', 'b', 'a'}, HyperEdge MyHyperEdge}\n"
     ]
    }
   ],
   "source": [
    "print(hg.edges['c','b','a'])"
   ]
  }
 ],
 "metadata": {
  "kernelspec": {
   "display_name": "Python 3.8.2 64-bit ('pathpy': virtualenv)",
   "language": "python",
   "name": "python38264bitpathpyvirtualenve9f91f935e12416c9dfa23732c3a2f98"
  },
  "language_info": {
   "codemirror_mode": {
    "name": "ipython",
    "version": 3
   },
   "file_extension": ".py",
   "mimetype": "text/x-python",
   "name": "python",
   "nbconvert_exporter": "python",
   "pygments_lexer": "ipython3",
   "version": "3.9.6"
  }
 },
 "nbformat": 4,
 "nbformat_minor": 5
}
