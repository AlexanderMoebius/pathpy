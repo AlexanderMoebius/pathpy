{
 "cells": [
  {
   "cell_type": "markdown",
   "metadata": {},
   "source": [
    "# Temporal Network Basics\n",
    "\n",
    "[Run notebook in Google Colab](https://colab.research.google.com/github/pathpy/pathpy/blob/master/doc/tutorial/temporal_networks.ipynb)  \n",
    "[Download notebook](https://github.com/pathpy/pathpy/raw/master/doc/tutorial/temporal_networks.ipynb)\n",
    "\n"
   ]
  },
  {
   "cell_type": "code",
   "execution_count": null,
   "metadata": {},
   "outputs": [],
   "source": [
    "import pathpy as pp\n",
    "import numpy as np\n",
    "import sqlite3\n",
    "\n",
    "import seaborn as sns\n",
    "import matplotlib.pyplot as plt\n",
    "import scipy\n",
    "\n",
    "from collections import defaultdict\n",
    "\n",
    "plt.style.use('default')\n",
    "sns.set_style(\"whitegrid\")"
   ]
  },
  {
   "source": [
    "## Creating temporal Networks in pathpy\n",
    "\n",
    "This `pathpy` package provides special support for the analysis of temporal networks data via its `TemporalNetwork` class. It is suitable for data that captures time-stamped edges  $(v,w,t)$  instantaneously occurring at discrete time stamps $t$. Let us start by creating an empty instance of this class."
   ],
   "cell_type": "markdown",
   "metadata": {}
  },
  {
   "cell_type": "code",
   "execution_count": null,
   "metadata": {},
   "outputs": [],
   "source": [
    "t = pp.TemporalNetwork()\n",
    "print(t)"
   ]
  },
  {
   "source": [
    "The TemporalNetwork instance $t$ stores two key information: a list of nodes t.nodes and a collection t.tedges of time-stamped edges $(v,w,t)$. Let us add some time-stamped edges to this instance."
   ],
   "cell_type": "markdown",
   "metadata": {}
  },
  {
   "cell_type": "code",
   "execution_count": null,
   "metadata": {},
   "outputs": [],
   "source": [
    "t.add_edge('a', 'b', 1)\n",
    "t.add_edge('b', 'a', 3)\n",
    "t.add_edge('b', 'c', 3)\n",
    "t.add_edge('d', 'c', 4)\n",
    "t.add_edge('c', 'd', 5)\n",
    "t.add_edge('c', 'b', 6)\n",
    "print(t)"
   ]
  },
  {
   "source": [
    "We get basic summary statistics, such as the number of time-stamped interactions, the minimum and maximum timestamp, the duration of the observation, the number of different timestamps, as well as the average, minimum, and maximum time difference between consecutive time-stamped edges.\n",
    "\n",
    "Above we used integer timestamps, which represent discrete time units. But we often have data where time is given in terms of a date and/or time of day. Luckily, pathpy supports arbitrary timestamp formats. Let us try this in an example."
   ],
   "cell_type": "markdown",
   "metadata": {}
  },
  {
   "cell_type": "code",
   "execution_count": null,
   "metadata": {},
   "outputs": [],
   "source": [
    "t_realtime = pp.TemporalNetwork()\n",
    "t_realtime.add_edge('a', 'b', '2018-08-22 09:30:22')\n",
    "t_realtime.add_edge('b', 'c', '2018-08-22 09:30:25')\n",
    "t_realtime.add_edge('c', 'a', '2018-08-22 10:30:25')\n",
    "print(t_realtime)\n",
    "\n",
    "for e in t_realtime.tedges:\n",
    "    print(e)"
   ]
  },
  {
   "source": [
    "## Calculating Causal Paths in Temporal Networks"
   ],
   "cell_type": "markdown",
   "metadata": {}
  },
  {
   "source": [
    "dag, node_mapping = pp.DAG.from_temporal_network(t, delta=1)\n",
    "print(dag)\n",
    "print(node_mapping)"
   ],
   "cell_type": "code",
   "metadata": {},
   "execution_count": null,
   "outputs": []
  },
  {
   "cell_type": "code",
   "execution_count": null,
   "metadata": {},
   "outputs": [],
   "source": [
    "colors = {'a': 'red', 'b': 'blue', 'c': 'cyan', 'd': 'orange'}\n",
    "node_colors = { v: colors[node_mapping[v]] for v in node_mapping }\n",
    "pp.visualisation.plot(dag, node_color=node_colors)"
   ]
  },
  {
   "cell_type": "code",
   "execution_count": null,
   "metadata": {},
   "outputs": [],
   "source": [
    "p = pp.path_extraction.paths_from_dag(dag, node_mapping)\n",
    "print(p)"
   ]
  },
  {
   "cell_type": "code",
   "execution_count": null,
   "metadata": {},
   "outputs": [],
   "source": [
    "p = pp.path_extraction.temporal_paths.paths_from_temporal_network_dag(t, delta=1)\n",
    "print(p)\n",
    "\n",
    "for l in p.paths:\n",
    "    for x in p.paths[l]:\n",
    "        if p.paths[l][x][1]>0:\n",
    "            print('{0} -> {1}'.format(x, p.paths[l][x][1]))"
   ]
  }
 ],
 "metadata": {
  "kernelspec": {
   "display_name": "Python 3",
   "language": "python",
   "name": "python3"
  },
  "language_info": {
   "codemirror_mode": {
    "name": "ipython",
    "version": 3
   },
   "file_extension": ".py",
   "mimetype": "text/x-python",
   "name": "python",
   "nbconvert_exporter": "python",
   "pygments_lexer": "ipython3",
   "version": "3.9.4"
  }
 },
 "nbformat": 4,
 "nbformat_minor": 4
}