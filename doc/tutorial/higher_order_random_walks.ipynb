{
 "cells": [
  {
   "cell_type": "markdown",
   "metadata": {},
   "source": [
    "# Random Walks in Higher-Order Networks\n",
    "\n",
    "\n",
    "[Run notebook in Google Colab](https://colab.research.google.com/github/pathpy/pathpy/blob/master/doc/tutorial/higher_order_random_walks.ipynb)  \n",
    "[Download notebook](https://github.com/pathpy/pathpy/raw/master/doc/tutorial/higher_order_random_walks.ipynb)"
   ]
  },
  {
   "cell_type": "code",
   "execution_count": null,
   "metadata": {
    "execution": {
     "iopub.execute_input": "2021-04-30T00:07:08.458210Z",
     "iopub.status.busy": "2021-04-30T00:07:08.457562Z",
     "iopub.status.idle": "2021-04-30T00:07:08.970082Z",
     "shell.execute_reply": "2021-04-30T00:07:08.970494Z"
    }
   },
   "outputs": [],
   "source": [
    "import pathpy as pp\n",
    "from pprint import pprint"
   ]
  },
  {
   "cell_type": "markdown",
   "metadata": {},
   "source": [
    "We can use `pathpy` to simulate random walks on higher-order networks. Let us first create a simple Higher-Order Network:"
   ]
  },
  {
   "cell_type": "code",
   "execution_count": null,
   "metadata": {
    "execution": {
     "iopub.execute_input": "2021-04-30T00:07:08.975113Z",
     "iopub.status.busy": "2021-04-30T00:07:08.974476Z",
     "iopub.status.idle": "2021-04-30T00:07:08.979215Z",
     "shell.execute_reply": "2021-04-30T00:07:08.979641Z"
    }
   },
   "outputs": [],
   "source": [
    "n = pp.Network(directed=False)\n",
    "n.add_edge('a', 'b', weight=1, uid='a-b')\n",
    "n.add_edge('b', 'c', weight=1, uid='b-c')\n",
    "n.add_edge('c', 'a', weight=2, uid='c-a')\n",
    "n.add_edge('c', 'd', weight=1, uid='c-d')\n",
    "n.add_edge('d', 'a', weight=1, uid='d-a')\n",
    "\n",
    "n.plot()"
   ]
  },
  {
   "cell_type": "code",
   "execution_count": null,
   "metadata": {
    "execution": {
     "iopub.execute_input": "2021-04-30T00:07:08.985621Z",
     "iopub.status.busy": "2021-04-30T00:07:08.985205Z",
     "iopub.status.idle": "2021-04-30T00:07:08.989203Z",
     "shell.execute_reply": "2021-04-30T00:07:08.989675Z"
    }
   },
   "outputs": [],
   "source": [
    "n2 = pp.HigherOrderNetwork()\n",
    "v1 = pp.HigherOrderNode(n.edges['a-b'], uid='a-b')\n",
    "v2 = pp.HigherOrderNode(n.edges['b-c'], uid='b-c')\n",
    "v3 = pp.HigherOrderNode(n.edges['c-a'], uid='c-a')\n",
    "v4 = pp.HigherOrderNode(n.edges['c-d'], uid='c-d')\n",
    "v5 = pp.HigherOrderNode(n.edges['d-a'], uid='d-a')\n",
    "\n",
    "n2.add_edge(v1, v2, uid='a-b-c', weight=1)\n",
    "n2.add_edge(v2, v3, uid='b-c-a', weight=1)\n",
    "n2.add_edge(v2, v4, uid='b-c-d', weight=0.2)\n",
    "n2.add_edge(v3, v1, uid='c-a-b', weight=1)\n",
    "n2.add_edge(v4, v5, uid='c-d-a', weight=0.2)\n",
    "n2.add_edge(v5, v1, uid='d-a-b', weight=1)\n",
    "n2.plot()"
   ]
  },
  {
   "cell_type": "markdown",
   "metadata": {},
   "source": [
    "To simulate a random in the higher-order network, we can use the same class as for a standard, first-order network:"
   ]
  },
  {
   "cell_type": "code",
   "execution_count": null,
   "metadata": {
    "execution": {
     "iopub.execute_input": "2021-04-30T00:07:08.995393Z",
     "iopub.status.busy": "2021-04-30T00:07:08.994914Z",
     "iopub.status.idle": "2021-04-30T00:07:08.998101Z",
     "shell.execute_reply": "2021-04-30T00:07:08.998591Z"
    }
   },
   "outputs": [],
   "source": [
    "rw2 = pp.processes.RandomWalk(n2, weight='weight')"
   ]
  },
  {
   "cell_type": "markdown",
   "metadata": {},
   "source": [
    "We can inspect the transition matrix as follows:"
   ]
  },
  {
   "cell_type": "code",
   "execution_count": null,
   "metadata": {
    "execution": {
     "iopub.execute_input": "2021-04-30T00:07:09.004972Z",
     "iopub.status.busy": "2021-04-30T00:07:09.004538Z",
     "iopub.status.idle": "2021-04-30T00:07:09.006311Z",
     "shell.execute_reply": "2021-04-30T00:07:09.006758Z"
    }
   },
   "outputs": [],
   "source": [
    "print(rw2.transition_matrix_pd())"
   ]
  },
  {
   "cell_type": "markdown",
   "metadata": {},
   "source": [
    "We can use the following code to simulate a random walk in the higher-order network. The generated `Path` object is automatically mapped to the first-order nodes. We have to specify a second-order node as the start node (or the number of randomly chosen second-order nodes). \n",
    "\n",
    "Based on the higher-order network above, a transition from `b` via `c` to `d` can never occur:"
   ]
  },
  {
   "cell_type": "code",
   "execution_count": null,
   "metadata": {
    "execution": {
     "iopub.execute_input": "2021-04-30T00:07:09.012156Z",
     "iopub.status.busy": "2021-04-30T00:07:09.011779Z",
     "iopub.status.idle": "2021-04-30T00:07:09.018485Z",
     "shell.execute_reply": "2021-04-30T00:07:09.018882Z"
    }
   },
   "outputs": [],
   "source": [
    "data = rw2.run_experiment(steps=50, runs=['b-c', 'c-d'])\n",
    "print(data)"
   ]
  },
  {
   "cell_type": "code",
   "execution_count": null,
   "metadata": {
    "execution": {
     "iopub.execute_input": "2021-04-30T00:07:09.021442Z",
     "iopub.status.busy": "2021-04-30T00:07:09.021062Z",
     "iopub.status.idle": "2021-04-30T00:07:09.040319Z",
     "shell.execute_reply": "2021-04-30T00:07:09.040746Z"
    }
   },
   "outputs": [],
   "source": [
    "rw2.plot(data)"
   ]
  },
  {
   "cell_type": "markdown",
   "metadata": {},
   "source": [
    "Conversely, the transition from `b` via `c` to `d` will occur in the corresponding first-order random walk:"
   ]
  },
  {
   "cell_type": "code",
   "execution_count": null,
   "metadata": {
    "execution": {
     "iopub.execute_input": "2021-04-30T00:07:09.044297Z",
     "iopub.status.busy": "2021-04-30T00:07:09.043828Z",
     "iopub.status.idle": "2021-04-30T00:07:09.046174Z",
     "shell.execute_reply": "2021-04-30T00:07:09.046582Z"
    }
   },
   "outputs": [],
   "source": [
    "p = rw2.get_path(data)\n",
    "print([ v.uid for v in p.nodes ])"
   ]
  },
  {
   "cell_type": "code",
   "execution_count": null,
   "metadata": {
    "execution": {
     "iopub.execute_input": "2021-04-30T00:07:09.049984Z",
     "iopub.status.busy": "2021-04-30T00:07:09.049549Z",
     "iopub.status.idle": "2021-04-30T00:07:09.051493Z",
     "shell.execute_reply": "2021-04-30T00:07:09.051922Z"
    }
   },
   "outputs": [],
   "source": [
    "p = rw2.get_path(data, first_order=False)\n",
    "print([ v.uid for v in p.nodes ])"
   ]
  },
  {
   "cell_type": "code",
   "execution_count": null,
   "metadata": {
    "execution": {
     "iopub.execute_input": "2021-04-30T00:07:09.056469Z",
     "iopub.status.busy": "2021-04-30T00:07:09.056055Z",
     "iopub.status.idle": "2021-04-30T00:07:09.058243Z",
     "shell.execute_reply": "2021-04-30T00:07:09.058646Z"
    }
   },
   "outputs": [],
   "source": [
    "pc = rw2.get_paths(data)\n",
    "for p in pc:\n",
    "    \tprint([ v.uid for v in p.nodes ])"
   ]
  },
  {
   "cell_type": "code",
   "execution_count": null,
   "metadata": {
    "execution": {
     "iopub.execute_input": "2021-04-30T00:07:09.063336Z",
     "iopub.status.busy": "2021-04-30T00:07:09.062889Z",
     "iopub.status.idle": "2021-04-30T00:07:09.064565Z",
     "shell.execute_reply": "2021-04-30T00:07:09.064981Z"
    }
   },
   "outputs": [],
   "source": [
    "pc = rw2.get_paths(data, first_order=False)\n",
    "for p in pc:\n",
    "    \tprint([ v.uid for v in p.nodes ])"
   ]
  },
  {
   "cell_type": "code",
   "execution_count": null,
   "metadata": {
    "execution": {
     "iopub.execute_input": "2021-04-30T00:07:09.078715Z",
     "iopub.status.busy": "2021-04-30T00:07:09.078311Z",
     "iopub.status.idle": "2021-04-30T00:07:09.082333Z",
     "shell.execute_reply": "2021-04-30T00:07:09.082744Z"
    }
   },
   "outputs": [],
   "source": [
    "rw2.plot_first_order(data, n)"
   ]
  },
  {
   "cell_type": "code",
   "execution_count": null,
   "metadata": {},
   "outputs": [],
   "source": []
  }
 ],
 "metadata": {
  "kernelspec": {
   "display_name": "Python 3",
   "language": "python",
   "name": "python3"
  },
  "language_info": {
   "codemirror_mode": {
    "name": "ipython",
    "version": 3
   },
   "file_extension": ".py",
   "mimetype": "text/x-python",
   "name": "python",
   "nbconvert_exporter": "python",
   "pygments_lexer": "ipython3",
   "version": "3.8.5"
  },
  "metadata": {
   "interpreter": {
    "hash": "82db51cffef479cc4d0f53089378e5a2925f9e7adca31d741132ceba61ecca6f"
   }
  }
 },
 "nbformat": 4,
 "nbformat_minor": 2
}
