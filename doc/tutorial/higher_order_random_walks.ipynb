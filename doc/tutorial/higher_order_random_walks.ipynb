{
 "metadata": {
  "language_info": {
   "codemirror_mode": {
    "name": "ipython",
    "version": 3
   },
   "file_extension": ".py",
   "mimetype": "text/x-python",
   "name": "python",
   "nbconvert_exporter": "python",
   "pygments_lexer": "ipython3",
   "version": "3.7.3"
  },
  "orig_nbformat": 2,
  "kernelspec": {
   "name": "python373jvsc74a57bd082db51cffef479cc4d0f53089378e5a2925f9e7adca31d741132ceba61ecca6f",
   "display_name": "Python 3.7.3 64-bit ('base': conda)"
  }
 },
 "nbformat": 4,
 "nbformat_minor": 2,
 "cells": [
  {
   "source": [
    "# Random Walks in Higher-Order Networks"
   ],
   "cell_type": "markdown",
   "metadata": {}
  },
  {
   "cell_type": "code",
   "execution_count": 1,
   "metadata": {},
   "outputs": [
    {
     "output_type": "display_data",
     "data": {
      "text/plain": "<IPython.core.display.HTML object>",
      "text/html": "\n    <script charset=\"utf-8\">\n    // Load via requireJS if available (jupyter notebook environment)\n    try {\n    require.config({\n    paths: {\n    d3: \"https://d3js.org/d3.v5.min.js\".replace(\".js\", \"\")\n    }\n    });\n    console.log(\"OKAY: requireJS was detected\");\n    }\n    catch(err){\n    console.log(err);\n    console.log(\"ERROR: NO requireJS was detected\");\n    };\n    require(['d3'], function(d3){\n    console.log(\"OKAY: d3js was detected\");\n    });\n    </script>\n    "
     },
     "metadata": {}
    }
   ],
   "source": [
    "import pathpy as pp\n",
    "from pprint import pprint"
   ]
  },
  {
   "source": [
    "We can use `pathpy` to simulate random walks on higher-order networks. Let us first create a simple Higher-Order Network:"
   ],
   "cell_type": "markdown",
   "metadata": {}
  },
  {
   "cell_type": "code",
   "execution_count": 3,
   "metadata": {},
   "outputs": [],
   "source": [
    "n = pp.Network(directed=False)\n",
    "n.add_edge('a', 'b', weight=1, uid='a-b')\n",
    "n.add_edge('b', 'c', weight=1, uid='b-c')\n",
    "n.add_edge('c', 'a', weight=2, uid='c-a')\n",
    "n.add_edge('c', 'd', weight=1, uid='c-d')\n",
    "n.add_edge('d', 'a', weight=1, uid='d-a')\n",
    "\n",
    "n2 = pp.HigherOrderNetwork()\n",
    "v1 = pp.HigherOrderNode(n.edges['a-b'], uid='a-b')\n",
    "v2 = pp.HigherOrderNode(n.edges['b-c'], uid='b-c')\n",
    "v3 = pp.HigherOrderNode(n.edges['c-a'], uid='c-a')\n",
    "v4 = pp.HigherOrderNode(n.edges['c-d'], uid='c-d')\n",
    "v5 = pp.HigherOrderNode(n.edges['d-a'], uid='d-a')\n",
    "\n",
    "n2.add_edge(v1, v2, uid='a-b-c', weight=1)\n",
    "n2.add_edge(v2, v3, uid='b-c-a', weight=1)\n",
    "n2.add_edge(v2, v4, uid='b-c-d', weight=0)\n",
    "n2.add_edge(v3, v1, uid='c-a-b', weight=1)\n",
    "n2.add_edge(v4, v5, uid='c-d-a', weight=1)\n",
    "n2.add_edge(v5, v1, uid='d-a-b', weight=1)"
   ]
  },
  {
   "source": [
    "To simulate a random in the higher-order network, we can use the same class as for a standard, first-order network:"
   ],
   "cell_type": "markdown",
   "metadata": {}
  },
  {
   "cell_type": "code",
   "execution_count": 4,
   "metadata": {},
   "outputs": [],
   "source": [
    "rw2 = pp.processes.RandomWalk(n2, weight='weight')"
   ]
  },
  {
   "source": [
    "We can inspect the transition matrix as follows:"
   ],
   "cell_type": "markdown",
   "metadata": {}
  },
  {
   "cell_type": "code",
   "execution_count": 6,
   "metadata": {},
   "outputs": [
    {
     "output_type": "stream",
     "name": "stdout",
     "text": [
      "     a-b  b-c  c-a  c-d  d-a\na-b  0.0  1.0  0.0  0.0  0.0\nb-c  0.0  0.0  1.0  0.0  0.0\nc-a  1.0  0.0  0.0  0.0  0.0\nc-d  0.0  0.0  0.0  0.0  1.0\nd-a  1.0  0.0  0.0  0.0  0.0\n"
     ]
    }
   ],
   "source": [
    "print(rw2.matrix_pd())"
   ]
  },
  {
   "source": [
    "We can use the following code to simulate a random walk in the higher-order network. The generated `Path` object is automatically mapped to the first-order nodes. We have to specify a second-order node as the start node (or the number of randomly chosen second-order nodes). \n",
    "\n",
    "Based on the higher-order network above, a transition from `b` via `c` to `d` can never occur:"
   ],
   "cell_type": "markdown",
   "metadata": {}
  },
  {
   "cell_type": "code",
   "execution_count": 9,
   "metadata": {},
   "outputs": [
    {
     "output_type": "stream",
     "name": "stdout",
     "text": [
      "['c',\n 'a',\n 'b',\n 'c',\n 'a',\n 'b',\n 'c',\n 'a',\n 'b',\n 'c',\n 'a',\n 'b',\n 'c',\n 'a',\n 'b',\n 'c',\n 'a',\n 'b',\n 'c',\n 'a',\n 'b']\n"
     ]
    }
   ],
   "source": [
    "p = rw2.generate_walk(steps=20, start_node=n2.nodes['b-c'])\n",
    "pprint([ v.uid for v in p.nodes ])"
   ]
  },
  {
   "source": [
    "Conversely, the transition from `b` via `c` to `d` will occur in the corresponding first-order random walk:"
   ],
   "cell_type": "markdown",
   "metadata": {}
  },
  {
   "cell_type": "code",
   "execution_count": 15,
   "metadata": {},
   "outputs": [
    {
     "output_type": "stream",
     "name": "stdout",
     "text": [
      "['b', 'b', 'a', 'd', 'a', 'b', 'c', 'd', 'd', 'a', 'a']\n"
     ]
    }
   ],
   "source": [
    "rw = pp.processes.RandomWalk(n, weight='weight')\n",
    "p = rw.generate_walk(steps=10, start_node=n.nodes['b'])\n",
    "pprint([ v.uid for v in p.nodes ])"
   ]
  }
 ]
}