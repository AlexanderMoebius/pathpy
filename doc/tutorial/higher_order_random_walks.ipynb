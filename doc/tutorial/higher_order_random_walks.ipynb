{
 "cells": [
  {
   "cell_type": "markdown",
   "metadata": {},
   "source": [
    "# Random Walks in Higher-Order Networks\n",
    "\n",
    "\n",
    "[Run notebook in Google Colab](https://colab.research.google.com/github/pathpy/pathpy/blob/master/doc/tutorial/higher_order_random_walks.ipynb)  \n",
    "[Download notebook](https://github.com/pathpy/pathpy/raw/master/doc/tutorial/higher_order_random_walks.ipynb)\n",
    "\n",
    "An interesting application of `pathpy` is the simulation and visualisation of random walk processes in higher-order networks. In the following we demonstrate this in a small toy example."
   ]
  },
  {
   "cell_type": "code",
   "execution_count": null,
   "metadata": {
    "execution": {
     "iopub.execute_input": "2021-05-04T11:34:31.554140Z",
     "iopub.status.busy": "2021-05-04T11:34:31.553469Z",
     "iopub.status.idle": "2021-05-04T11:34:39.236696Z",
     "shell.execute_reply": "2021-05-04T11:34:39.237379Z"
    },
    "tags": [
     "hide"
    ]
   },
   "outputs": [],
   "source": [
    "pip install git+git://github.com/pathpy/pathpy.git"
   ]
  },
  {
   "cell_type": "code",
   "execution_count": null,
   "metadata": {
    "execution": {
     "iopub.execute_input": "2021-05-04T11:34:39.241581Z",
     "iopub.status.busy": "2021-05-04T11:34:39.240982Z",
     "iopub.status.idle": "2021-05-04T11:34:40.028171Z",
     "shell.execute_reply": "2021-05-04T11:34:40.028760Z"
    }
   },
   "outputs": [],
   "source": [
    "import pathpy as pp\n",
    "from pprint import pprint\n",
    "from matplotlib import pyplot as plt"
   ]
  },
  {
   "cell_type": "markdown",
   "metadata": {},
   "source": [
    "To explain how we can simulate random walks on higher-order networks, we first first create a simple first-order network with four nodes and five edges."
   ]
  },
  {
   "cell_type": "code",
   "execution_count": null,
   "metadata": {
    "execution": {
     "iopub.execute_input": "2021-05-04T11:34:40.066485Z",
     "iopub.status.busy": "2021-05-04T11:34:40.065697Z",
     "iopub.status.idle": "2021-05-04T11:34:40.072297Z",
     "shell.execute_reply": "2021-05-04T11:34:40.072930Z"
    }
   },
   "outputs": [],
   "source": [
    "n = pp.Network(directed=False)\n",
    "n.add_edge('a', 'b', weight=1, uid='a-b')\n",
    "n.add_edge('b', 'c', weight=1, uid='b-c')\n",
    "n.add_edge('c', 'a', weight=2, uid='c-a')\n",
    "n.add_edge('c', 'd', weight=1, uid='c-d')\n",
    "n.add_edge('d', 'a', weight=1, uid='d-a')\n",
    "\n",
    "n.plot()"
   ]
  },
  {
   "cell_type": "markdown",
   "metadata": {},
   "source": [
    "We now create a higher-order network with order two, which corresponds to paths in the first-order network above. We further assign weights to those edges, which means that those paths are taken with different probabilities."
   ]
  },
  {
   "cell_type": "code",
   "execution_count": null,
   "metadata": {
    "execution": {
     "iopub.execute_input": "2021-05-04T11:34:40.083240Z",
     "iopub.status.busy": "2021-05-04T11:34:40.082607Z",
     "iopub.status.idle": "2021-05-04T11:34:40.087367Z",
     "shell.execute_reply": "2021-05-04T11:34:40.088058Z"
    }
   },
   "outputs": [],
   "source": [
    "n2 = pp.HigherOrderNetwork()\n",
    "v1 = pp.HigherOrderNode(n.edges['a-b'], uid='a-b')\n",
    "v2 = pp.HigherOrderNode(n.edges['b-c'], uid='b-c')\n",
    "v3 = pp.HigherOrderNode(n.edges['c-a'], uid='c-a')\n",
    "v4 = pp.HigherOrderNode(n.edges['c-d'], uid='c-d')\n",
    "v5 = pp.HigherOrderNode(n.edges['d-a'], uid='d-a')\n",
    "\n",
    "n2.add_edge(v1, v2, uid='a-b-c', weight=2)\n",
    "n2.add_edge(v2, v3, uid='b-c-a', weight=1)\n",
    "n2.add_edge(v2, v4, uid='b-c-d', weight=0.2)\n",
    "n2.add_edge(v3, v1, uid='c-a-b', weight=4)\n",
    "n2.add_edge(v4, v5, uid='c-d-a', weight=0.6)\n",
    "n2.add_edge(v5, v1, uid='d-a-b', weight=0.1)\n",
    "n2.plot()"
   ]
  },
  {
   "cell_type": "markdown",
   "metadata": {},
   "source": [
    "Since the class `RandomWalk`, which we covered in the previous unit, works for any instance of the class `Network` we can simulate and visualise random walks in the same way as shown before. I.e. to generate, simulate, and visualise a biased random walk on the second-order network above, we can write:"
   ]
  },
  {
   "cell_type": "code",
   "execution_count": null,
   "metadata": {
    "execution": {
     "iopub.execute_input": "2021-05-04T11:34:40.096779Z",
     "iopub.status.busy": "2021-05-04T11:34:40.096049Z",
     "iopub.status.idle": "2021-05-04T11:34:40.114839Z",
     "shell.execute_reply": "2021-05-04T11:34:40.115251Z"
    }
   },
   "outputs": [],
   "source": [
    "rw2 = pp.processes.RandomWalk(n2, weight='weight')\n",
    "data = rw2.run_experiment(steps=10, runs=1)\n",
    "print(data)\n",
    "\n",
    "p = rw2.get_path(data)\n",
    "pprint(' -> '.join([v.uid for v in p.nodes]))"
   ]
  },
  {
   "cell_type": "code",
   "execution_count": null,
   "metadata": {
    "execution": {
     "iopub.execute_input": "2021-05-04T11:34:40.119329Z",
     "iopub.status.busy": "2021-05-04T11:34:40.118795Z",
     "iopub.status.idle": "2021-05-04T11:34:40.130903Z",
     "shell.execute_reply": "2021-05-04T11:34:40.131640Z"
    }
   },
   "outputs": [],
   "source": [
    "rw2.plot(data)"
   ]
  },
  {
   "cell_type": "markdown",
   "metadata": {},
   "source": [
    "Clearly, since the higher-order network is just another network with special node and edge semantics, everything works just like before: the random walk is visualised in the second-order network, returned paths are sequences of second-order nodes, and the visitation probabilities are actually visitation probabilities of second-order nodes (which correspond to edges in the underlying network).\n",
    "\n",
    "However, we are mostly not interested in the dynamics of the process in the higher-order node space, but rather wish to project the random walks to the underlying first-order network. This task is facilitated by the class `HigherOrderRandomWalk`, which simulates a random walk process in a higher-order network while projecting the dynamics to a first-order state space. To perform this projection we need to pass the first-order network in addition to the higher-order network to the constructor:"
   ]
  },
  {
   "cell_type": "code",
   "execution_count": null,
   "metadata": {
    "execution": {
     "iopub.execute_input": "2021-05-04T11:34:40.138712Z",
     "iopub.status.busy": "2021-05-04T11:34:40.138050Z",
     "iopub.status.idle": "2021-05-04T11:34:40.147203Z",
     "shell.execute_reply": "2021-05-04T11:34:40.147756Z"
    }
   },
   "outputs": [],
   "source": [
    "rw2 = pp.processes.HigherOrderRandomWalk(n2, n, weight='weight')\n",
    "rw2.transition_matrix_pd()"
   ]
  },
  {
   "cell_type": "code",
   "execution_count": null,
   "metadata": {
    "execution": {
     "iopub.execute_input": "2021-05-04T11:34:40.151496Z",
     "iopub.status.busy": "2021-05-04T11:34:40.150899Z",
     "iopub.status.idle": "2021-05-04T11:34:40.153307Z",
     "shell.execute_reply": "2021-05-04T11:34:40.153923Z"
    }
   },
   "outputs": [],
   "source": [
    "rw2.stationary_state()"
   ]
  },
  {
   "cell_type": "code",
   "execution_count": null,
   "metadata": {
    "execution": {
     "iopub.execute_input": "2021-05-04T11:34:40.158006Z",
     "iopub.status.busy": "2021-05-04T11:34:40.157373Z",
     "iopub.status.idle": "2021-05-04T11:34:40.159631Z",
     "shell.execute_reply": "2021-05-04T11:34:40.160208Z"
    }
   },
   "outputs": [],
   "source": [
    "rw2.first_order_stationary_state()"
   ]
  },
  {
   "cell_type": "code",
   "execution_count": null,
   "metadata": {
    "execution": {
     "iopub.execute_input": "2021-05-04T11:34:40.167152Z",
     "iopub.status.busy": "2021-05-04T11:34:40.166592Z",
     "iopub.status.idle": "2021-05-04T11:34:40.168848Z",
     "shell.execute_reply": "2021-05-04T11:34:40.169372Z"
    }
   },
   "outputs": [],
   "source": [
    "data = rw2.run_experiment(steps=10, runs=5)\n",
    "pprint(' -> '.join([v.uid for v in p.nodes]))"
   ]
  },
  {
   "cell_type": "code",
   "execution_count": null,
   "metadata": {
    "execution": {
     "iopub.execute_input": "2021-05-04T11:34:40.178640Z",
     "iopub.status.busy": "2021-05-04T11:34:40.178122Z",
     "iopub.status.idle": "2021-05-04T11:34:40.182837Z",
     "shell.execute_reply": "2021-05-04T11:34:40.183360Z"
    }
   },
   "outputs": [],
   "source": [
    "rw2.plot(data)"
   ]
  },
  {
   "cell_type": "markdown",
   "metadata": {},
   "source": [
    "We now see the trrajectory of a random walk in the first-order network, where the random walker follows the dynamics of the underlying higher-order network. Moreover, if we use the functions `get_path` and `get_paths` of `HigherOrderRandomWalk` the walk trajectory is automatically mapped to the first-order node space:"
   ]
  },
  {
   "cell_type": "code",
   "execution_count": null,
   "metadata": {
    "execution": {
     "iopub.execute_input": "2021-05-04T11:34:40.192625Z",
     "iopub.status.busy": "2021-05-04T11:34:40.187710Z",
     "iopub.status.idle": "2021-05-04T11:34:40.194483Z",
     "shell.execute_reply": "2021-05-04T11:34:40.195002Z"
    }
   },
   "outputs": [],
   "source": [
    "print('First path\\n-----')\n",
    "p = rw2.get_path(data)\n",
    "pprint(' -> '.join([v.uid for v in p.nodes]))\n",
    "print('Path collection\\n-----')\n",
    "pc = rw2.get_paths(data)\n",
    "for p in pc:\n",
    "    pprint(' -> '.join([v.uid for v in p.nodes]))"
   ]
  },
  {
   "cell_type": "markdown",
   "metadata": {},
   "source": [
    "Note that you will have to specify higher-order seed node uids if you want to start the random walk in a specific node (because a higher-order node is needed to determine the transition probabilities):"
   ]
  },
  {
   "cell_type": "code",
   "execution_count": null,
   "metadata": {
    "execution": {
     "iopub.execute_input": "2021-05-04T11:34:40.204993Z",
     "iopub.status.busy": "2021-05-04T11:34:40.204460Z",
     "iopub.status.idle": "2021-05-04T11:34:40.206676Z",
     "shell.execute_reply": "2021-05-04T11:34:40.207379Z"
    }
   },
   "outputs": [],
   "source": [
    "data = rw2.run_experiment(steps=20, runs=['b-c', 'c-d'])\n",
    "print(data)"
   ]
  },
  {
   "cell_type": "markdown",
   "metadata": {},
   "source": [
    "The `HigherOrderRandomWalk` class is derived from the `RandomWalk` class, adding the mapping functionality to the first-order network. If we want to specifically visualise the random walk in the higher-order network, we can do this by explicitly calling the function of the base class (that is agnostic of the fact that the traversed nodes are higher-order nodes):"
   ]
  },
  {
   "cell_type": "code",
   "execution_count": null,
   "metadata": {
    "execution": {
     "iopub.execute_input": "2021-05-04T11:34:40.219053Z",
     "iopub.status.busy": "2021-05-04T11:34:40.218511Z",
     "iopub.status.idle": "2021-05-04T11:34:40.222729Z",
     "shell.execute_reply": "2021-05-04T11:34:40.223285Z"
    }
   },
   "outputs": [],
   "source": [
    "pp.processes.RandomWalk.plot(rw2, data)"
   ]
  },
  {
   "cell_type": "markdown",
   "metadata": {},
   "source": [
    "The same holds if we want to return a path consisting of higher-order nodes:"
   ]
  },
  {
   "cell_type": "code",
   "execution_count": null,
   "metadata": {
    "execution": {
     "iopub.execute_input": "2021-05-04T11:34:40.228068Z",
     "iopub.status.busy": "2021-05-04T11:34:40.227515Z",
     "iopub.status.idle": "2021-05-04T11:34:40.229242Z",
     "shell.execute_reply": "2021-05-04T11:34:40.229820Z"
    }
   },
   "outputs": [],
   "source": [
    "p = pp.processes.RandomWalk.get_path(rw2, data)\n",
    "print(' -> '.join([v.uid for v in p.nodes]))"
   ]
  },
  {
   "cell_type": "markdown",
   "metadata": {},
   "source": [
    "If we use the iterator interface to iterate through the steps of a random walk, you will find that the `current_node` property of the process is still a higher-order node. This is due to the fact that we need this information to determine the next step in the process. Similarly, the visitation frequencies are visitation frequencies of the second-order nodes."
   ]
  },
  {
   "cell_type": "code",
   "execution_count": null,
   "metadata": {
    "execution": {
     "iopub.execute_input": "2021-05-04T11:34:40.234501Z",
     "iopub.status.busy": "2021-05-04T11:34:40.233963Z",
     "iopub.status.idle": "2021-05-04T11:34:40.235789Z",
     "shell.execute_reply": "2021-05-04T11:34:40.236309Z"
    }
   },
   "outputs": [],
   "source": [
    "for time, _ in rw2.simulation_run(steps=5, seed='b-c'):\n",
    "    print('Current node = {0}'.format(rw2.current_node))\n",
    "    print(rw2.visitation_frequencies)"
   ]
  },
  {
   "cell_type": "markdown",
   "metadata": {},
   "source": [
    "If you instead want to access the state of the random walk in the first-order node space, you can use the mapping function `first_order_node` to map a higher-order node to the (last visited) first-order node. Moreover, the first-order visitation frequencies of the higher-order random walk are recorded in the property `first_order_visitation_frequencies`. Similarly, you can assess the current distance to the stationary distribution in the first-order state space using the property `first_order_total_variation_distance`."
   ]
  },
  {
   "cell_type": "code",
   "execution_count": null,
   "metadata": {
    "execution": {
     "iopub.execute_input": "2021-05-04T11:34:40.247191Z",
     "iopub.status.busy": "2021-05-04T11:34:40.246645Z",
     "iopub.status.idle": "2021-05-04T11:34:40.248433Z",
     "shell.execute_reply": "2021-05-04T11:34:40.248986Z"
    }
   },
   "outputs": [],
   "source": [
    "times = []\n",
    "tvds = []\n",
    "for time, _ in rw2.simulation_run(steps=20, seed='b-c'):\n",
    "    print('Current node = {0}'.format(rw2.first_order_node(rw2.current_node)))\n",
    "    print(rw2.first_order_visitation_frequencies)\n",
    "    \n",
    "    times.append(time)\n",
    "    tvds.append(rw2.first_order_total_variation_distance)"
   ]
  },
  {
   "cell_type": "code",
   "execution_count": null,
   "metadata": {
    "execution": {
     "iopub.execute_input": "2021-05-04T11:34:40.261129Z",
     "iopub.status.busy": "2021-05-04T11:34:40.260638Z",
     "iopub.status.idle": "2021-05-04T11:34:40.374092Z",
     "shell.execute_reply": "2021-05-04T11:34:40.374612Z"
    }
   },
   "outputs": [],
   "source": [
    "plt.plot(times, tvds)"
   ]
  },
  {
   "cell_type": "code",
   "execution_count": null,
   "metadata": {},
   "outputs": [],
   "source": []
  }
 ],
 "metadata": {
  "celltoolbar": "Tags",
  "kernelspec": {
   "display_name": "Python 3",
   "language": "python",
   "name": "python3"
  },
  "language_info": {
   "codemirror_mode": {
    "name": "ipython",
    "version": 3
   },
   "file_extension": ".py",
   "mimetype": "text/x-python",
   "name": "python",
   "nbconvert_exporter": "python",
   "pygments_lexer": "ipython3",
   "version": "3.8.5"
  },
  "metadata": {
   "interpreter": {
    "hash": "82db51cffef479cc4d0f53089378e5a2925f9e7adca31d741132ceba61ecca6f"
   }
  }
 },
 "nbformat": 4,
 "nbformat_minor": 2
}
