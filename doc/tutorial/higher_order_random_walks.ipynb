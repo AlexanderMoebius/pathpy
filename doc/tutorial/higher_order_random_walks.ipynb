{
 "cells": [
  {
   "cell_type": "markdown",
   "metadata": {},
   "source": [
    "# Random Walks in Higher-Order Networks"
   ]
  },
  {
   "cell_type": "code",
   "execution_count": null,
   "metadata": {
    "execution": {
     "iopub.execute_input": "2021-04-28T08:33:17.263174Z",
     "iopub.status.busy": "2021-04-28T08:33:17.262663Z",
     "iopub.status.idle": "2021-04-28T08:33:17.722172Z",
     "shell.execute_reply": "2021-04-28T08:33:17.722548Z"
    }
   },
   "outputs": [],
   "source": [
    "import pathpy as pp\n",
    "from pprint import pprint"
   ]
  },
  {
   "cell_type": "markdown",
   "metadata": {},
   "source": [
    "We can use `pathpy` to simulate random walks on higher-order networks. Let us first create a simple Higher-Order Network:"
   ]
  },
  {
   "cell_type": "code",
   "execution_count": null,
   "metadata": {
    "execution": {
     "iopub.execute_input": "2021-04-28T08:33:17.732252Z",
     "iopub.status.busy": "2021-04-28T08:33:17.731424Z",
     "iopub.status.idle": "2021-04-28T08:33:17.733033Z",
     "shell.execute_reply": "2021-04-28T08:33:17.733653Z"
    }
   },
   "outputs": [],
   "source": [
    "n = pp.Network(directed=False)\n",
    "n.add_edge('a', 'b', weight=1, uid='a-b')\n",
    "n.add_edge('b', 'c', weight=1, uid='b-c')\n",
    "n.add_edge('c', 'a', weight=2, uid='c-a')\n",
    "n.add_edge('c', 'd', weight=1, uid='c-d')\n",
    "n.add_edge('d', 'a', weight=1, uid='d-a')\n",
    "\n",
    "n2 = pp.HigherOrderNetwork()\n",
    "v1 = pp.HigherOrderNode(n.edges['a-b'], uid='a-b')\n",
    "v2 = pp.HigherOrderNode(n.edges['b-c'], uid='b-c')\n",
    "v3 = pp.HigherOrderNode(n.edges['c-a'], uid='c-a')\n",
    "v4 = pp.HigherOrderNode(n.edges['c-d'], uid='c-d')\n",
    "v5 = pp.HigherOrderNode(n.edges['d-a'], uid='d-a')\n",
    "\n",
    "n2.add_edge(v1, v2, uid='a-b-c', weight=1)\n",
    "n2.add_edge(v2, v3, uid='b-c-a', weight=1)\n",
    "n2.add_edge(v2, v4, uid='b-c-d', weight=0)\n",
    "n2.add_edge(v3, v1, uid='c-a-b', weight=1)\n",
    "n2.add_edge(v4, v5, uid='c-d-a', weight=1)\n",
    "n2.add_edge(v5, v1, uid='d-a-b', weight=1)"
   ]
  },
  {
   "cell_type": "markdown",
   "metadata": {},
   "source": [
    "To simulate a random in the higher-order network, we can use the same class as for a standard, first-order network:"
   ]
  },
  {
   "cell_type": "code",
   "execution_count": null,
   "metadata": {
    "execution": {
     "iopub.execute_input": "2021-04-28T08:33:17.746176Z",
     "iopub.status.busy": "2021-04-28T08:33:17.745437Z",
     "iopub.status.idle": "2021-04-28T08:33:17.754819Z",
     "shell.execute_reply": "2021-04-28T08:33:17.754137Z"
    }
   },
   "outputs": [],
   "source": [
    "rw2 = pp.processes.RandomWalk(n2, weight='weight')"
   ]
  },
  {
   "cell_type": "markdown",
   "metadata": {},
   "source": [
    "We can inspect the transition matrix as follows:"
   ]
  },
  {
   "cell_type": "code",
   "execution_count": null,
   "metadata": {
    "execution": {
     "iopub.execute_input": "2021-04-28T08:33:17.759664Z",
     "iopub.status.busy": "2021-04-28T08:33:17.758914Z",
     "iopub.status.idle": "2021-04-28T08:33:17.765107Z",
     "shell.execute_reply": "2021-04-28T08:33:17.764427Z"
    }
   },
   "outputs": [],
   "source": [
    "print(rw2.matrix_pd())"
   ]
  },
  {
   "cell_type": "markdown",
   "metadata": {},
   "source": [
    "We can use the following code to simulate a random walk in the higher-order network. The generated `Path` object is automatically mapped to the first-order nodes. We have to specify a second-order node as the start node (or the number of randomly chosen second-order nodes). \n",
    "\n",
    "Based on the higher-order network above, a transition from `b` via `c` to `d` can never occur:"
   ]
  },
  {
   "cell_type": "code",
   "execution_count": null,
   "metadata": {
    "execution": {
     "iopub.execute_input": "2021-04-28T08:33:17.770112Z",
     "iopub.status.busy": "2021-04-28T08:33:17.769380Z",
     "iopub.status.idle": "2021-04-28T08:33:17.773013Z",
     "shell.execute_reply": "2021-04-28T08:33:17.772366Z"
    }
   },
   "outputs": [],
   "source": [
    "p = rw2.generate_walk(steps=20, start_node=n2.nodes['b-c'])\n",
    "pprint([ v.uid for v in p.nodes ])"
   ]
  },
  {
   "cell_type": "markdown",
   "metadata": {},
   "source": [
    "Conversely, the transition from `b` via `c` to `d` will occur in the corresponding first-order random walk:"
   ]
  },
  {
   "cell_type": "code",
   "execution_count": null,
   "metadata": {
    "execution": {
     "iopub.execute_input": "2021-04-28T08:33:17.780210Z",
     "iopub.status.busy": "2021-04-28T08:33:17.779466Z",
     "iopub.status.idle": "2021-04-28T08:33:17.782680Z",
     "shell.execute_reply": "2021-04-28T08:33:17.781957Z"
    }
   },
   "outputs": [],
   "source": [
    "rw = pp.processes.RandomWalk(n, weight='weight')\n",
    "p = rw.generate_walk(steps=10, start_node=n.nodes['b'])\n",
    "pprint([ v.uid for v in p.nodes ])"
   ]
  }
 ],
 "metadata": {
  "kernelspec": {
   "display_name": "Python 3",
   "language": "python",
   "name": "python3"
  },
  "language_info": {
   "codemirror_mode": {
    "name": "ipython",
    "version": 3
   },
   "file_extension": ".py",
   "mimetype": "text/x-python",
   "name": "python",
   "nbconvert_exporter": "python",
   "pygments_lexer": "ipython3",
   "version": "3.9.3"
  }
 },
 "nbformat": 4,
 "nbformat_minor": 2
}
