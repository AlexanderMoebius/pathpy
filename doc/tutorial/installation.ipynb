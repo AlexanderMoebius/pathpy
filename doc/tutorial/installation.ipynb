{
 "cells": [
  {
   "cell_type": "markdown",
   "metadata": {
    "slideshow": {
     "slide_type": "slide"
    }
   },
   "source": [
    "# Setting up `pathpy`\n",
    "\n",
    "In a first unit, we explain how you can use `pathpy` to set up a `python`-based network science environment."
   ]
  },
  {
   "cell_type": "markdown",
   "metadata": {
    "slideshow": {
     "slide_type": "subslide"
    }
   },
   "source": [
    "## `python` Environment\n",
    "\n",
    "To run the tutorials, you need a `python 3.7` environment running on an operating system of your choice. For Windows, MacOS, and Linux users we recommend to install the latest [Anaconda distribution](https://www.anaconda.com/download/), an OpenSource `python` distribution pre-configured for data science and machine learning tasks. \n",
    "\n",
    "Just download and run the installer and you should have almost everything you need for this course. Beware of alternative methods to install a barebone python distribution, as a careless installation may conflict with the python version already present on your system. We have had students that managed to wreck their Mac OS X or Linux operating system by accidentally removing the standard python runtime!\n",
    "\n",
    "If you prefer starting from a barebone `python 3.x` installation, you will also need to manually install additional packages via the python package manager `pip`. To see a list of python packages that are already installed, you can open a terminal and run \n",
    "\n",
    "```\n",
    "> pip list\n",
    "```\n",
    "\n",
    "If you installed Anaconda on a Windows system you should use the `Anaconda prompt` terminal that has been installed by Anaconda. This will make sure that all environment variables are correctly set. Moreover, to install packages, it is best to open this command prompt as an administrator (or use `su` on a Unix-based system). To complete the tutorial, we will need the following packages: \n",
    "\n",
    "`pathpy` - provides implementations of common scientific and statistical computing techniques for python.  \n",
    "`scipy` - provides implementations of common scientific and statistical computing techniques for python.  \n",
    "`numpy` - provides support for multi-dimensional arrays an matrices as well as high-level mathematical functions. This project originated as a smaller core part of `scipy`.  \n",
    "`matplotlib` - provides advanced plotting functions based on the data types introduced in `numpy`. Visualisations can be directly integrated into `jupyter` notebooks.  \n",
    "`pandas` - popular package for the management, analysis, and manipulation of multi-dimensional **pan**el **da**ta (thus the name). Provides convenient interfaces for the import and export of data from files or databases.  \n",
    "\n",
    "To install the packages above, except for `pathpy` just run the following command in the terminal for each of the packages above:\n",
    "\n",
    "```\n",
    "> pip install PACKAGENAME\n",
    "```\n",
    "\n",
    "If you see no error messages, you should be all set to continue with the next steps. For the same reason presented above pip may be associated to the python version of the system. In order to have a full control on the version in which the packages should be installed you can use\n",
    "```\n",
    "> python3.x -m pip install PACKAGENAME\n",
    "``` "
   ]
  },
  {
   "cell_type": "markdown",
   "metadata": {},
   "source": [
    "## Installing `pathpy3`\n",
    "\n",
    "Since `pathpy` is not included in the default Anaconda installation, we first need to install it. To benefit from the latest features, we use the development version of `pathpy3` from gitHub. The best way to install it is to (1) clone the git repository to a local directory, and (2) install an editable version of the `pathpy` module from this cloned repository. This approach will allow you to execute `git pull` from the commandline to always update to the latest development version. \n",
    "\n",
    "To install pathpy 3 open a command line as administrator and run: \n",
    "\n",
    "```\n",
    "> git clone https://github.com/pathpy/pathpy pathpy3\n",
    "> cd pathpy3\n",
    "> pip install -e .\n",
    "``` \n",
    "\n",
    "This will create a new directory `pathpy3` on your machine. Changing to this directory and running `pip install -e .` will *install `pathpy` as an editable python module*. Rather than copying the code to a separate directory in your python module path, this creates a symbolic link to the current directory. This has the advantage that you can update your local installation of `pathpy` simply by entering the directory and running `git pull`. After this the new version will be immediately available in all `python` processes launched after the update. This allows us to update your local `pathpy` installations by means of a simple `git push`, without the need to uninstall and install again. Note that after updating `pathpy` you must always restart the python process (or jupyter kernel) before changes become effective!\n",
    "\n",
    "`pathpy` requires `python 3.x`. If you have both ` python 2.x` and `python 3.x` installed, you can explicitly install a package for `python 3` by using the command `pip3` instead of `pip`. Note that `python 2` is deprecated since April 2020, so you should always use `python 3` anyway.\n",
    "\n",
    "If by any chance you had previously installed an offifical release version of pathpy via pip (e.g. the previous version 2.0), you will need to manually uninstall it. You can check this via the command `pip list`. Uninstalling prior versions is necessary because all `pathpy` versions use the same namespace `pathpy` and for reasons of backwards compatibility we still provide older major versions in case someone needs them. If for some reason you want to quickly switch between different major versions, we recommend to use [virtual environments in Anaconda](https://docs.conda.io/projects/conda/en/latest/user-guide/tasks/manage-environments.html)."
   ]
  }
 ],
 "metadata": {
  "celltoolbar": "Slideshow",
  "kernelspec": {
   "display_name": "Python 3",
   "language": "python",
   "name": "python3"
  },
  "language_info": {
   "codemirror_mode": {
    "name": "ipython",
    "version": 3
   },
   "file_extension": ".py",
   "mimetype": "text/x-python",
   "name": "python",
   "nbconvert_exporter": "python",
   "pygments_lexer": "ipython3",
   "version": "3.9.3"
  }
 },
 "nbformat": 4,
 "nbformat_minor": 4
}
