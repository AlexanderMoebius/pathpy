{
 "cells": [
  {
   "cell_type": "markdown",
   "metadata": {},
   "source": [
    "# Connected components\n",
    "\n",
    "A key characteristic of a network is whether it is connected, i.e. whether all nodes are connected via a path. For disconnected networks, where this is not the case, we can compute so-called connected components, i.e. the maximally connected subgraphs. In this second unit we implement an algorithm to compute connected components, and apply it to empirical data sets."
   ]
  },
  {
   "cell_type": "code",
   "execution_count": null,
   "metadata": {
    "execution": {
     "iopub.execute_input": "2021-04-29T11:40:18.593915Z",
     "iopub.status.busy": "2021-04-29T11:40:18.593321Z",
     "iopub.status.idle": "2021-04-29T11:40:19.036700Z",
     "shell.execute_reply": "2021-04-29T11:40:19.037437Z"
    }
   },
   "outputs": [],
   "source": [
    "import numpy as np\n",
    "import pathpy as pp\n",
    "import scipy as sp\n",
    "\n",
    "import sqlite3"
   ]
  },
  {
   "cell_type": "markdown",
   "metadata": {},
   "source": [
    "Again, we start our exploration with a simple undirected and disconnected network that you already know from the lecture. This network has two connected components."
   ]
  },
  {
   "cell_type": "code",
   "execution_count": null,
   "metadata": {
    "execution": {
     "iopub.execute_input": "2021-04-29T11:40:19.043574Z",
     "iopub.status.busy": "2021-04-29T11:40:19.042781Z",
     "iopub.status.idle": "2021-04-29T11:40:19.048414Z",
     "shell.execute_reply": "2021-04-29T11:40:19.049104Z"
    }
   },
   "outputs": [],
   "source": [
    "n_undirected = pp.Network(directed=False)\n",
    "n_undirected.add_edge('a', 'b')\n",
    "n_undirected.add_edge('b', 'c')\n",
    "n_undirected.add_edge('a', 'c')\n",
    "n_undirected.add_edge('d', 'f')\n",
    "n_undirected.add_edge('d', 'g')\n",
    "n_undirected.add_edge('d', 'e')\n",
    "n_undirected.add_edge('e', 'f')\n",
    "n_undirected.add_edge('f', 'g')\n",
    "n_undirected.plot()"
   ]
  },
  {
   "cell_type": "markdown",
   "metadata": {},
   "source": [
    "We have seen that - for a suitable ordering of rows and columns - the connected components can be recognised as blocks in the powers of the adjacency matrix. In pathpy adjacency matrices are sparse by default, but we can output a dense adjacency matrix as follows:"
   ]
  },
  {
   "cell_type": "code",
   "execution_count": null,
   "metadata": {
    "execution": {
     "iopub.execute_input": "2021-04-29T11:40:19.054126Z",
     "iopub.status.busy": "2021-04-29T11:40:19.053382Z",
     "iopub.status.idle": "2021-04-29T11:40:19.055871Z",
     "shell.execute_reply": "2021-04-29T11:40:19.056484Z"
    }
   },
   "outputs": [],
   "source": [
    "m = n_undirected.adjacency_matrix().todense()\n",
    "print(m)"
   ]
  },
  {
   "cell_type": "markdown",
   "metadata": {},
   "source": [
    "To compute the square of the matrix, we can use python's product operator, which will perform a matrix multiplication:"
   ]
  },
  {
   "cell_type": "code",
   "execution_count": null,
   "metadata": {
    "execution": {
     "iopub.execute_input": "2021-04-29T11:40:19.061518Z",
     "iopub.status.busy": "2021-04-29T11:40:19.060771Z",
     "iopub.status.idle": "2021-04-29T11:40:19.063495Z",
     "shell.execute_reply": "2021-04-29T11:40:19.064113Z"
    }
   },
   "outputs": [],
   "source": [
    "m*m"
   ]
  },
  {
   "cell_type": "markdown",
   "metadata": {},
   "source": [
    "Higher powers of the matrix can be conveniently computed using the np.linalg.matrix_power (or via the ** operator, which maps to the same function):"
   ]
  },
  {
   "cell_type": "code",
   "execution_count": null,
   "metadata": {
    "execution": {
     "iopub.execute_input": "2021-04-29T11:40:19.068992Z",
     "iopub.status.busy": "2021-04-29T11:40:19.068215Z",
     "iopub.status.idle": "2021-04-29T11:40:19.070798Z",
     "shell.execute_reply": "2021-04-29T11:40:19.071438Z"
    }
   },
   "outputs": [],
   "source": [
    "np.linalg.matrix_power(m, 10)"
   ]
  },
  {
   "cell_type": "markdown",
   "metadata": {},
   "source": [
    "## Strongly connected components in directed networks\n",
    "\n",
    "In directed networks, we distinguish between strongly and weakly connected networks. The following network is weakly but not strongly connected, because frmom the nodes `a` and `b` we can only reach `c` and `d` in one direction, but not in the opposite direction."
   ]
  },
  {
   "cell_type": "code",
   "execution_count": null,
   "metadata": {
    "execution": {
     "iopub.execute_input": "2021-04-29T11:40:19.076569Z",
     "iopub.status.busy": "2021-04-29T11:40:19.075827Z",
     "iopub.status.idle": "2021-04-29T11:40:19.079860Z",
     "shell.execute_reply": "2021-04-29T11:40:19.080582Z"
    }
   },
   "outputs": [],
   "source": [
    "n_directed = pp.Network(directed=True)\n",
    "n_directed.add_edge('a', 'b')\n",
    "n_directed.add_edge('b', 'a')\n",
    "n_directed.add_edge('a', 'c')\n",
    "n_directed.add_edge('b', 'c')\n",
    "n_directed.add_edge('c', 'd')\n",
    "n_directed.add_edge('d', 'c')\n",
    "n_directed.plot()"
   ]
  },
  {
   "cell_type": "markdown",
   "metadata": {},
   "source": [
    "The fact that this network is weakly but not strongly connected is captured by inifinite values in the lower triangle of the distance matrix, while no infinite values exist in the upper triangle:"
   ]
  },
  {
   "cell_type": "code",
   "execution_count": null,
   "metadata": {
    "execution": {
     "iopub.execute_input": "2021-04-29T11:40:19.085311Z",
     "iopub.status.busy": "2021-04-29T11:40:19.084585Z",
     "iopub.status.idle": "2021-04-29T11:40:19.087304Z",
     "shell.execute_reply": "2021-04-29T11:40:19.087951Z"
    }
   },
   "outputs": [],
   "source": [
    "pp.algorithms.shortest_paths.distance_matrix(n_directed)"
   ]
  },
  {
   "cell_type": "markdown",
   "metadata": {},
   "source": [
    "We can use Tarjan's algorithm to identify the strongly connected components:"
   ]
  },
  {
   "cell_type": "markdown",
   "metadata": {},
   "source": [
    "components, sizes = tarjans_algorithm(n_directed)\n",
    "print(components)\n",
    "print(sizes)"
   ]
  },
  {
   "cell_type": "markdown",
   "metadata": {},
   "source": [
    "## Computing connected components in `pathpy`\n",
    "\n",
    "The `find_connected_components` function in `pathpy` returns a dictionary of connected components:"
   ]
  },
  {
   "cell_type": "code",
   "execution_count": null,
   "metadata": {
    "execution": {
     "iopub.execute_input": "2021-04-29T11:40:19.092374Z",
     "iopub.status.busy": "2021-04-29T11:40:19.091641Z",
     "iopub.status.idle": "2021-04-29T11:40:19.094851Z",
     "shell.execute_reply": "2021-04-29T11:40:19.094189Z"
    }
   },
   "outputs": [],
   "source": [
    "pp.algorithms.components.find_connected_components(n_undirected)"
   ]
  },
  {
   "cell_type": "code",
   "execution_count": null,
   "metadata": {
    "execution": {
     "iopub.execute_input": "2021-04-29T11:40:19.100394Z",
     "iopub.status.busy": "2021-04-29T11:40:19.099631Z",
     "iopub.status.idle": "2021-04-29T11:40:19.102968Z",
     "shell.execute_reply": "2021-04-29T11:40:19.102215Z"
    }
   },
   "outputs": [],
   "source": [
    "pp.algorithms.components.find_connected_components(n_directed)"
   ]
  },
  {
   "cell_type": "markdown",
   "metadata": {},
   "source": [
    "We can use the function `largest_connected_component` to extract the largest connected component and return it as a new network object:"
   ]
  },
  {
   "cell_type": "code",
   "execution_count": null,
   "metadata": {
    "execution": {
     "iopub.execute_input": "2021-04-29T11:40:19.110353Z",
     "iopub.status.busy": "2021-04-29T11:40:19.109491Z",
     "iopub.status.idle": "2021-04-29T11:40:19.114760Z",
     "shell.execute_reply": "2021-04-29T11:40:19.115479Z"
    }
   },
   "outputs": [],
   "source": [
    "lcc = pp.algorithms.components.largest_connected_component(n_undirected)\n",
    "lcc.plot()"
   ]
  },
  {
   "cell_type": "markdown",
   "metadata": {},
   "source": [
    "To compute the size of the largest connected component in a network we can use a special function:"
   ]
  },
  {
   "cell_type": "code",
   "execution_count": null,
   "metadata": {
    "execution": {
     "iopub.execute_input": "2021-04-29T11:40:19.120985Z",
     "iopub.status.busy": "2021-04-29T11:40:19.120205Z",
     "iopub.status.idle": "2021-04-29T11:40:19.122792Z",
     "shell.execute_reply": "2021-04-29T11:40:19.123406Z"
    }
   },
   "outputs": [],
   "source": [
    "pp.algorithms.components.largest_component_size(n_undirected)"
   ]
  },
  {
   "cell_type": "code",
   "execution_count": null,
   "metadata": {
    "execution": {
     "iopub.execute_input": "2021-04-29T11:40:19.129371Z",
     "iopub.status.busy": "2021-04-29T11:40:19.128635Z",
     "iopub.status.idle": "2021-04-29T11:40:19.133800Z",
     "shell.execute_reply": "2021-04-29T11:40:19.134511Z"
    }
   },
   "outputs": [],
   "source": [
    "lcc = pp.algorithms.components.largest_connected_component(n_directed)\n",
    "lcc.plot()"
   ]
  },
  {
   "cell_type": "markdown",
   "metadata": {},
   "source": [
    "## Connected component size in empirical networks\n",
    "\n",
    "We finally apply connected component analysis to empirical networks. We use the same data sets that we used in the previous unit, and study whether (i) they are connected, (ii) how large the largest connected component is, and (iii) what are the shortest path lengths and the diameter in the largest connected component:"
   ]
  }
 ],
 "metadata": {
  "kernelspec": {
   "display_name": "Python 3",
   "language": "python",
   "name": "python3"
  },
  "language_info": {
   "codemirror_mode": {
    "name": "ipython",
    "version": 3
   },
   "file_extension": ".py",
   "mimetype": "text/x-python",
   "name": "python",
   "nbconvert_exporter": "python",
   "pygments_lexer": "ipython3",
   "version": "3.9.3"
  }
 },
 "nbformat": 4,
 "nbformat_minor": 4
}
