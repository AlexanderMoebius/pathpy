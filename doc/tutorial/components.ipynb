{
 "cells": [
  {
   "cell_type": "markdown",
   "metadata": {},
   "source": [
    "# Connected components\n",
    "\n",
    "A key characteristic of a network is whether it is connected, i.e. whether all nodes are connected via a path. For disconnected networks, where this is not the case, we can compute so-called connected components, i.e. the maximally connected subgraphs. In this second unit we implement an algorithm to compute connected components, and apply it to empirical data sets."
   ]
  },
  {
   "cell_type": "code",
   "execution_count": null,
   "metadata": {
    "execution": {
     "iopub.execute_input": "2021-05-11T10:11:39.570447Z",
     "iopub.status.busy": "2021-05-11T10:11:39.569661Z",
     "iopub.status.idle": "2021-05-11T10:11:40.024566Z",
     "shell.execute_reply": "2021-05-11T10:11:40.024949Z"
    }
   },
   "outputs": [],
   "source": [
    "import numpy as np\n",
    "import pathpy as pp\n",
    "import scipy as sp\n",
    "\n",
    "import sqlite3"
   ]
  },
  {
   "cell_type": "markdown",
   "metadata": {},
   "source": [
    "Again, we start our exploration with a simple undirected and disconnected network that you already know from the lecture. This network has two connected components."
   ]
  },
  {
   "cell_type": "code",
   "execution_count": null,
   "metadata": {
    "execution": {
     "iopub.execute_input": "2021-05-11T10:11:40.031083Z",
     "iopub.status.busy": "2021-05-11T10:11:40.030632Z",
     "iopub.status.idle": "2021-05-11T10:11:40.035870Z",
     "shell.execute_reply": "2021-05-11T10:11:40.035408Z"
    }
   },
   "outputs": [],
   "source": [
    "n_undirected = pp.Network(directed=False)\n",
    "n_undirected.add_edge('a', 'b')\n",
    "n_undirected.add_edge('b', 'c')\n",
    "n_undirected.add_edge('a', 'c')\n",
    "n_undirected.add_edge('d', 'f')\n",
    "n_undirected.add_edge('d', 'g')\n",
    "n_undirected.add_edge('d', 'e')\n",
    "n_undirected.add_edge('e', 'f')\n",
    "n_undirected.add_edge('f', 'g')\n",
    "n_undirected.plot()"
   ]
  },
  {
   "cell_type": "markdown",
   "metadata": {},
   "source": [
    "We have seen that - for a suitable ordering of rows and columns - the connected components can be recognised as blocks in the powers of the adjacency matrix. In pathpy adjacency matrices are sparse by default, but we can output a dense adjacency matrix as follows:"
   ]
  },
  {
   "cell_type": "code",
   "execution_count": null,
   "metadata": {
    "execution": {
     "iopub.execute_input": "2021-05-11T10:11:40.040183Z",
     "iopub.status.busy": "2021-05-11T10:11:40.039693Z",
     "iopub.status.idle": "2021-05-11T10:11:40.041825Z",
     "shell.execute_reply": "2021-05-11T10:11:40.041379Z"
    }
   },
   "outputs": [],
   "source": [
    "m = n_undirected.adjacency_matrix().todense()\n",
    "print(m)"
   ]
  },
  {
   "cell_type": "markdown",
   "metadata": {},
   "source": [
    "To compute the square of the matrix, we can use python's product operator, which will perform a matrix multiplication:"
   ]
  },
  {
   "cell_type": "code",
   "execution_count": null,
   "metadata": {
    "execution": {
     "iopub.execute_input": "2021-05-11T10:11:40.044550Z",
     "iopub.status.busy": "2021-05-11T10:11:40.044109Z",
     "iopub.status.idle": "2021-05-11T10:11:40.051557Z",
     "shell.execute_reply": "2021-05-11T10:11:40.051110Z"
    }
   },
   "outputs": [],
   "source": [
    "m*m"
   ]
  },
  {
   "cell_type": "markdown",
   "metadata": {},
   "source": [
    "Higher powers of the matrix can be conveniently computed using the np.linalg.matrix_power (or via the ** operator, which maps to the same function):"
   ]
  },
  {
   "cell_type": "code",
   "execution_count": null,
   "metadata": {
    "execution": {
     "iopub.execute_input": "2021-05-11T10:11:40.055352Z",
     "iopub.status.busy": "2021-05-11T10:11:40.054914Z",
     "iopub.status.idle": "2021-05-11T10:11:40.057414Z",
     "shell.execute_reply": "2021-05-11T10:11:40.056970Z"
    }
   },
   "outputs": [],
   "source": [
    "np.linalg.matrix_power(m, 10)"
   ]
  },
  {
   "cell_type": "markdown",
   "metadata": {},
   "source": [
    "## Strongly connected components in directed networks\n",
    "\n",
    "In directed networks, we distinguish between strongly and weakly connected networks. The following network is weakly but not strongly connected, because frmom the nodes `a` and `b` we can only reach `c` and `d` in one direction, but not in the opposite direction."
   ]
  },
  {
   "cell_type": "code",
   "execution_count": null,
   "metadata": {
    "execution": {
     "iopub.execute_input": "2021-05-11T10:11:40.062642Z",
     "iopub.status.busy": "2021-05-11T10:11:40.062193Z",
     "iopub.status.idle": "2021-05-11T10:11:40.065205Z",
     "shell.execute_reply": "2021-05-11T10:11:40.065852Z"
    }
   },
   "outputs": [],
   "source": [
    "n_directed = pp.Network(directed=True)\n",
    "n_directed.add_edge('a', 'b')\n",
    "n_directed.add_edge('b', 'a')\n",
    "n_directed.add_edge('a', 'c')\n",
    "n_directed.add_edge('b', 'c')\n",
    "n_directed.add_edge('c', 'd')\n",
    "n_directed.add_edge('d', 'c')\n",
    "n_directed.plot()"
   ]
  },
  {
   "cell_type": "markdown",
   "metadata": {},
   "source": [
    "The fact that this network is weakly but not strongly connected is captured by inifinite values in the lower triangle of the distance matrix, while no infinite values exist in the upper triangle:"
   ]
  },
  {
   "cell_type": "code",
   "execution_count": null,
   "metadata": {
    "execution": {
     "iopub.execute_input": "2021-05-11T10:11:40.070911Z",
     "iopub.status.busy": "2021-05-11T10:11:40.070098Z",
     "iopub.status.idle": "2021-05-11T10:11:40.072752Z",
     "shell.execute_reply": "2021-05-11T10:11:40.073475Z"
    }
   },
   "outputs": [],
   "source": [
    "pp.algorithms.shortest_paths.distance_matrix(n_directed)"
   ]
  },
  {
   "cell_type": "markdown",
   "metadata": {},
   "source": [
    "We can use Tarjan's algorithm to identify the strongly connected components:"
   ]
  },
  {
   "cell_type": "markdown",
   "metadata": {},
   "source": [
    "components, sizes = tarjans_algorithm(n_directed)\n",
    "print(components)\n",
    "print(sizes)"
   ]
  },
  {
   "cell_type": "markdown",
   "metadata": {},
   "source": [
    "## Computing connected components in `pathpy`\n",
    "\n",
    "The `find_connected_components` function in `pathpy` returns a dictionary of connected components:"
   ]
  },
  {
   "cell_type": "code",
   "execution_count": null,
   "metadata": {
    "execution": {
     "iopub.execute_input": "2021-05-11T10:11:40.077933Z",
     "iopub.status.busy": "2021-05-11T10:11:40.077173Z",
     "iopub.status.idle": "2021-05-11T10:11:40.079745Z",
     "shell.execute_reply": "2021-05-11T10:11:40.080363Z"
    }
   },
   "outputs": [],
   "source": [
    "pp.algorithms.components.find_connected_components(n_undirected)"
   ]
  },
  {
   "cell_type": "code",
   "execution_count": null,
   "metadata": {
    "execution": {
     "iopub.execute_input": "2021-05-11T10:11:40.084529Z",
     "iopub.status.busy": "2021-05-11T10:11:40.083777Z",
     "iopub.status.idle": "2021-05-11T10:11:40.086430Z",
     "shell.execute_reply": "2021-05-11T10:11:40.087145Z"
    }
   },
   "outputs": [],
   "source": [
    "pp.algorithms.components.find_connected_components(n_directed)"
   ]
  },
  {
   "cell_type": "markdown",
   "metadata": {},
   "source": [
    "We can use the function `largest_connected_component` to extract the largest connected component and return it as a new network object:"
   ]
  },
  {
   "cell_type": "code",
   "execution_count": null,
   "metadata": {
    "execution": {
     "iopub.execute_input": "2021-05-11T10:11:40.092687Z",
     "iopub.status.busy": "2021-05-11T10:11:40.091946Z",
     "iopub.status.idle": "2021-05-11T10:11:40.095643Z",
     "shell.execute_reply": "2021-05-11T10:11:40.096335Z"
    }
   },
   "outputs": [],
   "source": [
    "lcc = pp.algorithms.components.largest_connected_component(n_undirected)\n",
    "lcc.plot()"
   ]
  },
  {
   "cell_type": "markdown",
   "metadata": {},
   "source": [
    "To compute the size of the largest connected component in a network we can use a special function:"
   ]
  },
  {
   "cell_type": "code",
   "execution_count": null,
   "metadata": {
    "execution": {
     "iopub.execute_input": "2021-05-11T10:11:40.100526Z",
     "iopub.status.busy": "2021-05-11T10:11:40.099783Z",
     "iopub.status.idle": "2021-05-11T10:11:40.102333Z",
     "shell.execute_reply": "2021-05-11T10:11:40.102970Z"
    }
   },
   "outputs": [],
   "source": [
    "pp.algorithms.components.largest_component_size(n_undirected)"
   ]
  },
  {
   "cell_type": "code",
   "execution_count": null,
   "metadata": {
    "execution": {
     "iopub.execute_input": "2021-05-11T10:11:40.107649Z",
     "iopub.status.busy": "2021-05-11T10:11:40.106903Z",
     "iopub.status.idle": "2021-05-11T10:11:40.110622Z",
     "shell.execute_reply": "2021-05-11T10:11:40.111306Z"
    }
   },
   "outputs": [],
   "source": [
    "lcc = pp.algorithms.components.largest_connected_component(n_directed)\n",
    "lcc.plot()"
   ]
  },
  {
   "cell_type": "markdown",
   "metadata": {},
   "source": [
    "## Connected component size in empirical networks\n",
    "\n",
    "We finally apply connected component analysis to empirical networks. We use the same data sets that we used in the previous unit, and study whether (i) they are connected, (ii) how large the largest connected component is, and (iii) what are the shortest path lengths and the diameter in the largest connected component:"
   ]
  }
 ],
 "metadata": {
  "kernelspec": {
   "display_name": "Python 3",
   "language": "python",
   "name": "python3"
  },
  "language_info": {
   "codemirror_mode": {
    "name": "ipython",
    "version": 3
   },
   "file_extension": ".py",
   "mimetype": "text/x-python",
   "name": "python",
   "nbconvert_exporter": "python",
   "pygments_lexer": "ipython3",
   "version": "3.9.4"
  }
 },
 "nbformat": 4,
 "nbformat_minor": 4
}
