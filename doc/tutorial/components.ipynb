{
 "cells": [
  {
   "cell_type": "markdown",
   "metadata": {},
   "source": [
    "# Connected components\n",
    "\n",
    "[Run notebook in Google Colab](https://colab.research.google.com/github/pathpy/pathpy/blob/master/doc/tutorial/components.ipynb)  \n",
    "[Download notebook](https://github.com/pathpy/pathpy/raw/master/doc/tutorial/components.ipynb)\n",
    "\n",
    "A key characteristic of a network is whether it is connected, i.e. whether all nodes are connected via a path. For disconnected networks, where this is not the case, we can compute so-called connected components, i.e. the maximally connected subgraphs. In this second unit we implement an algorithm to compute connected components, and apply it to empirical data sets."
   ]
  },
  {
   "cell_type": "code",
   "execution_count": null,
   "metadata": {
    "execution": {
     "iopub.execute_input": "2021-08-28T21:29:55.342801Z",
     "iopub.status.busy": "2021-08-28T21:29:55.340750Z",
     "iopub.status.idle": "2021-08-28T21:30:03.245533Z",
     "shell.execute_reply": "2021-08-28T21:30:03.245985Z"
    }
   },
   "outputs": [],
   "source": [
    "pip install git+git://github.com/pathpy/pathpy.git"
   ]
  },
  {
   "cell_type": "code",
   "execution_count": null,
   "metadata": {
    "execution": {
     "iopub.execute_input": "2021-08-28T21:30:03.249460Z",
     "iopub.status.busy": "2021-08-28T21:30:03.248773Z",
     "iopub.status.idle": "2021-08-28T21:30:03.844065Z",
     "shell.execute_reply": "2021-08-28T21:30:03.844500Z"
    }
   },
   "outputs": [],
   "source": [
    "import numpy as np\n",
    "import pathpy as pp\n",
    "import scipy as sp"
   ]
  },
  {
   "cell_type": "markdown",
   "metadata": {},
   "source": [
    "Again, we start our tutorial with two simple networks. \n",
    "The first one is a simple undirected and disconnected network that has two connected components.  "
   ]
  },
  {
   "cell_type": "code",
   "execution_count": null,
   "metadata": {
    "execution": {
     "iopub.execute_input": "2021-08-28T21:30:03.850872Z",
     "iopub.status.busy": "2021-08-28T21:30:03.850281Z",
     "iopub.status.idle": "2021-08-28T21:30:03.855900Z",
     "shell.execute_reply": "2021-08-28T21:30:03.856690Z"
    }
   },
   "outputs": [],
   "source": [
    "n_undirected = pp.Network(directed=False)\n",
    "n_undirected.add_edge('a', 'b')\n",
    "n_undirected.add_edge('b', 'c')\n",
    "n_undirected.add_edge('a', 'c')\n",
    "n_undirected.add_edge('d', 'f')\n",
    "n_undirected.add_edge('d', 'g')\n",
    "n_undirected.add_edge('d', 'e')\n",
    "n_undirected.add_edge('e', 'f')\n",
    "n_undirected.add_edge('f', 'g')\n",
    "n_undirected.plot()"
   ]
  },
  {
   "cell_type": "markdown",
   "metadata": {},
   "source": [
    "The second network is directed and weakly connected, because from the nodes `a` and `b` we can only reach `c` and `d` in one direction, but not in the opposite direction."
   ]
  },
  {
   "cell_type": "code",
   "execution_count": null,
   "metadata": {
    "execution": {
     "iopub.execute_input": "2021-08-28T21:30:03.861175Z",
     "iopub.status.busy": "2021-08-28T21:30:03.860733Z",
     "iopub.status.idle": "2021-08-28T21:30:03.864565Z",
     "shell.execute_reply": "2021-08-28T21:30:03.865075Z"
    }
   },
   "outputs": [],
   "source": [
    "n_directed = pp.Network(directed=True)\n",
    "n_directed.add_edge('a', 'b')\n",
    "n_directed.add_edge('b', 'a')\n",
    "n_directed.add_edge('a', 'c')\n",
    "n_directed.add_edge('b', 'c')\n",
    "n_directed.add_edge('c', 'd')\n",
    "n_directed.add_edge('d', 'c')\n",
    "n_directed.plot()"
   ]
  },
  {
   "cell_type": "markdown",
   "metadata": {},
   "source": [
    "## Computing connected components in `pathpy`\n",
    "\n",
    "The `find_connected_components` function in `pathpy` returns a dictionary of connected components:"
   ]
  },
  {
   "cell_type": "code",
   "execution_count": null,
   "metadata": {
    "execution": {
     "iopub.execute_input": "2021-08-28T21:30:03.868497Z",
     "iopub.status.busy": "2021-08-28T21:30:03.867969Z",
     "iopub.status.idle": "2021-08-28T21:30:03.870039Z",
     "shell.execute_reply": "2021-08-28T21:30:03.870560Z"
    }
   },
   "outputs": [],
   "source": [
    "pp.algorithms.components.find_connected_components(n_undirected)"
   ]
  },
  {
   "cell_type": "code",
   "execution_count": null,
   "metadata": {
    "execution": {
     "iopub.execute_input": "2021-08-28T21:30:03.874677Z",
     "iopub.status.busy": "2021-08-28T21:30:03.874097Z",
     "iopub.status.idle": "2021-08-28T21:30:03.876237Z",
     "shell.execute_reply": "2021-08-28T21:30:03.876715Z"
    }
   },
   "outputs": [],
   "source": [
    "pp.algorithms.components.find_connected_components(n_directed)"
   ]
  },
  {
   "cell_type": "markdown",
   "metadata": {},
   "source": [
    "We can use the function `largest_connected_component` to extract the largest connected component and return it as a new network object:"
   ]
  },
  {
   "cell_type": "code",
   "execution_count": null,
   "metadata": {
    "execution": {
     "iopub.execute_input": "2021-08-28T21:30:03.882212Z",
     "iopub.status.busy": "2021-08-28T21:30:03.881700Z",
     "iopub.status.idle": "2021-08-28T21:30:03.885545Z",
     "shell.execute_reply": "2021-08-28T21:30:03.886032Z"
    }
   },
   "outputs": [],
   "source": [
    "lcc = pp.algorithms.components.largest_connected_component(n_undirected)\n",
    "lcc.plot()"
   ]
  },
  {
   "cell_type": "markdown",
   "metadata": {},
   "source": [
    "To compute the size of the largest connected component in a network we can use a special function:"
   ]
  },
  {
   "cell_type": "code",
   "execution_count": null,
   "metadata": {
    "execution": {
     "iopub.execute_input": "2021-08-28T21:30:03.889244Z",
     "iopub.status.busy": "2021-08-28T21:30:03.888774Z",
     "iopub.status.idle": "2021-08-28T21:30:03.891109Z",
     "shell.execute_reply": "2021-08-28T21:30:03.891607Z"
    }
   },
   "outputs": [],
   "source": [
    "pp.algorithms.components.largest_component_size(n_undirected)"
   ]
  },
  {
   "cell_type": "code",
   "execution_count": null,
   "metadata": {
    "execution": {
     "iopub.execute_input": "2021-08-28T21:30:03.895540Z",
     "iopub.status.busy": "2021-08-28T21:30:03.894888Z",
     "iopub.status.idle": "2021-08-28T21:30:03.898900Z",
     "shell.execute_reply": "2021-08-28T21:30:03.899381Z"
    }
   },
   "outputs": [],
   "source": [
    "lcc = pp.algorithms.components.largest_connected_component(n_directed)\n",
    "lcc.plot()"
   ]
  },
  {
   "cell_type": "code",
   "execution_count": null,
   "metadata": {},
   "outputs": [],
   "source": []
  }
 ],
 "metadata": {
  "kernelspec": {
   "display_name": "Python 3",
   "language": "python",
   "name": "python3"
  },
  "language_info": {
   "codemirror_mode": {
    "name": "ipython",
    "version": 3
   },
   "file_extension": ".py",
   "mimetype": "text/x-python",
   "name": "python",
   "nbconvert_exporter": "python",
   "pygments_lexer": "ipython3",
   "version": "3.8.5"
  },
  "metadata": {
   "interpreter": {
    "hash": "82db51cffef479cc4d0f53089378e5a2925f9e7adca31d741132ceba61ecca6f"
   }
  }
 },
 "nbformat": 4,
 "nbformat_minor": 4
}
