{
 "cells": [
  {
   "cell_type": "markdown",
   "metadata": {},
   "source": [
    "# Connected components\n",
    "\n",
    "[Run notebook in Google Colab](https://colab.research.google.com/github/pathpy/pathpy/blob/master/doc/tutorial/components.ipynb)  \n",
    "[Download notebook](https://github.com/pathpy/pathpy/raw/master/doc/tutorial/components.ipynb)\n",
    "\n",
    "A key characteristic of a network is whether it is connected, i.e. whether all nodes are connected via a path. For disconnected networks, where this is not the case, we can compute so-called connected components, i.e. the maximally connected subgraphs. In this second unit we implement an algorithm to compute connected components, and apply it to empirical data sets."
   ]
  },
  {
   "cell_type": "code",
   "execution_count": null,
   "metadata": {
    "execution": {
     "iopub.execute_input": "2021-05-21T08:59:55.244484Z",
     "iopub.status.busy": "2021-05-21T08:59:55.243717Z",
     "iopub.status.idle": "2021-05-21T09:00:01.487894Z",
     "shell.execute_reply": "2021-05-21T09:00:01.488582Z"
    }
   },
   "outputs": [],
   "source": [
    "pip install git+git://github.com/pathpy/pathpy.git"
   ]
  },
  {
   "cell_type": "code",
   "execution_count": null,
   "metadata": {
    "execution": {
     "iopub.execute_input": "2021-05-21T09:00:01.493002Z",
     "iopub.status.busy": "2021-05-21T09:00:01.492246Z",
     "iopub.status.idle": "2021-05-21T09:00:01.913372Z",
     "shell.execute_reply": "2021-05-21T09:00:01.913748Z"
    }
   },
   "outputs": [],
   "source": [
    "import numpy as np\n",
    "import pathpy as pp\n",
    "import scipy as sp"
   ]
  },
  {
   "cell_type": "markdown",
   "metadata": {},
   "source": [
    "Again, we start our tutorial with two simple networks. \n",
    "The first one is a simple undirected and disconnected network that has two connected components.  "
   ]
  },
  {
   "cell_type": "code",
   "execution_count": null,
   "metadata": {
    "execution": {
     "iopub.execute_input": "2021-05-21T09:00:01.920718Z",
     "iopub.status.busy": "2021-05-21T09:00:01.919980Z",
     "iopub.status.idle": "2021-05-21T09:00:01.925452Z",
     "shell.execute_reply": "2021-05-21T09:00:01.926118Z"
    }
   },
   "outputs": [],
   "source": [
    "n_undirected = pp.Network(directed=False)\n",
    "n_undirected.add_edge('a', 'b')\n",
    "n_undirected.add_edge('b', 'c')\n",
    "n_undirected.add_edge('a', 'c')\n",
    "n_undirected.add_edge('d', 'f')\n",
    "n_undirected.add_edge('d', 'g')\n",
    "n_undirected.add_edge('d', 'e')\n",
    "n_undirected.add_edge('e', 'f')\n",
    "n_undirected.add_edge('f', 'g')\n",
    "n_undirected.plot()"
   ]
  },
  {
   "cell_type": "markdown",
   "metadata": {},
   "source": [
    "The second network is directed and weakly connected, because from the nodes `a` and `b` we can only reach `c` and `d` in one direction, but not in the opposite direction."
   ]
  },
  {
   "cell_type": "code",
   "execution_count": null,
   "metadata": {
    "execution": {
     "iopub.execute_input": "2021-05-21T09:00:01.931714Z",
     "iopub.status.busy": "2021-05-21T09:00:01.930976Z",
     "iopub.status.idle": "2021-05-21T09:00:01.934828Z",
     "shell.execute_reply": "2021-05-21T09:00:01.935543Z"
    }
   },
   "outputs": [],
   "source": [
    "n_directed = pp.Network(directed=True)\n",
    "n_directed.add_edge('a', 'b')\n",
    "n_directed.add_edge('b', 'a')\n",
    "n_directed.add_edge('a', 'c')\n",
    "n_directed.add_edge('b', 'c')\n",
    "n_directed.add_edge('c', 'd')\n",
    "n_directed.add_edge('d', 'c')\n",
    "n_directed.plot()"
   ]
  },
  {
   "cell_type": "markdown",
   "metadata": {},
   "source": [
    "## Computing connected components in `pathpy`\n",
    "\n",
    "The `find_connected_components` function in `pathpy` returns a dictionary of connected components:"
   ]
  },
  {
   "cell_type": "code",
   "execution_count": null,
   "metadata": {
    "execution": {
     "iopub.execute_input": "2021-05-21T09:00:01.940000Z",
     "iopub.status.busy": "2021-05-21T09:00:01.939274Z",
     "iopub.status.idle": "2021-05-21T09:00:01.941996Z",
     "shell.execute_reply": "2021-05-21T09:00:01.942695Z"
    }
   },
   "outputs": [],
   "source": [
    "pp.algorithms.components.find_connected_components(n_undirected)"
   ]
  },
  {
   "cell_type": "code",
   "execution_count": null,
   "metadata": {
    "execution": {
     "iopub.execute_input": "2021-05-21T09:00:01.947018Z",
     "iopub.status.busy": "2021-05-21T09:00:01.946230Z",
     "iopub.status.idle": "2021-05-21T09:00:01.948831Z",
     "shell.execute_reply": "2021-05-21T09:00:01.949529Z"
    }
   },
   "outputs": [],
   "source": [
    "pp.algorithms.components.find_connected_components(n_directed)"
   ]
  },
  {
   "cell_type": "markdown",
   "metadata": {},
   "source": [
    "We can use the function `largest_connected_component` to extract the largest connected component and return it as a new network object:"
   ]
  },
  {
   "cell_type": "code",
   "execution_count": null,
   "metadata": {
    "execution": {
     "iopub.execute_input": "2021-05-21T09:00:01.955331Z",
     "iopub.status.busy": "2021-05-21T09:00:01.954559Z",
     "iopub.status.idle": "2021-05-21T09:00:01.958230Z",
     "shell.execute_reply": "2021-05-21T09:00:01.958848Z"
    }
   },
   "outputs": [],
   "source": [
    "lcc = pp.algorithms.components.largest_connected_component(n_undirected)\n",
    "lcc.plot()"
   ]
  },
  {
   "cell_type": "markdown",
   "metadata": {},
   "source": [
    "To compute the size of the largest connected component in a network we can use a special function:"
   ]
  },
  {
   "cell_type": "code",
   "execution_count": null,
   "metadata": {
    "execution": {
     "iopub.execute_input": "2021-05-21T09:00:01.963311Z",
     "iopub.status.busy": "2021-05-21T09:00:01.962539Z",
     "iopub.status.idle": "2021-05-21T09:00:01.965135Z",
     "shell.execute_reply": "2021-05-21T09:00:01.965829Z"
    }
   },
   "outputs": [],
   "source": [
    "pp.algorithms.components.largest_component_size(n_undirected)"
   ]
  },
  {
   "cell_type": "code",
   "execution_count": null,
   "metadata": {
    "execution": {
     "iopub.execute_input": "2021-05-21T09:00:01.970867Z",
     "iopub.status.busy": "2021-05-21T09:00:01.970132Z",
     "iopub.status.idle": "2021-05-21T09:00:01.973889Z",
     "shell.execute_reply": "2021-05-21T09:00:01.974608Z"
    }
   },
   "outputs": [],
   "source": [
    "lcc = pp.algorithms.components.largest_connected_component(n_directed)\n",
    "lcc.plot()"
   ]
  }
 ],
 "metadata": {
  "kernelspec": {
   "display_name": "Python 3",
   "language": "python",
   "name": "python3"
  },
  "language_info": {
   "codemirror_mode": {
    "name": "ipython",
    "version": 3
   },
   "file_extension": ".py",
   "mimetype": "text/x-python",
   "name": "python",
   "nbconvert_exporter": "python",
   "pygments_lexer": "ipython3",
   "version": "3.9.4"
  }
 },
 "nbformat": 4,
 "nbformat_minor": 4
}
