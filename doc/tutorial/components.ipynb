{
 "cells": [
  {
   "cell_type": "markdown",
   "metadata": {},
   "source": [
    "# Connected components\n",
    "\n",
    "[Run notebook in Google Colab](https://colab.research.google.com/github/pathpy/pathpy/blob/master/doc/tutorial/components.ipynb)  \n",
    "[Download notebook](https://github.com/pathpy/pathpy/raw/master/doc/tutorial/components.ipynb)\n",
    "\n",
    "A key characteristic of a network is whether it is connected, i.e. whether all nodes are connected via a path. For disconnected networks, where this is not the case, we can compute so-called connected components, i.e. the maximally connected subgraphs. In this second unit we implement an algorithm to compute connected components, and apply it to empirical data sets."
   ]
  },
  {
   "cell_type": "code",
   "execution_count": null,
   "metadata": {
    "execution": {
     "iopub.execute_input": "2021-06-22T16:48:22.159456Z",
     "iopub.status.busy": "2021-06-22T16:48:22.158606Z",
     "iopub.status.idle": "2021-06-22T16:48:28.882813Z",
     "shell.execute_reply": "2021-06-22T16:48:28.883482Z"
    }
   },
   "outputs": [],
   "source": [
    "pip install git+git://github.com/pathpy/pathpy.git"
   ]
  },
  {
   "cell_type": "code",
   "execution_count": null,
   "metadata": {
    "execution": {
     "iopub.execute_input": "2021-06-22T16:48:28.888405Z",
     "iopub.status.busy": "2021-06-22T16:48:28.887602Z",
     "iopub.status.idle": "2021-06-22T16:48:29.377616Z",
     "shell.execute_reply": "2021-06-22T16:48:29.378256Z"
    }
   },
   "outputs": [],
   "source": [
    "import numpy as np\n",
    "import pathpy as pp\n",
    "import scipy as sp"
   ]
  },
  {
   "cell_type": "markdown",
   "metadata": {},
   "source": [
    "Again, we start our tutorial with two simple networks. \n",
    "The first one is a simple undirected and disconnected network that has two connected components.  "
   ]
  },
  {
   "cell_type": "code",
   "execution_count": null,
   "metadata": {
    "execution": {
     "iopub.execute_input": "2021-06-22T16:48:29.385810Z",
     "iopub.status.busy": "2021-06-22T16:48:29.384705Z",
     "iopub.status.idle": "2021-06-22T16:48:29.390786Z",
     "shell.execute_reply": "2021-06-22T16:48:29.390105Z"
    }
   },
   "outputs": [],
   "source": [
    "n_undirected = pp.Network(directed=False)\n",
    "n_undirected.add_edge('a', 'b')\n",
    "n_undirected.add_edge('b', 'c')\n",
    "n_undirected.add_edge('a', 'c')\n",
    "n_undirected.add_edge('d', 'f')\n",
    "n_undirected.add_edge('d', 'g')\n",
    "n_undirected.add_edge('d', 'e')\n",
    "n_undirected.add_edge('e', 'f')\n",
    "n_undirected.add_edge('f', 'g')\n",
    "n_undirected.plot()"
   ]
  },
  {
   "cell_type": "markdown",
   "metadata": {},
   "source": [
    "The second network is directed and weakly connected, because from the nodes `a` and `b` we can only reach `c` and `d` in one direction, but not in the opposite direction."
   ]
  },
  {
   "cell_type": "code",
   "execution_count": null,
   "metadata": {
    "execution": {
     "iopub.execute_input": "2021-06-22T16:48:29.396958Z",
     "iopub.status.busy": "2021-06-22T16:48:29.396179Z",
     "iopub.status.idle": "2021-06-22T16:48:29.400538Z",
     "shell.execute_reply": "2021-06-22T16:48:29.401175Z"
    }
   },
   "outputs": [],
   "source": [
    "n_directed = pp.Network(directed=True)\n",
    "n_directed.add_edge('a', 'b')\n",
    "n_directed.add_edge('b', 'a')\n",
    "n_directed.add_edge('a', 'c')\n",
    "n_directed.add_edge('b', 'c')\n",
    "n_directed.add_edge('c', 'd')\n",
    "n_directed.add_edge('d', 'c')\n",
    "n_directed.plot()"
   ]
  },
  {
   "cell_type": "markdown",
   "metadata": {},
   "source": [
    "## Computing connected components in `pathpy`\n",
    "\n",
    "The `find_connected_components` function in `pathpy` returns a dictionary of connected components:"
   ]
  },
  {
   "cell_type": "code",
   "execution_count": null,
   "metadata": {
    "execution": {
     "iopub.execute_input": "2021-06-22T16:48:29.405909Z",
     "iopub.status.busy": "2021-06-22T16:48:29.405053Z",
     "iopub.status.idle": "2021-06-22T16:48:29.408404Z",
     "shell.execute_reply": "2021-06-22T16:48:29.409030Z"
    }
   },
   "outputs": [],
   "source": [
    "pp.algorithms.components.find_connected_components(n_undirected)"
   ]
  },
  {
   "cell_type": "code",
   "execution_count": null,
   "metadata": {
    "execution": {
     "iopub.execute_input": "2021-06-22T16:48:29.413599Z",
     "iopub.status.busy": "2021-06-22T16:48:29.412832Z",
     "iopub.status.idle": "2021-06-22T16:48:29.415614Z",
     "shell.execute_reply": "2021-06-22T16:48:29.416255Z"
    }
   },
   "outputs": [],
   "source": [
    "pp.algorithms.components.find_connected_components(n_directed)"
   ]
  },
  {
   "cell_type": "markdown",
   "metadata": {},
   "source": [
    "We can use the function `largest_connected_component` to extract the largest connected component and return it as a new network object:"
   ]
  },
  {
   "cell_type": "code",
   "execution_count": null,
   "metadata": {
    "execution": {
     "iopub.execute_input": "2021-06-22T16:48:29.422271Z",
     "iopub.status.busy": "2021-06-22T16:48:29.421376Z",
     "iopub.status.idle": "2021-06-22T16:48:29.426526Z",
     "shell.execute_reply": "2021-06-22T16:48:29.427114Z"
    }
   },
   "outputs": [],
   "source": [
    "lcc = pp.algorithms.components.largest_connected_component(n_undirected)\n",
    "lcc.plot()"
   ]
  },
  {
   "cell_type": "markdown",
   "metadata": {},
   "source": [
    "To compute the size of the largest connected component in a network we can use a special function:"
   ]
  },
  {
   "cell_type": "code",
   "execution_count": null,
   "metadata": {
    "execution": {
     "iopub.execute_input": "2021-06-22T16:48:29.431883Z",
     "iopub.status.busy": "2021-06-22T16:48:29.431043Z",
     "iopub.status.idle": "2021-06-22T16:48:29.433974Z",
     "shell.execute_reply": "2021-06-22T16:48:29.434606Z"
    }
   },
   "outputs": [],
   "source": [
    "pp.algorithms.components.largest_component_size(n_undirected)"
   ]
  },
  {
   "cell_type": "code",
   "execution_count": null,
   "metadata": {
    "execution": {
     "iopub.execute_input": "2021-06-22T16:48:29.440012Z",
     "iopub.status.busy": "2021-06-22T16:48:29.439492Z",
     "iopub.status.idle": "2021-06-22T16:48:29.444915Z",
     "shell.execute_reply": "2021-06-22T16:48:29.445495Z"
    }
   },
   "outputs": [],
   "source": [
    "lcc = pp.algorithms.components.largest_connected_component(n_directed)\n",
    "lcc.plot()"
   ]
  }
 ],
 "metadata": {
  "kernelspec": {
   "display_name": "Python 3",
   "language": "python",
   "name": "python3"
  },
  "language_info": {
   "codemirror_mode": {
    "name": "ipython",
    "version": 3
   },
   "file_extension": ".py",
   "mimetype": "text/x-python",
   "name": "python",
   "nbconvert_exporter": "python",
   "pygments_lexer": "ipython3",
   "version": "3.9.5"
  }
 },
 "nbformat": 4,
 "nbformat_minor": 4
}
