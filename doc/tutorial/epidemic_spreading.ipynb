{
 "cells": [
  {
   "cell_type": "markdown",
   "metadata": {},
   "source": [
    "# Epidemic Spreading\n",
    "\n",
    "[Run notebook in Google Colab](https://colab.research.google.com/github/pathpy/pathpy/blob/master/doc/tutorial/epidemic_spreading.ipynb)  \n",
    "[Download notebook](https://github.com/pathpy/pathpy/raw/master/doc/tutorial/epidemic_spreading.ipynb)\n",
    "\n",
    "The class `BaseProcess` enables users to implement, simulate, and visualise custom-defined discrete-time dynamical processes. Some simple processes like the Susceptible-Infected-Recoverd (SIR) model for epidemic spreading are implemented in pathpy, mainly to illustrate how you can implement your own, more realistic model.\n",
    "\n",
    "In this notebook, we demonstrate how we can simulate a simple spreading process in `pathpy`."
   ]
  },
  {
   "cell_type": "code",
   "execution_count": null,
   "metadata": {
    "execution": {
     "iopub.execute_input": "2021-04-30T00:24:04.423325Z",
     "iopub.status.busy": "2021-04-30T00:24:04.422656Z",
     "iopub.status.idle": "2021-04-30T00:24:10.868662Z",
     "shell.execute_reply": "2021-04-30T00:24:10.869352Z"
    },
    "tags": [
     "hide"
    ]
   },
   "outputs": [],
   "source": [
    "pip install git+git://github.com/pathpy/pathpy.git"
   ]
  },
  {
   "cell_type": "code",
   "execution_count": null,
   "metadata": {
    "execution": {
     "iopub.execute_input": "2021-04-30T00:24:10.874691Z",
     "iopub.status.busy": "2021-04-30T00:24:10.874122Z",
     "iopub.status.idle": "2021-04-30T00:24:11.568302Z",
     "shell.execute_reply": "2021-04-30T00:24:11.568768Z"
    }
   },
   "outputs": [],
   "source": [
    "%matplotlib notebook\n",
    "import pathpy as pp\n",
    "import seaborn as sn\n",
    "import pandas as pd\n",
    "import numpy as np\n",
    "\n",
    "from matplotlib import pyplot as plt"
   ]
  },
  {
   "cell_type": "markdown",
   "metadata": {},
   "source": [
    "We first need a network on which we will run the dynamical process. We will use the network of game of throne characters."
   ]
  },
  {
   "cell_type": "code",
   "execution_count": null,
   "metadata": {
    "execution": {
     "iopub.execute_input": "2021-04-30T00:24:11.571834Z",
     "iopub.status.busy": "2021-04-30T00:24:11.571359Z",
     "iopub.status.idle": "2021-04-30T00:24:11.821000Z",
     "shell.execute_reply": "2021-04-30T00:24:11.821460Z"
    }
   },
   "outputs": [],
   "source": [
    "n = pp.io.graphtool.read_netzschleuder_network('game_thrones')\n",
    "print(n)"
   ]
  },
  {
   "cell_type": "markdown",
   "metadata": {},
   "source": [
    "Inspecting the node attributes above, we find that we can use the node-level attribute `name` to plot the network:"
   ]
  },
  {
   "cell_type": "code",
   "execution_count": null,
   "metadata": {
    "execution": {
     "iopub.execute_input": "2021-04-30T00:24:11.827511Z",
     "iopub.status.busy": "2021-04-30T00:24:11.827019Z",
     "iopub.status.idle": "2021-04-30T00:24:11.834309Z",
     "shell.execute_reply": "2021-04-30T00:24:11.834864Z"
    }
   },
   "outputs": [],
   "source": [
    "n.plot(node_label={v.uid: v['name'] for v in n.nodes}, label_color='black')"
   ]
  },
  {
   "cell_type": "markdown",
   "metadata": {},
   "source": [
    "To simulate the SIR epidemic spreading process, we must first initialize the process. We can do this by creating a new instance of the class `pp.processes.EpidemicSIR`. The constructor takes three parameters. The first parameter is the network on which we want to simulate the process. The second parameter is the recovery time, i.e. the number of time steps for which an infected node is infected before it recovers (and becomes immune). The third parameter is the per-time step probability by which a susceptible node that is connected to an infected node becomes infected."
   ]
  },
  {
   "cell_type": "code",
   "execution_count": null,
   "metadata": {
    "execution": {
     "iopub.execute_input": "2021-04-30T00:24:11.837932Z",
     "iopub.status.busy": "2021-04-30T00:24:11.837390Z",
     "iopub.status.idle": "2021-04-30T00:24:11.838941Z",
     "shell.execute_reply": "2021-04-30T00:24:11.839449Z"
    }
   },
   "outputs": [],
   "source": [
    "sir = pp.processes.EpidemicSIR(n, recovery_time=20, infection_prob=0.05)"
   ]
  },
  {
   "cell_type": "markdown",
   "metadata": {},
   "source": [
    "Now that our experiment is setup, we can run it. This can be done in two ways: \n",
    "\n",
    "The first method is to use the `simulation_run` iterator, which allows us to iterate through the steps of the process. After each discrete time step of the simulation, this iterator will yield a tuple consisting of the current time and a set of nodes whose state has been changed in the current step. In the SIR model, this state change can either be due to a susceptible node becoming infected, or an infected node changing to recovered. We can use the method `sir.node_state` to check the current state of each node in the network. \n",
    "\n",
    "In the SIR model, the three states corresponding to the three compartments `susceptible`, `infected`, `recovered` are encoded by the integer values `0`, `1`, and `2` respectively. Hence, to print a list of newly infected nodes in each step, we can write:"
   ]
  },
  {
   "cell_type": "code",
   "execution_count": null,
   "metadata": {
    "execution": {
     "iopub.execute_input": "2021-04-30T00:24:11.849340Z",
     "iopub.status.busy": "2021-04-30T00:24:11.843458Z",
     "iopub.status.idle": "2021-04-30T00:24:11.851223Z",
     "shell.execute_reply": "2021-04-30T00:24:11.851747Z"
    }
   },
   "outputs": [],
   "source": [
    "for time, changed_nodes in sir.simulation_run(steps=20):\n",
    "    print('time = {0}: {1}'.format(time, [v for v in changed_nodes if sir.node_state(v)==1]))"
   ]
  },
  {
   "cell_type": "markdown",
   "metadata": {},
   "source": [
    "In the example above, the seed node that is initially infected (at time 0) is chosen uniformly at random. If we want to start the simulation with a specific seed node, we can pass the uid of the initially infected node via the `seed` parameter:"
   ]
  },
  {
   "cell_type": "code",
   "execution_count": null,
   "metadata": {
    "execution": {
     "iopub.execute_input": "2021-04-30T00:24:11.872295Z",
     "iopub.status.busy": "2021-04-30T00:24:11.861252Z",
     "iopub.status.idle": "2021-04-30T00:24:11.883105Z",
     "shell.execute_reply": "2021-04-30T00:24:11.883535Z"
    }
   },
   "outputs": [],
   "source": [
    "for time, changed_nodes in sir.simulation_run(steps=20, seed='0'):\n",
    "    print('time = {0}: {1}'.format(time, [v for v in changed_nodes if sir.node_state(v)==1]))"
   ]
  },
  {
   "cell_type": "markdown",
   "metadata": {},
   "source": [
    "A common task in the simulation of stochastic processes is the executing of multiple runs with random initializations. Rather than requiring the user to collect the result of the individual simulation runs ourselves via the `simulation_run` iterator, `pathpy` provides a `run_experiment` function that makes this task simple. We can simply specify the numer of steps for which we wish to simulate process, as well as the number of times the experiment shall be executed (runs). \n",
    "\n",
    "For each run a new random seed node will be chosen automatically."
   ]
  },
  {
   "cell_type": "code",
   "execution_count": null,
   "metadata": {
    "execution": {
     "iopub.execute_input": "2021-04-30T00:24:11.970577Z",
     "iopub.status.busy": "2021-04-30T00:24:11.922895Z",
     "iopub.status.idle": "2021-04-30T00:24:12.571171Z",
     "shell.execute_reply": "2021-04-30T00:24:12.571638Z"
    }
   },
   "outputs": [],
   "source": [
    "data = sir.run_experiment(steps=200, runs=10)"
   ]
  },
  {
   "cell_type": "markdown",
   "metadata": {},
   "source": [
    "This method returns a `pandas.DataFrame` which collects the full evolution of the process. Each row in the data frame stores a single state change of a node in a given run and time step along with the updated state. This data frame allows us to reconstruct the full dynamics, and execute downstream analyses and visualisations. Only updates to states are stored, i.e. unchanged states of nodes are omitted."
   ]
  },
  {
   "cell_type": "code",
   "execution_count": null,
   "metadata": {
    "execution": {
     "iopub.execute_input": "2021-04-30T00:24:12.576519Z",
     "iopub.status.busy": "2021-04-30T00:24:12.576069Z",
     "iopub.status.idle": "2021-04-30T00:24:12.580189Z",
     "shell.execute_reply": "2021-04-30T00:24:12.580629Z"
    }
   },
   "outputs": [],
   "source": [
    "data.head()"
   ]
  },
  {
   "cell_type": "markdown",
   "metadata": {},
   "source": [
    "As an example, let us plot the evolution of the average total number of infections over time, as well as the average number of new infections in each time step, across the 10 runs of the process. To plot this, we can write:"
   ]
  },
  {
   "cell_type": "code",
   "execution_count": null,
   "metadata": {
    "execution": {
     "iopub.execute_input": "2021-04-30T00:24:12.584446Z",
     "iopub.status.busy": "2021-04-30T00:24:12.584024Z",
     "iopub.status.idle": "2021-04-30T00:24:12.685273Z",
     "shell.execute_reply": "2021-04-30T00:24:12.685710Z"
    }
   },
   "outputs": [],
   "source": [
    "dynamics = [] \n",
    "total_infections = 0\n",
    "for t in range(100):\n",
    "    new_infections = len(data.loc[(data['time']==t) & (data['state']==1)])/100\n",
    "    total_infections += new_infections\n",
    "    dynamics.append({ \n",
    "        'time': t,\n",
    "        'new_infections': new_infections, \n",
    "        'total_infections': total_infections}\n",
    "    )\n",
    "\n",
    "dynamics = pd.DataFrame.from_dict(dynamics)\n",
    "sn.lineplot(data=dynamics, x='time', y='total_infections', label='Total infections')\n",
    "sn.lineplot(data=dynamics, x='time', y='new_infections', label='New infections')\n",
    "plt.legend()"
   ]
  },
  {
   "cell_type": "markdown",
   "metadata": {},
   "source": [
    "Finally, there is a simple method to generate an interactive visualisation of the dynamical process in the network. We can simply call the `plot` function of the process instance, passing the data frame that we collected in our experiment. Since this data frame can contain data on more than one simulation run, we can specify the id of the run that we wish to visualize. If we omit this parameter, the first run will be shown."
   ]
  },
  {
   "cell_type": "code",
   "execution_count": null,
   "metadata": {
    "execution": {
     "iopub.execute_input": "2021-04-30T00:24:12.689455Z",
     "iopub.status.busy": "2021-04-30T00:24:12.689019Z",
     "iopub.status.idle": "2021-04-30T00:24:12.761899Z",
     "shell.execute_reply": "2021-04-30T00:24:12.762392Z"
    }
   },
   "outputs": [],
   "source": [
    "sir.plot(data, run_id=0)"
   ]
  },
  {
   "cell_type": "code",
   "execution_count": null,
   "metadata": {
    "execution": {
     "iopub.execute_input": "2021-04-30T00:24:12.836205Z",
     "iopub.status.busy": "2021-04-30T00:24:12.802394Z",
     "iopub.status.idle": "2021-04-30T00:24:12.844285Z",
     "shell.execute_reply": "2021-04-30T00:24:12.844700Z"
    }
   },
   "outputs": [],
   "source": [
    "sir.plot(data, run_id=1)"
   ]
  },
  {
   "cell_type": "markdown",
   "metadata": {},
   "source": [
    "To simplify matters, the following line executes and visualizes a single run of the process with a random seed node."
   ]
  },
  {
   "cell_type": "code",
   "execution_count": null,
   "metadata": {
    "execution": {
     "iopub.execute_input": "2021-04-30T00:24:12.937974Z",
     "iopub.status.busy": "2021-04-30T00:24:12.888587Z",
     "iopub.status.idle": "2021-04-30T00:24:12.989393Z",
     "shell.execute_reply": "2021-04-30T00:24:12.989819Z"
    }
   },
   "outputs": [],
   "source": [
    "sir.plot(sir.run_experiment(steps=100))"
   ]
  },
  {
   "cell_type": "code",
   "execution_count": null,
   "metadata": {},
   "outputs": [],
   "source": []
  }
 ],
 "metadata": {
  "celltoolbar": "Tags",
  "kernelspec": {
   "display_name": "Python 3",
   "language": "python",
   "name": "python3"
  },
  "language_info": {
   "codemirror_mode": {
    "name": "ipython",
    "version": 3
   },
   "file_extension": ".py",
   "mimetype": "text/x-python",
   "name": "python",
   "nbconvert_exporter": "python",
   "pygments_lexer": "ipython3",
   "version": "3.9.3"
  }
 },
 "nbformat": 4,
 "nbformat_minor": 4
}
