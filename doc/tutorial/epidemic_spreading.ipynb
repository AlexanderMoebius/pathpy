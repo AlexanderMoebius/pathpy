{
 "cells": [
  {
   "cell_type": "markdown",
   "metadata": {},
   "source": [
    "# Epidemic Spreading\n",
    "\n",
    "[Run notebook in Google Colab](https://colab.research.google.com/github/pathpy/pathpy/blob/master/doc/tutorial/epidemic_spreading.ipynb)  \n",
    "[Download notebook](https://github.com/pathpy/pathpy/raw/master/doc/tutorial/epidemic_spreading.ipynb)\n",
    "\n",
    "The class `BaseProcess` enables users to implement, simulate, and visualise custom-defined discrete-time dynamical processes. Some simple processes like the Susceptible-Infected-Recoverd (SIR) model for epidemic spreading are implemented in pathpy, mainly to illustrate how you can implement your own, more realistic model.\n",
    "\n",
    "In this notebook, we demonstrate how we can simulate a simple spreading process in `pathpy`."
   ]
  },
  {
   "cell_type": "code",
   "execution_count": null,
   "metadata": {
    "execution": {
     "iopub.execute_input": "2021-05-11T10:15:26.844935Z",
     "iopub.status.busy": "2021-05-11T10:15:26.843275Z",
     "iopub.status.idle": "2021-05-11T10:15:32.184519Z",
     "shell.execute_reply": "2021-05-11T10:15:32.184888Z"
    },
    "tags": [
     "hide"
    ]
   },
   "outputs": [],
   "source": [
    "pip install git+git://github.com/pathpy/pathpy.git"
   ]
  },
  {
   "cell_type": "code",
   "execution_count": null,
   "metadata": {
    "execution": {
     "iopub.execute_input": "2021-05-11T10:15:32.189576Z",
     "iopub.status.busy": "2021-05-11T10:15:32.189126Z",
     "iopub.status.idle": "2021-05-11T10:15:32.864534Z",
     "shell.execute_reply": "2021-05-11T10:15:32.865085Z"
    }
   },
   "outputs": [],
   "source": [
    "import pathpy as pp\n",
    "import seaborn as sn\n",
    "import pandas as pd\n",
    "import numpy as np\n",
    "from pprint import pprint\n",
    "\n",
    "from matplotlib import pyplot as plt"
   ]
  },
  {
   "cell_type": "markdown",
   "metadata": {},
   "source": [
    "We first need a network on which we will run the dynamical process. We will use the network of game of throne characters."
   ]
  },
  {
   "cell_type": "code",
   "execution_count": null,
   "metadata": {
    "execution": {
     "iopub.execute_input": "2021-05-11T10:15:32.868532Z",
     "iopub.status.busy": "2021-05-11T10:15:32.867982Z",
     "iopub.status.idle": "2021-05-11T10:15:33.079186Z",
     "shell.execute_reply": "2021-05-11T10:15:33.078071Z"
    }
   },
   "outputs": [],
   "source": [
    "n = pp.io.graphtool.read_netzschleuder_network('game_thrones')\n",
    "print(n)"
   ]
  },
  {
   "cell_type": "markdown",
   "metadata": {},
   "source": [
    "Inspecting the node attributes above, we find that we can use the node-level attribute `name` to plot the network:"
   ]
  },
  {
   "cell_type": "code",
   "execution_count": null,
   "metadata": {
    "execution": {
     "iopub.execute_input": "2021-05-11T10:15:33.088510Z",
     "iopub.status.busy": "2021-05-11T10:15:33.087390Z",
     "iopub.status.idle": "2021-05-11T10:15:33.097637Z",
     "shell.execute_reply": "2021-05-11T10:15:33.098546Z"
    }
   },
   "outputs": [],
   "source": [
    "n.plot(node_label={v.uid: v['name'] for v in n.nodes}, label_color='black')"
   ]
  },
  {
   "cell_type": "markdown",
   "metadata": {},
   "source": [
    "To simulate the SIR epidemic spreading process, we must first initialize the process. We can do this by creating a new instance of the class `pp.processes.EpidemicSIR`. The constructor takes three parameters. The first parameter is the network on which we want to simulate the process. The second parameter is the recovery time, i.e. the number of time steps for which an infected node is infected before it recovers (and becomes immune). The third parameter is the per-time step probability by which a susceptible node that is connected to an infected node becomes infected."
   ]
  },
  {
   "cell_type": "code",
   "execution_count": null,
   "metadata": {
    "execution": {
     "iopub.execute_input": "2021-05-11T10:15:33.104456Z",
     "iopub.status.busy": "2021-05-11T10:15:33.103243Z",
     "iopub.status.idle": "2021-05-11T10:15:33.105710Z",
     "shell.execute_reply": "2021-05-11T10:15:33.106732Z"
    }
   },
   "outputs": [],
   "source": [
    "sir = pp.processes.EpidemicSIR(n, recovery_time=20, infection_prob=0.1)"
   ]
  },
  {
   "cell_type": "markdown",
   "metadata": {},
   "source": [
    "Now that our experiment is setup, we can run it. This can be done in two ways: \n",
    "\n",
    "The first method is to use the `simulation_run` iterator, which allows us to iterate through the steps of the process. After each discrete time step of the simulation, this iterator will yield a tuple consisting of the current time and a set of nodes whose state has been changed in the current step. In the SIR model, this state change can either be due to a susceptible node becoming infected, or an infected node changing to recovered. We can use the method `sir.node_state` to check the current state of each node in the network. \n",
    "\n",
    "In the SIR model, the three states corresponding to the three compartments `susceptible`, `infected`, `recovered` are encoded by the integer values `0`, `1`, and `2` respectively. Hence, to print a list of newly infected nodes in each step, we can write:"
   ]
  },
  {
   "cell_type": "code",
   "execution_count": null,
   "metadata": {
    "execution": {
     "iopub.execute_input": "2021-05-11T10:15:33.113227Z",
     "iopub.status.busy": "2021-05-11T10:15:33.111620Z",
     "iopub.status.idle": "2021-05-11T10:15:33.117582Z",
     "shell.execute_reply": "2021-05-11T10:15:33.118901Z"
    }
   },
   "outputs": [],
   "source": [
    "for time, changed_nodes in sir.simulation_run(steps=20):\n",
    "    print('time = {0}: {1}'.format(time, [v for v in changed_nodes if sir.node_state(v)==1]))"
   ]
  },
  {
   "cell_type": "markdown",
   "metadata": {},
   "source": [
    "In the example above, the seed node that is initially infected (at time 0) is chosen uniformly at random. If we want to start the simulation with a specific seed node, we can pass the uid of the initially infected node via the `seed` parameter:"
   ]
  },
  {
   "cell_type": "code",
   "execution_count": null,
   "metadata": {
    "execution": {
     "iopub.execute_input": "2021-05-11T10:15:33.168469Z",
     "iopub.status.busy": "2021-05-11T10:15:33.135318Z",
     "iopub.status.idle": "2021-05-11T10:15:33.194545Z",
     "shell.execute_reply": "2021-05-11T10:15:33.193867Z"
    }
   },
   "outputs": [],
   "source": [
    "for time, changed_nodes in sir.simulation_run(steps=20, seed='0'):\n",
    "    print('time = {0}: {1}'.format(time, [v for v in changed_nodes if sir.node_state(v)==1]))"
   ]
  },
  {
   "cell_type": "markdown",
   "metadata": {},
   "source": [
    "A common task in the simulation of stochastic processes is the executing of multiple runs with random initializations. Rather than requiring the user to collect the result of the individual simulation runs ourselves via the `simulation_run` iterator, `pathpy` provides a `run_experiment` function that makes this task simple. We can simply specify the numer of steps for which we wish to simulate process, as well as the number of times the experiment shall be executed (runs). \n",
    "\n",
    "For each run a new random seed node will be chosen automatically."
   ]
  },
  {
   "cell_type": "code",
   "execution_count": null,
   "metadata": {
    "execution": {
     "iopub.execute_input": "2021-05-11T10:15:33.269987Z",
     "iopub.status.busy": "2021-05-11T10:15:33.234332Z",
     "iopub.status.idle": "2021-05-11T10:15:34.112211Z",
     "shell.execute_reply": "2021-05-11T10:15:34.111574Z"
    }
   },
   "outputs": [],
   "source": [
    "data = sir.run_experiment(steps=100, runs=10)"
   ]
  },
  {
   "cell_type": "markdown",
   "metadata": {},
   "source": [
    "This method returns a `pandas.DataFrame` which collects the full evolution of the process. Each row in the data frame stores a single state change of a node in a given run and time step along with the updated state. This data frame allows us to reconstruct the full dynamics, and execute downstream analyses and visualisations. Only updates to states are stored, i.e. unchanged states of nodes are omitted."
   ]
  },
  {
   "cell_type": "code",
   "execution_count": null,
   "metadata": {
    "execution": {
     "iopub.execute_input": "2021-05-11T10:15:34.118262Z",
     "iopub.status.busy": "2021-05-11T10:15:34.117393Z",
     "iopub.status.idle": "2021-05-11T10:15:34.128910Z",
     "shell.execute_reply": "2021-05-11T10:15:34.128256Z"
    }
   },
   "outputs": [],
   "source": [
    "data.head()"
   ]
  },
  {
   "cell_type": "markdown",
   "metadata": {},
   "source": [
    "As an example, let us plot the evolution of the average total number of infections over time, as well as the average number of new infections in each time step, across the 10 runs of the process. To plot this, we can write:"
   ]
  },
  {
   "cell_type": "code",
   "execution_count": null,
   "metadata": {
    "execution": {
     "iopub.execute_input": "2021-05-11T10:15:34.135351Z",
     "iopub.status.busy": "2021-05-11T10:15:34.134532Z",
     "iopub.status.idle": "2021-05-11T10:15:34.356678Z",
     "shell.execute_reply": "2021-05-11T10:15:34.357269Z"
    }
   },
   "outputs": [],
   "source": [
    "dynamics = [] \n",
    "total_infections = 0\n",
    "for t in range(100):\n",
    "    new_infections = len(data.loc[(data['time']==t) & (data['state']==1)])/100\n",
    "    total_infections += new_infections\n",
    "    dynamics.append({ \n",
    "        'time': t,\n",
    "        'new_infections': new_infections, \n",
    "        'total_infections': total_infections}\n",
    "    )\n",
    "\n",
    "dynamics = pd.DataFrame.from_dict(dynamics)\n",
    "sn.lineplot(data=dynamics, x='time', y='total_infections', label='Total infections')\n",
    "sn.lineplot(data=dynamics, x='time', y='new_infections', label='New infections')\n",
    "plt.legend()"
   ]
  },
  {
   "cell_type": "markdown",
   "metadata": {},
   "source": [
    "Finally, there is a simple method to generate an interactive visualisation of the dynamical process in the network. We can simply call the `plot` function of the process instance, passing the data frame that we collected in our experiment. Since this data frame can contain data on more than one simulation run, we can specify the id of the run that we wish to visualize. If we omit this parameter, the first run will be shown."
   ]
  },
  {
   "cell_type": "code",
   "execution_count": null,
   "metadata": {
    "execution": {
     "iopub.execute_input": "2021-05-11T10:15:34.372933Z",
     "iopub.status.busy": "2021-05-11T10:15:34.361082Z",
     "iopub.status.idle": "2021-05-11T10:15:34.466506Z",
     "shell.execute_reply": "2021-05-11T10:15:34.467101Z"
    }
   },
   "outputs": [],
   "source": [
    "sir.plot(data, run_id=0)"
   ]
  },
  {
   "cell_type": "code",
   "execution_count": null,
   "metadata": {
    "execution": {
     "iopub.execute_input": "2021-05-11T10:15:34.507741Z",
     "iopub.status.busy": "2021-05-11T10:15:34.470839Z",
     "iopub.status.idle": "2021-05-11T10:15:34.574428Z",
     "shell.execute_reply": "2021-05-11T10:15:34.575015Z"
    }
   },
   "outputs": [],
   "source": [
    "sir.plot(data, run_id=1)"
   ]
  },
  {
   "cell_type": "markdown",
   "metadata": {},
   "source": [
    "To simplify matters, the following line executes and visualizes a single run of the process with a random seed node."
   ]
  },
  {
   "cell_type": "code",
   "execution_count": null,
   "metadata": {
    "execution": {
     "iopub.execute_input": "2021-05-11T10:15:34.623777Z",
     "iopub.status.busy": "2021-05-11T10:15:34.598348Z",
     "iopub.status.idle": "2021-05-11T10:15:34.767797Z",
     "shell.execute_reply": "2021-05-11T10:15:34.768386Z"
    }
   },
   "outputs": [],
   "source": [
    "sir.plot(sir.run_experiment(steps=100))"
   ]
  },
  {
   "cell_type": "markdown",
   "metadata": {},
   "source": [
    "Finally, we can use the sequence of state changes recorded in the evolution of a process run to extract a directed acyclic grap of possible causal influences between nodes. In this directed acyclic graph, each change of a state of node w at time t is represented by a time-unfolded node 'w-t'., i.e. the directed acyclic graph can be thought of as a time-unfolded static representation of the process evolution. In addition, an edge (v-t', w-t) indicates that prior to node w changing its state, a node v connected to w changed its state at time t'<t. We can limit the directed acyclic graph construction to specific state changes. In the following example, we use a directed acyclic graph to capture possible transmission routes of the epidemic process in a small example network."
   ]
  },
  {
   "cell_type": "code",
   "execution_count": null,
   "metadata": {
    "execution": {
     "iopub.execute_input": "2021-05-11T10:15:34.773740Z",
     "iopub.status.busy": "2021-05-11T10:15:34.773043Z",
     "iopub.status.idle": "2021-05-11T10:15:34.776493Z",
     "shell.execute_reply": "2021-05-11T10:15:34.777060Z"
    }
   },
   "outputs": [],
   "source": [
    "n = pp.Network(directed=False)\n",
    "n.add_edge('a', 'b')\n",
    "n.add_edge('a', 'c')\n",
    "n.add_edge('c', 'd')\n",
    "n.add_edge('c', 'e')\n",
    "n.add_edge('d', 'e')\n",
    "n.add_edge('c', 'b')\n",
    "n.plot()"
   ]
  },
  {
   "cell_type": "code",
   "execution_count": null,
   "metadata": {
    "execution": {
     "iopub.execute_input": "2021-05-11T10:15:34.784742Z",
     "iopub.status.busy": "2021-05-11T10:15:34.784045Z",
     "iopub.status.idle": "2021-05-11T10:15:34.786308Z",
     "shell.execute_reply": "2021-05-11T10:15:34.786865Z"
    }
   },
   "outputs": [],
   "source": [
    "sir = pp.processes.EpidemicSIR(n, recovery_time=10, infection_prob=0.5)\n",
    "data = sir.run_experiment(steps = 50, runs=['a'])\n",
    "print(data)"
   ]
  },
  {
   "cell_type": "code",
   "execution_count": null,
   "metadata": {
    "execution": {
     "iopub.execute_input": "2021-05-11T10:15:34.803322Z",
     "iopub.status.busy": "2021-05-11T10:15:34.802619Z",
     "iopub.status.idle": "2021-05-11T10:15:34.806945Z",
     "shell.execute_reply": "2021-05-11T10:15:34.807512Z"
    }
   },
   "outputs": [],
   "source": [
    "dag = sir.to_directed_acylic_graph(data, states=[1])\n",
    "print(dag)\n",
    "dag.plot()"
   ]
  }
 ],
 "metadata": {
  "celltoolbar": "Tags",
  "kernelspec": {
   "display_name": "Python 3",
   "language": "python",
   "name": "python3"
  },
  "language_info": {
   "codemirror_mode": {
    "name": "ipython",
    "version": 3
   },
   "file_extension": ".py",
   "mimetype": "text/x-python",
   "name": "python",
   "nbconvert_exporter": "python",
   "pygments_lexer": "ipython3",
   "version": "3.9.4"
  }
 },
 "nbformat": 4,
 "nbformat_minor": 4
}
