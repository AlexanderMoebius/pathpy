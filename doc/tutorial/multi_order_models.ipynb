{
 "cells": [
  {
   "cell_type": "markdown",
   "metadata": {},
   "source": [
    "# Multi-Order Models\n",
    "\n",
    "[Run notebook in Google Colab](https://colab.research.google.com/github/pathpy/pathpy/blob/master/doc/tutorial/multi_order_models.ipynb)  \n",
    "[Download notebook](https://github.com/pathpy/pathpy/raw/master/doc/tutorial/multi_order_models.ipynb)\n",
    "\n",
    "\n",
    "The exmaples given in the previpus notebook about `Higher Order Models` are too simple in many ways. But real data are more complex, as we have observations of paths at multiple lengths simultaneously. Such data are likely to exhibit multiple correlation lengths at the same time.\n",
    "\n"
   ]
  },
  {
   "cell_type": "code",
   "execution_count": null,
   "metadata": {},
   "outputs": [],
   "source": [
    "pip install git+git://github.com/pathpy/pathpy.git"
   ]
  },
  {
   "cell_type": "code",
   "execution_count": null,
   "metadata": {},
   "outputs": [],
   "source": [
    "import pathpy as pp\n",
    "import random\n",
    "from matplotlib import pyplot as plt\n",
    "from matplotlib.colors import to_hex\n",
    "from matplotlib import cm\n",
    "import numpy as np\n",
    "from collections import defaultdict\n",
    "from IPython.display import clear_output\n",
    "\n",
    "plt.xkcd()\n",
    "\n",
    "style = {\n",
    "    'width': 700,\n",
    "    'height': 600,\n",
    "    'edge_arrows': False,\n",
    "    'plot_higher_order_nodes': True,\n",
    "    'd3js_path': 'http://localhost:8888/notebooks/d3.v4.min.js',\n",
    "    'max_time': 500,\n",
    "}"
   ]
  },
  {
   "cell_type": "markdown",
   "metadata": {},
   "source": [
    "Even more importantly, in real data the model selection will unfortunately not work as described before. In fact, we have cheated because we cannot - in general - directly compare likelihoods of models with different order. The following example highlights this problem:"
   ]
  },
  {
   "cell_type": "code",
   "execution_count": null,
   "metadata": {},
   "outputs": [],
   "source": [
    "path = ('a','b','c','d','e','c','b','a','c','d','e','c','e','d','c','a')\n",
    "\n",
    "p = pp.Paths()\n",
    "p.add_path(path)\n",
    "pp.visualisation.plot(pp.Network.from_paths(p))\n",
    "\n",
    "hon_1 = pp.HigherOrderNetwork(p, k=1)\n",
    "hon_2 = pp.HigherOrderNetwork(p, k=2, null_model=True)\n",
    "hon_5 = pp.HigherOrderNetwork(p, k=5, null_model=True)\n",
    "\n",
    "print(hon_1.likelihood(p, log=False))\n",
    "print(hon_2.likelihood(p, log=False))\n",
    "print(hon_5.likelihood(p, log=False))"
   ]
  },
  {
   "cell_type": "markdown",
   "metadata": {},
   "source": [
    "Shouldn't the likelihoods of these three models be identical? They are not, and this is a major issue when we have data that consists of large numbers of short paths: in terms of the number of transitions that enter the likelihood calculation, a model of order $k$ discards the first $k$ nodes on each path. That is, a second-order model can only account for all but the first edge traversals on the path. This means that - in the general case - we actually compare likelihoods computed for different sample spaces, which is not valid. Let us highlight this by calculating the number of transitions that enter the likelihood calculation:"
   ]
  },
  {
   "cell_type": "code",
   "execution_count": null,
   "metadata": {},
   "outputs": [],
   "source": [
    "print('Path consists of {0} nodes'.format(len(path)))\n",
    "print('first-order model  = ', str(len(hon_1.path_to_higher_order_nodes(path)[1:])))\n",
    "print('second-order model = ', str(len(hon_2.path_to_higher_order_nodes(path)[1:])))\n",
    "print('fifth-order model  = ', str(len(hon_5.path_to_higher_order_nodes(path)[1:])))"
   ]
  },
  {
   "cell_type": "markdown",
   "metadata": {},
   "source": [
    "To fix the issues above, we need a probabilistic generative model that can deal with large collections of (short) paths in a network. The key idea is to combine multiple higher-order network models into a single multi-layered, `multi-order model`. To calculate the likelihood of such a model we can use all layers, thus avoiding the problem that we discard prefixes of paths. For each path, we start the calculation at a layer of order zero, which considers the relative probabilities of nodes. We then use this model layer to calculate the probability to observe the first node on a path. For the next transition to step two, we then use a first-order model. The next transition is calculated in the second-order model and so on, until we have reached the maximum order of our multi-order model. At this point, we can transitively calculate the likelihood based on the remaining transitions of the path.\n",
    "\n",
    "`pathpy` can directly generate, visualise, and analyze multi-order network models. Let us try this in our example:"
   ]
  },
  {
   "cell_type": "code",
   "execution_count": null,
   "metadata": {},
   "outputs": [],
   "source": [
    "mog = pp.MultiOrderModel(p, max_order=2)\n",
    "print(mog)"
   ]
  },
  {
   "cell_type": "markdown",
   "metadata": {},
   "source": [
    "We can now use the likelihood function of the class `MultiOrderModel` to repeat our likelihood ratio test. Rather than generating multiple `MultiOrderModel` instances for different hypotheses, we can directly calculate likelihoods based on different model layers within the same `MultiOrderModel` instance."
   ]
  },
  {
   "cell_type": "code",
   "execution_count": null,
   "metadata": {},
   "outputs": [],
   "source": [
    "mog = pp.MultiOrderModel(paths_1, max_order=2)\n",
    "\n",
    "d = mog.degrees_of_freedom(max_order=2) - mog.degrees_of_freedom(max_order=1)\n",
    "x = - 2 * (mog.likelihood(paths_1, log=True, max_order=1) \n",
    "    - mog.likelihood(paths_1, log=True, max_order=2))\n",
    "p_val = 1 - chi2.cdf(x, d)\n",
    "\n",
    "print('p value of null hypothesis that data has maximum order 1 = {0}'.format(p_val))"
   ]
  },
  {
   "cell_type": "code",
   "execution_count": null,
   "metadata": {},
   "outputs": [],
   "source": [
    "paths_1 *= 5\n",
    "mog = pp.MultiOrderModel(paths_1, max_order=2)\n",
    "\n",
    "d = mog.degrees_of_freedom(max_order=2) - mog.degrees_of_freedom(max_order=1)\n",
    "x = - 2 * (mog.likelihood(paths_1, log=True, max_order=1) \n",
    "    - mog.likelihood(paths_1, log=True, max_order=2))\n",
    "p_val = 1 - chi2.cdf(x, d)\n",
    "\n",
    "print('p value of null hypothesis that data has maximum order 1 = {0}'.format(p_val))"
   ]
  },
  {
   "cell_type": "markdown",
   "metadata": {},
   "source": [
    "We find strong evidence against the null hypothesis that the paths can be explained by a first-order network model. We actually get a different p-value, as we also account for a zero-order model, i.e. we account for the relative frequencies at which nodes occur at the start of a path.\n",
    "\n",
    "Rather than performing the likelihood test ourselves, we can actually simply call the method `MultiOrderModel.estimate_order`. It will return the `maximum order` among all of its layers for which the likelihood ratio test rejects the null hypothesis."
   ]
  },
  {
   "cell_type": "code",
   "execution_count": null,
   "metadata": {},
   "outputs": [],
   "source": [
    "mog.estimate_order(paths_1)"
   ]
  },
  {
   "cell_type": "code",
   "execution_count": null,
   "metadata": {},
   "outputs": [],
   "source": [
    "We now test whether this approach to learn the optimal representation of path data actually works. For this, let us generate path statistics that are in line with what we expect based on a first-order network model, and check whether the order estimation gives the right result."
   ]
  },
  {
   "cell_type": "code",
   "execution_count": null,
   "metadata": {},
   "outputs": [],
   "source": [
    "mog = pp.MultiOrderModel(paths_2, max_order=2)\n",
    "print('Optimal order = ', mog.estimate_order(paths_2))"
   ]
  }
 ],
 "metadata": {
  "kernelspec": {
   "display_name": "Python 3",
   "language": "python",
   "name": "python3"
  },
  "language_info": {
   "codemirror_mode": {
    "name": "ipython",
    "version": 3
   },
   "file_extension": ".py",
   "mimetype": "text/x-python",
   "name": "python",
   "nbconvert_exporter": "python",
   "pygments_lexer": "ipython3",
   "version": "3.9.5"
  }
 },
 "nbformat": 4,
 "nbformat_minor": 4
}
