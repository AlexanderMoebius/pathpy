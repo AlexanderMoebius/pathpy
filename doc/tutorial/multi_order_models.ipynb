{
 "cells": [
  {
   "cell_type": "markdown",
   "metadata": {},
   "source": [
    "# Multi-Order Models\n",
    "\n",
    "[Run notebook in Google Colab](https://colab.research.google.com/github/pathpy/pathpy/blob/master/doc/tutorial/multi_order_models.ipynb)  \n",
    "[Download notebook](https://github.com/pathpy/pathpy/raw/master/doc/tutorial/multi_order_models.ipynb)\n",
    "\n",
    "\n",
    "The exmaples given in the previpus notebook about `Higher Order Models` are too simple in many ways. But real data are more complex, as we have observations of paths at multiple lengths simultaneously. Such data are likely to exhibit multiple correlation lengths at the same time.\n",
    "\n"
   ]
  },
  {
   "cell_type": "code",
   "execution_count": null,
   "metadata": {
    "execution": {
     "iopub.execute_input": "2021-08-28T22:11:30.136366Z",
     "iopub.status.busy": "2021-08-28T22:11:30.135864Z",
     "iopub.status.idle": "2021-08-28T22:11:37.673593Z",
     "shell.execute_reply": "2021-08-28T22:11:37.674062Z"
    }
   },
   "outputs": [],
   "source": [
    "pip install git+git://github.com/pathpy/pathpy.git"
   ]
  },
  {
   "cell_type": "code",
   "execution_count": null,
   "metadata": {
    "execution": {
     "iopub.execute_input": "2021-08-28T22:11:37.677197Z",
     "iopub.status.busy": "2021-08-28T22:11:37.676747Z",
     "iopub.status.idle": "2021-08-28T22:11:38.569626Z",
     "shell.execute_reply": "2021-08-28T22:11:38.570050Z"
    }
   },
   "outputs": [],
   "source": [
    "import pathpy as pp\n",
    "from scipy.stats import chi2"
   ]
  },
  {
   "cell_type": "markdown",
   "metadata": {},
   "source": [
    "Even more importantly, in real data the model selection will unfortunately not work as described before. In fact, we have cheated because we cannot - in general - directly compare likelihoods of models with different order. The following example highlights this problem:"
   ]
  },
  {
   "cell_type": "code",
   "execution_count": null,
   "metadata": {
    "execution": {
     "iopub.execute_input": "2021-08-28T22:11:38.591575Z",
     "iopub.status.busy": "2021-08-28T22:11:38.591070Z",
     "iopub.status.idle": "2021-08-28T22:11:38.594706Z",
     "shell.execute_reply": "2021-08-28T22:11:38.595172Z"
    }
   },
   "outputs": [],
   "source": [
    "path = pp.Path('a','b','c','d','e','c','b','a','c','d','e','c','e','d','c','a')\n",
    "\n",
    "pc = pp.PathCollection()\n",
    "pc.add(path)\n",
    "print(pc)\n",
    "print(pc.counter)\n",
    "\n",
    "hon_1 = pp.HigherOrderNetwork.from_paths(pc, order=1)\n",
    "hon_2 = pp.HigherOrderNetwork.from_paths(pc, order=2)\n",
    "hon_5 = pp.HigherOrderNetwork.from_paths(pc, order=5)\n",
    "\n",
    "print(hon_1.likelihood(pc, log=False))\n",
    "print(hon_2.likelihood(pc, log=False))\n",
    "print(hon_5.likelihood(pc, log=False))"
   ]
  },
  {
   "cell_type": "markdown",
   "metadata": {},
   "source": [
    "Shouldn't the likelihoods of these three models be identical? They are not, and this is a major issue when we have data that consists of large numbers of short paths: in terms of the number of transitions that enter the likelihood calculation, a model of order $k$ discards the first $k$ nodes on each path. That is, a second-order model can only account for all but the first edge traversals on the path. This means that - in the general case - we actually compare likelihoods computed for different sample spaces, which is not valid. Let us highlight this by calculating the number of transitions that enter the likelihood calculation:"
   ]
  },
  {
   "cell_type": "code",
   "execution_count": null,
   "metadata": {
    "execution": {
     "iopub.execute_input": "2021-08-28T22:11:38.597644Z",
     "iopub.status.busy": "2021-08-28T22:11:38.597238Z",
     "iopub.status.idle": "2021-08-28T22:11:38.598847Z",
     "shell.execute_reply": "2021-08-28T22:11:38.599289Z"
    }
   },
   "outputs": [],
   "source": [
    "print('Path consists of {0} nodes'.format(len(path)))"
   ]
  },
  {
   "cell_type": "markdown",
   "metadata": {},
   "source": [
    "To fix the issues above, we need a probabilistic generative model that can deal with large collections of (short) paths in a network. The key idea is to combine multiple higher-order network models into a single multi-layered, `multi-order model`. To calculate the likelihood of such a model we can use all layers, thus avoiding the problem that we discard prefixes of paths. For each path, we start the calculation at a layer of order zero, which considers the relative probabilities of nodes. We then use this model layer to calculate the probability to observe the first node on a path. For the next transition to step two, we then use a first-order model. The next transition is calculated in the second-order model and so on, until we have reached the maximum order of our multi-order model. At this point, we can transitively calculate the likelihood based on the remaining transitions of the path.\n",
    "\n",
    "`pathpy` can directly generate, visualise, and analyze multi-order network models. Let us try this in our example:"
   ]
  },
  {
   "cell_type": "code",
   "execution_count": null,
   "metadata": {
    "execution": {
     "iopub.execute_input": "2021-08-28T22:11:38.622396Z",
     "iopub.status.busy": "2021-08-28T22:11:38.621910Z",
     "iopub.status.idle": "2021-08-28T22:11:38.624106Z",
     "shell.execute_reply": "2021-08-28T22:11:38.624519Z"
    }
   },
   "outputs": [],
   "source": [
    "mog = pp.MultiOrderModel.from_paths(pc, max_order=2)\n",
    "print(mog)\n",
    "print(mog.likelihood(pc, log=False))"
   ]
  },
  {
   "cell_type": "markdown",
   "metadata": {},
   "source": [
    "We can now use the likelihood function of the class `MultiOrderModel` to repeat our likelihood ratio test. Rather than generating multiple `MultiOrderModel` instances for different hypotheses, we can directly calculate likelihoods based on different model layers within the same `MultiOrderModel` instance."
   ]
  },
  {
   "cell_type": "code",
   "execution_count": null,
   "metadata": {
    "execution": {
     "iopub.execute_input": "2021-08-28T22:11:38.649008Z",
     "iopub.status.busy": "2021-08-28T22:11:38.648592Z",
     "iopub.status.idle": "2021-08-28T22:11:38.650641Z",
     "shell.execute_reply": "2021-08-28T22:11:38.651178Z"
    }
   },
   "outputs": [],
   "source": [
    "mog = pp.MultiOrderModel.from_paths(pc, max_order=2)\n",
    "\n",
    "d = mog.degrees_of_freedom(order=2) - mog.degrees_of_freedom(order=1)\n",
    "x = - 2 * (mog.likelihood(pc, log=True, order=1) \n",
    "    - mog.likelihood(pc, log=True, order=2))\n",
    "p_val = 1 - chi2.cdf(x, d)\n",
    "\n",
    "print('p value of null hypothesis that data has maximum order 1 = {0}'.format(p_val))"
   ]
  },
  {
   "cell_type": "code",
   "execution_count": null,
   "metadata": {
    "execution": {
     "iopub.execute_input": "2021-08-28T22:11:38.675323Z",
     "iopub.status.busy": "2021-08-28T22:11:38.674668Z",
     "iopub.status.idle": "2021-08-28T22:11:38.677442Z",
     "shell.execute_reply": "2021-08-28T22:11:38.677890Z"
    }
   },
   "outputs": [],
   "source": [
    "pc.counter[path.uid] = 5\n",
    "print(pc.counter)\n",
    "mog = pp.MultiOrderModel.from_paths(pc, max_order=2)\n",
    "\n",
    "d = mog.degrees_of_freedom(order=2) - mog.degrees_of_freedom(order=1)\n",
    "x = - 2 * (mog.likelihood(pc, log=True, order=1) \n",
    "    - mog.likelihood(pc, log=True, order=2))\n",
    "p_val = 1 - chi2.cdf(x, d)\n",
    "\n",
    "print('p value of null hypothesis that data has maximum order 1 = {0}'.format(p_val))"
   ]
  },
  {
   "cell_type": "markdown",
   "metadata": {},
   "source": [
    "We find strong evidence against the null hypothesis that the paths can be explained by a first-order network model. We actually get a different p-value, as we also account for a zero-order model, i.e. we account for the relative frequencies at which nodes occur at the start of a path.\n",
    "\n",
    "Rather than performing the likelihood test ourselves, we can actually simply call the method `MultiOrderModel.estimate_order`. It will return the `maximum order` among all of its layers for which the likelihood ratio test rejects the null hypothesis."
   ]
  },
  {
   "cell_type": "code",
   "execution_count": null,
   "metadata": {
    "execution": {
     "iopub.execute_input": "2021-08-28T22:11:38.682136Z",
     "iopub.status.busy": "2021-08-28T22:11:38.681490Z",
     "iopub.status.idle": "2021-08-28T22:11:38.684006Z",
     "shell.execute_reply": "2021-08-28T22:11:38.684484Z"
    }
   },
   "outputs": [],
   "source": [
    "mog.predict(pc)"
   ]
  },
  {
   "cell_type": "markdown",
   "metadata": {},
   "source": [
    "We now test whether this approach to learn the optimal representation of path data actually works. For this, let us generate path statistics that are in line with what we expect based on a first-order network model, and check whether the order estimation gives the right result."
   ]
  },
  {
   "cell_type": "code",
   "execution_count": null,
   "metadata": {
    "execution": {
     "iopub.execute_input": "2021-08-28T22:11:38.688006Z",
     "iopub.status.busy": "2021-08-28T22:11:38.687574Z",
     "iopub.status.idle": "2021-08-28T22:11:38.689408Z",
     "shell.execute_reply": "2021-08-28T22:11:38.689870Z"
    }
   },
   "outputs": [],
   "source": [
    "paths_2 = pp.PathCollection()\n",
    "paths_2.add(pp.Path('a', 'c', 'd'), count=1)\n",
    "paths_2.add(pp.Path('b', 'c', 'd'), count=1)\n",
    "paths_2.add(pp.Path('b', 'c', 'e'), count=1)\n",
    "paths_2.add(pp.Path('a', 'c', 'e'), count=1)"
   ]
  },
  {
   "cell_type": "code",
   "execution_count": null,
   "metadata": {
    "execution": {
     "iopub.execute_input": "2021-08-28T22:11:38.692605Z",
     "iopub.status.busy": "2021-08-28T22:11:38.692196Z",
     "iopub.status.idle": "2021-08-28T22:11:38.693839Z",
     "shell.execute_reply": "2021-08-28T22:11:38.694375Z"
    }
   },
   "outputs": [],
   "source": [
    "mog = pp.MultiOrderModel(paths_2, max_order=2)\n",
    "print('Optimal order = ', mog.predict(paths_2))"
   ]
  },
  {
   "cell_type": "code",
   "execution_count": null,
   "metadata": {},
   "outputs": [],
   "source": []
  }
 ],
 "metadata": {
  "interpreter": {
   "hash": "179f2c9954461ddf657daf1ee3f9df7374d575c8403facec5648a064395b52ac"
  },
  "kernelspec": {
   "display_name": "Python 3",
   "language": "python",
   "name": "python3"
  },
  "language_info": {
   "codemirror_mode": {
    "name": "ipython",
    "version": 3
   },
   "file_extension": ".py",
   "mimetype": "text/x-python",
   "name": "python",
   "nbconvert_exporter": "python",
   "pygments_lexer": "ipython3",
   "version": "3.8.5"
  }
 },
 "nbformat": 4,
 "nbformat_minor": 4
}
