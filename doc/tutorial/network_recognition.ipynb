{
 "cells": [
  {
   "cell_type": "markdown",
   "metadata": {},
   "source": [
    "# Recognizing networks in image data\n",
    "\n",
    "[Run notebook in Google Colab](https://colab.research.google.com/github/pathpy/pathpy/blob/master/doc/tutorial/network_recognition.ipynb)  \n",
    "[Download notebook](https://github.com/pathpy/pathpy/raw/master/doc/tutorial/network_recognition.ipynb)\n",
    "\n",
    "To facilitate the reconstruction of network data from illustrations in academic publications or hand-drawn toy examples, `pathpy` provides basic support for optical network recognition, i.e. the reconstruction of networks from pixel images.\n",
    "\n",
    "This tutorial gives a basic introduction into this new feature."
   ]
  },
  {
   "cell_type": "code",
   "execution_count": null,
   "metadata": {
    "execution": {
     "iopub.execute_input": "2021-08-28T22:11:57.569052Z",
     "iopub.status.busy": "2021-08-28T22:11:57.568479Z",
     "iopub.status.idle": "2021-08-28T22:12:07.270067Z",
     "shell.execute_reply": "2021-08-28T22:12:07.270642Z"
    },
    "tags": [
     "hide"
    ]
   },
   "outputs": [],
   "source": [
    "pip install git+git://github.com/pathpy/pathpy.git"
   ]
  },
  {
   "cell_type": "code",
   "execution_count": null,
   "metadata": {
    "execution": {
     "iopub.execute_input": "2021-08-28T22:12:07.274304Z",
     "iopub.status.busy": "2021-08-28T22:12:07.273810Z",
     "iopub.status.idle": "2021-08-28T22:12:08.759968Z",
     "shell.execute_reply": "2021-08-28T22:12:08.760401Z"
    }
   },
   "outputs": [],
   "source": [
    "import pathpy as pp\n",
    "\n",
    "# to read and plot image from web url\n",
    "from matplotlib import pyplot as plt\n",
    "from skimage import io\n",
    "\n",
    "# for demo of user-drawn input\n",
    "from PIL import ImageTk, Image, ImageDraw\n",
    "import PIL\n",
    "from tkinter import *"
   ]
  },
  {
   "cell_type": "markdown",
   "metadata": {},
   "source": [
    "Assume we have access to an image of a network, e.g. via a web url. We can load and depict such an online image using `skimage`."
   ]
  },
  {
   "cell_type": "code",
   "execution_count": null,
   "metadata": {
    "execution": {
     "iopub.execute_input": "2021-08-28T22:12:08.763625Z",
     "iopub.status.busy": "2021-08-28T22:12:08.763120Z",
     "iopub.status.idle": "2021-08-28T22:12:09.222100Z",
     "shell.execute_reply": "2021-08-28T22:12:09.222544Z"
    }
   },
   "outputs": [],
   "source": [
    "img = io.imread('http://www.ludowaltman.nl/slm/network.png')\n",
    "plt.imshow(img)"
   ]
  },
  {
   "cell_type": "markdown",
   "metadata": {},
   "source": [
    "To turn this image into a `pathpy` network object, we can call the function `from_image` in the module `io.network_recognition`. This allows us to pass a url to the image or a file path to a locally stored image. \n",
    "\n",
    "In the current version, we still have to assist the recognition process by setting some basic parameters. For instance, it is useful to set the (approximate) number of nodes in the network, as well as the range of radii that the circular node shapes have."
   ]
  },
  {
   "cell_type": "code",
   "execution_count": null,
   "metadata": {
    "execution": {
     "iopub.execute_input": "2021-08-28T22:12:09.226792Z",
     "iopub.status.busy": "2021-08-28T22:12:09.226359Z",
     "iopub.status.idle": "2021-08-28T22:12:25.307279Z",
     "shell.execute_reply": "2021-08-28T22:12:25.307725Z"
    }
   },
   "outputs": [],
   "source": [
    "n = pp.io.network_recognition.from_image('http://www.ludowaltman.nl/slm/network.png', \n",
    "                                         num_nodes=34, \n",
    "                                         node_radius=(8,15),\n",
    "                                         threshold=10, \n",
    "                                         max_edge_gap=20, \n",
    "                                         min_edge_length=5, \n",
    "                                         intersect_tolerance_factor=1.3)\n",
    "print(n)\n",
    "n.plot()"
   ]
  },
  {
   "cell_type": "markdown",
   "metadata": {},
   "source": [
    "Ad you can see above, the positions of nodes are automatically translated to pathpy node positions, such that we can plot the network in the originally depicted layout. The recognition of (circular) nodes works quite reliably. Depending on the image resolution and quality, the detection of edges is less reliable and requires some parameter tuning (and potentially manual corrections).\n",
    "\n",
    "For small toy examples, the method works quite reliably. However, we currently do not recognize edge directions (i.e. the recognized network will be undirected) and self-loops are ignored."
   ]
  },
  {
   "cell_type": "code",
   "execution_count": null,
   "metadata": {
    "execution": {
     "iopub.execute_input": "2021-08-28T22:12:25.310543Z",
     "iopub.status.busy": "2021-08-28T22:12:25.310069Z",
     "iopub.status.idle": "2021-08-28T22:12:26.951323Z",
     "shell.execute_reply": "2021-08-28T22:12:26.951745Z"
    }
   },
   "outputs": [],
   "source": [
    "img = io.imread('https://warehouse-camo.ingress.cmh1.psfhosted.org/f84df05d3a3e854421ec0b7a637df194070450dd/68747470733a2f2f6861636b6c2e6769746875622e696f2f6e6574776f726b3274696b7a2f706c6f745f30332e706e67')\n",
    "plt.imshow(img)"
   ]
  },
  {
   "cell_type": "code",
   "execution_count": null,
   "metadata": {
    "execution": {
     "iopub.execute_input": "2021-08-28T22:12:26.954821Z",
     "iopub.status.busy": "2021-08-28T22:12:26.954417Z",
     "iopub.status.idle": "2021-08-28T22:12:28.863199Z",
     "shell.execute_reply": "2021-08-28T22:12:28.863658Z"
    }
   },
   "outputs": [],
   "source": [
    "n = pp.io.network_recognition.from_image(\n",
    "    'https://warehouse-camo.ingress.cmh1.psfhosted.org/f84df05d3a3e854421ec0b7a637df194070450dd/68747470733a2f2f6861636b6c2e6769746875622e696f2f6e6574776f726b3274696b7a2f706c6f745f30332e706e67', \n",
    "    sigma=0.1, \n",
    "    num_nodes=7, \n",
    "    node_radius=(35,45), \n",
    "    threshold=2,\n",
    "    max_edge_gap=70, \n",
    "    min_edge_length=90, \n",
    "    intersect_tolerance_factor=1.1)\n",
    "print(n)\n",
    "n.plot()"
   ]
  },
  {
   "cell_type": "markdown",
   "metadata": {},
   "source": [
    "We can even recognize hand-drawn networks as shown in the following example. If you change the next cell into a code cell and execute it, a Tk input canvas will appear that allows you to draw a network by hand (or mouse). Press the save button to save the network to a local `jpg` file."
   ]
  },
  {
   "cell_type": "markdown",
   "metadata": {},
   "source": [
    "```\n",
    "width = 200\n",
    "height = 200\n",
    "center = height//2\n",
    "\n",
    "def save_img():\n",
    "    filename = \"user_input.jpg\"\n",
    "    output_image.save(filename)\n",
    "\n",
    "def paint(event):\n",
    "    x1, y1 = (event.x - 1), (event.y - 1)\n",
    "    x2, y2 = (event.x + 1), (event.y + 1)\n",
    "    canvas.create_oval(x1, y1, x2, y2, fill=\"black\",width=5)\n",
    "    draw.line([x1, y1, x2, y2],fill=\"red\",width=5)\n",
    "\n",
    "master = Tk()\n",
    "canvas = Canvas(master, width=width, height=height, bg='white')\n",
    "canvas.pack()\n",
    "\n",
    "output_image = PIL.Image.new(\"RGB\", (width, height), (255, 255, 255))\n",
    "draw = ImageDraw.Draw(output_image)\n",
    "canvas.pack(expand=YES, fill=BOTH)\n",
    "canvas.bind(\"<B1-Motion>\", paint)\n",
    "button=Button(text=\"save image\",command=save_img)\n",
    "button.pack()\n",
    "\n",
    "master.mainloop()\n",
    "```"
   ]
  },
  {
   "cell_type": "markdown",
   "metadata": {},
   "source": [
    "Let's show the hand-drawn image using `skimage`:"
   ]
  },
  {
   "cell_type": "code",
   "execution_count": null,
   "metadata": {
    "execution": {
     "iopub.execute_input": "2021-08-28T22:12:28.866251Z",
     "iopub.status.busy": "2021-08-28T22:12:28.865848Z",
     "iopub.status.idle": "2021-08-28T22:12:28.975748Z",
     "shell.execute_reply": "2021-08-28T22:12:28.976193Z"
    }
   },
   "outputs": [],
   "source": [
    "img = io.imread('user_input.jpg')\n",
    "plt.imshow(img)"
   ]
  },
  {
   "cell_type": "markdown",
   "metadata": {},
   "source": [
    "We can now turn this example into a `pathpy` object:"
   ]
  },
  {
   "cell_type": "code",
   "execution_count": null,
   "metadata": {
    "execution": {
     "iopub.execute_input": "2021-08-28T22:12:28.979584Z",
     "iopub.status.busy": "2021-08-28T22:12:28.979130Z",
     "iopub.status.idle": "2021-08-28T22:12:29.243666Z",
     "shell.execute_reply": "2021-08-28T22:12:29.244095Z"
    }
   },
   "outputs": [],
   "source": [
    "n = pp.io.network_recognition.from_image('user_input.jpg', num_nodes=3, node_radius=(30,50), threshold=20, max_edge_gap=5, min_edge_length=50, intersect_tolerance_factor=1.4)\n",
    "n.plot()"
   ]
  },
  {
   "cell_type": "code",
   "execution_count": null,
   "metadata": {},
   "outputs": [],
   "source": []
  },
  {
   "cell_type": "code",
   "execution_count": null,
   "metadata": {},
   "outputs": [],
   "source": []
  }
 ],
 "metadata": {
  "celltoolbar": "Tags",
  "kernelspec": {
   "display_name": "Python 3",
   "language": "python",
   "name": "python3"
  },
  "language_info": {
   "codemirror_mode": {
    "name": "ipython",
    "version": 3
   },
   "file_extension": ".py",
   "mimetype": "text/x-python",
   "name": "python",
   "nbconvert_exporter": "python",
   "pygments_lexer": "ipython3",
   "version": "3.8.5"
  },
  "metadata": {
   "interpreter": {
    "hash": "82db51cffef479cc4d0f53089378e5a2925f9e7adca31d741132ceba61ecca6f"
   }
  }
 },
 "nbformat": 4,
 "nbformat_minor": 2
}
