{
 "cells": [
  {
   "cell_type": "markdown",
   "metadata": {},
   "source": [
    "# Reading networks from SQL databases\n",
    "\n",
    "[Run notebook in Google Colab](https://colab.research.google.com/github/pathpy/pathpy/blob/master/doc/tutorial/sql.ipynb)  \n",
    "[Download notebook](https://github.com/pathpy/pathpy/raw/master/doc/tutorial/sql.ipynb)\n",
    "\n",
    "To simplify the analysis of network data, `pathpy` can directly load and write network from and into SQL databases. For this, we can call the function `read_sql` function in the `io` module. It allows us to pass an open connection to an SQLite database file, which we obtain using the `connect` function of sqlite3. We can further pass an arbitrary SQL query. The columns of this query will be used to generate edges with attributes. "
   ]
  },
  {
   "cell_type": "code",
   "execution_count": 8,
   "metadata": {},
   "outputs": [
    {
     "output_type": "stream",
     "name": "stdout",
     "text": [
      "Collecting git+git://github.com/pathpy/pathpy.git\n",
      "  Cloning git://github.com/pathpy/pathpy.git to /tmp/pip-req-build-jr37pdqd\n",
      "  Running command git clone -q git://github.com/pathpy/pathpy.git /tmp/pip-req-build-jr37pdqd\n",
      "Requirement already satisfied: numpy>=1.17.0 in /home/max/py3-venv/pathp/lib/python3.9/site-packages (from pathpy3==3.0.25) (1.20.2)\n",
      "Requirement already satisfied: scipy>=1.3.1 in /home/max/py3-venv/pathp/lib/python3.9/site-packages (from pathpy3==3.0.25) (1.6.3)\n",
      "Requirement already satisfied: tqdm>=4.36.1 in /home/max/py3-venv/pathp/lib/python3.9/site-packages (from pathpy3==3.0.25) (4.60.0)\n",
      "Requirement already satisfied: pandas>=0.25.2 in /home/max/py3-venv/pathp/lib/python3.9/site-packages (from pathpy3==3.0.25) (1.2.4)\n",
      "Requirement already satisfied: singledispatchmethod>=1.0 in /home/max/py3-venv/pathp/lib/python3.9/site-packages (from pathpy3==3.0.25) (1.0)\n",
      "Requirement already satisfied: python-dateutil>=2.7.3 in /home/max/py3-venv/pathp/lib/python3.9/site-packages (from pandas>=0.25.2->pathpy3==3.0.25) (2.8.1)\n",
      "Requirement already satisfied: pytz>=2017.3 in /home/max/py3-venv/pathp/lib/python3.9/site-packages (from pandas>=0.25.2->pathpy3==3.0.25) (2021.1)\n",
      "Requirement already satisfied: six>=1.5 in /home/max/py3-venv/pathp/lib/python3.9/site-packages (from python-dateutil>=2.7.3->pandas>=0.25.2->pathpy3==3.0.25) (1.15.0)\n",
      "\u001b[33mWARNING: You are using pip version 21.1; however, version 21.1.1 is available.\n",
      "You should consider upgrading via the '/home/max/py3-venv/pathp/bin/python3 -m pip install --upgrade pip' command.\u001b[0m\n",
      "Note: you may need to restart the kernel to use updated packages.\n"
     ]
    }
   ],
   "source": [
    "pip install git+git://github.com/pathpy/pathpy.git"
   ]
  },
  {
   "cell_type": "code",
   "execution_count": 1,
   "metadata": {},
   "outputs": [
    {
     "output_type": "display_data",
     "data": {
      "text/plain": "<IPython.core.display.HTML object>",
      "text/html": "\n    <script charset=\"utf-8\">\n    // Load via requireJS if available (jupyter notebook environment)\n    try {\n    require.config({\n    paths: {\n    d3: \"https://d3js.org/d3.v5.min.js\".replace(\".js\", \"\")\n    }\n    });\n    console.log(\"OKAY: requireJS was detected\");\n    }\n    catch(err){\n    console.log(err);\n    console.log(\"ERROR: NO requireJS was detected\");\n    };\n    require(['d3'], function(d3){\n    console.log(\"OKAY: d3js was detected\");\n    });\n    </script>\n    "
     },
     "metadata": {}
    }
   ],
   "source": [
    "import pathpy as pp\n",
    "import sqlite3"
   ]
  },
  {
   "cell_type": "code",
   "execution_count": 2,
   "metadata": {},
   "outputs": [
    {
     "output_type": "stream",
     "name": "stderr",
     "text": [
      "[05-21 17:45:50: WARNING] 1948 edges existed already and were not be considered. To capture those edges, consider creating a multiedge and/or directed network.\n",
      "Uid:\t\t\t0x7f59031ee700\n",
      "Type:\t\t\tNetwork\n",
      "Directed:\t\tTrue\n",
      "Multi-Edges:\t\tFalse\n",
      "Number of nodes:\t139\n",
      "Number of edges:\t701\n"
     ]
    }
   ],
   "source": [
    "con = sqlite3.connect('networks.db')\n",
    "n = pp.io.sql.read_network(con=con, sql='SELECT source, target FROM lotr', directed=True)\n",
    "print(n)"
   ]
  },
  {
   "source": [
    "If we instead want to read all columns from a given table (without giving an open connection or an SQL query) we can simply write:"
   ],
   "cell_type": "markdown",
   "metadata": {}
  },
  {
   "cell_type": "code",
   "execution_count": 4,
   "metadata": {},
   "outputs": [
    {
     "output_type": "stream",
     "name": "stderr",
     "text": [
      "[05-21 17:46:46: ERROR] Either an SQL connection or a filename is required\n"
     ]
    },
    {
     "output_type": "error",
     "ename": "ParameterError",
     "evalue": "Either an SQL connection or a filename is required",
     "traceback": [
      "\u001b[0;31m---------------------------------------------------------------------------\u001b[0m",
      "\u001b[0;31mParameterError\u001b[0m                            Traceback (most recent call last)",
      "\u001b[0;32m<ipython-input-4-22083497128b>\u001b[0m in \u001b[0;36m<module>\u001b[0;34m\u001b[0m\n\u001b[0;32m----> 1\u001b[0;31m \u001b[0mn\u001b[0m \u001b[0;34m=\u001b[0m \u001b[0mpp\u001b[0m\u001b[0;34m.\u001b[0m\u001b[0mio\u001b[0m\u001b[0;34m.\u001b[0m\u001b[0msql\u001b[0m\u001b[0;34m.\u001b[0m\u001b[0mread_network\u001b[0m\u001b[0;34m(\u001b[0m\u001b[0mfilename\u001b[0m\u001b[0;34m=\u001b[0m\u001b[0;34m'networks.db'\u001b[0m\u001b[0;34m,\u001b[0m \u001b[0mtable\u001b[0m\u001b[0;34m=\u001b[0m\u001b[0;34m'lotr'\u001b[0m\u001b[0;34m)\u001b[0m\u001b[0;34m\u001b[0m\u001b[0;34m\u001b[0m\u001b[0m\n\u001b[0m\u001b[1;32m      2\u001b[0m \u001b[0mprint\u001b[0m\u001b[0;34m(\u001b[0m\u001b[0mn\u001b[0m\u001b[0;34m)\u001b[0m\u001b[0;34m\u001b[0m\u001b[0;34m\u001b[0m\u001b[0m\n",
      "\u001b[0;32m~/py3-venv/pathp/lib/python3.9/site-packages/pathpy/io/sql.py\u001b[0m in \u001b[0;36mread_network\u001b[0;34m(db_file, loops, directed, multiedges, con, sql, table, uri, **kwargs)\u001b[0m\n\u001b[1;32m    115\u001b[0m     \u001b[0;31m# pylint: disable=too-many-arguments\u001b[0m\u001b[0;34m\u001b[0m\u001b[0;34m\u001b[0m\u001b[0;34m\u001b[0m\u001b[0m\n\u001b[1;32m    116\u001b[0m \u001b[0;34m\u001b[0m\u001b[0m\n\u001b[0;32m--> 117\u001b[0;31m     \u001b[0mframe\u001b[0m \u001b[0;34m=\u001b[0m \u001b[0mread_dataframe\u001b[0m\u001b[0;34m(\u001b[0m\u001b[0mdb_file\u001b[0m\u001b[0;34m=\u001b[0m\u001b[0mdb_file\u001b[0m\u001b[0;34m,\u001b[0m \u001b[0mcon\u001b[0m\u001b[0;34m=\u001b[0m\u001b[0mcon\u001b[0m\u001b[0;34m,\u001b[0m \u001b[0msql\u001b[0m\u001b[0;34m=\u001b[0m\u001b[0msql\u001b[0m\u001b[0;34m,\u001b[0m \u001b[0mtable\u001b[0m\u001b[0;34m=\u001b[0m\u001b[0mtable\u001b[0m\u001b[0;34m,\u001b[0m \u001b[0muri\u001b[0m\u001b[0;34m=\u001b[0m\u001b[0muri\u001b[0m\u001b[0;34m)\u001b[0m\u001b[0;34m\u001b[0m\u001b[0;34m\u001b[0m\u001b[0m\n\u001b[0m\u001b[1;32m    118\u001b[0m \u001b[0;34m\u001b[0m\u001b[0m\n\u001b[1;32m    119\u001b[0m     net = to_network(frame, loops=loops, directed=directed,\n",
      "\u001b[0;32m~/py3-venv/pathp/lib/python3.9/site-packages/pathpy/io/sql.py\u001b[0m in \u001b[0;36mread_dataframe\u001b[0;34m(db_file, con, uri, sql, table)\u001b[0m\n\u001b[1;32m     45\u001b[0m         \u001b[0mmsg\u001b[0m \u001b[0;34m=\u001b[0m \u001b[0;34m'Either an SQL connection or a filename is required'\u001b[0m\u001b[0;34m\u001b[0m\u001b[0;34m\u001b[0m\u001b[0m\n\u001b[1;32m     46\u001b[0m         \u001b[0mLOG\u001b[0m\u001b[0;34m.\u001b[0m\u001b[0merror\u001b[0m\u001b[0;34m(\u001b[0m\u001b[0mmsg\u001b[0m\u001b[0;34m)\u001b[0m\u001b[0;34m\u001b[0m\u001b[0;34m\u001b[0m\u001b[0m\n\u001b[0;32m---> 47\u001b[0;31m         \u001b[0;32mraise\u001b[0m \u001b[0mParameterError\u001b[0m\u001b[0;34m(\u001b[0m\u001b[0mmsg\u001b[0m\u001b[0;34m)\u001b[0m\u001b[0;34m\u001b[0m\u001b[0;34m\u001b[0m\u001b[0m\n\u001b[0m\u001b[1;32m     48\u001b[0m \u001b[0;34m\u001b[0m\u001b[0m\n\u001b[1;32m     49\u001b[0m     \u001b[0mcon_close\u001b[0m \u001b[0;34m=\u001b[0m \u001b[0;32mFalse\u001b[0m\u001b[0;34m\u001b[0m\u001b[0;34m\u001b[0m\u001b[0m\n",
      "\u001b[0;31mParameterError\u001b[0m: Either an SQL connection or a filename is required"
     ]
    }
   ],
   "source": [
    "n = pp.io.sql.read_network(filename='networks.db', table='lotr')\n",
    "print(n)"
   ]
  },
  {
   "source": [
    "If we read a whole table from an SQL database, the `read_sql` function will automatically retrieve all edge attributes. In our database, the table `lotr`, which captures proximity of Lord of the Rings characters as the story progresses, contains a time attribute that stores when (in which sentence) both characters are mentioned."
   ],
   "cell_type": "markdown",
   "metadata": {}
  },
  {
   "cell_type": "code",
   "execution_count": 5,
   "metadata": {},
   "outputs": [
    {
     "output_type": "error",
     "ename": "AttributeError",
     "evalue": "module 'pathpy.io' has no attribute 'read_sql'",
     "traceback": [
      "\u001b[0;31m---------------------------------------------------------------------------\u001b[0m",
      "\u001b[0;31mAttributeError\u001b[0m                            Traceback (most recent call last)",
      "\u001b[0;32m<ipython-input-5-c341cb6a4f42>\u001b[0m in \u001b[0;36m<module>\u001b[0;34m\u001b[0m\n\u001b[0;32m----> 1\u001b[0;31m \u001b[0mn\u001b[0m \u001b[0;34m=\u001b[0m \u001b[0mpp\u001b[0m\u001b[0;34m.\u001b[0m\u001b[0mio\u001b[0m\u001b[0;34m.\u001b[0m\u001b[0mread_sql\u001b[0m\u001b[0;34m(\u001b[0m\u001b[0mfilename\u001b[0m\u001b[0;34m=\u001b[0m\u001b[0;34m'networks.db'\u001b[0m\u001b[0;34m,\u001b[0m \u001b[0mtable\u001b[0m\u001b[0;34m=\u001b[0m\u001b[0;34m'lotr'\u001b[0m\u001b[0;34m,\u001b[0m \u001b[0mdirected\u001b[0m\u001b[0;34m=\u001b[0m\u001b[0;32mTrue\u001b[0m\u001b[0;34m)\u001b[0m\u001b[0;34m\u001b[0m\u001b[0;34m\u001b[0m\u001b[0m\n\u001b[0m\u001b[1;32m      2\u001b[0m \u001b[0me\u001b[0m \u001b[0;34m=\u001b[0m \u001b[0mlist\u001b[0m\u001b[0;34m(\u001b[0m\u001b[0mn\u001b[0m\u001b[0;34m.\u001b[0m\u001b[0medges\u001b[0m\u001b[0;34m.\u001b[0m\u001b[0muids\u001b[0m\u001b[0;34m)\u001b[0m\u001b[0;34m[\u001b[0m\u001b[0;36m0\u001b[0m\u001b[0;34m]\u001b[0m\u001b[0;34m\u001b[0m\u001b[0;34m\u001b[0m\u001b[0m\n\u001b[1;32m      3\u001b[0m \u001b[0mprint\u001b[0m\u001b[0;34m(\u001b[0m\u001b[0mn\u001b[0m\u001b[0;34m.\u001b[0m\u001b[0medges\u001b[0m\u001b[0;34m[\u001b[0m\u001b[0me\u001b[0m\u001b[0;34m]\u001b[0m\u001b[0;34m)\u001b[0m\u001b[0;34m\u001b[0m\u001b[0;34m\u001b[0m\u001b[0m\n\u001b[1;32m      4\u001b[0m \u001b[0mprint\u001b[0m\u001b[0;34m(\u001b[0m\u001b[0mn\u001b[0m\u001b[0;34m.\u001b[0m\u001b[0medges\u001b[0m\u001b[0;34m[\u001b[0m\u001b[0me\u001b[0m\u001b[0;34m]\u001b[0m\u001b[0;34m.\u001b[0m\u001b[0mattributes\u001b[0m\u001b[0;34m)\u001b[0m\u001b[0;34m\u001b[0m\u001b[0;34m\u001b[0m\u001b[0m\n",
      "\u001b[0;31mAttributeError\u001b[0m: module 'pathpy.io' has no attribute 'read_sql'"
     ]
    }
   ],
   "source": [
    "n = pp.io.read_sql(filename='networks.db', table='lotr', directed=True)\n",
    "e = list(n.edges.uids)[0]\n",
    "print(n.edges[e])\n",
    "print(n.edges[e].attributes)"
   ]
  },
  {
   "source": [
    "toring a Network in an SQL database is just as easy. Let's first create a network where edges have attributes:"
   ],
   "cell_type": "markdown",
   "metadata": {}
  },
  {
   "cell_type": "code",
   "execution_count": 6,
   "metadata": {},
   "outputs": [
    {
     "output_type": "stream",
     "name": "stdout",
     "text": [
      "Uid:\t\t\t0x7f59030963d0\nType:\t\t\tNetwork\nDirected:\t\tFalse\nMulti-Edges:\t\tFalse\nNumber of nodes:\t3\nNumber of edges:\t2\n"
     ]
    }
   ],
   "source": [
    "n = pp.Network(directed=False)\n",
    "n.add_edge('a', 'b', weight=2.0)\n",
    "n.add_edge('a', 'c', type='friendship')\n",
    "print(n)"
   ]
  },
  {
   "source": [
    "To store this in a new table in an SQLite database file, we call the `write_sql` function. If the database file and table do not exist, a new database file or table is created. if they exist, we can use the `if_exists` parameter to specify what should be done:"
   ],
   "cell_type": "markdown",
   "metadata": {}
  },
  {
   "cell_type": "code",
   "execution_count": 9,
   "metadata": {},
   "outputs": [],
   "source": [
    "pp.io.sql.write(n, filename='networks.db', table='test_network', if_exists='replace')"
   ]
  },
  {
   "cell_type": "code",
   "execution_count": 11,
   "metadata": {},
   "outputs": [
    {
     "output_type": "stream",
     "name": "stdout",
     "text": [
      "Uid:\t\t\t0x7f59024530a0\nType:\t\t\tNetwork\nDirected:\t\tTrue\nMulti-Edges:\t\tFalse\nNumber of nodes:\t3\nNumber of edges:\t2\n"
     ]
    }
   ],
   "source": [
    "con = sqlite3.connect('networks.db')\n",
    "n = pp.io.sql.read_network(con=con, sql='SELECT * FROM test_network', directed=True)\n",
    "print(n)"
   ]
  },
  {
   "cell_type": "code",
   "execution_count": null,
   "metadata": {},
   "outputs": [],
   "source": []
  }
 ],
 "metadata": {
  "language_info": {
   "codemirror_mode": {
    "name": "ipython",
    "version": 3
   },
   "file_extension": ".py",
   "mimetype": "text/x-python",
   "name": "python",
   "nbconvert_exporter": "python",
   "pygments_lexer": "ipython3",
   "version": "3.9.4"
  },
  "kernelspec": {
   "name": "python394jvsc74a57bd0cbc06d602e623f3da56a6fd8482a438fdef2ce96413bf7bd183f2e65bbc2f388",
   "display_name": "Python 3.9.4 64-bit ('pathp': venv)"
  }
 },
 "nbformat": 4,
 "nbformat_minor": 2
}