{
 "cells": [
  {
   "cell_type": "markdown",
   "metadata": {},
   "source": [
    "# Calculating node centralities\n",
    "\n",
    "[Run notebook in Google Colab](https://colab.research.google.com/github/pathpy/pathpy/blob/master/doc/tutorial/centralities.ipynb)  \n",
    "[Download notebook](https://github.com/pathpy/pathpy/raw/master/doc/tutorial/centralities.ipynb)\n",
    "\n",
    "In the following we implement degree- and path-based centrality measures and apply them to identify important nodes in empirical networks."
   ]
  },
  {
   "cell_type": "code",
   "execution_count": null,
   "metadata": {
    "execution": {
     "iopub.execute_input": "2021-06-22T16:47:50.010164Z",
     "iopub.status.busy": "2021-06-22T16:47:50.008270Z",
     "iopub.status.idle": "2021-06-22T16:47:56.444376Z",
     "shell.execute_reply": "2021-06-22T16:47:56.445040Z"
    }
   },
   "outputs": [],
   "source": [
    "pip install git+git://github.com/pathpy/pathpy.git"
   ]
  },
  {
   "cell_type": "code",
   "execution_count": null,
   "metadata": {
    "execution": {
     "iopub.execute_input": "2021-06-22T16:47:56.451751Z",
     "iopub.status.busy": "2021-06-22T16:47:56.450262Z",
     "iopub.status.idle": "2021-06-22T16:47:56.996726Z",
     "shell.execute_reply": "2021-06-22T16:47:56.997105Z"
    }
   },
   "outputs": [],
   "source": [
    "from collections import defaultdict, Counter\n",
    "\n",
    "import pathpy as pp\n",
    "import numpy as np"
   ]
  },
  {
   "cell_type": "markdown",
   "metadata": {},
   "source": [
    "We will test our implementation in an undirected and a directed example network."
   ]
  },
  {
   "cell_type": "code",
   "execution_count": null,
   "metadata": {
    "execution": {
     "iopub.execute_input": "2021-06-22T16:47:57.005011Z",
     "iopub.status.busy": "2021-06-22T16:47:57.004424Z",
     "iopub.status.idle": "2021-06-22T16:47:57.009200Z",
     "shell.execute_reply": "2021-06-22T16:47:57.009574Z"
    }
   },
   "outputs": [],
   "source": [
    "n_undirected = pp.Network(directed=False)\n",
    "n_undirected.add_edge('a', 'b')\n",
    "n_undirected.add_edge('b', 'c')\n",
    "n_undirected.add_edge('c', 'a')\n",
    "n_undirected.add_edge('d', 'e')\n",
    "n_undirected.add_edge('e', 'f')\n",
    "n_undirected.add_edge('f', 'g')\n",
    "n_undirected.add_edge('g', 'd')\n",
    "n_undirected.add_edge('d', 'f')\n",
    "n_undirected.add_edge('b', 'd')\n",
    "n_undirected.plot()"
   ]
  },
  {
   "cell_type": "code",
   "execution_count": null,
   "metadata": {
    "execution": {
     "iopub.execute_input": "2021-06-22T16:47:57.016328Z",
     "iopub.status.busy": "2021-06-22T16:47:57.015487Z",
     "iopub.status.idle": "2021-06-22T16:47:57.019442Z",
     "shell.execute_reply": "2021-06-22T16:47:57.020022Z"
    }
   },
   "outputs": [],
   "source": [
    "n_directed = pp.Network(directed=True)\n",
    "n_directed.add_edge('a', 'b')\n",
    "n_directed.add_edge('b', 'c')\n",
    "n_directed.add_edge('c', 'a')\n",
    "n_directed.add_edge('d', 'e')\n",
    "n_directed.add_edge('e', 'f')\n",
    "n_directed.add_edge('f', 'g')\n",
    "n_directed.add_edge('g', 'd')\n",
    "n_directed.add_edge('d', 'f')\n",
    "n_directed.add_edge('b', 'd')\n",
    "n_directed.plot()"
   ]
  },
  {
   "cell_type": "markdown",
   "metadata": {},
   "source": [
    "## Degree Centrality\n",
    "\n",
    "A simple, local notion of node importance in networks can be defined based on the degrees of nodes. In `pathpy` we can compute the (in- or out-)degrees of nodes as follows:"
   ]
  },
  {
   "cell_type": "code",
   "execution_count": null,
   "metadata": {
    "execution": {
     "iopub.execute_input": "2021-06-22T16:47:57.024533Z",
     "iopub.status.busy": "2021-06-22T16:47:57.023764Z",
     "iopub.status.idle": "2021-06-22T16:47:57.026417Z",
     "shell.execute_reply": "2021-06-22T16:47:57.026987Z"
    }
   },
   "outputs": [],
   "source": [
    "n_undirected.degrees()"
   ]
  },
  {
   "cell_type": "code",
   "execution_count": null,
   "metadata": {
    "execution": {
     "iopub.execute_input": "2021-06-22T16:47:57.031478Z",
     "iopub.status.busy": "2021-06-22T16:47:57.030696Z",
     "iopub.status.idle": "2021-06-22T16:47:57.033482Z",
     "shell.execute_reply": "2021-06-22T16:47:57.034106Z"
    }
   },
   "outputs": [],
   "source": [
    "n_directed.indegrees()"
   ]
  },
  {
   "cell_type": "code",
   "execution_count": null,
   "metadata": {
    "execution": {
     "iopub.execute_input": "2021-06-22T16:47:57.039136Z",
     "iopub.status.busy": "2021-06-22T16:47:57.038434Z",
     "iopub.status.idle": "2021-06-22T16:47:57.040910Z",
     "shell.execute_reply": "2021-06-22T16:47:57.041492Z"
    }
   },
   "outputs": [],
   "source": [
    "n_directed.outdegrees()"
   ]
  },
  {
   "cell_type": "markdown",
   "metadata": {},
   "source": [
    "In order to provide a unified API to all centrality measures, `pathpy` additionally includes a `degree_centrality` function in the module `pp.algorithms.centralities`. Using the `mode` parameter, we can switch between degre, in-, or out-degree."
   ]
  },
  {
   "cell_type": "code",
   "execution_count": null,
   "metadata": {
    "execution": {
     "iopub.execute_input": "2021-06-22T16:47:57.045499Z",
     "iopub.status.busy": "2021-06-22T16:47:57.044783Z",
     "iopub.status.idle": "2021-06-22T16:47:57.047226Z",
     "shell.execute_reply": "2021-06-22T16:47:57.047811Z"
    }
   },
   "outputs": [],
   "source": [
    "pp.algorithms.centralities.degree_centrality(n_undirected)"
   ]
  },
  {
   "cell_type": "code",
   "execution_count": null,
   "metadata": {
    "execution": {
     "iopub.execute_input": "2021-06-22T16:47:57.052194Z",
     "iopub.status.busy": "2021-06-22T16:47:57.051430Z",
     "iopub.status.idle": "2021-06-22T16:47:57.053930Z",
     "shell.execute_reply": "2021-06-22T16:47:57.054518Z"
    }
   },
   "outputs": [],
   "source": [
    "pp.algorithms.centralities.degree_centrality(n_directed, mode='indegree')"
   ]
  },
  {
   "cell_type": "code",
   "execution_count": null,
   "metadata": {
    "execution": {
     "iopub.execute_input": "2021-06-22T16:47:57.058533Z",
     "iopub.status.busy": "2021-06-22T16:47:57.057800Z",
     "iopub.status.idle": "2021-06-22T16:47:57.060223Z",
     "shell.execute_reply": "2021-06-22T16:47:57.060801Z"
    }
   },
   "outputs": [],
   "source": [
    "pp.algorithms.centralities.degree_centrality(n_directed, mode='outdegree')"
   ]
  },
  {
   "cell_type": "markdown",
   "metadata": {},
   "source": [
    "A common task in network analysis is the ranking of nodes by centrality. Since dictionaries in `python` are not ordered, this requires a different data structure. To simplify this frequent task, `pathpy` comes with a `rank_centralities` function that takes an unordered dictionary with centrality values as parameter, and returns a list of tuples with node uids and centrality values that are arranged in descending order:"
   ]
  },
  {
   "cell_type": "code",
   "execution_count": null,
   "metadata": {
    "execution": {
     "iopub.execute_input": "2021-06-22T16:47:57.066498Z",
     "iopub.status.busy": "2021-06-22T16:47:57.065811Z",
     "iopub.status.idle": "2021-06-22T16:47:57.068077Z",
     "shell.execute_reply": "2021-06-22T16:47:57.068526Z"
    }
   },
   "outputs": [],
   "source": [
    "ranking = pp.algorithms.centralities.rank_centralities(pp.algorithms.centralities.degree_centrality(n_undirected))\n",
    "print(ranking)\n",
    "\n",
    "print('The most important node is', ranking[0][0])"
   ]
  },
  {
   "cell_type": "markdown",
   "metadata": {},
   "source": [
    "## Centrality measures in `pathpy`\n",
    "\n",
    "To obtain a centrality measure that actually considers the topology of links (and not only the number of links incident to nodes) we can use the `centralities` module in `pathpy.algorithms`.  "
   ]
  },
  {
   "cell_type": "code",
   "execution_count": null,
   "metadata": {
    "execution": {
     "iopub.execute_input": "2021-06-22T16:47:57.073527Z",
     "iopub.status.busy": "2021-06-22T16:47:57.073030Z",
     "iopub.status.idle": "2021-06-22T16:47:57.075346Z",
     "shell.execute_reply": "2021-06-22T16:47:57.074931Z"
    }
   },
   "outputs": [],
   "source": [
    "pp.algorithms.centralities.closeness_centrality(n_undirected)"
   ]
  },
  {
   "cell_type": "code",
   "execution_count": null,
   "metadata": {
    "execution": {
     "iopub.execute_input": "2021-06-22T16:47:57.079369Z",
     "iopub.status.busy": "2021-06-22T16:47:57.078855Z",
     "iopub.status.idle": "2021-06-22T16:47:57.082028Z",
     "shell.execute_reply": "2021-06-22T16:47:57.081370Z"
    }
   },
   "outputs": [],
   "source": [
    "pp.algorithms.centralities.closeness_centrality(n_undirected, normalized=True)"
   ]
  },
  {
   "cell_type": "markdown",
   "metadata": {},
   "source": [
    "Alternatively, the same methods are also available as members of the Network class, which allows us to directly calculate them on an instance:"
   ]
  },
  {
   "cell_type": "code",
   "execution_count": null,
   "metadata": {
    "execution": {
     "iopub.execute_input": "2021-06-22T16:47:57.087673Z",
     "iopub.status.busy": "2021-06-22T16:47:57.087198Z",
     "iopub.status.idle": "2021-06-22T16:47:57.089735Z",
     "shell.execute_reply": "2021-06-22T16:47:57.089354Z"
    }
   },
   "outputs": [],
   "source": [
    "pp.algorithms.centralities.rank_centralities(n_undirected.betweenness_centrality())"
   ]
  },
  {
   "cell_type": "markdown",
   "metadata": {},
   "source": [
    "# todo\n",
    "\n",
    "datenbank highschoolabklären und visualiesirung hinzufügen"
   ]
  },
  {
   "cell_type": "markdown",
   "metadata": {},
   "source": [
    "# Path Centralities"
   ]
  },
  {
   "cell_type": "code",
   "execution_count": null,
   "metadata": {
    "execution": {
     "iopub.execute_input": "2021-06-22T16:47:57.095463Z",
     "iopub.status.busy": "2021-06-22T16:47:57.095021Z",
     "iopub.status.idle": "2021-06-22T16:47:57.100451Z",
     "shell.execute_reply": "2021-06-22T16:47:57.101030Z"
    }
   },
   "outputs": [],
   "source": [
    "n = pp.Network(directed=True)\n",
    "n.add_edge('a', 'x')\n",
    "n.add_edge('b', 'x')\n",
    "n.add_edge('x', 'c')\n",
    "n.add_edge('x', 'd')\n",
    "n.plot()"
   ]
  },
  {
   "cell_type": "code",
   "execution_count": null,
   "metadata": {
    "execution": {
     "iopub.execute_input": "2021-06-22T16:47:57.106176Z",
     "iopub.status.busy": "2021-06-22T16:47:57.105493Z",
     "iopub.status.idle": "2021-06-22T16:47:57.107790Z",
     "shell.execute_reply": "2021-06-22T16:47:57.108344Z"
    }
   },
   "outputs": [],
   "source": [
    "pc = pp.PathCollection()\n",
    "pc.add(n.nodes['a'], n.nodes['x'], n.nodes['c'], count=2)\n",
    "pc.add(n.nodes['b'], n.nodes['x'], n.nodes['d'], count=2)\n",
    "print(pc.counter)"
   ]
  },
  {
   "cell_type": "code",
   "execution_count": null,
   "metadata": {
    "execution": {
     "iopub.execute_input": "2021-06-22T16:47:57.112910Z",
     "iopub.status.busy": "2021-06-22T16:47:57.112222Z",
     "iopub.status.idle": "2021-06-22T16:47:57.114610Z",
     "shell.execute_reply": "2021-06-22T16:47:57.115168Z"
    }
   },
   "outputs": [],
   "source": [
    "pp.algorithms.shortest_paths.distance_matrix(n)"
   ]
  },
  {
   "cell_type": "code",
   "execution_count": null,
   "metadata": {
    "execution": {
     "iopub.execute_input": "2021-06-22T16:47:57.119645Z",
     "iopub.status.busy": "2021-06-22T16:47:57.118975Z",
     "iopub.status.idle": "2021-06-22T16:47:57.121427Z",
     "shell.execute_reply": "2021-06-22T16:47:57.121988Z"
    }
   },
   "outputs": [],
   "source": [
    "pp.algorithms.closeness_centrality(n, disconnected=True)"
   ]
  },
  {
   "cell_type": "code",
   "execution_count": null,
   "metadata": {
    "execution": {
     "iopub.execute_input": "2021-06-22T16:47:57.125983Z",
     "iopub.status.busy": "2021-06-22T16:47:57.125308Z",
     "iopub.status.idle": "2021-06-22T16:47:57.127676Z",
     "shell.execute_reply": "2021-06-22T16:47:57.128233Z"
    }
   },
   "outputs": [],
   "source": [
    "pp.algorithms.centralities.betweenness_centrality(n)"
   ]
  },
  {
   "cell_type": "code",
   "execution_count": null,
   "metadata": {
    "execution": {
     "iopub.execute_input": "2021-06-22T16:47:57.132632Z",
     "iopub.status.busy": "2021-06-22T16:47:57.131895Z",
     "iopub.status.idle": "2021-06-22T16:47:57.134879Z",
     "shell.execute_reply": "2021-06-22T16:47:57.135438Z"
    }
   },
   "outputs": [],
   "source": [
    "pp.algorithms.shortest_paths.distance_matrix(pc)"
   ]
  },
  {
   "cell_type": "code",
   "execution_count": null,
   "metadata": {
    "execution": {
     "iopub.execute_input": "2021-06-22T16:47:57.140572Z",
     "iopub.status.busy": "2021-06-22T16:47:57.139901Z",
     "iopub.status.idle": "2021-06-22T16:47:57.143099Z",
     "shell.execute_reply": "2021-06-22T16:47:57.142502Z"
    }
   },
   "outputs": [],
   "source": [
    "pp.algorithms.centralities.closeness_centrality(pc, disconnected=True)"
   ]
  },
  {
   "cell_type": "code",
   "execution_count": null,
   "metadata": {
    "execution": {
     "iopub.execute_input": "2021-06-22T16:47:57.148016Z",
     "iopub.status.busy": "2021-06-22T16:47:57.147322Z",
     "iopub.status.idle": "2021-06-22T16:47:57.150043Z",
     "shell.execute_reply": "2021-06-22T16:47:57.150603Z"
    }
   },
   "outputs": [],
   "source": [
    "pp.algorithms.centralities.betweenness_centrality(pc)"
   ]
  },
  {
   "cell_type": "code",
   "execution_count": null,
   "metadata": {},
   "outputs": [],
   "source": []
  }
 ],
 "metadata": {
  "kernelspec": {
   "display_name": "Python 3",
   "language": "python",
   "name": "python3"
  },
  "language_info": {
   "codemirror_mode": {
    "name": "ipython",
    "version": 3
   },
   "file_extension": ".py",
   "mimetype": "text/x-python",
   "name": "python",
   "nbconvert_exporter": "python",
   "pygments_lexer": "ipython3",
   "version": "3.9.5"
  },
  "metadata": {
   "interpreter": {
    "hash": "82db51cffef479cc4d0f53089378e5a2925f9e7adca31d741132ceba61ecca6f"
   }
  }
 },
 "nbformat": 4,
 "nbformat_minor": 4
}
