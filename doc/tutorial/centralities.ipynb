{
 "cells": [
  {
   "cell_type": "markdown",
   "metadata": {},
   "source": [
    "# Calculating node centralities\n",
    "\n",
    "[Run notebook in Google Colab](https://colab.research.google.com/github/pathpy/pathpy/blob/master/doc/tutorial/centralities.ipynb)  \n",
    "[Download notebook](https://github.com/pathpy/pathpy/raw/master/doc/tutorial/centralities.ipynb)\n",
    "\n",
    "In the following we implement degree- and path-based centrality measures and apply them to identify important nodes in empirical networks."
   ]
  },
  {
   "cell_type": "code",
   "execution_count": null,
   "metadata": {
    "execution": {
     "iopub.execute_input": "2021-08-23T14:29:18.024190Z",
     "iopub.status.busy": "2021-08-23T14:29:18.023471Z",
     "iopub.status.idle": "2021-08-23T14:29:25.840450Z",
     "shell.execute_reply": "2021-08-23T14:29:25.841808Z"
    }
   },
   "outputs": [],
   "source": [
    "pip install git+git://github.com/pathpy/pathpy.git"
   ]
  },
  {
   "cell_type": "code",
   "execution_count": null,
   "metadata": {
    "execution": {
     "iopub.execute_input": "2021-08-23T14:29:25.846647Z",
     "iopub.status.busy": "2021-08-23T14:29:25.845984Z",
     "iopub.status.idle": "2021-08-23T14:29:26.378568Z",
     "shell.execute_reply": "2021-08-23T14:29:26.378996Z"
    }
   },
   "outputs": [],
   "source": [
    "from collections import defaultdict, Counter\n",
    "\n",
    "import pathpy as pp\n",
    "import numpy as np"
   ]
  },
  {
   "cell_type": "markdown",
   "metadata": {},
   "source": [
    "We will test our implementation in an undirected and a directed example network."
   ]
  },
  {
   "cell_type": "code",
   "execution_count": null,
   "metadata": {
    "execution": {
     "iopub.execute_input": "2021-08-23T14:29:26.383930Z",
     "iopub.status.busy": "2021-08-23T14:29:26.383513Z",
     "iopub.status.idle": "2021-08-23T14:29:26.387325Z",
     "shell.execute_reply": "2021-08-23T14:29:26.387752Z"
    }
   },
   "outputs": [],
   "source": [
    "n_undirected = pp.Network(directed=False)\n",
    "n_undirected.add_edge('a', 'b')\n",
    "n_undirected.add_edge('b', 'c')\n",
    "n_undirected.add_edge('c', 'a')\n",
    "n_undirected.add_edge('d', 'e')\n",
    "n_undirected.add_edge('e', 'f')\n",
    "n_undirected.add_edge('f', 'g')\n",
    "n_undirected.add_edge('g', 'd')\n",
    "n_undirected.add_edge('d', 'f')\n",
    "n_undirected.add_edge('b', 'd')\n",
    "n_undirected.plot()"
   ]
  },
  {
   "cell_type": "code",
   "execution_count": null,
   "metadata": {
    "execution": {
     "iopub.execute_input": "2021-08-23T14:29:26.392758Z",
     "iopub.status.busy": "2021-08-23T14:29:26.392339Z",
     "iopub.status.idle": "2021-08-23T14:29:26.395462Z",
     "shell.execute_reply": "2021-08-23T14:29:26.395899Z"
    }
   },
   "outputs": [],
   "source": [
    "n_directed = pp.Network(directed=True)\n",
    "n_directed.add_edge('a', 'b')\n",
    "n_directed.add_edge('b', 'c')\n",
    "n_directed.add_edge('c', 'a')\n",
    "n_directed.add_edge('d', 'e')\n",
    "n_directed.add_edge('e', 'f')\n",
    "n_directed.add_edge('f', 'g')\n",
    "n_directed.add_edge('g', 'd')\n",
    "n_directed.add_edge('d', 'f')\n",
    "n_directed.add_edge('b', 'd')\n",
    "n_directed.plot()"
   ]
  },
  {
   "cell_type": "markdown",
   "metadata": {},
   "source": [
    "## Degree Centrality\n",
    "\n",
    "A simple, local notion of node importance in networks can be defined based on the degrees of nodes. In `pathpy` we can compute the (in- or out-)degrees of nodes as follows:"
   ]
  },
  {
   "cell_type": "code",
   "execution_count": null,
   "metadata": {
    "execution": {
     "iopub.execute_input": "2021-08-23T14:29:26.398562Z",
     "iopub.status.busy": "2021-08-23T14:29:26.398111Z",
     "iopub.status.idle": "2021-08-23T14:29:26.400187Z",
     "shell.execute_reply": "2021-08-23T14:29:26.400626Z"
    }
   },
   "outputs": [],
   "source": [
    "n_undirected.degrees()"
   ]
  },
  {
   "cell_type": "code",
   "execution_count": null,
   "metadata": {
    "execution": {
     "iopub.execute_input": "2021-08-23T14:29:26.403273Z",
     "iopub.status.busy": "2021-08-23T14:29:26.402868Z",
     "iopub.status.idle": "2021-08-23T14:29:26.404596Z",
     "shell.execute_reply": "2021-08-23T14:29:26.405028Z"
    }
   },
   "outputs": [],
   "source": [
    "n_directed.indegrees()"
   ]
  },
  {
   "cell_type": "code",
   "execution_count": null,
   "metadata": {
    "execution": {
     "iopub.execute_input": "2021-08-23T14:29:26.407540Z",
     "iopub.status.busy": "2021-08-23T14:29:26.407069Z",
     "iopub.status.idle": "2021-08-23T14:29:26.409005Z",
     "shell.execute_reply": "2021-08-23T14:29:26.409424Z"
    }
   },
   "outputs": [],
   "source": [
    "n_directed.outdegrees()"
   ]
  },
  {
   "cell_type": "markdown",
   "metadata": {},
   "source": [
    "In order to provide a unified API to all centrality measures, `pathpy` additionally includes a `degree_centrality` function in the module `pp.algorithms.centralities`. Using the `mode` parameter, we can switch between degre, in-, or out-degree."
   ]
  },
  {
   "cell_type": "code",
   "execution_count": null,
   "metadata": {
    "execution": {
     "iopub.execute_input": "2021-08-23T14:29:26.412037Z",
     "iopub.status.busy": "2021-08-23T14:29:26.411589Z",
     "iopub.status.idle": "2021-08-23T14:29:26.413392Z",
     "shell.execute_reply": "2021-08-23T14:29:26.413810Z"
    }
   },
   "outputs": [],
   "source": [
    "pp.algorithms.centralities.degree_centrality(n_undirected)"
   ]
  },
  {
   "cell_type": "code",
   "execution_count": null,
   "metadata": {
    "execution": {
     "iopub.execute_input": "2021-08-23T14:29:26.416414Z",
     "iopub.status.busy": "2021-08-23T14:29:26.415963Z",
     "iopub.status.idle": "2021-08-23T14:29:26.417943Z",
     "shell.execute_reply": "2021-08-23T14:29:26.418368Z"
    }
   },
   "outputs": [],
   "source": [
    "pp.algorithms.centralities.degree_centrality(n_directed, mode='indegree')"
   ]
  },
  {
   "cell_type": "code",
   "execution_count": null,
   "metadata": {
    "execution": {
     "iopub.execute_input": "2021-08-23T14:29:26.420906Z",
     "iopub.status.busy": "2021-08-23T14:29:26.420463Z",
     "iopub.status.idle": "2021-08-23T14:29:26.422368Z",
     "shell.execute_reply": "2021-08-23T14:29:26.422793Z"
    }
   },
   "outputs": [],
   "source": [
    "pp.algorithms.centralities.degree_centrality(n_directed, mode='outdegree')"
   ]
  },
  {
   "cell_type": "markdown",
   "metadata": {},
   "source": [
    "A common task in network analysis is the ranking of nodes by centrality. Since dictionaries in `python` are not ordered, this requires a different data structure. To simplify this frequent task, `pathpy` comes with a `rank_centralities` function that takes an unordered dictionary with centrality values as parameter, and returns a list of tuples with node uids and centrality values that are arranged in descending order:"
   ]
  },
  {
   "cell_type": "code",
   "execution_count": null,
   "metadata": {
    "execution": {
     "iopub.execute_input": "2021-08-23T14:29:26.425604Z",
     "iopub.status.busy": "2021-08-23T14:29:26.425075Z",
     "iopub.status.idle": "2021-08-23T14:29:26.426831Z",
     "shell.execute_reply": "2021-08-23T14:29:26.427255Z"
    }
   },
   "outputs": [],
   "source": [
    "ranking = pp.algorithms.centralities.rank_centralities(pp.algorithms.centralities.degree_centrality(n_undirected))\n",
    "print(ranking)\n",
    "\n",
    "print('The most important node is', ranking[0][0])"
   ]
  },
  {
   "cell_type": "markdown",
   "metadata": {},
   "source": [
    "## Centrality measures in `pathpy`\n",
    "\n",
    "To obtain a centrality measure that actually considers the topology of links (and not only the number of links incident to nodes) we can use the `centralities` module in `pathpy.algorithms`.  "
   ]
  },
  {
   "cell_type": "code",
   "execution_count": null,
   "metadata": {
    "execution": {
     "iopub.execute_input": "2021-08-23T14:29:26.430475Z",
     "iopub.status.busy": "2021-08-23T14:29:26.430039Z",
     "iopub.status.idle": "2021-08-23T14:29:26.431930Z",
     "shell.execute_reply": "2021-08-23T14:29:26.432360Z"
    }
   },
   "outputs": [],
   "source": [
    "pp.algorithms.centralities.closeness_centrality(n_undirected)"
   ]
  },
  {
   "cell_type": "code",
   "execution_count": null,
   "metadata": {
    "execution": {
     "iopub.execute_input": "2021-08-23T14:29:26.435577Z",
     "iopub.status.busy": "2021-08-23T14:29:26.435144Z",
     "iopub.status.idle": "2021-08-23T14:29:26.436970Z",
     "shell.execute_reply": "2021-08-23T14:29:26.437398Z"
    }
   },
   "outputs": [],
   "source": [
    "pp.algorithms.centralities.closeness_centrality(n_undirected, normalized=True)"
   ]
  },
  {
   "cell_type": "markdown",
   "metadata": {},
   "source": [
    "Alternatively, the same methods are also available as members of the Network class, which allows us to directly calculate them on an instance:"
   ]
  },
  {
   "cell_type": "code",
   "execution_count": null,
   "metadata": {
    "execution": {
     "iopub.execute_input": "2021-08-23T14:29:26.440416Z",
     "iopub.status.busy": "2021-08-23T14:29:26.439998Z",
     "iopub.status.idle": "2021-08-23T14:29:26.441788Z",
     "shell.execute_reply": "2021-08-23T14:29:26.442213Z"
    }
   },
   "outputs": [],
   "source": [
    "pp.algorithms.centralities.rank_centralities(n_undirected.betweenness_centrality())"
   ]
  },
  {
   "cell_type": "markdown",
   "metadata": {},
   "source": [
    "# todo\n",
    "\n",
    "datenbank highschoolabklären und visualiesirung hinzufügen"
   ]
  },
  {
   "cell_type": "markdown",
   "metadata": {},
   "source": [
    "# Path Centralities"
   ]
  },
  {
   "cell_type": "code",
   "execution_count": null,
   "metadata": {
    "execution": {
     "iopub.execute_input": "2021-08-23T14:29:26.445684Z",
     "iopub.status.busy": "2021-08-23T14:29:26.445282Z",
     "iopub.status.idle": "2021-08-23T14:29:26.448336Z",
     "shell.execute_reply": "2021-08-23T14:29:26.448768Z"
    }
   },
   "outputs": [],
   "source": [
    "n = pp.Network(directed=True)\n",
    "n.add_edge('a', 'x')\n",
    "n.add_edge('b', 'x')\n",
    "n.add_edge('x', 'c')\n",
    "n.add_edge('x', 'd')\n",
    "n.plot()"
   ]
  },
  {
   "cell_type": "code",
   "execution_count": null,
   "metadata": {
    "execution": {
     "iopub.execute_input": "2021-08-23T14:29:26.451822Z",
     "iopub.status.busy": "2021-08-23T14:29:26.451404Z",
     "iopub.status.idle": "2021-08-23T14:29:26.453018Z",
     "shell.execute_reply": "2021-08-23T14:29:26.453434Z"
    }
   },
   "outputs": [],
   "source": [
    "pc = pp.PathCollection()\n",
    "pc.add(n.nodes['a'], n.nodes['x'], n.nodes['c'], count=2)\n",
    "pc.add(n.nodes['b'], n.nodes['x'], n.nodes['d'], count=2)\n",
    "print(pc.counter)"
   ]
  },
  {
   "cell_type": "code",
   "execution_count": null,
   "metadata": {
    "execution": {
     "iopub.execute_input": "2021-08-23T14:29:26.456421Z",
     "iopub.status.busy": "2021-08-23T14:29:26.455971Z",
     "iopub.status.idle": "2021-08-23T14:29:26.457805Z",
     "shell.execute_reply": "2021-08-23T14:29:26.458225Z"
    }
   },
   "outputs": [],
   "source": [
    "pp.algorithms.shortest_paths.distance_matrix(n)"
   ]
  },
  {
   "cell_type": "code",
   "execution_count": null,
   "metadata": {
    "execution": {
     "iopub.execute_input": "2021-08-23T14:29:26.461105Z",
     "iopub.status.busy": "2021-08-23T14:29:26.460671Z",
     "iopub.status.idle": "2021-08-23T14:29:26.462491Z",
     "shell.execute_reply": "2021-08-23T14:29:26.462911Z"
    }
   },
   "outputs": [],
   "source": [
    "pp.algorithms.closeness_centrality(n, disconnected=True)"
   ]
  },
  {
   "cell_type": "code",
   "execution_count": null,
   "metadata": {
    "execution": {
     "iopub.execute_input": "2021-08-23T14:29:26.465693Z",
     "iopub.status.busy": "2021-08-23T14:29:26.465059Z",
     "iopub.status.idle": "2021-08-23T14:29:26.467071Z",
     "shell.execute_reply": "2021-08-23T14:29:26.467484Z"
    }
   },
   "outputs": [],
   "source": [
    "pp.algorithms.centralities.betweenness_centrality(n)"
   ]
  },
  {
   "cell_type": "code",
   "execution_count": null,
   "metadata": {
    "execution": {
     "iopub.execute_input": "2021-08-23T14:29:26.470260Z",
     "iopub.status.busy": "2021-08-23T14:29:26.469820Z",
     "iopub.status.idle": "2021-08-23T14:29:26.471669Z",
     "shell.execute_reply": "2021-08-23T14:29:26.472092Z"
    }
   },
   "outputs": [],
   "source": [
    "pp.algorithms.shortest_paths.distance_matrix(pc)"
   ]
  },
  {
   "cell_type": "code",
   "execution_count": null,
   "metadata": {
    "execution": {
     "iopub.execute_input": "2021-08-23T14:29:26.474639Z",
     "iopub.status.busy": "2021-08-23T14:29:26.474227Z",
     "iopub.status.idle": "2021-08-23T14:29:26.476182Z",
     "shell.execute_reply": "2021-08-23T14:29:26.476626Z"
    }
   },
   "outputs": [],
   "source": [
    "pp.algorithms.centralities.closeness_centrality(pc, disconnected=True)"
   ]
  },
  {
   "cell_type": "code",
   "execution_count": null,
   "metadata": {
    "execution": {
     "iopub.execute_input": "2021-08-23T14:29:26.479343Z",
     "iopub.status.busy": "2021-08-23T14:29:26.478868Z",
     "iopub.status.idle": "2021-08-23T14:29:26.480843Z",
     "shell.execute_reply": "2021-08-23T14:29:26.481332Z"
    }
   },
   "outputs": [],
   "source": [
    "pp.algorithms.centralities.betweenness_centrality(pc)"
   ]
  },
  {
   "cell_type": "code",
   "execution_count": null,
   "metadata": {},
   "outputs": [],
   "source": []
  },
  {
   "cell_type": "code",
   "execution_count": null,
   "metadata": {},
   "outputs": [],
   "source": []
  },
  {
   "cell_type": "code",
   "execution_count": null,
   "metadata": {},
   "outputs": [],
   "source": []
  }
 ],
 "metadata": {
  "interpreter": {
   "hash": "179f2c9954461ddf657daf1ee3f9df7374d575c8403facec5648a064395b52ac"
  },
  "kernelspec": {
   "display_name": "Python 3.8.5 64-bit ('base': conda)",
   "name": "python3"
  },
  "language_info": {
   "codemirror_mode": {
    "name": "ipython",
    "version": 3
   },
   "file_extension": ".py",
   "mimetype": "text/x-python",
   "name": "python",
   "nbconvert_exporter": "python",
   "pygments_lexer": "ipython3",
   "version": "3.8.5"
  },
  "metadata": {
   "interpreter": {
    "hash": "82db51cffef479cc4d0f53089378e5a2925f9e7adca31d741132ceba61ecca6f"
   }
  }
 },
 "nbformat": 4,
 "nbformat_minor": 4
}
