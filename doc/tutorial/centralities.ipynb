{
 "cells": [
  {
   "cell_type": "markdown",
   "source": [
    "# Calculating node centralities\n",
    "\n",
    "[Run notebook in Google Colab](https://colab.research.google.com/github/pathpy/pathpy/blob/master/doc/tutorial/centralities.ipynb)  \n",
    "[Download notebook](https://github.com/pathpy/pathpy/raw/master/doc/tutorial/centralities.ipynb)\n",
    "\n",
    "In the following we implement degree- and path-based centrality measures and apply them to identify important nodes in empirical networks."
   ],
   "metadata": {}
  },
  {
   "cell_type": "code",
   "execution_count": null,
   "source": [
    "pip install git+git://github.com/pathpy/pathpy.git"
   ],
   "outputs": [],
   "metadata": {
    "execution": {
     "iopub.execute_input": "2021-05-21T08:57:05.807157Z",
     "iopub.status.busy": "2021-05-21T08:57:05.806133Z",
     "iopub.status.idle": "2021-05-21T08:57:15.235168Z",
     "shell.execute_reply": "2021-05-21T08:57:15.235781Z"
    }
   }
  },
  {
   "cell_type": "code",
   "execution_count": null,
   "source": [
    "from collections import defaultdict, Counter\n",
    "\n",
    "import pathpy as pp\n",
    "import numpy as np"
   ],
   "outputs": [],
   "metadata": {
    "execution": {
     "iopub.execute_input": "2021-05-21T08:57:15.241285Z",
     "iopub.status.busy": "2021-05-21T08:57:15.240500Z",
     "iopub.status.idle": "2021-05-21T08:57:16.045140Z",
     "shell.execute_reply": "2021-05-21T08:57:16.045516Z"
    }
   }
  },
  {
   "cell_type": "markdown",
   "source": [
    "We will test our implementation in an undirected and a directed example network."
   ],
   "metadata": {}
  },
  {
   "cell_type": "code",
   "execution_count": null,
   "source": [
    "n_undirected = pp.Network(directed=False)\n",
    "n_undirected.add_edge('a', 'b')\n",
    "n_undirected.add_edge('b', 'c')\n",
    "n_undirected.add_edge('c', 'a')\n",
    "n_undirected.add_edge('d', 'e')\n",
    "n_undirected.add_edge('e', 'f')\n",
    "n_undirected.add_edge('f', 'g')\n",
    "n_undirected.add_edge('g', 'd')\n",
    "n_undirected.add_edge('d', 'f')\n",
    "n_undirected.add_edge('b', 'd')\n",
    "n_undirected.plot()"
   ],
   "outputs": [],
   "metadata": {
    "execution": {
     "iopub.execute_input": "2021-05-21T08:57:16.050824Z",
     "iopub.status.busy": "2021-05-21T08:57:16.050360Z",
     "iopub.status.idle": "2021-05-21T08:57:16.056826Z",
     "shell.execute_reply": "2021-05-21T08:57:16.057195Z"
    }
   }
  },
  {
   "cell_type": "code",
   "execution_count": null,
   "source": [
    "n_directed = pp.Network(directed=True)\n",
    "n_directed.add_edge('a', 'b')\n",
    "n_directed.add_edge('b', 'c')\n",
    "n_directed.add_edge('c', 'a')\n",
    "n_directed.add_edge('d', 'e')\n",
    "n_directed.add_edge('e', 'f')\n",
    "n_directed.add_edge('f', 'g')\n",
    "n_directed.add_edge('g', 'd')\n",
    "n_directed.add_edge('d', 'f')\n",
    "n_directed.add_edge('b', 'd')\n",
    "n_directed.plot()"
   ],
   "outputs": [],
   "metadata": {
    "execution": {
     "iopub.execute_input": "2021-05-21T08:57:16.063394Z",
     "iopub.status.busy": "2021-05-21T08:57:16.062932Z",
     "iopub.status.idle": "2021-05-21T08:57:16.067423Z",
     "shell.execute_reply": "2021-05-21T08:57:16.067016Z"
    }
   }
  },
  {
   "cell_type": "markdown",
   "source": [
    "## Degree Centrality\n",
    "\n",
    "A simple, local notion of node importance in networks can be defined based on the degrees of nodes. In `pathpy` we can compute the (in- or out-)degrees of nodes as follows:"
   ],
   "metadata": {}
  },
  {
   "cell_type": "code",
   "execution_count": null,
   "source": [
    "n_undirected.degrees()"
   ],
   "outputs": [],
   "metadata": {
    "execution": {
     "iopub.execute_input": "2021-05-21T08:57:16.071088Z",
     "iopub.status.busy": "2021-05-21T08:57:16.070644Z",
     "iopub.status.idle": "2021-05-21T08:57:16.074330Z",
     "shell.execute_reply": "2021-05-21T08:57:16.073654Z"
    }
   }
  },
  {
   "cell_type": "code",
   "execution_count": null,
   "source": [
    "n_directed.indegrees()"
   ],
   "outputs": [],
   "metadata": {
    "execution": {
     "iopub.execute_input": "2021-05-21T08:57:16.080201Z",
     "iopub.status.busy": "2021-05-21T08:57:16.079410Z",
     "iopub.status.idle": "2021-05-21T08:57:16.082069Z",
     "shell.execute_reply": "2021-05-21T08:57:16.082689Z"
    }
   }
  },
  {
   "cell_type": "code",
   "execution_count": null,
   "source": [
    "n_directed.outdegrees()"
   ],
   "outputs": [],
   "metadata": {
    "execution": {
     "iopub.execute_input": "2021-05-21T08:57:16.087948Z",
     "iopub.status.busy": "2021-05-21T08:57:16.086043Z",
     "iopub.status.idle": "2021-05-21T08:57:16.090618Z",
     "shell.execute_reply": "2021-05-21T08:57:16.090067Z"
    }
   }
  },
  {
   "cell_type": "markdown",
   "source": [
    "In order to provide a unified API to all centrality measures, `pathpy` additionally includes a `degree_centrality` function in the module `pp.algorithms.centralities`. Using the `mode` parameter, we can switch between degre, in-, or out-degree."
   ],
   "metadata": {}
  },
  {
   "cell_type": "code",
   "execution_count": null,
   "source": [
    "pp.algorithms.centralities.degree_centrality(n_undirected)"
   ],
   "outputs": [],
   "metadata": {
    "execution": {
     "iopub.execute_input": "2021-05-21T08:57:16.094198Z",
     "iopub.status.busy": "2021-05-21T08:57:16.093765Z",
     "iopub.status.idle": "2021-05-21T08:57:16.097035Z",
     "shell.execute_reply": "2021-05-21T08:57:16.096626Z"
    }
   }
  },
  {
   "cell_type": "code",
   "execution_count": null,
   "source": [
    "pp.algorithms.centralities.degree_centrality(n_directed, mode='indegree')"
   ],
   "outputs": [],
   "metadata": {
    "execution": {
     "iopub.execute_input": "2021-05-21T08:57:16.102237Z",
     "iopub.status.busy": "2021-05-21T08:57:16.101795Z",
     "iopub.status.idle": "2021-05-21T08:57:16.104847Z",
     "shell.execute_reply": "2021-05-21T08:57:16.105208Z"
    }
   }
  },
  {
   "cell_type": "code",
   "execution_count": null,
   "source": [
    "pp.algorithms.centralities.degree_centrality(n_directed, mode='outdegree')"
   ],
   "outputs": [],
   "metadata": {
    "execution": {
     "iopub.execute_input": "2021-05-21T08:57:16.110721Z",
     "iopub.status.busy": "2021-05-21T08:57:16.110290Z",
     "iopub.status.idle": "2021-05-21T08:57:16.113957Z",
     "shell.execute_reply": "2021-05-21T08:57:16.113541Z"
    }
   }
  },
  {
   "cell_type": "markdown",
   "source": [
    "A common task in network analysis is the ranking of nodes by centrality. Since dictionaries in `python` are not ordered, this requires a different data structure. To simplify this frequent task, `pathpy` comes with a `rank_centralities` function that takes an unordered dictionary with centrality values as parameter, and returns a list of tuples with node uids and centrality values that are arranged in descending order:"
   ],
   "metadata": {}
  },
  {
   "cell_type": "code",
   "execution_count": null,
   "source": [
    "ranking = pp.algorithms.centralities.rank_centralities(pp.algorithms.centralities.degree_centrality(n_undirected))\n",
    "print(ranking)\n",
    "\n",
    "print('The most important node is', ranking[0][0])"
   ],
   "outputs": [],
   "metadata": {
    "execution": {
     "iopub.execute_input": "2021-05-21T08:57:16.119027Z",
     "iopub.status.busy": "2021-05-21T08:57:16.118557Z",
     "iopub.status.idle": "2021-05-21T08:57:16.121694Z",
     "shell.execute_reply": "2021-05-21T08:57:16.122299Z"
    }
   }
  },
  {
   "cell_type": "markdown",
   "source": [
    "## Centrality measures in `pathpy`\n",
    "\n",
    "To obtain a centrality measure that actually considers the topology of links (and not only the number of links incident to nodes) we can use the `centralities` module in `pathpy.algorithms`.  "
   ],
   "metadata": {}
  },
  {
   "cell_type": "code",
   "execution_count": null,
   "source": [
    "pp.algorithms.centralities.closeness_centrality(n_undirected)"
   ],
   "outputs": [],
   "metadata": {
    "execution": {
     "iopub.execute_input": "2021-05-21T08:57:16.136270Z",
     "iopub.status.busy": "2021-05-21T08:57:16.135486Z",
     "iopub.status.idle": "2021-05-21T08:57:16.138974Z",
     "shell.execute_reply": "2021-05-21T08:57:16.138263Z"
    }
   }
  },
  {
   "cell_type": "code",
   "execution_count": null,
   "source": [
    "pp.algorithms.centralities.closeness_centrality(n_undirected, normalized=True)"
   ],
   "outputs": [],
   "metadata": {
    "execution": {
     "iopub.execute_input": "2021-05-21T08:57:16.146837Z",
     "iopub.status.busy": "2021-05-21T08:57:16.146062Z",
     "iopub.status.idle": "2021-05-21T08:57:16.148704Z",
     "shell.execute_reply": "2021-05-21T08:57:16.149325Z"
    }
   }
  },
  {
   "cell_type": "markdown",
   "source": [
    "Alternatively, the same methods are also available as members of the Network class, which allows us to directly calculate them on an instance:"
   ],
   "metadata": {}
  },
  {
   "cell_type": "code",
   "execution_count": null,
   "source": [
    "pp.algorithms.centralities.rank_centralities(n_undirected.betweenness_centrality())"
   ],
   "outputs": [],
   "metadata": {
    "execution": {
     "iopub.execute_input": "2021-05-21T08:57:16.156375Z",
     "iopub.status.busy": "2021-05-21T08:57:16.155611Z",
     "iopub.status.idle": "2021-05-21T08:57:16.159166Z",
     "shell.execute_reply": "2021-05-21T08:57:16.158467Z"
    }
   }
  },
  {
   "cell_type": "markdown",
   "source": [
    "# todo\n",
    "\n",
    "datenbank highschoolabklären und visualiesirung hinzufügen"
   ],
   "metadata": {}
  },
  {
   "cell_type": "markdown",
   "source": [
    "# Path Centralities"
   ],
   "metadata": {}
  },
  {
   "cell_type": "code",
   "execution_count": null,
   "source": [
    "n = pp.Network(directed=True)\n",
    "n.add_edge('a', 'x')\n",
    "n.add_edge('b', 'x')\n",
    "n.add_edge('x', 'c')\n",
    "n.add_edge('x', 'd')\n",
    "n.plot()"
   ],
   "outputs": [],
   "metadata": {}
  },
  {
   "cell_type": "code",
   "execution_count": null,
   "source": [
    "pc = pp.PathCollection()\n",
    "pc.add(n.nodes['a'], n.nodes['x'], n.nodes['c'], count=2)\n",
    "pc.add(n.nodes['b'], n.nodes['x'], n.nodes['d'], count=2)\n",
    "print(pc.counter)"
   ],
   "outputs": [],
   "metadata": {}
  },
  {
   "cell_type": "code",
   "execution_count": null,
   "source": [
    "pp.algorithms.shortest_paths.distance_matrix(n)"
   ],
   "outputs": [],
   "metadata": {}
  },
  {
   "cell_type": "code",
   "execution_count": null,
   "source": [
    "pp.algorithms.closeness_centrality(n, disconnected=True)"
   ],
   "outputs": [],
   "metadata": {}
  },
  {
   "cell_type": "code",
   "execution_count": null,
   "source": [
    "pp.algorithms.centralities.betweenness_centrality(n)"
   ],
   "outputs": [],
   "metadata": {}
  },
  {
   "cell_type": "code",
   "execution_count": null,
   "source": [
    "pp.algorithms.shortest_paths.distance_matrix(pc)"
   ],
   "outputs": [],
   "metadata": {}
  },
  {
   "cell_type": "code",
   "execution_count": null,
   "source": [
    "pp.algorithms.centralities.closeness_centrality(pc, disconnected=True)"
   ],
   "outputs": [],
   "metadata": {}
  },
  {
   "cell_type": "code",
   "execution_count": null,
   "source": [
    "pp.algorithms.centralities.betweenness_centrality(pc)"
   ],
   "outputs": [],
   "metadata": {}
  },
  {
   "cell_type": "code",
   "execution_count": null,
   "source": [],
   "outputs": [],
   "metadata": {}
  }
 ],
 "metadata": {
  "kernelspec": {
   "name": "python3",
   "display_name": "Python 3.9.6 64-bit ('pathp': venv)"
  },
  "language_info": {
   "codemirror_mode": {
    "name": "ipython",
    "version": 3
   },
   "file_extension": ".py",
   "mimetype": "text/x-python",
   "name": "python",
   "nbconvert_exporter": "python",
   "pygments_lexer": "ipython3",
   "version": "3.9.6"
  },
  "metadata": {
   "interpreter": {
    "hash": "82db51cffef479cc4d0f53089378e5a2925f9e7adca31d741132ceba61ecca6f"
   }
  },
  "interpreter": {
   "hash": "cbc06d602e623f3da56a6fd8482a438fdef2ce96413bf7bd183f2e65bbc2f388"
  }
 },
 "nbformat": 4,
 "nbformat_minor": 4
}