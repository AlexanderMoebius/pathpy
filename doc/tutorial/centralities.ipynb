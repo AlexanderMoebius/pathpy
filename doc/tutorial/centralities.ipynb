{
 "cells": [
  {
   "cell_type": "markdown",
   "metadata": {},
   "source": [
    "# Calculating node centralities\n",
    "\n",
    "In this unit we implement degree- and path-based centrality measures and apply them to identify important nodes in empirical networks."
   ]
  },
  {
   "cell_type": "code",
   "execution_count": null,
   "metadata": {
    "execution": {
     "iopub.execute_input": "2021-04-29T11:32:53.503143Z",
     "iopub.status.busy": "2021-04-29T11:32:53.502225Z",
     "iopub.status.idle": "2021-04-29T11:32:53.972942Z",
     "shell.execute_reply": "2021-04-29T11:32:53.973594Z"
    }
   },
   "outputs": [],
   "source": [
    "from collections import defaultdict, Counter\n",
    "\n",
    "import pathpy as pp\n",
    "import numpy as np"
   ]
  },
  {
   "cell_type": "markdown",
   "metadata": {},
   "source": [
    "We will test our implementation in an undirected and a directed example network."
   ]
  },
  {
   "cell_type": "code",
   "execution_count": null,
   "metadata": {
    "execution": {
     "iopub.execute_input": "2021-04-29T11:32:53.979927Z",
     "iopub.status.busy": "2021-04-29T11:32:53.979176Z",
     "iopub.status.idle": "2021-04-29T11:32:53.986617Z",
     "shell.execute_reply": "2021-04-29T11:32:53.986182Z"
    }
   },
   "outputs": [],
   "source": [
    "n_undirected = pp.Network(directed=False)\n",
    "n_undirected.add_edge('a', 'b')\n",
    "n_undirected.add_edge('b', 'c')\n",
    "n_undirected.add_edge('c', 'a')\n",
    "n_undirected.add_edge('d', 'e')\n",
    "n_undirected.add_edge('e', 'f')\n",
    "n_undirected.add_edge('f', 'g')\n",
    "n_undirected.add_edge('g', 'd')\n",
    "n_undirected.add_edge('d', 'f')\n",
    "n_undirected.add_edge('b', 'd')\n",
    "n_undirected.plot()"
   ]
  },
  {
   "cell_type": "code",
   "execution_count": null,
   "metadata": {
    "execution": {
     "iopub.execute_input": "2021-04-29T11:32:53.992290Z",
     "iopub.status.busy": "2021-04-29T11:32:53.991537Z",
     "iopub.status.idle": "2021-04-29T11:32:53.995396Z",
     "shell.execute_reply": "2021-04-29T11:32:53.996109Z"
    }
   },
   "outputs": [],
   "source": [
    "n_directed = pp.Network(directed=True)\n",
    "n_directed.add_edge('a', 'b')\n",
    "n_directed.add_edge('b', 'c')\n",
    "n_directed.add_edge('c', 'a')\n",
    "n_directed.add_edge('d', 'e')\n",
    "n_directed.add_edge('e', 'f')\n",
    "n_directed.add_edge('f', 'g')\n",
    "n_directed.add_edge('g', 'd')\n",
    "n_directed.add_edge('d', 'f')\n",
    "n_directed.add_edge('b', 'd')\n",
    "n_directed.plot()"
   ]
  },
  {
   "cell_type": "markdown",
   "metadata": {},
   "source": [
    "## Degree Centrality\n",
    "\n",
    "A simple, local notion of node importance in networks can be defined based on the degrees of nodes. In `pathpy` we can compute the (in- or out-)degrees of nodes as follows:"
   ]
  },
  {
   "cell_type": "code",
   "execution_count": null,
   "metadata": {
    "execution": {
     "iopub.execute_input": "2021-04-29T11:32:54.000527Z",
     "iopub.status.busy": "2021-04-29T11:32:53.999778Z",
     "iopub.status.idle": "2021-04-29T11:32:54.002558Z",
     "shell.execute_reply": "2021-04-29T11:32:54.003278Z"
    }
   },
   "outputs": [],
   "source": [
    "n_undirected.degrees()"
   ]
  },
  {
   "cell_type": "code",
   "execution_count": null,
   "metadata": {
    "execution": {
     "iopub.execute_input": "2021-04-29T11:32:54.007430Z",
     "iopub.status.busy": "2021-04-29T11:32:54.006689Z",
     "iopub.status.idle": "2021-04-29T11:32:54.009284Z",
     "shell.execute_reply": "2021-04-29T11:32:54.009982Z"
    }
   },
   "outputs": [],
   "source": [
    "n_directed.indegrees()"
   ]
  },
  {
   "cell_type": "code",
   "execution_count": null,
   "metadata": {
    "execution": {
     "iopub.execute_input": "2021-04-29T11:32:54.014012Z",
     "iopub.status.busy": "2021-04-29T11:32:54.013281Z",
     "iopub.status.idle": "2021-04-29T11:32:54.015842Z",
     "shell.execute_reply": "2021-04-29T11:32:54.016544Z"
    }
   },
   "outputs": [],
   "source": [
    "n_directed.outdegrees()"
   ]
  },
  {
   "cell_type": "markdown",
   "metadata": {},
   "source": [
    "In order to provide a unified API to all centrality measures, `pathpy` additionally includes a `degree_centrality` function in the module `pp.algorithms.centralities`. Using the `mode` parameter, we can switch between degre, in-, or out-degree."
   ]
  },
  {
   "cell_type": "code",
   "execution_count": null,
   "metadata": {
    "execution": {
     "iopub.execute_input": "2021-04-29T11:32:54.020882Z",
     "iopub.status.busy": "2021-04-29T11:32:54.019958Z",
     "iopub.status.idle": "2021-04-29T11:32:54.023488Z",
     "shell.execute_reply": "2021-04-29T11:32:54.022735Z"
    }
   },
   "outputs": [],
   "source": [
    "pp.algorithms.centralities.degree_centrality(n_undirected)"
   ]
  },
  {
   "cell_type": "code",
   "execution_count": null,
   "metadata": {
    "execution": {
     "iopub.execute_input": "2021-04-29T11:32:54.027672Z",
     "iopub.status.busy": "2021-04-29T11:32:54.026932Z",
     "iopub.status.idle": "2021-04-29T11:32:54.029466Z",
     "shell.execute_reply": "2021-04-29T11:32:54.030081Z"
    }
   },
   "outputs": [],
   "source": [
    "pp.algorithms.centralities.degree_centrality(n_directed, mode='indegree')"
   ]
  },
  {
   "cell_type": "code",
   "execution_count": null,
   "metadata": {
    "execution": {
     "iopub.execute_input": "2021-04-29T11:32:54.034460Z",
     "iopub.status.busy": "2021-04-29T11:32:54.033656Z",
     "iopub.status.idle": "2021-04-29T11:32:54.036257Z",
     "shell.execute_reply": "2021-04-29T11:32:54.036875Z"
    }
   },
   "outputs": [],
   "source": [
    "pp.algorithms.centralities.degree_centrality(n_directed, mode='outdegree')"
   ]
  },
  {
   "cell_type": "markdown",
   "metadata": {},
   "source": [
    "A common task in network analysis is the ranking of nodes by centrality. Since dictionaries in `python` are not ordered, this requires a different data structure. To simplify this frequent task, `pathpy` comes with a `rank_centralities` function that takes an unordered dictionary with centrality values as parameter, and returns a list of tuples with node uids and centrality values that are arranged in descending order:"
   ]
  },
  {
   "cell_type": "code",
   "execution_count": null,
   "metadata": {
    "execution": {
     "iopub.execute_input": "2021-04-29T11:32:54.040961Z",
     "iopub.status.busy": "2021-04-29T11:32:54.040210Z",
     "iopub.status.idle": "2021-04-29T11:32:54.042738Z",
     "shell.execute_reply": "2021-04-29T11:32:54.043448Z"
    }
   },
   "outputs": [],
   "source": [
    "ranking = pp.algorithms.centralities.rank_centralities(pp.algorithms.centralities.degree_centrality(n_undirected))\n",
    "print(ranking)\n",
    "\n",
    "print('The most important node is', ranking[0][0])"
   ]
  },
  {
   "cell_type": "markdown",
   "metadata": {},
   "source": [
    "## Centrality measures in `pathpy`\n",
    "\n",
    "To obtain a centrality measure that actually considers the topology of links (and not only the number of links incident to nodes) we can use the `centralities` module in `pathpy.algorithms`.  "
   ]
  },
  {
   "cell_type": "code",
   "execution_count": null,
   "metadata": {
    "execution": {
     "iopub.execute_input": "2021-04-29T11:32:54.048430Z",
     "iopub.status.busy": "2021-04-29T11:32:54.047694Z",
     "iopub.status.idle": "2021-04-29T11:32:54.050401Z",
     "shell.execute_reply": "2021-04-29T11:32:54.051118Z"
    }
   },
   "outputs": [],
   "source": [
    "pp.algorithms.centralities.closeness_centrality(n_undirected)"
   ]
  },
  {
   "cell_type": "code",
   "execution_count": null,
   "metadata": {
    "execution": {
     "iopub.execute_input": "2021-04-29T11:32:54.056100Z",
     "iopub.status.busy": "2021-04-29T11:32:54.055309Z",
     "iopub.status.idle": "2021-04-29T11:32:54.058648Z",
     "shell.execute_reply": "2021-04-29T11:32:54.057907Z"
    }
   },
   "outputs": [],
   "source": [
    "pp.algorithms.centralities.closeness_centrality(n_undirected, normalized=True)"
   ]
  },
  {
   "cell_type": "markdown",
   "metadata": {},
   "source": [
    "Alternatively, the same methods are also available as members of the Network class, which allows us to directly calculate them on an instance:"
   ]
  },
  {
   "cell_type": "code",
   "execution_count": null,
   "metadata": {
    "execution": {
     "iopub.execute_input": "2021-04-29T11:32:54.063294Z",
     "iopub.status.busy": "2021-04-29T11:32:54.062562Z",
     "iopub.status.idle": "2021-04-29T11:32:54.065063Z",
     "shell.execute_reply": "2021-04-29T11:32:54.065691Z"
    }
   },
   "outputs": [],
   "source": [
    "pp.algorithms.centralities.rank_centralities(n_undirected.betweenness_centrality())"
   ]
  },
  {
   "cell_type": "markdown",
   "metadata": {},
   "source": [
    "# todo\n",
    "\n",
    "datenbank highschoolabklären und visualiesirung hinzufügen"
   ]
  },
  {
   "cell_type": "markdown",
   "metadata": {},
   "source": [
    "# Centralities in Empirical Networks\n",
    "\n",
    "We conclude this unit by an exploration of node centralities in empirical networks. We first use `pathpy`'s SQLe integration to read the table `gentoo` from the database file (can be downloaded from Moodle) as **directed** network. We further read the table `highschool` in the database as undirected network. We then apply the functions in the `pathpy.algorithms.centralities` module to rank nodes according to the following centrality measures:\n",
    "\n",
    "1) in- and out-degree (for directed network), degree (for undirected network)  \n",
    "2) closeness centrality   \n",
    "3) betweenness centrality"
   ]
  }
 ],
 "metadata": {
  "kernelspec": {
   "display_name": "Python 3",
   "language": "python",
   "name": "python3"
  },
  "language_info": {
   "codemirror_mode": {
    "name": "ipython",
    "version": 3
   },
   "file_extension": ".py",
   "mimetype": "text/x-python",
   "name": "python",
   "nbconvert_exporter": "python",
   "pygments_lexer": "ipython3",
   "version": "3.9.3"
  }
 },
 "nbformat": 4,
 "nbformat_minor": 4
}
