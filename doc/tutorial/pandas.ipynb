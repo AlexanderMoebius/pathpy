{
 "cells": [
  {
   "cell_type": "markdown",
   "metadata": {},
   "source": [
    "# Reading and writing network data with `pandas`\n",
    "\n",
    "[Run notebook in Google Colab](https://colab.research.google.com/github/pathpy/pathpy/blob/master/doc/tutorial/pandas.ipynb)"
   ]
  },
  {
   "cell_type": "code",
   "execution_count": null,
   "metadata": {
    "execution": {
     "iopub.execute_input": "2021-04-28T11:46:51.813707Z",
     "iopub.status.busy": "2021-04-28T11:46:51.813090Z",
     "iopub.status.idle": "2021-04-28T11:46:57.542056Z",
     "shell.execute_reply": "2021-04-28T11:46:57.542754Z"
    },
    "tags": [
     "hide"
    ]
   },
   "outputs": [],
   "source": [
    "pip install git+git://github.com/pathpy/pathpy.git"
   ]
  },
  {
   "cell_type": "code",
   "execution_count": null,
   "metadata": {
    "execution": {
     "iopub.execute_input": "2021-04-28T11:46:57.547705Z",
     "iopub.status.busy": "2021-04-28T11:46:57.547105Z",
     "iopub.status.idle": "2021-04-28T11:46:58.103019Z",
     "shell.execute_reply": "2021-04-28T11:46:58.103450Z"
    }
   },
   "outputs": [],
   "source": [
    "import pathpy as pp \n",
    "import pandas as pd\n",
    "df = pd.DataFrame({'v': ['a', 'b', 'c'], 'w': ['b', 'c', 'a'], 'color': ['red', 'green', 'blue']})\n",
    "n = pp.io.to_network(df, uid='pandasNetwork')\n",
    "print(n)"
   ]
  },
  {
   "cell_type": "code",
   "execution_count": null,
   "metadata": {
    "execution": {
     "iopub.execute_input": "2021-04-28T11:46:58.106325Z",
     "iopub.status.busy": "2021-04-28T11:46:58.105871Z",
     "iopub.status.idle": "2021-04-28T11:46:58.110217Z",
     "shell.execute_reply": "2021-04-28T11:46:58.110772Z"
    }
   },
   "outputs": [],
   "source": [
    "n.plot()"
   ]
  },
  {
   "cell_type": "code",
   "execution_count": null,
   "metadata": {
    "execution": {
     "iopub.execute_input": "2021-04-28T11:46:58.115769Z",
     "iopub.status.busy": "2021-04-28T11:46:58.115245Z",
     "iopub.status.idle": "2021-04-28T11:46:58.117077Z",
     "shell.execute_reply": "2021-04-28T11:46:58.117558Z"
    }
   },
   "outputs": [],
   "source": [
    "import pathpy as pp \n",
    "import pandas as pd\n",
    "df = pd.DataFrame({'v': ['a', 'b', 'c'], 'w': ['b', 'c', 'a'], 'timestamp': [1, 2, 3]})\n",
    "tn = pp.io.to_temporal_network(df, uid='pandasNetwork')\n",
    "print(tn)"
   ]
  },
  {
   "cell_type": "code",
   "execution_count": null,
   "metadata": {
    "execution": {
     "iopub.execute_input": "2021-04-28T11:46:58.120487Z",
     "iopub.status.busy": "2021-04-28T11:46:58.120025Z",
     "iopub.status.idle": "2021-04-28T11:46:58.123482Z",
     "shell.execute_reply": "2021-04-28T11:46:58.123900Z"
    }
   },
   "outputs": [],
   "source": [
    "tn.plot()"
   ]
  },
  {
   "cell_type": "code",
   "execution_count": null,
   "metadata": {
    "execution": {
     "iopub.execute_input": "2021-04-28T11:46:58.128528Z",
     "iopub.status.busy": "2021-04-28T11:46:58.127945Z",
     "iopub.status.idle": "2021-04-28T11:46:58.129753Z",
     "shell.execute_reply": "2021-04-28T11:46:58.130228Z"
    }
   },
   "outputs": [],
   "source": [
    "import pathpy as pp\n",
    "import pandas as pd\n",
    "df = pd.DataFrame({'v': ['a', 'b', 'c'], 'w': ['b', 'c', 'a'], 'start': [1, 2, 3], 'end': [5, 5, 5]})\n",
    "tn = pp.io.to_temporal_network(df, uid='pandasNetwork')\n",
    "print(tn)"
   ]
  },
  {
   "cell_type": "code",
   "execution_count": null,
   "metadata": {
    "execution": {
     "iopub.execute_input": "2021-04-28T11:46:58.132797Z",
     "iopub.status.busy": "2021-04-28T11:46:58.132396Z",
     "iopub.status.idle": "2021-04-28T11:46:58.135663Z",
     "shell.execute_reply": "2021-04-28T11:46:58.136106Z"
    }
   },
   "outputs": [],
   "source": [
    "tn.plot()"
   ]
  },
  {
   "cell_type": "code",
   "execution_count": null,
   "metadata": {
    "execution": {
     "iopub.execute_input": "2021-04-28T11:46:58.140073Z",
     "iopub.status.busy": "2021-04-28T11:46:58.139667Z",
     "iopub.status.idle": "2021-04-28T11:46:58.141217Z",
     "shell.execute_reply": "2021-04-28T11:46:58.141655Z"
    }
   },
   "outputs": [],
   "source": [
    "import pathpy as pp \n",
    "import pandas as pd\n",
    "df = pd.DataFrame({'v': ['a', 'b', 'c'], 'w': ['b', 'c', 'a'], 'timestamp': [1, 2, 3], 'duration': [4, 1, 1]})\n",
    "tn = pp.io.to_temporal_network(df, uid='pandasNetwork')\n",
    "print(tn)"
   ]
  },
  {
   "cell_type": "code",
   "execution_count": null,
   "metadata": {
    "execution": {
     "iopub.execute_input": "2021-04-28T11:46:58.144314Z",
     "iopub.status.busy": "2021-04-28T11:46:58.143900Z",
     "iopub.status.idle": "2021-04-28T11:46:58.147188Z",
     "shell.execute_reply": "2021-04-28T11:46:58.147623Z"
    }
   },
   "outputs": [],
   "source": [
    "tn.plot()"
   ]
  },
  {
   "cell_type": "code",
   "execution_count": null,
   "metadata": {
    "execution": {
     "iopub.execute_input": "2021-04-28T11:46:58.156301Z",
     "iopub.status.busy": "2021-04-28T11:46:58.155662Z",
     "iopub.status.idle": "2021-04-28T11:46:58.157922Z",
     "shell.execute_reply": "2021-04-28T11:46:58.158431Z"
    }
   },
   "outputs": [],
   "source": [
    "n = pp.Network(directed=True)\n",
    "n.add_edge('a', 'b', color='red')\n",
    "n.add_edge('b', 'c', color='green')\n",
    "n.add_edge('c', 'a', color='blue')\n",
    "df = pp.io.to_dataframe(n)\n",
    "print(df)"
   ]
  },
  {
   "cell_type": "code",
   "execution_count": null,
   "metadata": {
    "execution": {
     "iopub.execute_input": "2021-04-28T11:46:58.167409Z",
     "iopub.status.busy": "2021-04-28T11:46:58.166964Z",
     "iopub.status.idle": "2021-04-28T11:46:58.168823Z",
     "shell.execute_reply": "2021-04-28T11:46:58.169224Z"
    }
   },
   "outputs": [],
   "source": [
    "n = pp.Network(directed=True)\n",
    "n.add_edge('a', 'b', color='red')\n",
    "n.add_edge('b', 'c', color='green')\n",
    "n.add_edge('c', 'a', color='blue')\n",
    "df = pp.io.to_dataframe(n, export_indices=True, include_edge_uid=True)\n",
    "print(df)"
   ]
  },
  {
   "cell_type": "code",
   "execution_count": null,
   "metadata": {},
   "outputs": [],
   "source": []
  }
 ],
 "metadata": {
  "celltoolbar": "Tags",
  "kernelspec": {
   "display_name": "Python 3",
   "language": "python",
   "name": "python3"
  },
  "language_info": {
   "codemirror_mode": {
    "name": "ipython",
    "version": 3
   },
   "file_extension": ".py",
   "mimetype": "text/x-python",
   "name": "python",
   "nbconvert_exporter": "python",
   "pygments_lexer": "ipython3",
   "version": "3.8.5"
  }
 },
 "nbformat": 4,
 "nbformat_minor": 4
}
