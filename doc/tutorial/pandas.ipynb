{
 "cells": [
  {
   "cell_type": "markdown",
   "metadata": {},
   "source": [
    "# Reading and writing network data with `pandas`\n",
    "\n",
    "[Run notebook in Google Colab](https://colab.research.google.com/github/pathpy/pathpy/blob/master/doc/tutorial/pandas.ipynb)  \n",
    "[Download notebook](https://github.com/pathpy/pathpy/raw/master/doc/tutorial/pandas.ipynb)"
   ]
  },
  {
   "cell_type": "code",
   "execution_count": null,
   "metadata": {
    "execution": {
     "iopub.execute_input": "2021-04-30T00:07:59.451756Z",
     "iopub.status.busy": "2021-04-30T00:07:59.451107Z",
     "iopub.status.idle": "2021-04-30T00:08:05.075285Z",
     "shell.execute_reply": "2021-04-30T00:08:05.076033Z"
    },
    "tags": [
     "hide"
    ]
   },
   "outputs": [],
   "source": [
    "pip install git+git://github.com/pathpy/pathpy.git"
   ]
  },
  {
   "cell_type": "code",
   "execution_count": null,
   "metadata": {
    "execution": {
     "iopub.execute_input": "2021-04-30T00:08:05.080794Z",
     "iopub.status.busy": "2021-04-30T00:08:05.080214Z",
     "iopub.status.idle": "2021-04-30T00:08:05.626763Z",
     "shell.execute_reply": "2021-04-30T00:08:05.627263Z"
    }
   },
   "outputs": [],
   "source": [
    "import pathpy as pp \n",
    "import pandas as pd\n",
    "df = pd.DataFrame({'v': ['a', 'b', 'c'], 'w': ['b', 'c', 'a'], 'color': ['red', 'green', 'blue']})\n",
    "n = pp.io.to_network(df, uid='pandasNetwork')\n",
    "print(n)"
   ]
  },
  {
   "cell_type": "code",
   "execution_count": null,
   "metadata": {
    "execution": {
     "iopub.execute_input": "2021-04-30T00:08:05.630318Z",
     "iopub.status.busy": "2021-04-30T00:08:05.629791Z",
     "iopub.status.idle": "2021-04-30T00:08:05.634471Z",
     "shell.execute_reply": "2021-04-30T00:08:05.634971Z"
    }
   },
   "outputs": [],
   "source": [
    "n.plot()"
   ]
  },
  {
   "cell_type": "code",
   "execution_count": null,
   "metadata": {
    "execution": {
     "iopub.execute_input": "2021-04-30T00:08:05.639866Z",
     "iopub.status.busy": "2021-04-30T00:08:05.639351Z",
     "iopub.status.idle": "2021-04-30T00:08:05.641646Z",
     "shell.execute_reply": "2021-04-30T00:08:05.641152Z"
    }
   },
   "outputs": [],
   "source": [
    "import pathpy as pp \n",
    "import pandas as pd\n",
    "df = pd.DataFrame({'v': ['a', 'b', 'c'], 'w': ['b', 'c', 'a'], 'timestamp': [1, 2, 3]})\n",
    "tn = pp.io.to_temporal_network(df, uid='pandasNetwork')\n",
    "print(tn)"
   ]
  },
  {
   "cell_type": "code",
   "execution_count": null,
   "metadata": {
    "execution": {
     "iopub.execute_input": "2021-04-30T00:08:05.644805Z",
     "iopub.status.busy": "2021-04-30T00:08:05.644332Z",
     "iopub.status.idle": "2021-04-30T00:08:05.647732Z",
     "shell.execute_reply": "2021-04-30T00:08:05.648190Z"
    }
   },
   "outputs": [],
   "source": [
    "tn.plot()"
   ]
  },
  {
   "cell_type": "code",
   "execution_count": null,
   "metadata": {
    "execution": {
     "iopub.execute_input": "2021-04-30T00:08:05.652547Z",
     "iopub.status.busy": "2021-04-30T00:08:05.652056Z",
     "iopub.status.idle": "2021-04-30T00:08:05.653979Z",
     "shell.execute_reply": "2021-04-30T00:08:05.654433Z"
    }
   },
   "outputs": [],
   "source": [
    "import pathpy as pp\n",
    "import pandas as pd\n",
    "df = pd.DataFrame({'v': ['a', 'b', 'c'], 'w': ['b', 'c', 'a'], 'start': [1, 2, 3], 'end': [5, 5, 5]})\n",
    "tn = pp.io.to_temporal_network(df, uid='pandasNetwork')\n",
    "print(tn)"
   ]
  },
  {
   "cell_type": "code",
   "execution_count": null,
   "metadata": {
    "execution": {
     "iopub.execute_input": "2021-04-30T00:08:05.657225Z",
     "iopub.status.busy": "2021-04-30T00:08:05.656780Z",
     "iopub.status.idle": "2021-04-30T00:08:05.660089Z",
     "shell.execute_reply": "2021-04-30T00:08:05.660529Z"
    }
   },
   "outputs": [],
   "source": [
    "tn.plot()"
   ]
  },
  {
   "cell_type": "code",
   "execution_count": null,
   "metadata": {
    "execution": {
     "iopub.execute_input": "2021-04-30T00:08:05.664613Z",
     "iopub.status.busy": "2021-04-30T00:08:05.664184Z",
     "iopub.status.idle": "2021-04-30T00:08:05.665958Z",
     "shell.execute_reply": "2021-04-30T00:08:05.666397Z"
    }
   },
   "outputs": [],
   "source": [
    "import pathpy as pp \n",
    "import pandas as pd\n",
    "df = pd.DataFrame({'v': ['a', 'b', 'c'], 'w': ['b', 'c', 'a'], 'timestamp': [1, 2, 3], 'duration': [4, 1, 1]})\n",
    "tn = pp.io.to_temporal_network(df, uid='pandasNetwork')\n",
    "print(tn)"
   ]
  },
  {
   "cell_type": "code",
   "execution_count": null,
   "metadata": {
    "execution": {
     "iopub.execute_input": "2021-04-30T00:08:05.669095Z",
     "iopub.status.busy": "2021-04-30T00:08:05.668605Z",
     "iopub.status.idle": "2021-04-30T00:08:05.672115Z",
     "shell.execute_reply": "2021-04-30T00:08:05.672536Z"
    }
   },
   "outputs": [],
   "source": [
    "tn.plot()"
   ]
  },
  {
   "cell_type": "code",
   "execution_count": null,
   "metadata": {
    "execution": {
     "iopub.execute_input": "2021-04-30T00:08:05.680790Z",
     "iopub.status.busy": "2021-04-30T00:08:05.680383Z",
     "iopub.status.idle": "2021-04-30T00:08:05.682203Z",
     "shell.execute_reply": "2021-04-30T00:08:05.682618Z"
    }
   },
   "outputs": [],
   "source": [
    "n = pp.Network(directed=True)\n",
    "n.add_edge('a', 'b', color='red')\n",
    "n.add_edge('b', 'c', color='green')\n",
    "n.add_edge('c', 'a', color='blue')\n",
    "df = pp.io.to_dataframe(n)\n",
    "print(df)"
   ]
  },
  {
   "cell_type": "code",
   "execution_count": null,
   "metadata": {
    "execution": {
     "iopub.execute_input": "2021-04-30T00:08:05.690574Z",
     "iopub.status.busy": "2021-04-30T00:08:05.690166Z",
     "iopub.status.idle": "2021-04-30T00:08:05.691838Z",
     "shell.execute_reply": "2021-04-30T00:08:05.692251Z"
    }
   },
   "outputs": [],
   "source": [
    "n = pp.Network(directed=True)\n",
    "n.add_edge('a', 'b', color='red')\n",
    "n.add_edge('b', 'c', color='green')\n",
    "n.add_edge('c', 'a', color='blue')\n",
    "df = pp.io.to_dataframe(n, export_indices=True, include_edge_uid=True)\n",
    "print(df)"
   ]
  },
  {
   "cell_type": "code",
   "execution_count": null,
   "metadata": {},
   "outputs": [],
   "source": []
  }
 ],
 "metadata": {
  "celltoolbar": "Tags",
  "kernelspec": {
   "display_name": "Python 3",
   "language": "python",
   "name": "python3"
  },
  "language_info": {
   "codemirror_mode": {
    "name": "ipython",
    "version": 3
   },
   "file_extension": ".py",
   "mimetype": "text/x-python",
   "name": "python",
   "nbconvert_exporter": "python",
   "pygments_lexer": "ipython3",
   "version": "3.8.5"
  }
 },
 "nbformat": 4,
 "nbformat_minor": 4
}
