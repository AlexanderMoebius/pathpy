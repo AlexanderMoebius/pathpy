{
 "cells": [
  {
   "cell_type": "markdown",
   "metadata": {},
   "source": [
    "# Reading and writing network data with `pandas`\n",
    "\n",
    "[Run notebook in Google Colab](https://colab.research.google.com/github/pathpy/pathpy/blob/master/doc/tutorial/pandas.ipynb)  \n",
    "[Download notebook](https://github.com/pathpy/pathpy/raw/master/doc/tutorial/pandas.ipynb)"
   ]
  },
  {
   "cell_type": "code",
   "execution_count": null,
   "metadata": {
    "execution": {
     "iopub.execute_input": "2021-08-28T23:03:24.365848Z",
     "iopub.status.busy": "2021-08-28T23:03:24.365214Z",
     "iopub.status.idle": "2021-08-28T23:03:31.917283Z",
     "shell.execute_reply": "2021-08-28T23:03:31.917973Z"
    },
    "tags": [
     "hide"
    ]
   },
   "outputs": [],
   "source": [
    "pip install git+git://github.com/pathpy/pathpy.git"
   ]
  },
  {
   "cell_type": "code",
   "execution_count": null,
   "metadata": {
    "execution": {
     "iopub.execute_input": "2021-08-28T23:03:31.923984Z",
     "iopub.status.busy": "2021-08-28T23:03:31.923332Z",
     "iopub.status.idle": "2021-08-28T23:03:32.447369Z",
     "shell.execute_reply": "2021-08-28T23:03:32.447800Z"
    }
   },
   "outputs": [],
   "source": [
    "import pathpy as pp \n",
    "import pandas as pd\n",
    "df = pd.DataFrame({'v': ['a', 'b', 'c'], 'w': ['b', 'c', 'a'], 'color': ['red', 'green', 'blue']})\n",
    "n = pp.io.to_network(df, uid='pandasNetwork')\n",
    "print(n)"
   ]
  },
  {
   "cell_type": "code",
   "execution_count": null,
   "metadata": {
    "execution": {
     "iopub.execute_input": "2021-08-28T23:03:32.450515Z",
     "iopub.status.busy": "2021-08-28T23:03:32.450102Z",
     "iopub.status.idle": "2021-08-28T23:03:32.455292Z",
     "shell.execute_reply": "2021-08-28T23:03:32.455963Z"
    }
   },
   "outputs": [],
   "source": [
    "n.plot()"
   ]
  },
  {
   "cell_type": "code",
   "execution_count": null,
   "metadata": {
    "execution": {
     "iopub.execute_input": "2021-08-28T23:03:32.465116Z",
     "iopub.status.busy": "2021-08-28T23:03:32.464714Z",
     "iopub.status.idle": "2021-08-28T23:03:32.468722Z",
     "shell.execute_reply": "2021-08-28T23:03:32.469235Z"
    }
   },
   "outputs": [],
   "source": [
    "pp.io.to_dataframe(n)"
   ]
  },
  {
   "cell_type": "code",
   "execution_count": null,
   "metadata": {
    "execution": {
     "iopub.execute_input": "2021-08-28T23:03:32.474261Z",
     "iopub.status.busy": "2021-08-28T23:03:32.473798Z",
     "iopub.status.idle": "2021-08-28T23:03:32.475323Z",
     "shell.execute_reply": "2021-08-28T23:03:32.475832Z"
    }
   },
   "outputs": [],
   "source": [
    "import pathpy as pp \n",
    "import pandas as pd\n",
    "df = pd.DataFrame({'v': ['a', 'b', 'c'], 'w': ['b', 'c', 'a'], 'timestamp': [1, 2, 3]})\n",
    "tn = pp.io.to_temporal_network(df, uid='pandasNetwork')\n",
    "print(tn)"
   ]
  },
  {
   "cell_type": "code",
   "execution_count": null,
   "metadata": {
    "execution": {
     "iopub.execute_input": "2021-08-28T23:03:32.478971Z",
     "iopub.status.busy": "2021-08-28T23:03:32.478388Z",
     "iopub.status.idle": "2021-08-28T23:03:32.481880Z",
     "shell.execute_reply": "2021-08-28T23:03:32.482309Z"
    }
   },
   "outputs": [],
   "source": [
    "tn.plot()"
   ]
  },
  {
   "cell_type": "code",
   "execution_count": null,
   "metadata": {
    "execution": {
     "iopub.execute_input": "2021-08-28T23:03:32.491079Z",
     "iopub.status.busy": "2021-08-28T23:03:32.490499Z",
     "iopub.status.idle": "2021-08-28T23:03:32.492547Z",
     "shell.execute_reply": "2021-08-28T23:03:32.492990Z"
    }
   },
   "outputs": [],
   "source": [
    "pp.io.to_dataframe(tn)"
   ]
  },
  {
   "cell_type": "code",
   "execution_count": null,
   "metadata": {
    "execution": {
     "iopub.execute_input": "2021-08-28T23:03:32.497587Z",
     "iopub.status.busy": "2021-08-28T23:03:32.497153Z",
     "iopub.status.idle": "2021-08-28T23:03:32.498997Z",
     "shell.execute_reply": "2021-08-28T23:03:32.499435Z"
    }
   },
   "outputs": [],
   "source": [
    "import pathpy as pp\n",
    "import pandas as pd\n",
    "df = pd.DataFrame({'v': ['a', 'b', 'c'], 'w': ['b', 'c', 'a'], 'start': [1, 2, 3], 'end': [5, 5, 5]})\n",
    "tn = pp.io.to_temporal_network(df, uid='pandasNetwork')\n",
    "print(tn)"
   ]
  },
  {
   "cell_type": "code",
   "execution_count": null,
   "metadata": {
    "execution": {
     "iopub.execute_input": "2021-08-28T23:03:32.502149Z",
     "iopub.status.busy": "2021-08-28T23:03:32.501734Z",
     "iopub.status.idle": "2021-08-28T23:03:32.505070Z",
     "shell.execute_reply": "2021-08-28T23:03:32.505488Z"
    }
   },
   "outputs": [],
   "source": [
    "tn.plot()"
   ]
  },
  {
   "cell_type": "code",
   "execution_count": null,
   "metadata": {
    "execution": {
     "iopub.execute_input": "2021-08-28T23:03:32.510850Z",
     "iopub.status.busy": "2021-08-28T23:03:32.510372Z",
     "iopub.status.idle": "2021-08-28T23:03:32.512451Z",
     "shell.execute_reply": "2021-08-28T23:03:32.513022Z"
    }
   },
   "outputs": [],
   "source": [
    "import pathpy as pp \n",
    "import pandas as pd\n",
    "df = pd.DataFrame({'v': ['a', 'b', 'c'], 'w': ['b', 'c', 'a'], 'timestamp': [1, 2, 3], 'duration': [4, 1, 1]})\n",
    "tn = pp.io.to_temporal_network(df, uid='pandasNetwork')\n",
    "print(tn)"
   ]
  },
  {
   "cell_type": "code",
   "execution_count": null,
   "metadata": {
    "execution": {
     "iopub.execute_input": "2021-08-28T23:03:32.516736Z",
     "iopub.status.busy": "2021-08-28T23:03:32.516160Z",
     "iopub.status.idle": "2021-08-28T23:03:32.519719Z",
     "shell.execute_reply": "2021-08-28T23:03:32.520225Z"
    }
   },
   "outputs": [],
   "source": [
    "tn.plot()"
   ]
  },
  {
   "cell_type": "code",
   "execution_count": null,
   "metadata": {
    "execution": {
     "iopub.execute_input": "2021-08-28T23:03:32.529385Z",
     "iopub.status.busy": "2021-08-28T23:03:32.528649Z",
     "iopub.status.idle": "2021-08-28T23:03:32.531188Z",
     "shell.execute_reply": "2021-08-28T23:03:32.531609Z"
    }
   },
   "outputs": [],
   "source": [
    "n = pp.Network(directed=True)\n",
    "n.add_edge('a', 'b', color='red')\n",
    "n.add_edge('b', 'c', color='green')\n",
    "n.add_edge('c', 'a', color='blue')\n",
    "df = pp.io.to_dataframe(n)\n",
    "df"
   ]
  },
  {
   "cell_type": "code",
   "execution_count": null,
   "metadata": {
    "execution": {
     "iopub.execute_input": "2021-08-28T23:03:32.540828Z",
     "iopub.status.busy": "2021-08-28T23:03:32.540297Z",
     "iopub.status.idle": "2021-08-28T23:03:32.542305Z",
     "shell.execute_reply": "2021-08-28T23:03:32.542727Z"
    }
   },
   "outputs": [],
   "source": [
    "n = pp.Network(directed=True)\n",
    "n.add_edge('a', 'b', color='red')\n",
    "n.add_edge('b', 'c', color='green')\n",
    "n.add_edge('c', 'a', color='blue')\n",
    "df = pp.io.to_dataframe(n, export_indices=True, include_edge_uid=True)\n",
    "df"
   ]
  },
  {
   "cell_type": "code",
   "execution_count": null,
   "metadata": {},
   "outputs": [],
   "source": []
  }
 ],
 "metadata": {
  "celltoolbar": "Tags",
  "kernelspec": {
   "display_name": "Python 3",
   "language": "python",
   "name": "python3"
  },
  "language_info": {
   "codemirror_mode": {
    "name": "ipython",
    "version": 3
   },
   "file_extension": ".py",
   "mimetype": "text/x-python",
   "name": "python",
   "nbconvert_exporter": "python",
   "pygments_lexer": "ipython3",
   "version": "3.8.5"
  },
  "metadata": {
   "interpreter": {
    "hash": "82db51cffef479cc4d0f53089378e5a2925f9e7adca31d741132ceba61ecca6f"
   }
  }
 },
 "nbformat": 4,
 "nbformat_minor": 4
}
